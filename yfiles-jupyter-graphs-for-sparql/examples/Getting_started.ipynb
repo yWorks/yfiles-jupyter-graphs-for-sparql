{
 "cells": [
  {
   "cell_type": "code",
   "execution_count": 1,
   "id": "d27005cf-8255-4e3d-9735-47d0426b5baf",
   "metadata": {},
   "outputs": [
    {
     "name": "stdout",
     "output_type": "stream",
     "text": [
      "Note: you may need to restart the kernel to use updated packages.\n",
      "Note: you may need to restart the kernel to use updated packages.\n"
     ]
    }
   ],
   "source": [
    "#%pip install yfiles_jupyter_graphs_for_sparql --quiet\n",
    "%pip install rdflib --quiet\n",
    "%pip install neo4j --quiet\n",
    "import yfiles_jupyter_graphs_for_sparql \n",
    "from yfiles_jupyter_graphs_for_sparql import SparqlGraphWidget"
   ]
  },
  {
   "cell_type": "code",
   "execution_count": 2,
   "id": "e5c04c08-d1b9-4c0b-ac47-31ba77f8822e",
   "metadata": {},
   "outputs": [
    {
     "name": "stdout",
     "output_type": "stream",
     "text": [
      "[]\n"
     ]
    },
    {
     "data": {
      "application/vnd.jupyter.widget-view+json": {
       "model_id": "71e35190b5f341c4a73b260441719b42",
       "version_major": 2,
       "version_minor": 0
      },
      "text/plain": [
       "GraphWidget(layout=Layout(height='500px', width='100%'))"
      ]
     },
     "metadata": {},
     "output_type": "display_data"
    }
   ],
   "source": [
    "sgw = SparqlGraphWidget(data=\"./samples/beatles.ttl\")\n",
    "q = \"\"\"\n",
    "    PREFIX : <http://example.com/test/>\n",
    "CONSTRUCT {\n",
    "    ?band a :Band ;\n",
    "          :member ?member .\n",
    "}\n",
    "WHERE {\n",
    "    ?band a :Band .\n",
    "    ?band :member ?member .\n",
    "}\n",
    "\"\"\"\n",
    "ret = sgw.show_query(q)\n",
    "#serialize(format=\"turtle\").decode(\"utf-8\")\n",
    "#for r in sgw.show_query(q):\n",
    "    #print(r)\n",
    "\n",
    "#print(type(sgw.show_query(q)))"
   ]
  },
  {
   "cell_type": "code",
   "execution_count": 3,
   "id": "7dce4000-db3d-44d2-bcd6-a7586bd63510",
   "metadata": {},
   "outputs": [
    {
     "name": "stdout",
     "output_type": "stream",
     "text": [
      "['name']\n",
      "should reach this once\n",
      "should reach this once\n",
      "should reach this once\n",
      "should reach this once\n",
      "should reach this once\n",
      "should reach this once\n"
     ]
    },
    {
     "data": {
      "application/vnd.jupyter.widget-view+json": {
       "model_id": "bbaa8f05e97643ae8df0e855dd394ac2",
       "version_major": 2,
       "version_minor": 0
      },
      "text/plain": [
       "GraphWidget(layout=Layout(height='500px', width='100%'))"
      ]
     },
     "metadata": {},
     "output_type": "display_data"
    }
   ],
   "source": [
    "q2 = \"\"\" \n",
    "PREFIX : <http://example.com/test/>\n",
    "DESCRIBE :The_Beatles\n",
    "\"\"\"\n",
    "\n",
    "q3 = \"\"\"\n",
    "PREFIX : <http://example.com/test/>\n",
    "ASK {\n",
    "    :The_Beatles a :Band .\n",
    "}\"\"\"\n",
    "sgw.add_object_configuration('member', color='purple')\n",
    "sgw.add_subject_configuration('name', color='blue')\n",
    "sgw.add_predicate_configuration('name', color='green')\n",
    "res = sgw.show_query(q2)"
   ]
  },
  {
   "cell_type": "code",
   "execution_count": 4,
   "id": "700199a1-833d-4b98-98e8-c0af64f82a97",
   "metadata": {},
   "outputs": [
    {
     "data": {
      "text/plain": [
       "{'name': {'color': 'green'}}"
      ]
     },
     "execution_count": 4,
     "metadata": {},
     "output_type": "execute_result"
    }
   ],
   "source": [
    "sgw._edge_configurations\n"
   ]
  },
  {
   "cell_type": "code",
   "execution_count": 5,
   "id": "7f4110ba-b6d9-4c48-b6ad-33717fe1fd3e",
   "metadata": {},
   "outputs": [
    {
     "data": {
      "text/plain": [
       "<function yfiles_jupyter_graphs_for_sparql.Yfiles_Sparql_Graphs.SparqlGraphWidget.__configuration_mapper_factory.<locals>.mapping(index, item: Dict)>"
      ]
     },
     "execution_count": 5,
     "metadata": {},
     "output_type": "execute_result"
    }
   ],
   "source": [
    "sgw.widget.get_node_color_mapping()"
   ]
  }
 ],
 "metadata": {
  "kernelspec": {
   "display_name": "Python 3 (ipykernel)",
   "language": "python",
   "name": "python3"
  },
  "language_info": {
   "codemirror_mode": {
    "name": "ipython",
    "version": 3
   },
   "file_extension": ".py",
   "mimetype": "text/x-python",
   "name": "python",
   "nbconvert_exporter": "python",
   "pygments_lexer": "ipython3",
   "version": "3.13.1"
  }
 },
 "nbformat": 4,
 "nbformat_minor": 5
}
