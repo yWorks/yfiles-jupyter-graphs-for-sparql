{
 "cells": [
  {
   "cell_type": "code",
   "execution_count": 1,
   "id": "b87e05b7-a7dc-4665-b01f-f2a61350d369",
   "metadata": {},
   "outputs": [
    {
     "name": "stdout",
     "output_type": "stream",
     "text": [
      "Note: you may need to restart the kernel to use updated packages.\n"
     ]
    }
   ],
   "source": [
    "%pip install rdflib --quiet\n",
    "import yfiles_jupyter_graphs_for_sparql \n",
    "from yfiles_jupyter_graphs_for_sparql import SparqlGraphWidget"
   ]
  },
  {
   "cell_type": "code",
   "execution_count": 2,
   "id": "3a73b38e-67f9-4ac0-a18a-de13a3066140",
   "metadata": {},
   "outputs": [
    {
     "name": "stdout",
     "output_type": "stream",
     "text": [
      "<SPARQLWrapper.Wrapper.QueryResult object at 0x000001E72F595FD0>\n",
      "{\"requestedFormat\" : 'json',\n",
      "\"response (a file-like object, as return by the urllib2.urlopen library call)\" : {\n",
      "\t\"url\" : \"http://localhost:3002/sparql\",\n",
      "\t\"code\" : \"200\",\n",
      "\t\"headers\" : content-type: application/json\n",
      "Access-Control-Allow-Origin: *\n",
      "Date: Tue, 04 Feb 2025 14:46:03 GMT\n",
      "Connection: close\n",
      "Transfer-Encoding: chunked\n",
      "\n",
      "}}\n"
     ]
    },
    {
     "ename": "Exception",
     "evalue": "Error executing SPARQL query: <class 'list'>",
     "output_type": "error",
     "traceback": [
      "\u001b[1;31m---------------------------------------------------------------------------\u001b[0m",
      "\u001b[1;31mTypeError\u001b[0m                                 Traceback (most recent call last)",
      "File \u001b[1;32m~\\anaconda3\\envs\\yfiles-sparql\\Lib\\site-packages\\yfiles_jupyter_graphs_for_sparql\\Yfiles_Sparql_Graphs.py:70\u001b[0m, in \u001b[0;36mSparqlGraphWidget._fetch_data_from_sparql\u001b[1;34m(self, query)\u001b[0m\n\u001b[0;32m     69\u001b[0m \u001b[38;5;28mprint\u001b[39m(results)\n\u001b[1;32m---> 70\u001b[0m results \u001b[38;5;241m=\u001b[39m \u001b[43mresults\u001b[49m\u001b[38;5;241;43m.\u001b[39;49m\u001b[43mconvert\u001b[49m\u001b[43m(\u001b[49m\u001b[43m)\u001b[49m\n\u001b[0;32m     72\u001b[0m \u001b[38;5;28;01mif\u001b[39;00m is_select_query:\n",
      "File \u001b[1;32m~\\anaconda3\\envs\\yfiles-sparql\\Lib\\site-packages\\SPARQLWrapper\\Wrapper.py:1196\u001b[0m, in \u001b[0;36mQueryResult.convert\u001b[1;34m(self)\u001b[0m\n\u001b[0;32m   1195\u001b[0m     _validate_format(\u001b[38;5;124m\"\u001b[39m\u001b[38;5;124mJSON\u001b[39m\u001b[38;5;124m\"\u001b[39m, [JSON], ct, \u001b[38;5;28mself\u001b[39m\u001b[38;5;241m.\u001b[39mrequestedFormat)\n\u001b[1;32m-> 1196\u001b[0m     \u001b[38;5;28;01mreturn\u001b[39;00m \u001b[38;5;28;43mself\u001b[39;49m\u001b[38;5;241;43m.\u001b[39;49m\u001b[43m_convertJSON\u001b[49m\u001b[43m(\u001b[49m\u001b[43m)\u001b[49m\n\u001b[0;32m   1197\u001b[0m \u001b[38;5;28;01melif\u001b[39;00m _content_type_in_list(ct, _RDF_XML):\n",
      "File \u001b[1;32m~\\anaconda3\\envs\\yfiles-sparql\\Lib\\site-packages\\SPARQLWrapper\\Wrapper.py:1063\u001b[0m, in \u001b[0;36mQueryResult._convertJSON\u001b[1;34m(self)\u001b[0m\n\u001b[0;32m   1062\u001b[0m \u001b[38;5;28;01melse\u001b[39;00m:\n\u001b[1;32m-> 1063\u001b[0m     \u001b[38;5;28;01mraise\u001b[39;00m \u001b[38;5;167;01mTypeError\u001b[39;00m(\u001b[38;5;28mtype\u001b[39m(json_str))\n",
      "\u001b[1;31mTypeError\u001b[0m: <class 'list'>",
      "\nDuring handling of the above exception, another exception occurred:\n",
      "\u001b[1;31mException\u001b[0m                                 Traceback (most recent call last)",
      "Cell \u001b[1;32mIn[2], line 8\u001b[0m\n\u001b[0;32m      1\u001b[0m sgw \u001b[38;5;241m=\u001b[39m SparqlGraphWidget(endpoint \u001b[38;5;241m=\u001b[39m \u001b[38;5;124m'\u001b[39m\u001b[38;5;124mhttp://localhost:3002/sparql\u001b[39m\u001b[38;5;124m'\u001b[39m)\n\u001b[0;32m      2\u001b[0m query \u001b[38;5;241m=\u001b[39m \u001b[38;5;124m\"\"\"\u001b[39m\n\u001b[0;32m      3\u001b[0m \u001b[38;5;124mSELECT ?sub ?p ?ob\u001b[39m\n\u001b[0;32m      4\u001b[0m \u001b[38;5;124mWHERE \u001b[39m\u001b[38;5;124m{\u001b[39m\n\u001b[0;32m      5\u001b[0m \u001b[38;5;124m    ?sub ?p ?ob .\u001b[39m\n\u001b[0;32m      6\u001b[0m \u001b[38;5;124m}\u001b[39m\n\u001b[0;32m      7\u001b[0m \u001b[38;5;124m\"\"\"\u001b[39m\n\u001b[1;32m----> 8\u001b[0m \u001b[43msgw\u001b[49m\u001b[38;5;241;43m.\u001b[39;49m\u001b[43mshow_query\u001b[49m\u001b[43m(\u001b[49m\u001b[43mquery\u001b[49m\u001b[43m)\u001b[49m\n",
      "File \u001b[1;32m~\\anaconda3\\envs\\yfiles-sparql\\Lib\\site-packages\\yfiles_jupyter_graphs_for_sparql\\Yfiles_Sparql_Graphs.py:115\u001b[0m, in \u001b[0;36mSparqlGraphWidget.show_query\u001b[1;34m(self, query)\u001b[0m\n\u001b[0;32m    113\u001b[0m query \u001b[38;5;241m=\u001b[39m \u001b[38;5;28mself\u001b[39m\u001b[38;5;241m.\u001b[39m_limit_query(query)\n\u001b[0;32m    114\u001b[0m \u001b[38;5;28;01mif\u001b[39;00m \u001b[38;5;28mself\u001b[39m\u001b[38;5;241m.\u001b[39mdata \u001b[38;5;129;01mis\u001b[39;00m \u001b[38;5;28;01mNone\u001b[39;00m:\n\u001b[1;32m--> 115\u001b[0m     \u001b[38;5;28;43mself\u001b[39;49m\u001b[38;5;241;43m.\u001b[39;49m\u001b[43m_fetch_data_from_sparql\u001b[49m\u001b[43m(\u001b[49m\u001b[43mquery\u001b[49m\u001b[43m)\u001b[49m\n\u001b[0;32m    116\u001b[0m res \u001b[38;5;241m=\u001b[39m \u001b[38;5;28mself\u001b[39m\u001b[38;5;241m.\u001b[39mgraph\u001b[38;5;241m.\u001b[39mquery(query)\n\u001b[0;32m    117\u001b[0m \u001b[38;5;28;01mtry\u001b[39;00m:\n",
      "File \u001b[1;32m~\\anaconda3\\envs\\yfiles-sparql\\Lib\\site-packages\\yfiles_jupyter_graphs_for_sparql\\Yfiles_Sparql_Graphs.py:83\u001b[0m, in \u001b[0;36mSparqlGraphWidget._fetch_data_from_sparql\u001b[1;34m(self, query)\u001b[0m\n\u001b[0;32m     80\u001b[0m             \u001b[38;5;28;01mraise\u001b[39;00m \u001b[38;5;167;01mException\u001b[39;00m(\u001b[38;5;124m\"\u001b[39m\u001b[38;5;124mUnexpected data type from SPARQL query\u001b[39m\u001b[38;5;124m\"\u001b[39m)\n\u001b[0;32m     82\u001b[0m \u001b[38;5;28;01mexcept\u001b[39;00m \u001b[38;5;167;01mException\u001b[39;00m \u001b[38;5;28;01mas\u001b[39;00m e:\n\u001b[1;32m---> 83\u001b[0m     \u001b[38;5;28;01mraise\u001b[39;00m \u001b[38;5;167;01mException\u001b[39;00m(\u001b[38;5;124mf\u001b[39m\u001b[38;5;124m\"\u001b[39m\u001b[38;5;124mError executing SPARQL query: \u001b[39m\u001b[38;5;132;01m{\u001b[39;00me\u001b[38;5;132;01m}\u001b[39;00m\u001b[38;5;124m\"\u001b[39m)\n",
      "\u001b[1;31mException\u001b[0m: Error executing SPARQL query: <class 'list'>"
     ]
    }
   ],
   "source": [
    "sgw = SparqlGraphWidget(endpoint = 'http://localhost:3002/sparql')\n",
    "query = \"\"\"\n",
    "SELECT ?sub ?p ?ob\n",
    "WHERE {\n",
    "    ?sub ?p ?ob .\n",
    "}\n",
    "\"\"\"\n",
    "sgw.show_query(query)\n"
   ]
  }
 ],
 "metadata": {
  "kernelspec": {
   "display_name": "Python 3 (ipykernel)",
   "language": "python",
   "name": "python3"
  },
  "language_info": {
   "codemirror_mode": {
    "name": "ipython",
    "version": 3
   },
   "file_extension": ".py",
   "mimetype": "text/x-python",
   "name": "python",
   "nbconvert_exporter": "python",
   "pygments_lexer": "ipython3",
   "version": "3.13.1"
  }
 },
 "nbformat": 4,
 "nbformat_minor": 5
}
