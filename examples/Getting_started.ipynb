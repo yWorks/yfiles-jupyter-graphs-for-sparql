{
 "cells": [
  {
   "cell_type": "markdown",
   "id": "034f208e-9c6d-4d25-8be2-6100cf4bea91",
   "metadata": {},
   "source": [
    "# Getting Started  <a target=\"_blank\" href=\"https://colab.research.google.com/github/yWorks/yfiles-jupyter-graphs-for-sparql/blob/main/examples/Getting_started.ipynb\"><img src=\"https://colab.research.google.com/assets/colab-badge.svg\" alt=\"Open In Colab\"/></a>"
   ]
  },
  {
   "cell_type": "code",
   "execution_count": 4,
   "id": "d27005cf-8255-4e3d-9735-47d0426b5baf",
   "metadata": {},
   "outputs": [
    {
     "name": "stdout",
     "output_type": "stream",
     "text": [
      "Note: you may need to restart the kernel to use updated packages.\n",
      "Note: you may need to restart the kernel to use updated packages.\n"
     ]
    }
   ],
   "source": [
    "%pip install rdflib --quiet\n",
    "import yfiles_jupyter_graphs_for_sparql\n",
    "from yfiles_jupyter_graphs_for_sparql import SparqlGraphWidget\n",
    "%pip install SPARQLWrapper --quiet\n",
    "from SPARQLWrapper import JSON, SPARQLWrapper, XML"
   ]
  },
  {
   "cell_type": "markdown",
   "id": "18a3e9bf-525f-4677-87b0-4d45d5809dab",
   "metadata": {},
   "source": [
    "You can also open this notebook in Google Colab when Google Colab's custom widget manager is enabled:"
   ]
  },
  {
   "cell_type": "code",
   "execution_count": 2,
   "id": "a8e91880-2059-493d-8425-5ea2f3a899f6",
   "metadata": {},
   "outputs": [],
   "source": [
    "try:\n",
    "  import google.colab\n",
    "  from google.colab import output\n",
    "  output.enable_custom_widget_manager()\n",
    "except:\n",
    "  pass"
   ]
  },
  {
   "cell_type": "markdown",
   "id": "fa3ead37-7310-4d01-bad2-64299014578c",
   "metadata": {},
   "source": [
    "## Querying a data endpoint\n",
    "\n",
    "> If you want to use SELECT query types, ensure you select all three triple components—subject, predicate, and object. Otherwise, a graph cannot be constructed from the selected data."
   ]
  },
  {
   "cell_type": "code",
   "execution_count": 5,
   "id": "e5c04c08-d1b9-4c0b-ac47-31ba77f8822e",
   "metadata": {},
   "outputs": [
    {
     "ename": "UnboundLocalError",
     "evalue": "cannot access local variable 's' where it is not associated with a value",
     "output_type": "error",
     "traceback": [
      "\u001b[1;31m---------------------------------------------------------------------------\u001b[0m",
      "\u001b[1;31mUnboundLocalError\u001b[0m                         Traceback (most recent call last)",
      "Cell \u001b[1;32mIn[5], line 13\u001b[0m\n\u001b[0;32m      3\u001b[0m sgw \u001b[38;5;241m=\u001b[39m SparqlGraphWidget(wrapper\u001b[38;5;241m=\u001b[39mwrapper)\n\u001b[0;32m      4\u001b[0m q \u001b[38;5;241m=\u001b[39m \u001b[38;5;124m\"\"\"\u001b[39m\n\u001b[0;32m      5\u001b[0m \u001b[38;5;124mCONSTRUCT \u001b[39m\u001b[38;5;124m{\u001b[39m\n\u001b[0;32m      6\u001b[0m \u001b[38;5;124m  ?subject ?predicate ?object .\u001b[39m\n\u001b[1;32m   (...)\u001b[0m\n\u001b[0;32m     11\u001b[0m \u001b[38;5;124mLIMIT 10\u001b[39m\n\u001b[0;32m     12\u001b[0m \u001b[38;5;124m\"\"\"\u001b[39m\n\u001b[1;32m---> 13\u001b[0m \u001b[43msgw\u001b[49m\u001b[38;5;241;43m.\u001b[39;49m\u001b[43mshow_query\u001b[49m\u001b[43m(\u001b[49m\u001b[43mq\u001b[49m\u001b[43m)\u001b[49m\n",
      "File \u001b[1;32m~\\anaconda3\\envs\\yfiles-sparql\\Lib\\site-packages\\yfiles_jupyter_graphs_for_sparql\\Yfiles_Sparql_Graphs.py:107\u001b[0m, in \u001b[0;36mSparqlGraphWidget.show_query\u001b[1;34m(self, query, layout)\u001b[0m\n\u001b[0;32m    104\u001b[0m     \u001b[38;5;28;01mraise\u001b[39;00m \u001b[38;5;167;01mException\u001b[39;00m(\u001b[38;5;124m'\u001b[39m\u001b[38;5;124mspecify a SPARQLWrapper\u001b[39m\u001b[38;5;124m'\u001b[39m)\n\u001b[0;32m    106\u001b[0m query \u001b[38;5;241m=\u001b[39m \u001b[38;5;28mself\u001b[39m\u001b[38;5;241m.\u001b[39m_limit_query(query)\n\u001b[1;32m--> 107\u001b[0m res \u001b[38;5;241m=\u001b[39m \u001b[38;5;28;43mself\u001b[39;49m\u001b[38;5;241;43m.\u001b[39;49m\u001b[43m_query\u001b[49m\u001b[43m(\u001b[49m\u001b[43mquery\u001b[49m\u001b[43m)\u001b[49m\n\u001b[0;32m    108\u001b[0m \u001b[38;5;28;01mtry\u001b[39;00m:\n\u001b[0;32m    109\u001b[0m     widget \u001b[38;5;241m=\u001b[39m \u001b[38;5;28mself\u001b[39m\u001b[38;5;241m.\u001b[39m_create_graph(res)\n",
      "File \u001b[1;32m~\\anaconda3\\envs\\yfiles-sparql\\Lib\\site-packages\\yfiles_jupyter_graphs_for_sparql\\Yfiles_Sparql_Graphs.py:85\u001b[0m, in \u001b[0;36mSparqlGraphWidget._query\u001b[1;34m(self, query)\u001b[0m\n\u001b[0;32m     83\u001b[0m ret \u001b[38;5;241m=\u001b[39m wrapper\u001b[38;5;241m.\u001b[39mqueryAndConvert()\n\u001b[0;32m     84\u001b[0m \u001b[38;5;66;03m# SELECT query\u001b[39;00m\n\u001b[1;32m---> 85\u001b[0m \u001b[38;5;28;01mif\u001b[39;00m \u001b[38;5;124;43m\"\u001b[39;49m\u001b[38;5;124;43mresults\u001b[39;49m\u001b[38;5;124;43m\"\u001b[39;49m\u001b[43m \u001b[49m\u001b[38;5;129;43;01min\u001b[39;49;00m\u001b[43m \u001b[49m\u001b[43mret\u001b[49m \u001b[38;5;129;01mand\u001b[39;00m \u001b[38;5;124m\"\u001b[39m\u001b[38;5;124mbindings\u001b[39m\u001b[38;5;124m\"\u001b[39m \u001b[38;5;129;01min\u001b[39;00m ret[\u001b[38;5;124m\"\u001b[39m\u001b[38;5;124mresults\u001b[39m\u001b[38;5;124m\"\u001b[39m]:\n\u001b[0;32m     86\u001b[0m     triples \u001b[38;5;241m=\u001b[39m []\n\u001b[0;32m     87\u001b[0m     \u001b[38;5;28;01mfor\u001b[39;00m row \u001b[38;5;129;01min\u001b[39;00m ret[\u001b[38;5;124m\"\u001b[39m\u001b[38;5;124mresults\u001b[39m\u001b[38;5;124m\"\u001b[39m][\u001b[38;5;124m\"\u001b[39m\u001b[38;5;124mbindings\u001b[39m\u001b[38;5;124m\"\u001b[39m]:\n",
      "File \u001b[1;32m~\\anaconda3\\envs\\yfiles-sparql\\Lib\\site-packages\\rdflib\\graph.py:2057\u001b[0m, in \u001b[0;36mConjunctiveGraph.__contains__\u001b[1;34m(self, triple_or_quad)\u001b[0m\n\u001b[0;32m   2055\u001b[0m \u001b[38;5;28;01mdef\u001b[39;00m\u001b[38;5;250m \u001b[39m\u001b[38;5;21m__contains__\u001b[39m(\u001b[38;5;28mself\u001b[39m, triple_or_quad: _TripleOrQuadSelectorType) \u001b[38;5;241m-\u001b[39m\u001b[38;5;241m>\u001b[39m \u001b[38;5;28mbool\u001b[39m:\n\u001b[0;32m   2056\u001b[0m \u001b[38;5;250m    \u001b[39m\u001b[38;5;124;03m\"\"\"Support for 'triple/quad in graph' syntax\"\"\"\u001b[39;00m\n\u001b[1;32m-> 2057\u001b[0m     s, p, o, c \u001b[38;5;241m=\u001b[39m \u001b[38;5;28;43mself\u001b[39;49m\u001b[38;5;241;43m.\u001b[39;49m\u001b[43m_spoc\u001b[49m\u001b[43m(\u001b[49m\u001b[43mtriple_or_quad\u001b[49m\u001b[43m)\u001b[49m\n\u001b[0;32m   2058\u001b[0m     \u001b[38;5;28;01mfor\u001b[39;00m t \u001b[38;5;129;01min\u001b[39;00m \u001b[38;5;28mself\u001b[39m\u001b[38;5;241m.\u001b[39mtriples((s, p, o), context\u001b[38;5;241m=\u001b[39mc):\n\u001b[0;32m   2059\u001b[0m         \u001b[38;5;28;01mreturn\u001b[39;00m \u001b[38;5;28;01mTrue\u001b[39;00m\n",
      "File \u001b[1;32m~\\anaconda3\\envs\\yfiles-sparql\\Lib\\site-packages\\rdflib\\graph.py:2053\u001b[0m, in \u001b[0;36mConjunctiveGraph._spoc\u001b[1;34m(self, triple_or_quad, default)\u001b[0m\n\u001b[0;32m   2051\u001b[0m     (s, p, o, c) \u001b[38;5;241m=\u001b[39m triple_or_quad  \u001b[38;5;66;03m# type: ignore[misc, unused-ignore]\u001b[39;00m\n\u001b[0;32m   2052\u001b[0m     c \u001b[38;5;241m=\u001b[39m \u001b[38;5;28mself\u001b[39m\u001b[38;5;241m.\u001b[39m_graph(c)\n\u001b[1;32m-> 2053\u001b[0m \u001b[38;5;28;01mreturn\u001b[39;00m \u001b[43ms\u001b[49m, p, o, c\n",
      "\u001b[1;31mUnboundLocalError\u001b[0m: cannot access local variable 's' where it is not associated with a value"
     ]
    }
   ],
   "source": [
    "\n",
    "wrapper = SPARQLWrapper(\"http://dbpedia.org/sparql\")\n",
    "wrapper.setReturnFormat(XML)\n",
    "sgw = SparqlGraphWidget(wrapper=wrapper)\n",
    "q = \"\"\"\n",
    "CONSTRUCT {\n",
    "  ?subject ?predicate ?object .\n",
    "}\n",
    "WHERE {\n",
    "  ?subject ?predicate ?object .\n",
    "}\n",
    "LIMIT 10\n",
    "\"\"\"\n",
    "sgw.show_query(q)"
   ]
  },
  {
   "cell_type": "markdown",
   "id": "872edeb2-aaee-47d4-ad93-c405161b7dfc",
   "metadata": {},
   "source": [
    "## Visualizing the underlying schema\n",
    "\n",
    "The schema is limited at the limit that can be changed during class initialization or by `set_limit`"
   ]
  },
  {
   "cell_type": "code",
   "execution_count": null,
   "id": "fdef773d-c210-4fe5-93b8-855d00294873",
   "metadata": {},
   "outputs": [],
   "source": [
    "sgw.show_schema()"
   ]
  },
  {
   "cell_type": "code",
   "execution_count": null,
   "id": "468c762c-c9eb-4ce4-a281-3cbf5da4e5b0",
   "metadata": {},
   "outputs": [],
   "source": [
    "sgw.get_limit()"
   ]
  }
 ],
 "metadata": {
  "kernelspec": {
   "display_name": "Python 3 (ipykernel)",
   "language": "python",
   "name": "python3"
  },
  "language_info": {
   "codemirror_mode": {
    "name": "ipython",
    "version": 3
   },
   "file_extension": ".py",
   "mimetype": "text/x-python",
   "name": "python",
   "nbconvert_exporter": "python",
   "pygments_lexer": "ipython3",
   "version": "3.13.1"
  }
 },
 "nbformat": 4,
 "nbformat_minor": 5
}
