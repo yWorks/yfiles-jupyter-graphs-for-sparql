{
  "cells": [
    {
      "cell_type": "markdown",
      "id": "034f208e-9c6d-4d25-8be2-6100cf4bea91",
      "metadata": {
        "id": "034f208e-9c6d-4d25-8be2-6100cf4bea91"
      },
      "source": [
        "# Getting Started  <a target=\"_blank\" href=\"https://colab.research.google.com/github/yWorks/yfiles-jupyter-graphs-for-sparql/blob/main/examples/Getting_started.ipynb\"><img src=\"https://colab.research.google.com/assets/colab-badge.svg\" alt=\"Open In Colab\"/></a>"
      ]
    },
    {
      "cell_type": "code",
      "execution_count": 1,
      "id": "d27005cf-8255-4e3d-9735-47d0426b5baf",
      "metadata": {
        "id": "d27005cf-8255-4e3d-9735-47d0426b5baf",
        "outputId": "dbc834fb-c0b6-4e86-9380-c283dbb31f86",
        "colab": {
          "base_uri": "https://localhost:8080/"
        }
      },
      "outputs": [
        {
          "output_type": "stream",
          "name": "stdout",
          "text": [
            "\u001b[2K   \u001b[90m━━━━━━━━━━━━━━━━━━━━━━━━━━━━━━━━━━━━━━━━\u001b[0m \u001b[32m564.9/564.9 kB\u001b[0m \u001b[31m8.8 MB/s\u001b[0m eta \u001b[36m0:00:00\u001b[0m\n",
            "\u001b[2K   \u001b[90m━━━━━━━━━━━━━━━━━━━━━━━━━━━━━━━━━━━━━━━━\u001b[0m \u001b[32m15.6/15.6 MB\u001b[0m \u001b[31m65.8 MB/s\u001b[0m eta \u001b[36m0:00:00\u001b[0m\n",
            "\u001b[2K   \u001b[90m━━━━━━━━━━━━━━━━━━━━━━━━━━━━━━━━━━━━━━━━\u001b[0m \u001b[32m139.8/139.8 kB\u001b[0m \u001b[31m6.0 MB/s\u001b[0m eta \u001b[36m0:00:00\u001b[0m\n",
            "\u001b[2K   \u001b[90m━━━━━━━━━━━━━━━━━━━━━━━━━━━━━━━━━━━━━━━━\u001b[0m \u001b[32m2.3/2.3 MB\u001b[0m \u001b[31m69.0 MB/s\u001b[0m eta \u001b[36m0:00:00\u001b[0m\n",
            "\u001b[2K   \u001b[90m━━━━━━━━━━━━━━━━━━━━━━━━━━━━━━━━━━━━━━━━\u001b[0m \u001b[32m1.6/1.6 MB\u001b[0m \u001b[31m50.9 MB/s\u001b[0m eta \u001b[36m0:00:00\u001b[0m\n",
            "\u001b[?25h"
          ]
        }
      ],
      "source": [
        "%pip install SPARQLWrapper --quiet\n",
        "%pip install yfiles_jupyter_graphs_for_sparql --quiet\n",
        "from SPARQLWrapper import SPARQLWrapper, XML\n",
        "\n",
        "from yfiles_jupyter_graphs_for_sparql import SparqlGraphWidget"
      ]
    },
    {
      "cell_type": "markdown",
      "id": "18a3e9bf-525f-4677-87b0-4d45d5809dab",
      "metadata": {
        "id": "18a3e9bf-525f-4677-87b0-4d45d5809dab"
      },
      "source": [
        "You can also open this notebook in Google Colab when Google Colab's custom widget manager is enabled:"
      ]
    },
    {
      "cell_type": "code",
      "execution_count": 2,
      "id": "a8e91880-2059-493d-8425-5ea2f3a899f6",
      "metadata": {
        "id": "a8e91880-2059-493d-8425-5ea2f3a899f6"
      },
      "outputs": [],
      "source": [
        "try:\n",
        "  import google.colab\n",
        "  from google.colab import output\n",
        "  output.enable_custom_widget_manager()\n",
        "except:\n",
        "  pass"
      ]
    },
    {
      "cell_type": "markdown",
      "id": "fa3ead37-7310-4d01-bad2-64299014578c",
      "metadata": {
        "id": "fa3ead37-7310-4d01-bad2-64299014578c"
      },
      "source": [
        "## Querying a data endpoint\n",
        "\n",
        "> If you want to use queries , ensure you select all three triple components—subject, predicate, and object. Otherwise, a graph cannot be constructed from the selected data."
      ]
    },
    {
      "cell_type": "code",
      "execution_count": 6,
      "id": "e5c04c08-d1b9-4c0b-ac47-31ba77f8822e",
      "metadata": {
        "id": "e5c04c08-d1b9-4c0b-ac47-31ba77f8822e",
        "outputId": "feda5ab6-12d5-46f8-983d-e62b9c75ced0",
        "colab": {
          "base_uri": "https://localhost:8080/",
          "height": 637,
          "referenced_widgets": [
            "5d952b34e1cf404a80a6d786b7754ac7",
            "f7f0ab2b0a1d491389009084cf22ea1c"
          ]
        }
      },
      "outputs": [
        {
          "output_type": "display_data",
          "data": {
            "text/plain": [
              "GraphWidget(layout=Layout(height='620px', width='100%'))"
            ],
            "application/vnd.jupyter.widget-view+json": {
              "version_major": 2,
              "version_minor": 0,
              "model_id": "5d952b34e1cf404a80a6d786b7754ac7"
            }
          },
          "metadata": {
            "application/vnd.jupyter.widget-view+json": {
              "colab": {
                "custom_widget_manager": {
                  "url": "https://ssl.gstatic.com/colaboratory-static/widgets/colab-cdn-widget-manager/2b70e893a8ba7c0f/manager.min.js"
                }
              }
            }
          }
        }
      ],
      "source": [
        "\n",
        "wrapper = SPARQLWrapper(\"https://dbpedia.org/sparql\")\n",
        "wrapper.setReturnFormat(XML)\n",
        "sgw = SparqlGraphWidget(wrapper=wrapper)\n",
        "q = \"\"\"\n",
        "CONSTRUCT {\n",
        "  ?subject ?predicate ?object .\n",
        "}\n",
        "WHERE {\n",
        "  ?subject ?predicate ?object .\n",
        "}\n",
        "LIMIT 10\n",
        "\"\"\"\n",
        "sgw.show_query(q)"
      ]
    },
    {
      "cell_type": "markdown",
      "id": "872edeb2-aaee-47d4-ad93-c405161b7dfc",
      "metadata": {
        "id": "872edeb2-aaee-47d4-ad93-c405161b7dfc"
      },
      "source": [
        "## Visualizing the underlying schema\n",
        "\n",
        "The schema is limited at the limit that can be changed during class initialization or by `set_limit`"
      ]
    },
    {
      "cell_type": "code",
      "execution_count": 4,
      "id": "fdef773d-c210-4fe5-93b8-855d00294873",
      "metadata": {
        "id": "fdef773d-c210-4fe5-93b8-855d00294873",
        "outputId": "2b85d9c3-7f94-4842-ac7f-b9ce361d6ca9",
        "colab": {
          "base_uri": "https://localhost:8080/",
          "height": 817,
          "referenced_widgets": [
            "42554b03d9f34c4fbc3b7ac19818e2e3",
            "6f7baede659d48638b0750a77512b983"
          ]
        }
      },
      "outputs": [
        {
          "output_type": "display_data",
          "data": {
            "text/plain": [
              "GraphWidget(layout=Layout(height='800px', width='100%'))"
            ],
            "application/vnd.jupyter.widget-view+json": {
              "version_major": 2,
              "version_minor": 0,
              "model_id": "42554b03d9f34c4fbc3b7ac19818e2e3"
            }
          },
          "metadata": {
            "application/vnd.jupyter.widget-view+json": {
              "colab": {
                "custom_widget_manager": {
                  "url": "https://ssl.gstatic.com/colaboratory-static/widgets/colab-cdn-widget-manager/2b70e893a8ba7c0f/manager.min.js"
                }
              }
            }
          }
        }
      ],
      "source": [
        "sgw.show_schema()"
      ]
    },
    {
      "cell_type": "code",
      "execution_count": 5,
      "id": "468c762c-c9eb-4ce4-a281-3cbf5da4e5b0",
      "metadata": {
        "id": "468c762c-c9eb-4ce4-a281-3cbf5da4e5b0",
        "outputId": "ec37f8ad-3c67-40c9-e32e-f35d504e1167",
        "colab": {
          "base_uri": "https://localhost:8080/"
        }
      },
      "outputs": [
        {
          "output_type": "execute_result",
          "data": {
            "text/plain": [
              "50"
            ]
          },
          "metadata": {},
          "execution_count": 5
        }
      ],
      "source": [
        "sgw.get_limit()"
      ]
    }
  ],
  "metadata": {
    "kernelspec": {
      "display_name": "Python 3 (ipykernel)",
      "language": "python",
      "name": "python3"
    },
    "language_info": {
      "codemirror_mode": {
        "name": "ipython",
        "version": 3
      },
      "file_extension": ".py",
      "mimetype": "text/x-python",
      "name": "python",
      "nbconvert_exporter": "python",
      "pygments_lexer": "ipython3",
      "version": "3.11.11"
    },
    "colab": {
      "provenance": []
    },
    "widgets": {
      "application/vnd.jupyter.widget-state+json": {
        "5d952b34e1cf404a80a6d786b7754ac7": {
          "model_module": "yfiles-jupyter-graphs",
          "model_name": "GraphModel",
          "model_module_version": "^1.10.1",
          "state": {
            "_context_pane_mapping": [
              {
                "id": "Neighborhood",
                "title": "Neighborhood"
              },
              {
                "id": "Data",
                "title": "Data"
              },
              {
                "id": "Search",
                "title": "Search"
              },
              {
                "id": "About",
                "title": "About"
              }
            ],
            "_data_importer": "unknown",
            "_directed": true,
            "_dom_classes": [],
            "_edges": [
              {
                "id": "type",
                "start": "http://www.openlinksw.com/virtrdf-data-formats#default-iid-blank-nullable",
                "end": "http://www.openlinksw.com/schemas/virtrdf#QuadMapFormat",
                "properties": {
                  "label": "type",
                  "full_label": "http://www.w3.org/1999/02/22-rdf-syntax-ns#type"
                },
                "color": "#15AFAC",
                "thickness_factor": 1,
                "directed": true,
                "styles": {},
                "label": "type"
              },
              {
                "id": "type",
                "start": "http://www.openlinksw.com/virtrdf-data-formats#default-iid",
                "end": "http://www.openlinksw.com/schemas/virtrdf#QuadMapFormat",
                "properties": {
                  "label": "type",
                  "full_label": "http://www.w3.org/1999/02/22-rdf-syntax-ns#type"
                },
                "color": "#15AFAC",
                "thickness_factor": 1,
                "directed": true,
                "styles": {},
                "label": "type"
              },
              {
                "id": "type",
                "start": "http://www.openlinksw.com/schemas/virtrdf#DefaultQuadMap",
                "end": "http://www.openlinksw.com/schemas/virtrdf#QuadMap",
                "properties": {
                  "label": "type",
                  "full_label": "http://www.w3.org/1999/02/22-rdf-syntax-ns#type"
                },
                "color": "#15AFAC",
                "thickness_factor": 1,
                "directed": true,
                "styles": {},
                "label": "type"
              },
              {
                "id": "type",
                "start": "http://www.openlinksw.com/schemas/virtrdf#TmpQuadMap",
                "end": "http://www.openlinksw.com/schemas/virtrdf#QuadMap",
                "properties": {
                  "label": "type",
                  "full_label": "http://www.w3.org/1999/02/22-rdf-syntax-ns#type"
                },
                "color": "#15AFAC",
                "thickness_factor": 1,
                "directed": true,
                "styles": {},
                "label": "type"
              },
              {
                "id": "type",
                "start": "http://www.openlinksw.com/virtrdf-data-formats#default-iid-nonblank-nullable",
                "end": "http://www.openlinksw.com/schemas/virtrdf#QuadMapFormat",
                "properties": {
                  "label": "type",
                  "full_label": "http://www.w3.org/1999/02/22-rdf-syntax-ns#type"
                },
                "color": "#15AFAC",
                "thickness_factor": 1,
                "directed": true,
                "styles": {},
                "label": "type"
              },
              {
                "id": "type",
                "start": "http://www.openlinksw.com/schemas/virtrdf#DefaultServiceMap",
                "end": "http://www.openlinksw.com/schemas/virtrdf#QuadMap",
                "properties": {
                  "label": "type",
                  "full_label": "http://www.w3.org/1999/02/22-rdf-syntax-ns#type"
                },
                "color": "#15AFAC",
                "thickness_factor": 1,
                "directed": true,
                "styles": {},
                "label": "type"
              },
              {
                "id": "type",
                "start": "http://www.openlinksw.com/virtrdf-data-formats#default-iid-nonblank",
                "end": "http://www.openlinksw.com/schemas/virtrdf#QuadMapFormat",
                "properties": {
                  "label": "type",
                  "full_label": "http://www.w3.org/1999/02/22-rdf-syntax-ns#type"
                },
                "color": "#15AFAC",
                "thickness_factor": 1,
                "directed": true,
                "styles": {},
                "label": "type"
              },
              {
                "id": "type",
                "start": "http://www.openlinksw.com/virtrdf-data-formats#default-iid-blank",
                "end": "http://www.openlinksw.com/schemas/virtrdf#QuadMapFormat",
                "properties": {
                  "label": "type",
                  "full_label": "http://www.w3.org/1999/02/22-rdf-syntax-ns#type"
                },
                "color": "#15AFAC",
                "thickness_factor": 1,
                "directed": true,
                "styles": {},
                "label": "type"
              },
              {
                "id": "type",
                "start": "http://www.openlinksw.com/virtrdf-data-formats#default",
                "end": "http://www.openlinksw.com/schemas/virtrdf#QuadMapFormat",
                "properties": {
                  "label": "type",
                  "full_label": "http://www.w3.org/1999/02/22-rdf-syntax-ns#type"
                },
                "color": "#15AFAC",
                "thickness_factor": 1,
                "directed": true,
                "styles": {},
                "label": "type"
              },
              {
                "id": "type",
                "start": "http://www.openlinksw.com/virtrdf-data-formats#default-iid-nullable",
                "end": "http://www.openlinksw.com/schemas/virtrdf#QuadMapFormat",
                "properties": {
                  "label": "type",
                  "full_label": "http://www.w3.org/1999/02/22-rdf-syntax-ns#type"
                },
                "color": "#15AFAC",
                "thickness_factor": 1,
                "directed": true,
                "styles": {},
                "label": "type"
              }
            ],
            "_graph_layout": {
              "algorithm": "organic",
              "options": {}
            },
            "_highlight": [],
            "_license": {},
            "_model_module": "yfiles-jupyter-graphs",
            "_model_module_version": "^1.10.1",
            "_model_name": "GraphModel",
            "_neighborhood": {},
            "_nodes": [
              {
                "id": "http://www.openlinksw.com/virtrdf-data-formats#default-iid-blank-nullable",
                "properties": {
                  "label": "default-iid-blank-nullable",
                  "full_label": "http://www.openlinksw.com/virtrdf-data-formats#default-iid-blank-nullable"
                },
                "color": "#15AFAC",
                "styles": {},
                "label": "default-iid-blank-nullable",
                "scale_factor": 1,
                "type": "#15AFAC",
                "size": [
                  55,
                  55
                ],
                "position": [
                  0,
                  0
                ]
              },
              {
                "id": "http://www.openlinksw.com/schemas/virtrdf#QuadMapFormat",
                "properties": {
                  "label": "QuadMapFormat",
                  "full_label": "http://www.openlinksw.com/schemas/virtrdf#QuadMapFormat"
                },
                "color": "#15AFAC",
                "styles": {},
                "label": "QuadMapFormat",
                "scale_factor": 1,
                "type": "#15AFAC",
                "size": [
                  55,
                  55
                ],
                "position": [
                  0,
                  0
                ]
              },
              {
                "id": "http://www.openlinksw.com/virtrdf-data-formats#default-iid",
                "properties": {
                  "label": "default-iid",
                  "full_label": "http://www.openlinksw.com/virtrdf-data-formats#default-iid"
                },
                "color": "#15AFAC",
                "styles": {},
                "label": "default-iid",
                "scale_factor": 1,
                "type": "#15AFAC",
                "size": [
                  55,
                  55
                ],
                "position": [
                  0,
                  0
                ]
              },
              {
                "id": "http://www.openlinksw.com/schemas/virtrdf#DefaultQuadMap",
                "properties": {
                  "label": "DefaultQuadMap",
                  "full_label": "http://www.openlinksw.com/schemas/virtrdf#DefaultQuadMap"
                },
                "color": "#15AFAC",
                "styles": {},
                "label": "DefaultQuadMap",
                "scale_factor": 1,
                "type": "#15AFAC",
                "size": [
                  55,
                  55
                ],
                "position": [
                  0,
                  0
                ]
              },
              {
                "id": "http://www.openlinksw.com/schemas/virtrdf#QuadMap",
                "properties": {
                  "label": "QuadMap",
                  "full_label": "http://www.openlinksw.com/schemas/virtrdf#QuadMap"
                },
                "color": "#15AFAC",
                "styles": {},
                "label": "QuadMap",
                "scale_factor": 1,
                "type": "#15AFAC",
                "size": [
                  55,
                  55
                ],
                "position": [
                  0,
                  0
                ]
              },
              {
                "id": "http://www.openlinksw.com/schemas/virtrdf#TmpQuadMap",
                "properties": {
                  "label": "TmpQuadMap",
                  "full_label": "http://www.openlinksw.com/schemas/virtrdf#TmpQuadMap"
                },
                "color": "#15AFAC",
                "styles": {},
                "label": "TmpQuadMap",
                "scale_factor": 1,
                "type": "#15AFAC",
                "size": [
                  55,
                  55
                ],
                "position": [
                  0,
                  0
                ]
              },
              {
                "id": "http://www.openlinksw.com/virtrdf-data-formats#default-iid-nonblank-nullable",
                "properties": {
                  "label": "default-iid-nonblank-nullable",
                  "full_label": "http://www.openlinksw.com/virtrdf-data-formats#default-iid-nonblank-nullable"
                },
                "color": "#15AFAC",
                "styles": {},
                "label": "default-iid-nonblank-nullable",
                "scale_factor": 1,
                "type": "#15AFAC",
                "size": [
                  55,
                  55
                ],
                "position": [
                  0,
                  0
                ]
              },
              {
                "id": "http://www.openlinksw.com/schemas/virtrdf#DefaultServiceMap",
                "properties": {
                  "label": "DefaultServiceMap",
                  "full_label": "http://www.openlinksw.com/schemas/virtrdf#DefaultServiceMap"
                },
                "color": "#15AFAC",
                "styles": {},
                "label": "DefaultServiceMap",
                "scale_factor": 1,
                "type": "#15AFAC",
                "size": [
                  55,
                  55
                ],
                "position": [
                  0,
                  0
                ]
              },
              {
                "id": "http://www.openlinksw.com/virtrdf-data-formats#default-iid-nonblank",
                "properties": {
                  "label": "default-iid-nonblank",
                  "full_label": "http://www.openlinksw.com/virtrdf-data-formats#default-iid-nonblank"
                },
                "color": "#15AFAC",
                "styles": {},
                "label": "default-iid-nonblank",
                "scale_factor": 1,
                "type": "#15AFAC",
                "size": [
                  55,
                  55
                ],
                "position": [
                  0,
                  0
                ]
              },
              {
                "id": "http://www.openlinksw.com/virtrdf-data-formats#default-iid-blank",
                "properties": {
                  "label": "default-iid-blank",
                  "full_label": "http://www.openlinksw.com/virtrdf-data-formats#default-iid-blank"
                },
                "color": "#15AFAC",
                "styles": {},
                "label": "default-iid-blank",
                "scale_factor": 1,
                "type": "#15AFAC",
                "size": [
                  55,
                  55
                ],
                "position": [
                  0,
                  0
                ]
              },
              {
                "id": "http://www.openlinksw.com/virtrdf-data-formats#default",
                "properties": {
                  "label": "default",
                  "full_label": "http://www.openlinksw.com/virtrdf-data-formats#default"
                },
                "color": "#15AFAC",
                "styles": {},
                "label": "default",
                "scale_factor": 1,
                "type": "#15AFAC",
                "size": [
                  55,
                  55
                ],
                "position": [
                  0,
                  0
                ]
              },
              {
                "id": "http://www.openlinksw.com/virtrdf-data-formats#default-iid-nullable",
                "properties": {
                  "label": "default-iid-nullable",
                  "full_label": "http://www.openlinksw.com/virtrdf-data-formats#default-iid-nullable"
                },
                "color": "#15AFAC",
                "styles": {},
                "label": "default-iid-nullable",
                "scale_factor": 1,
                "type": "#15AFAC",
                "size": [
                  55,
                  55
                ],
                "position": [
                  0,
                  0
                ]
              }
            ],
            "_overview": {
              "enabled": null,
              "overview_set": false
            },
            "_selected_graph": [
              [],
              []
            ],
            "_sidebar": {
              "enabled": false,
              "start_with": null
            },
            "_view_count": null,
            "_view_module": "yfiles-jupyter-graphs",
            "_view_module_version": "^1.10.1",
            "_view_name": "GraphView",
            "layout": "IPY_MODEL_f7f0ab2b0a1d491389009084cf22ea1c",
            "tabbable": null,
            "tooltip": null
          }
        },
        "f7f0ab2b0a1d491389009084cf22ea1c": {
          "model_module": "@jupyter-widgets/base",
          "model_name": "LayoutModel",
          "model_module_version": "2.0.0",
          "state": {
            "_model_module": "@jupyter-widgets/base",
            "_model_module_version": "2.0.0",
            "_model_name": "LayoutModel",
            "_view_count": null,
            "_view_module": "@jupyter-widgets/base",
            "_view_module_version": "2.0.0",
            "_view_name": "LayoutView",
            "align_content": null,
            "align_items": null,
            "align_self": null,
            "border_bottom": null,
            "border_left": null,
            "border_right": null,
            "border_top": null,
            "bottom": null,
            "display": null,
            "flex": null,
            "flex_flow": null,
            "grid_area": null,
            "grid_auto_columns": null,
            "grid_auto_flow": null,
            "grid_auto_rows": null,
            "grid_column": null,
            "grid_gap": null,
            "grid_row": null,
            "grid_template_areas": null,
            "grid_template_columns": null,
            "grid_template_rows": null,
            "height": "620px",
            "justify_content": null,
            "justify_items": null,
            "left": null,
            "margin": null,
            "max_height": null,
            "max_width": null,
            "min_height": null,
            "min_width": null,
            "object_fit": null,
            "object_position": null,
            "order": null,
            "overflow": null,
            "padding": null,
            "right": null,
            "top": null,
            "visibility": null,
            "width": "100%"
          }
        },
        "42554b03d9f34c4fbc3b7ac19818e2e3": {
          "model_module": "yfiles-jupyter-graphs",
          "model_name": "GraphModel",
          "model_module_version": "^1.10.1",
          "state": {
            "_context_pane_mapping": [
              {
                "id": "Neighborhood",
                "title": "Neighborhood"
              },
              {
                "id": "Data",
                "title": "Data"
              },
              {
                "id": "Search",
                "title": "Search"
              },
              {
                "id": "About",
                "title": "About"
              }
            ],
            "_data_importer": "unknown",
            "_directed": true,
            "_dom_classes": [],
            "_edges": [
              {
                "start": "Class",
                "end": "Class",
                "properties": {
                  "label": "equivalentClass",
                  "full label": "http://www.w3.org/2002/07/owl#equivalentClass"
                },
                "color": "#15AFAC",
                "thickness_factor": 1,
                "directed": true,
                "styles": {},
                "label": "equivalentClass"
              },
              {
                "start": "ObjectProperty",
                "end": "ObjectProperty",
                "properties": {
                  "label": "inverseOf",
                  "full label": "http://www.w3.org/2002/07/owl#inverseOf"
                },
                "color": "#15AFAC",
                "thickness_factor": 1,
                "directed": true,
                "styles": {},
                "label": "inverseOf"
              },
              {
                "start": "Class",
                "end": "Class",
                "properties": {
                  "label": "complementOf",
                  "full label": "http://www.w3.org/2002/07/owl#complementOf"
                },
                "color": "#15AFAC",
                "thickness_factor": 1,
                "directed": true,
                "styles": {},
                "label": "complementOf"
              },
              {
                "start": "Class",
                "end": "List",
                "properties": {
                  "label": "unionOf",
                  "full label": "http://www.w3.org/2002/07/owl#unionOf"
                },
                "color": "#15AFAC",
                "thickness_factor": 1,
                "directed": true,
                "styles": {},
                "label": "unionOf"
              },
              {
                "start": "Ontology",
                "end": "Ontology",
                "properties": {
                  "label": "imports",
                  "full label": "http://www.w3.org/2002/07/owl#imports"
                },
                "color": "#15AFAC",
                "thickness_factor": 1,
                "directed": true,
                "styles": {},
                "label": "imports"
              },
              {
                "start": "Ontology",
                "end": "Ontology",
                "properties": {
                  "label": "priorVersion",
                  "full label": "http://www.w3.org/2002/07/owl#priorVersion"
                },
                "color": "#15AFAC",
                "thickness_factor": 1,
                "directed": true,
                "styles": {},
                "label": "priorVersion"
              },
              {
                "start": "Class",
                "end": "Class",
                "properties": {
                  "label": "disjointWith",
                  "full label": "http://www.w3.org/2002/07/owl#disjointWith"
                },
                "color": "#15AFAC",
                "thickness_factor": 1,
                "directed": true,
                "styles": {},
                "label": "disjointWith"
              },
              {
                "start": "Thing",
                "end": "Thing",
                "properties": {
                  "label": "differentFrom",
                  "full label": "http://www.w3.org/2002/07/owl#differentFrom"
                },
                "color": "#15AFAC",
                "thickness_factor": 1,
                "directed": true,
                "styles": {},
                "label": "differentFrom"
              },
              {
                "start": "AllDifferent",
                "end": "List",
                "properties": {
                  "label": "distinctMembers",
                  "full label": "http://www.w3.org/2002/07/owl#distinctMembers"
                },
                "color": "#15AFAC",
                "thickness_factor": 1,
                "directed": true,
                "styles": {},
                "label": "distinctMembers"
              },
              {
                "start": "Class",
                "end": "List",
                "properties": {
                  "label": "intersectionOf",
                  "full label": "http://www.w3.org/2002/07/owl#intersectionOf"
                },
                "color": "#15AFAC",
                "thickness_factor": 1,
                "directed": true,
                "styles": {},
                "label": "intersectionOf"
              },
              {
                "start": "Class",
                "end": "List",
                "properties": {
                  "label": "oneOf",
                  "full label": "http://www.w3.org/2002/07/owl#oneOf"
                },
                "color": "#15AFAC",
                "thickness_factor": 1,
                "directed": true,
                "styles": {},
                "label": "oneOf"
              },
              {
                "start": "Restriction",
                "end": "Property",
                "properties": {
                  "label": "onProperty",
                  "full label": "http://www.w3.org/2002/07/owl#onProperty"
                },
                "color": "#15AFAC",
                "thickness_factor": 1,
                "directed": true,
                "styles": {},
                "label": "onProperty"
              },
              {
                "start": "Restriction",
                "end": "Class",
                "properties": {
                  "label": "allValuesFrom",
                  "full label": "http://www.w3.org/2002/07/owl#allValuesFrom"
                },
                "color": "#15AFAC",
                "thickness_factor": 1,
                "directed": true,
                "styles": {},
                "label": "allValuesFrom"
              },
              {
                "start": "Restriction",
                "end": "Class",
                "properties": {
                  "label": "someValuesFrom",
                  "full label": "http://www.w3.org/2002/07/owl#someValuesFrom"
                },
                "color": "#15AFAC",
                "thickness_factor": 1,
                "directed": true,
                "styles": {},
                "label": "someValuesFrom"
              },
              {
                "start": "Restriction",
                "end": "nonNegativeInteger",
                "properties": {
                  "label": "minCardinality",
                  "full label": "http://www.w3.org/2002/07/owl#minCardinality"
                },
                "color": "#15AFAC",
                "thickness_factor": 1,
                "directed": true,
                "styles": {},
                "label": "minCardinality"
              },
              {
                "start": "Restriction",
                "end": "nonNegativeInteger",
                "properties": {
                  "label": "maxCardinality",
                  "full label": "http://www.w3.org/2002/07/owl#maxCardinality"
                },
                "color": "#15AFAC",
                "thickness_factor": 1,
                "directed": true,
                "styles": {},
                "label": "maxCardinality"
              },
              {
                "start": "Restriction",
                "end": "nonNegativeInteger",
                "properties": {
                  "label": "cardinality",
                  "full label": "http://www.w3.org/2002/07/owl#cardinality"
                },
                "color": "#15AFAC",
                "thickness_factor": 1,
                "directed": true,
                "styles": {},
                "label": "cardinality"
              },
              {
                "start": "Ontology",
                "end": "Ontology",
                "properties": {
                  "label": "backwardCompatibleWith",
                  "full label": "http://www.w3.org/2002/07/owl#backwardCompatibleWith"
                },
                "color": "#15AFAC",
                "thickness_factor": 1,
                "directed": true,
                "styles": {},
                "label": "backwardCompatibleWith"
              },
              {
                "start": "Ontology",
                "end": "Ontology",
                "properties": {
                  "label": "incompatibleWith",
                  "full label": "http://www.w3.org/2002/07/owl#incompatibleWith"
                },
                "color": "#15AFAC",
                "thickness_factor": 1,
                "directed": true,
                "styles": {},
                "label": "incompatibleWith"
              },
              {
                "start": "ProductFamily",
                "end": "string",
                "properties": {
                  "label": "ProductFamilyDescription",
                  "full label": "http://www.openlinksw.com/schemas/oplweb#ProductFamilyDescription"
                },
                "color": "#15AFAC",
                "thickness_factor": 1,
                "directed": true,
                "styles": {},
                "label": "ProductFamilyDescription"
              },
              {
                "start": "ProductFamily",
                "end": "string",
                "properties": {
                  "label": "ProductFamilyLongDescription",
                  "full label": "http://www.openlinksw.com/schemas/oplweb#ProductFamilyLongDescription"
                },
                "color": "#15AFAC",
                "thickness_factor": 1,
                "directed": true,
                "styles": {},
                "label": "ProductFamilyLongDescription"
              },
              {
                "start": "ProductFamily",
                "end": "string",
                "properties": {
                  "label": "ProductFamilyCode",
                  "full label": "http://www.openlinksw.com/schemas/oplweb#ProductFamilyCode"
                },
                "color": "#15AFAC",
                "thickness_factor": 1,
                "directed": true,
                "styles": {},
                "label": "ProductFamilyCode"
              },
              {
                "start": "ProductFormat",
                "end": "string",
                "properties": {
                  "label": "ProductFormatDescription",
                  "full label": "http://www.openlinksw.com/schemas/oplweb#ProductFormatDescription"
                },
                "color": "#15AFAC",
                "thickness_factor": 1,
                "directed": true,
                "styles": {},
                "label": "ProductFormatDescription"
              },
              {
                "start": "ProductFormat",
                "end": "string",
                "properties": {
                  "label": "ProductFormatLongDescription",
                  "full label": "http://www.openlinksw.com/schemas/oplweb#ProductFormatLongDescription"
                },
                "color": "#15AFAC",
                "thickness_factor": 1,
                "directed": true,
                "styles": {},
                "label": "ProductFormatLongDescription"
              },
              {
                "start": "ProductFormat",
                "end": "string",
                "properties": {
                  "label": "ProductFormatCode",
                  "full label": "http://www.openlinksw.com/schemas/oplweb#ProductFormatCode"
                },
                "color": "#15AFAC",
                "thickness_factor": 1,
                "directed": true,
                "styles": {},
                "label": "ProductFormatCode"
              },
              {
                "start": "ProductFormatCategory",
                "end": "string",
                "properties": {
                  "label": "ProductFormatCode",
                  "full label": "http://www.openlinksw.com/schemas/oplweb#ProductFormatCode"
                },
                "color": "#15AFAC",
                "thickness_factor": 1,
                "directed": true,
                "styles": {},
                "label": "ProductFormatCode"
              },
              {
                "start": "ProductCategory",
                "end": "string",
                "properties": {
                  "label": "ProductCategoryDescription",
                  "full label": "http://www.openlinksw.com/schemas/oplweb#ProductCategoryDescription"
                },
                "color": "#15AFAC",
                "thickness_factor": 1,
                "directed": true,
                "styles": {},
                "label": "ProductCategoryDescription"
              },
              {
                "start": "ProductCategory",
                "end": "string",
                "properties": {
                  "label": "ProductCategoryLongDescription",
                  "full label": "http://www.openlinksw.com/schemas/oplweb#ProductCategoryLongDescription"
                },
                "color": "#15AFAC",
                "thickness_factor": 1,
                "directed": true,
                "styles": {},
                "label": "ProductCategoryLongDescription"
              },
              {
                "start": "ProductCategory",
                "end": "string",
                "properties": {
                  "label": "ProductCategoryCode",
                  "full label": "http://www.openlinksw.com/schemas/oplweb#ProductCategoryCode"
                },
                "color": "#15AFAC",
                "thickness_factor": 1,
                "directed": true,
                "styles": {},
                "label": "ProductCategoryCode"
              },
              {
                "start": "ProductFormatCategory",
                "end": "string",
                "properties": {
                  "label": "ProductCategoryCode",
                  "full label": "http://www.openlinksw.com/schemas/oplweb#ProductCategoryCode"
                },
                "color": "#15AFAC",
                "thickness_factor": 1,
                "directed": true,
                "styles": {},
                "label": "ProductCategoryCode"
              },
              {
                "start": "ProductCategory",
                "end": "Product",
                "properties": {
                  "label": "hasProduct",
                  "full label": "http://www.openlinksw.com/schemas/oplweb#hasProduct"
                },
                "color": "#15AFAC",
                "thickness_factor": 1,
                "directed": true,
                "styles": {},
                "label": "hasProduct"
              },
              {
                "start": "ProductFormat",
                "end": "Product",
                "properties": {
                  "label": "hasProduct",
                  "full label": "http://www.openlinksw.com/schemas/oplweb#hasProduct"
                },
                "color": "#15AFAC",
                "thickness_factor": 1,
                "directed": true,
                "styles": {},
                "label": "hasProduct"
              },
              {
                "start": "ProductFormatCategory",
                "end": "Product",
                "properties": {
                  "label": "hasProduct",
                  "full label": "http://www.openlinksw.com/schemas/oplweb#hasProduct"
                },
                "color": "#15AFAC",
                "thickness_factor": 1,
                "directed": true,
                "styles": {},
                "label": "hasProduct"
              },
              {
                "start": "Opsys",
                "end": "Product",
                "properties": {
                  "label": "hasProduct",
                  "full label": "http://www.openlinksw.com/schemas/oplweb#hasProduct"
                },
                "color": "#15AFAC",
                "thickness_factor": 1,
                "directed": true,
                "styles": {},
                "label": "hasProduct"
              },
              {
                "start": "DbmsEngine",
                "end": "Product",
                "properties": {
                  "label": "hasProduct",
                  "full label": "http://www.openlinksw.com/schemas/oplweb#hasProduct"
                },
                "color": "#15AFAC",
                "thickness_factor": 1,
                "directed": true,
                "styles": {},
                "label": "hasProduct"
              },
              {
                "start": "ProductFamily",
                "end": "ProductCategory",
                "properties": {
                  "label": "hasCategory",
                  "full label": "http://www.openlinksw.com/schemas/oplweb#hasCategory"
                },
                "color": "#15AFAC",
                "thickness_factor": 1,
                "directed": true,
                "styles": {},
                "label": "hasCategory"
              },
              {
                "start": "Product",
                "end": "ProductCategory",
                "properties": {
                  "label": "hasCategory",
                  "full label": "http://www.openlinksw.com/schemas/oplweb#hasCategory"
                },
                "color": "#15AFAC",
                "thickness_factor": 1,
                "directed": true,
                "styles": {},
                "label": "hasCategory"
              },
              {
                "start": "ProductFamily",
                "end": "ProductFormat",
                "properties": {
                  "label": "hasFormat",
                  "full label": "http://www.openlinksw.com/schemas/oplweb#hasFormat"
                },
                "color": "#15AFAC",
                "thickness_factor": 1,
                "directed": true,
                "styles": {},
                "label": "hasFormat"
              },
              {
                "start": "ProductFormat",
                "end": "ProductFormat",
                "properties": {
                  "label": "hasFormat",
                  "full label": "http://www.openlinksw.com/schemas/oplweb#hasFormat"
                },
                "color": "#15AFAC",
                "thickness_factor": 1,
                "directed": true,
                "styles": {},
                "label": "hasFormat"
              },
              {
                "start": "ProductFamily",
                "end": "ProductCategory",
                "properties": {
                  "label": "isProductCategory",
                  "full label": "http://www.openlinksw.com/schemas/oplweb#isProductCategory"
                },
                "color": "#15AFAC",
                "thickness_factor": 1,
                "directed": true,
                "styles": {},
                "label": "isProductCategory"
              },
              {
                "start": "ProductFormatCategory",
                "end": "ProductCategory",
                "properties": {
                  "label": "isProductCategory",
                  "full label": "http://www.openlinksw.com/schemas/oplweb#isProductCategory"
                },
                "color": "#15AFAC",
                "thickness_factor": 1,
                "directed": true,
                "styles": {},
                "label": "isProductCategory"
              },
              {
                "start": "Product",
                "end": "ProductCategory",
                "properties": {
                  "label": "isProductCategory",
                  "full label": "http://www.openlinksw.com/schemas/oplweb#isProductCategory"
                },
                "color": "#15AFAC",
                "thickness_factor": 1,
                "directed": true,
                "styles": {},
                "label": "isProductCategory"
              },
              {
                "start": "ProductFamily",
                "end": "ProductFormat",
                "properties": {
                  "label": "isProductFormat",
                  "full label": "http://www.openlinksw.com/schemas/oplweb#isProductFormat"
                },
                "color": "#15AFAC",
                "thickness_factor": 1,
                "directed": true,
                "styles": {},
                "label": "isProductFormat"
              },
              {
                "start": "ProductFormat",
                "end": "ProductFormat",
                "properties": {
                  "label": "isProductFormat",
                  "full label": "http://www.openlinksw.com/schemas/oplweb#isProductFormat"
                },
                "color": "#15AFAC",
                "thickness_factor": 1,
                "directed": true,
                "styles": {},
                "label": "isProductFormat"
              },
              {
                "start": "ProductFormatCategory",
                "end": "ProductFormat",
                "properties": {
                  "label": "isProductFormat",
                  "full label": "http://www.openlinksw.com/schemas/oplweb#isProductFormat"
                },
                "color": "#15AFAC",
                "thickness_factor": 1,
                "directed": true,
                "styles": {},
                "label": "isProductFormat"
              },
              {
                "start": "Vendors",
                "end": "string",
                "properties": {
                  "label": "VendorName",
                  "full label": "http://www.openlinksw.com/schemas/oplweb#VendorName"
                },
                "color": "#15AFAC",
                "thickness_factor": 1,
                "directed": true,
                "styles": {},
                "label": "VendorName"
              },
              {
                "start": "VendorCategoryFamily",
                "end": "string",
                "properties": {
                  "label": "VendorCategoryFamilyDescription",
                  "full label": "http://www.openlinksw.com/schemas/oplweb#VendorCategoryFamilyDescription"
                },
                "color": "#15AFAC",
                "thickness_factor": 1,
                "directed": true,
                "styles": {},
                "label": "VendorCategoryFamilyDescription"
              },
              {
                "start": "VendorCategory",
                "end": "string",
                "properties": {
                  "label": "VendorCategoryDescription",
                  "full label": "http://www.openlinksw.com/schemas/oplweb#VendorCategoryDescription"
                },
                "color": "#15AFAC",
                "thickness_factor": 1,
                "directed": true,
                "styles": {},
                "label": "VendorCategoryDescription"
              },
              {
                "start": "Vendors",
                "end": "VendorCategory",
                "properties": {
                  "label": "isOfVendorCategory",
                  "full label": "http://www.openlinksw.com/schemas/oplweb#isOfVendorCategory"
                },
                "color": "#15AFAC",
                "thickness_factor": 1,
                "directed": true,
                "styles": {},
                "label": "isOfVendorCategory"
              },
              {
                "start": "OpsysFamily",
                "end": "string",
                "properties": {
                  "label": "OpsysFamilyName",
                  "full label": "http://www.openlinksw.com/schemas/oplweb#OpsysFamilyName"
                },
                "color": "#15AFAC",
                "thickness_factor": 1,
                "directed": true,
                "styles": {},
                "label": "OpsysFamilyName"
              }
            ],
            "_graph_layout": {
              "algorithm": "hierarchic",
              "options": {}
            },
            "_highlight": [],
            "_license": {},
            "_model_module": "yfiles-jupyter-graphs",
            "_model_module_version": "^1.10.1",
            "_model_name": "GraphModel",
            "_neighborhood": {},
            "_nodes": [
              {
                "id": "InverseFunctionalProperty",
                "properties": {
                  "label": "InverseFunctionalProperty"
                },
                "color": "#15AFAC",
                "styles": {},
                "label": "InverseFunctionalProperty",
                "scale_factor": 1,
                "type": "#15AFAC",
                "size": [
                  55,
                  55
                ],
                "position": [
                  0,
                  0
                ]
              },
              {
                "id": "SymmetricProperty",
                "properties": {
                  "label": "SymmetricProperty"
                },
                "color": "#15AFAC",
                "styles": {},
                "label": "SymmetricProperty",
                "scale_factor": 1,
                "type": "#15AFAC",
                "size": [
                  55,
                  55
                ],
                "position": [
                  0,
                  0
                ]
              },
              {
                "id": "FunctionalProperty",
                "properties": {
                  "label": "FunctionalProperty"
                },
                "color": "#15AFAC",
                "styles": {},
                "label": "FunctionalProperty",
                "scale_factor": 1,
                "type": "#15AFAC",
                "size": [
                  55,
                  55
                ],
                "position": [
                  0,
                  0
                ]
              },
              {
                "id": "TransitiveProperty",
                "properties": {
                  "label": "TransitiveProperty"
                },
                "color": "#15AFAC",
                "styles": {},
                "label": "TransitiveProperty",
                "scale_factor": 1,
                "type": "#15AFAC",
                "size": [
                  55,
                  55
                ],
                "position": [
                  0,
                  0
                ]
              },
              {
                "id": "Class",
                "properties": {
                  "label": "Class"
                },
                "color": "#15AFAC",
                "styles": {},
                "label": "Class",
                "scale_factor": 1,
                "type": "#15AFAC",
                "size": [
                  55,
                  55
                ],
                "position": [
                  0,
                  0
                ]
              },
              {
                "id": "Ontology",
                "properties": {
                  "label": "Ontology"
                },
                "color": "#15AFAC",
                "styles": {},
                "label": "Ontology",
                "scale_factor": 1,
                "type": "#15AFAC",
                "size": [
                  55,
                  55
                ],
                "position": [
                  0,
                  0
                ]
              },
              {
                "id": "OntologyProperty",
                "properties": {
                  "label": "OntologyProperty"
                },
                "color": "#15AFAC",
                "styles": {},
                "label": "OntologyProperty",
                "scale_factor": 1,
                "type": "#15AFAC",
                "size": [
                  55,
                  55
                ],
                "position": [
                  0,
                  0
                ]
              },
              {
                "id": "AnnotationProperty",
                "properties": {
                  "label": "AnnotationProperty"
                },
                "color": "#15AFAC",
                "styles": {},
                "label": "AnnotationProperty",
                "scale_factor": 1,
                "type": "#15AFAC",
                "size": [
                  55,
                  55
                ],
                "position": [
                  0,
                  0
                ]
              },
              {
                "id": "AllDifferent",
                "properties": {
                  "label": "AllDifferent"
                },
                "color": "#15AFAC",
                "styles": {},
                "label": "AllDifferent",
                "scale_factor": 1,
                "type": "#15AFAC",
                "size": [
                  55,
                  55
                ],
                "position": [
                  0,
                  0
                ]
              },
              {
                "id": "Restriction",
                "properties": {
                  "label": "Restriction"
                },
                "color": "#15AFAC",
                "styles": {},
                "label": "Restriction",
                "scale_factor": 1,
                "type": "#15AFAC",
                "size": [
                  55,
                  55
                ],
                "position": [
                  0,
                  0
                ]
              },
              {
                "id": "ObjectProperty",
                "properties": {
                  "label": "ObjectProperty"
                },
                "color": "#15AFAC",
                "styles": {},
                "label": "ObjectProperty",
                "scale_factor": 1,
                "type": "#15AFAC",
                "size": [
                  55,
                  55
                ],
                "position": [
                  0,
                  0
                ]
              },
              {
                "id": "DatatypeProperty",
                "properties": {
                  "label": "DatatypeProperty"
                },
                "color": "#15AFAC",
                "styles": {},
                "label": "DatatypeProperty",
                "scale_factor": 1,
                "type": "#15AFAC",
                "size": [
                  55,
                  55
                ],
                "position": [
                  0,
                  0
                ]
              },
              {
                "id": "DeprecatedClass",
                "properties": {
                  "label": "DeprecatedClass"
                },
                "color": "#15AFAC",
                "styles": {},
                "label": "DeprecatedClass",
                "scale_factor": 1,
                "type": "#15AFAC",
                "size": [
                  55,
                  55
                ],
                "position": [
                  0,
                  0
                ]
              },
              {
                "id": "DeprecatedProperty",
                "properties": {
                  "label": "DeprecatedProperty"
                },
                "color": "#15AFAC",
                "styles": {},
                "label": "DeprecatedProperty",
                "scale_factor": 1,
                "type": "#15AFAC",
                "size": [
                  55,
                  55
                ],
                "position": [
                  0,
                  0
                ]
              },
              {
                "id": "DataRange",
                "properties": {
                  "label": "DataRange"
                },
                "color": "#15AFAC",
                "styles": {},
                "label": "DataRange",
                "scale_factor": 1,
                "type": "#15AFAC",
                "size": [
                  55,
                  55
                ],
                "position": [
                  0,
                  0
                ]
              },
              {
                "id": "DownloadLocation",
                "properties": {
                  "label": "DownloadLocation"
                },
                "color": "#15AFAC",
                "styles": {},
                "label": "DownloadLocation",
                "scale_factor": 1,
                "type": "#15AFAC",
                "size": [
                  55,
                  55
                ],
                "position": [
                  0,
                  0
                ]
              },
              {
                "id": "ComponentArchive",
                "properties": {
                  "label": "ComponentArchive"
                },
                "color": "#15AFAC",
                "styles": {},
                "label": "ComponentArchive",
                "scale_factor": 1,
                "type": "#15AFAC",
                "size": [
                  55,
                  55
                ],
                "position": [
                  0,
                  0
                ]
              },
              {
                "id": "PriceUnitType",
                "properties": {
                  "label": "PriceUnitType"
                },
                "color": "#15AFAC",
                "styles": {},
                "label": "PriceUnitType",
                "scale_factor": 1,
                "type": "#15AFAC",
                "size": [
                  55,
                  55
                ],
                "position": [
                  0,
                  0
                ]
              },
              {
                "id": "ProductFamily",
                "properties": {
                  "label": "ProductFamily"
                },
                "color": "#15AFAC",
                "styles": {},
                "label": "ProductFamily",
                "scale_factor": 1,
                "type": "#15AFAC",
                "size": [
                  55,
                  55
                ],
                "position": [
                  0,
                  0
                ]
              },
              {
                "id": "ProductCategory",
                "properties": {
                  "label": "ProductCategory"
                },
                "color": "#15AFAC",
                "styles": {},
                "label": "ProductCategory",
                "scale_factor": 1,
                "type": "#15AFAC",
                "size": [
                  55,
                  55
                ],
                "position": [
                  0,
                  0
                ]
              },
              {
                "id": "ProductFormat",
                "properties": {
                  "label": "ProductFormat"
                },
                "color": "#15AFAC",
                "styles": {},
                "label": "ProductFormat",
                "scale_factor": 1,
                "type": "#15AFAC",
                "size": [
                  55,
                  55
                ],
                "position": [
                  0,
                  0
                ]
              },
              {
                "id": "ProductFormatCategory",
                "properties": {
                  "label": "ProductFormatCategory"
                },
                "color": "#15AFAC",
                "styles": {},
                "label": "ProductFormatCategory",
                "scale_factor": 1,
                "type": "#15AFAC",
                "size": [
                  55,
                  55
                ],
                "position": [
                  0,
                  0
                ]
              },
              {
                "id": "Product",
                "properties": {
                  "label": "Product"
                },
                "color": "#15AFAC",
                "styles": {},
                "label": "Product",
                "scale_factor": 1,
                "type": "#15AFAC",
                "size": [
                  55,
                  55
                ],
                "position": [
                  0,
                  0
                ]
              },
              {
                "id": "Opsys",
                "properties": {
                  "label": "Opsys"
                },
                "color": "#15AFAC",
                "styles": {},
                "label": "Opsys",
                "scale_factor": 1,
                "type": "#15AFAC",
                "size": [
                  55,
                  55
                ],
                "position": [
                  0,
                  0
                ]
              },
              {
                "id": "DbmsEngine",
                "properties": {
                  "label": "DbmsEngine"
                },
                "color": "#15AFAC",
                "styles": {},
                "label": "DbmsEngine",
                "scale_factor": 1,
                "type": "#15AFAC",
                "size": [
                  55,
                  55
                ],
                "position": [
                  0,
                  0
                ]
              },
              {
                "id": "List",
                "properties": {
                  "label": "List"
                },
                "color": "#15AFAC",
                "styles": {},
                "label": "List",
                "scale_factor": 1,
                "type": "#15AFAC",
                "size": [
                  55,
                  55
                ],
                "position": [
                  0,
                  0
                ]
              },
              {
                "id": "Thing",
                "properties": {
                  "label": "Thing"
                },
                "color": "#15AFAC",
                "styles": {},
                "label": "Thing",
                "scale_factor": 1,
                "type": "#15AFAC",
                "size": [
                  55,
                  55
                ],
                "position": [
                  0,
                  0
                ]
              },
              {
                "id": "Property",
                "properties": {
                  "label": "Property"
                },
                "color": "#15AFAC",
                "styles": {},
                "label": "Property",
                "scale_factor": 1,
                "type": "#15AFAC",
                "size": [
                  55,
                  55
                ],
                "position": [
                  0,
                  0
                ]
              },
              {
                "id": "nonNegativeInteger",
                "properties": {
                  "label": "nonNegativeInteger"
                },
                "color": "#15AFAC",
                "styles": {},
                "label": "nonNegativeInteger",
                "scale_factor": 1,
                "type": "#15AFAC",
                "size": [
                  55,
                  55
                ],
                "position": [
                  0,
                  0
                ]
              },
              {
                "id": "string",
                "properties": {
                  "label": "string"
                },
                "color": "#15AFAC",
                "styles": {},
                "label": "string",
                "scale_factor": 1,
                "type": "#15AFAC",
                "size": [
                  55,
                  55
                ],
                "position": [
                  0,
                  0
                ]
              },
              {
                "id": "Vendors",
                "properties": {
                  "label": "Vendors"
                },
                "color": "#15AFAC",
                "styles": {},
                "label": "Vendors",
                "scale_factor": 1,
                "type": "#15AFAC",
                "size": [
                  55,
                  55
                ],
                "position": [
                  0,
                  0
                ]
              },
              {
                "id": "VendorCategoryFamily",
                "properties": {
                  "label": "VendorCategoryFamily"
                },
                "color": "#15AFAC",
                "styles": {},
                "label": "VendorCategoryFamily",
                "scale_factor": 1,
                "type": "#15AFAC",
                "size": [
                  55,
                  55
                ],
                "position": [
                  0,
                  0
                ]
              },
              {
                "id": "VendorCategory",
                "properties": {
                  "label": "VendorCategory"
                },
                "color": "#15AFAC",
                "styles": {},
                "label": "VendorCategory",
                "scale_factor": 1,
                "type": "#15AFAC",
                "size": [
                  55,
                  55
                ],
                "position": [
                  0,
                  0
                ]
              },
              {
                "id": "OpsysFamily",
                "properties": {
                  "label": "OpsysFamily"
                },
                "color": "#15AFAC",
                "styles": {},
                "label": "OpsysFamily",
                "scale_factor": 1,
                "type": "#15AFAC",
                "size": [
                  55,
                  55
                ],
                "position": [
                  0,
                  0
                ]
              }
            ],
            "_overview": {
              "enabled": null,
              "overview_set": false
            },
            "_selected_graph": [
              [],
              []
            ],
            "_sidebar": {
              "enabled": false,
              "start_with": null
            },
            "_view_count": null,
            "_view_module": "yfiles-jupyter-graphs",
            "_view_module_version": "^1.10.1",
            "_view_name": "GraphView",
            "layout": "IPY_MODEL_6f7baede659d48638b0750a77512b983",
            "tabbable": null,
            "tooltip": null
          }
        },
        "6f7baede659d48638b0750a77512b983": {
          "model_module": "@jupyter-widgets/base",
          "model_name": "LayoutModel",
          "model_module_version": "2.0.0",
          "state": {
            "_model_module": "@jupyter-widgets/base",
            "_model_module_version": "2.0.0",
            "_model_name": "LayoutModel",
            "_view_count": null,
            "_view_module": "@jupyter-widgets/base",
            "_view_module_version": "2.0.0",
            "_view_name": "LayoutView",
            "align_content": null,
            "align_items": null,
            "align_self": null,
            "border_bottom": null,
            "border_left": null,
            "border_right": null,
            "border_top": null,
            "bottom": null,
            "display": null,
            "flex": null,
            "flex_flow": null,
            "grid_area": null,
            "grid_auto_columns": null,
            "grid_auto_flow": null,
            "grid_auto_rows": null,
            "grid_column": null,
            "grid_gap": null,
            "grid_row": null,
            "grid_template_areas": null,
            "grid_template_columns": null,
            "grid_template_rows": null,
            "height": "800px",
            "justify_content": null,
            "justify_items": null,
            "left": null,
            "margin": null,
            "max_height": null,
            "max_width": null,
            "min_height": null,
            "min_width": null,
            "object_fit": null,
            "object_position": null,
            "order": null,
            "overflow": null,
            "padding": null,
            "right": null,
            "top": null,
            "visibility": null,
            "width": "100%"
          }
        }
      }
    }
  },
  "nbformat": 4,
  "nbformat_minor": 5
}