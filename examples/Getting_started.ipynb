{
 "cells": [
  {
   "cell_type": "markdown",
   "id": "034f208e-9c6d-4d25-8be2-6100cf4bea91",
   "metadata": {},
   "source": [
    "# Getting Started  <a target=\"_blank\" href=\"https://colab.research.google.com/github/yWorks/yfiles-jupyter-graphs-for-sparql/blob/main/examples/Getting_started.ipynb\"><img src=\"https://colab.research.google.com/assets/colab-badge.svg\" alt=\"Open In Colab\"/></a>"
   ]
  },
  {
   "cell_type": "code",
   "execution_count": null,
   "id": "d27005cf-8255-4e3d-9735-47d0426b5baf",
   "metadata": {},
   "outputs": [],
   "source": [
    "%pip install SPARQLWrapper --quiet\n",
    "%pip install yfiles_jupyter_graphs_for_sparql==0.9.0rc1 --quiet\n",
    "from SPARQLWrapper import SPARQLWrapper, XML\n",
    "\n",
    "from yfiles_jupyter_graphs_for_sparql import SparqlGraphWidget"
   ]
  },
  {
   "cell_type": "markdown",
   "id": "18a3e9bf-525f-4677-87b0-4d45d5809dab",
   "metadata": {},
   "source": [
    "You can also open this notebook in Google Colab when Google Colab's custom widget manager is enabled:"
   ]
  },
  {
   "cell_type": "code",
   "execution_count": null,
   "id": "a8e91880-2059-493d-8425-5ea2f3a899f6",
   "metadata": {},
   "outputs": [],
   "source": [
    "try:\n",
    "  import google.colab\n",
    "  from google.colab import output\n",
    "  output.enable_custom_widget_manager()\n",
    "except:\n",
    "  pass"
   ]
  },
  {
   "cell_type": "markdown",
   "id": "fa3ead37-7310-4d01-bad2-64299014578c",
   "metadata": {},
   "source": [
    "## Querying a data endpoint\n",
    "\n",
    "> If you want to use queries , ensure you select all three triple components—subject, predicate, and object. Otherwise, a graph cannot be constructed from the selected data."
   ]
  },
  {
   "cell_type": "code",
   "execution_count": null,
   "id": "e5c04c08-d1b9-4c0b-ac47-31ba77f8822e",
   "metadata": {},
   "outputs": [],
   "source": [
    "\n",
    "wrapper = SPARQLWrapper(\"http://dbpedia.org/sparql\")\n",
    "wrapper.setReturnFormat(XML)\n",
    "sgw = SparqlGraphWidget(wrapper=wrapper)\n",
    "q = \"\"\"\n",
    "CONSTRUCT {\n",
    "  ?subject ?predicate ?object .\n",
    "}\n",
    "WHERE {\n",
    "  ?subject ?predicate ?object .\n",
    "}\n",
    "LIMIT 10\n",
    "\"\"\"\n",
    "sgw.show_query(q)"
   ]
  },
  {
   "cell_type": "markdown",
   "id": "872edeb2-aaee-47d4-ad93-c405161b7dfc",
   "metadata": {},
   "source": [
    "## Visualizing the underlying schema\n",
    "\n",
    "The schema is limited at the limit that can be changed during class initialization or by `set_limit`"
   ]
  },
  {
   "cell_type": "code",
   "execution_count": null,
   "id": "fdef773d-c210-4fe5-93b8-855d00294873",
   "metadata": {},
   "outputs": [],
   "source": [
    "sgw.show_schema()"
   ]
  },
  {
   "cell_type": "code",
   "execution_count": null,
   "id": "468c762c-c9eb-4ce4-a281-3cbf5da4e5b0",
   "metadata": {},
   "outputs": [],
   "source": [
    "sgw.get_limit()"
   ]
  }
 ],
 "metadata": {
  "kernelspec": {
   "display_name": "Python 3 (ipykernel)",
   "language": "python",
   "name": "python3"
  },
  "language_info": {
   "codemirror_mode": {
    "name": "ipython",
    "version": 3
   },
   "file_extension": ".py",
   "mimetype": "text/x-python",
   "name": "python",
   "nbconvert_exporter": "python",
   "pygments_lexer": "ipython3",
   "version": "3.11.11"
  }
 },
 "nbformat": 4,
 "nbformat_minor": 5
}
