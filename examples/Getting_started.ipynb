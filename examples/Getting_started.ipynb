{
 "cells": [
  {
   "cell_type": "markdown",
   "id": "034f208e-9c6d-4d25-8be2-6100cf4bea91",
   "metadata": {},
   "source": [
    "# Getting Started"
   ]
  },
  {
   "cell_type": "code",
   "execution_count": null,
   "id": "d27005cf-8255-4e3d-9735-47d0426b5baf",
   "metadata": {},
   "outputs": [],
   "source": [
    "%pip install rdflib --quiet\n",
    "import yfiles_jupyter_graphs_for_sparql \n",
    "from yfiles_jupyter_graphs_for_sparql import SparqlGraphWidget"
   ]
  },
  {
   "cell_type": "markdown",
   "id": "18a3e9bf-525f-4677-87b0-4d45d5809dab",
   "metadata": {},
   "source": [
    "You can also open this notebook in Google Colab when Google Colab's custom widget manager is enabled:"
   ]
  },
  {
   "cell_type": "code",
   "execution_count": null,
   "id": "a8e91880-2059-493d-8425-5ea2f3a899f6",
   "metadata": {},
   "outputs": [],
   "source": [
    "try:\n",
    "  import google.colab\n",
    "  from google.colab import output\n",
    "  output.enable_custom_widget_manager()\n",
    "except:\n",
    "  pass"
   ]
  },
  {
   "cell_type": "markdown",
   "id": "fa3ead37-7310-4d01-bad2-64299014578c",
   "metadata": {},
   "source": [
    "## Querying a data endpoint"
   ]
  },
  {
   "cell_type": "code",
   "execution_count": null,
   "id": "e5c04c08-d1b9-4c0b-ac47-31ba77f8822e",
   "metadata": {},
   "outputs": [],
   "source": [
    "sgw = SparqlGraphWidget(data=\"beatles.ttl\", limit=50)\n",
    "q = \"\"\"\n",
    "SELECT DISTINCT ?sub ?p ?ob\n",
    "WHERE {\n",
    "    ?sub ?p ?ob .\n",
    "}\n",
    "\"\"\"\n",
    "sgw.show_query(q)"
   ]
  },
  {
   "cell_type": "markdown",
   "id": "872edeb2-aaee-47d4-ad93-c405161b7dfc",
   "metadata": {},
   "source": [
    "## Visualizing the underlying schema"
   ]
  },
  {
   "cell_type": "code",
   "execution_count": null,
   "id": "fdef773d-c210-4fe5-93b8-855d00294873",
   "metadata": {},
   "outputs": [],
   "source": [
    "sgw.show_schema()"
   ]
  }
 ],
 "metadata": {
  "kernelspec": {
   "display_name": "Python 3 (ipykernel)",
   "language": "python",
   "name": "python3"
  },
  "language_info": {
   "codemirror_mode": {
    "name": "ipython",
    "version": 3
   },
   "file_extension": ".py",
   "mimetype": "text/x-python",
   "name": "python",
   "nbconvert_exporter": "python",
   "pygments_lexer": "ipython3",
   "version": "3.13.1"
  }
 },
 "nbformat": 4,
 "nbformat_minor": 5
}
