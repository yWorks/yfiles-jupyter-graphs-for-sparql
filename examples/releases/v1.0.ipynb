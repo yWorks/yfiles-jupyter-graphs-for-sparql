{
 "cells": [
  {
   "cell_type": "markdown",
   "id": "5701ed26-3fdc-44fd-808d-4a145928a249",
   "metadata": {},
   "source": [
    "# yFiles Juypter Graphs for SPARQL v1.0 <a target=\"_blank\" href=\"https://colab.research.google.com/github/yWorks/yfiles-jupyter-graphs-for-sparql/blob/main/examples/releases/v1.0.ipynb\"><img src=\"https://colab.research.google.com/assets/colab-badge.svg\" alt=\"Open In Colab\"/></a>\n",
    "\n",
    "This notebook introduces the features of the initial release of `yfiles-jupyter-graphs-for-sparql`, an open-source descendant of [yfiles-jupyter-graphs](https://github.com/yWorks/yfiles-jupyter-graphs). t is specifically designed for RDF databases, allowing you to easily visualize the results of your SPARQL queries using the powerful graph visualization SDK [yFiles](https://www.yfiles.com/).\n",
    "\n",
    "The interactive visualization features, including various automatic layouts, a neighborhood view, a data view, and a search function, help you gain new insights from your query results. Combined with powerful data mappings, you can effortlessly create compelling visual representations of your RDF database."
   ]
  },
  {
   "cell_type": "code",
   "execution_count": null,
   "id": "d1b11f45-1323-4bee-83aa-7b10d31b60e2",
   "metadata": {},
   "outputs": [],
   "source": [
    "%pip install SPARQLWrapper --quiet\n",
    "%pip install yfiles_jupyter_graphs_for_sparql --quiet\n",
    "from SPARQLWrapper import SPARQLWrapper, JSON\n",
    "\n",
    "from yfiles_jupyter_graphs_for_sparql import SparqlGraphWidget"
   ]
  },
  {
   "cell_type": "markdown",
   "id": "7e857e2c-795c-4302-964e-c9f753b69e5d",
   "metadata": {},
   "source": [
    "You can also open this notebook in Google Colab when Google Colab's custom widget manager is enabled:"
   ]
  },
  {
   "cell_type": "code",
   "execution_count": null,
   "id": "9f0737dd-8cfe-4d44-ab90-007f27e2b4f8",
   "metadata": {},
   "outputs": [],
   "source": [
    "try:\n",
    "  import google.colab\n",
    "  from google.colab import output\n",
    "  output.enable_custom_widget_manager()\n",
    "except:\n",
    "  pass"
   ]
  },
  {
   "cell_type": "markdown",
   "id": "3a456679-82a3-4a01-83e7-67f7a966714e",
   "metadata": {},
   "source": [
    "# Connect to RDF database\n",
    "\n",
    "The connection to the database is handled by the connector you pass. The initial release expects a `SPARQLWrapper` instance but the widget's open-source design is such that it could also handle different connectors."
   ]
  },
  {
   "cell_type": "code",
   "execution_count": null,
   "id": "4282da78-1502-4358-8b0e-7976ba8a6a69",
   "metadata": {},
   "outputs": [],
   "source": [
    "# create a connector\n",
    "connector = SPARQLWrapper(\"https://dbpedia.org/sparql\")\n",
    "\n",
    "# pass it to the SparqlGraphWidget\n",
    "widget = SparqlGraphWidget(wrapper=connector)"
   ]
  },
  {
   "cell_type": "markdown",
   "id": "be6bf826-7d9b-4489-b44b-27042746163f",
   "metadata": {},
   "source": [
    "# Visualize the database schema"
   ]
  },
  {
   "cell_type": "code",
   "execution_count": null,
   "id": "aad837f1-83ed-4f45-b78c-9c6e7504e60c",
   "metadata": {},
   "outputs": [],
   "source": [
    "widget.show_schema()"
   ]
  },
  {
   "cell_type": "markdown",
   "id": "4e52c48c-773e-40d7-93f2-92c5e9520dbd",
   "metadata": {},
   "source": [
    "# Query data with SPARQL\n",
    "\n",
    "The configured widget can then be used to query the RDF database with SPARQL for some data.\n",
    "\n",
    "In the first release, we require the result to be `SELECT` triples of subject, predicate, object or `CONSTRUCT` query results to visualize graph results.\n",
    "\n",
    "There are plans to support any `SELECT` query result in the future. For example by querying the local neighborhood of single subject/objects to create an actual graph result. The implicitly queried data could then be visualized differently (e.g. greyed out) to bring the explicitly queried data in the focus."
   ]
  },
  {
   "cell_type": "code",
   "execution_count": null,
   "id": "dceb0d1c-539f-4a9c-b49c-f3447d46b675",
   "metadata": {},
   "outputs": [],
   "source": [
    "query = \"\"\"SELECT DISTINCT ?sub ?p ?obj\n",
    "WHERE {\n",
    "  VALUES ?film {\n",
    "    <http://dbpedia.org/resource/Pulp_Fiction>\n",
    "    <http://dbpedia.org/resource/The_Avengers_(2012_film)>\n",
    "    <http://dbpedia.org/resource/Django_Unchained>\n",
    "  }\n",
    "  \n",
    "  {\n",
    "    ?film ?p ?obj .\n",
    "    BIND(?film AS ?sub)\n",
    "    FILTER(?p IN (dbo:director, dbo:starring, dbo:producer, dbo:cinematography, dbo:musicComposer))\n",
    "  }\n",
    "}\n",
    "LIMIT 40 \"\"\"\n",
    "\n",
    "# visualizing queries requires the JSON return format\n",
    "connector.setReturnFormat(JSON)\n",
    "# visualize the result as graph\n",
    "widget.show_query(query)"
   ]
  },
  {
   "cell_type": "markdown",
   "id": "5bd087d0-f192-4873-b32f-3d120b86cfb8",
   "metadata": {},
   "source": [
    "# Data-driven visualization mappings"
   ]
  },
  {
   "cell_type": "markdown",
   "id": "ba1d615e-9948-4808-9b68-4027b55b242a",
   "metadata": {},
   "source": [
    "Similar to [yfiles-jupyter-graphs](https://github.com/yWorks/yfiles-jupyter-graphs), this widget provides methods to map data properties to visual features."
   ]
  },
  {
   "cell_type": "code",
   "execution_count": null,
   "id": "2200933c-5f97-4245-b427-31cddc1d0694",
   "metadata": {},
   "outputs": [],
   "source": [
    "# actors\n",
    "widget.add_object_configuration('starring', color='purple')\n",
    "# movies\n",
    "widget.add_subject_configuration('director', color='blue')\n",
    "# producer and director edges\n",
    "widget.add_predicate_configuration(['producer', 'director'], color='orange')\n",
    "# all edges, where no specific configuration is given\n",
    "widget.add_predicate_configuration('*', thickness_factor= 2) \n",
    "\n",
    "widget.show_query(query)"
   ]
  },
  {
   "cell_type": "markdown",
   "id": "b8603184-a936-403b-86a3-fe7507f6b8f1",
   "metadata": {},
   "source": [
    "# Automatic layouts\n",
    "\n",
    "The powerful automatic layouts by [yFiles](https://www.yfiles.com/) provide arrangements for man different use cases. Each highlighting different aspects of the graph.\n",
    "\n",
    "The widget either allows to interactively change the layout with the \"Layout\" button in the toolbar, or by providing a specific layout with the query."
   ]
  },
  {
   "cell_type": "code",
   "execution_count": null,
   "id": "d8553db2-7a68-4751-ab01-22d9fae22677",
   "metadata": {},
   "outputs": [],
   "source": [
    "widget.show_query(query, layout='orthogonal')"
   ]
  },
  {
   "cell_type": "markdown",
   "id": "2a0de04b-92e8-4bf5-850c-78592b9c9d92",
   "metadata": {},
   "source": [
    "# Visualize numerical values as heat\n",
    "\n",
    "Often data represents stress or capacity. This can be visualized explicitly with a heat mapping. In this case, we will use random heat values to illustrate this feature."
   ]
  },
  {
   "cell_type": "code",
   "execution_count": null,
   "id": "2681a3c4-bbaa-44ea-8f20-7e6b2bc2fdd4",
   "metadata": {},
   "outputs": [],
   "source": [
    "import random\n",
    "def random_heat(item):\n",
    "    return max(0.3, (min(random.random(), 0.8)))\n",
    "\n",
    "widget.add_object_configuration('starring', color='purple', heat=random_heat)\n",
    "widget.show_query(query, layout='circular')"
   ]
  },
  {
   "cell_type": "markdown",
   "id": "a2ac94cb-45b3-4d1b-9a10-6979199734a9",
   "metadata": {},
   "source": [
    "# Visualize relationships as grouped hierarchy\n",
    "\n",
    "The widget supports to visualize specific predicates as parent-child relationships. This creates a more natural hierarchy for some relationships and introduces an easier understandable structure to the result graph."
   ]
  },
  {
   "cell_type": "code",
   "execution_count": null,
   "id": "673beff4-9dd5-4615-9ee9-b38b7bcfea53",
   "metadata": {},
   "outputs": [],
   "source": [
    "widget.add_parent_configuration('starring', True)\n",
    "widget.add_parent_configuration('director')\n",
    "widget.show_query(query, layout='hierarchic')"
   ]
  },
  {
   "cell_type": "code",
   "execution_count": null,
   "id": "d6d142f2-9fa9-4586-9203-a7bea9a38afe",
   "metadata": {},
   "outputs": [],
   "source": []
  }
 ],
 "metadata": {
  "kernelspec": {
   "display_name": "Python 3 (ipykernel)",
   "language": "python",
   "name": "python3"
  },
  "language_info": {
   "codemirror_mode": {
    "name": "ipython",
    "version": 3
   },
   "file_extension": ".py",
   "mimetype": "text/x-python",
   "name": "python",
   "nbconvert_exporter": "python",
   "pygments_lexer": "ipython3",
   "version": "3.11.11"
  }
 },
 "nbformat": 4,
 "nbformat_minor": 5
}
