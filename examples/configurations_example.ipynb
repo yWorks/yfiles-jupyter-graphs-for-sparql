{
  "cells": [
    {
      "cell_type": "markdown",
      "id": "50838b49-fd74-4e52-93eb-5aa1f78b97a6",
      "metadata": {
        "id": "50838b49-fd74-4e52-93eb-5aa1f78b97a6"
      },
      "source": [
        "# Custom Data Configurations <a target=\"_blank\" href=\"https://colab.research.google.com/github/yWorks/yfiles-jupyter-graphs-for-sparql/blob/main/examples/configurations_example.ipynb\"><img src=\"https://colab.research.google.com/assets/colab-badge.svg\" alt=\"Open In Colab\"/></a>"
      ]
    },
    {
      "cell_type": "code",
      "execution_count": 7,
      "id": "fd36e4e0-aa58-4694-bcb3-5259d35a31d8",
      "metadata": {
        "id": "fd36e4e0-aa58-4694-bcb3-5259d35a31d8"
      },
      "outputs": [],
      "source": [
        "%pip install SPARQLWrapper --quiet\n",
        "%pip install yfiles_jupyter_graphs_for_sparql --quiet\n",
        "from SPARQLWrapper import SPARQLWrapper, JSON\n",
        "\n",
        "from yfiles_jupyter_graphs_for_sparql import SparqlGraphWidget"
      ]
    },
    {
      "cell_type": "markdown",
      "id": "83114774-832c-4509-8d72-acb4e8ea9c5e",
      "metadata": {
        "id": "83114774-832c-4509-8d72-acb4e8ea9c5e"
      },
      "source": [
        "You can also open this notebook in Google Colab when Google Colab's custom widget manager is enabled:"
      ]
    },
    {
      "cell_type": "code",
      "execution_count": 8,
      "id": "802fb573-03c5-4410-81fb-f0d181b3263f",
      "metadata": {
        "id": "802fb573-03c5-4410-81fb-f0d181b3263f"
      },
      "outputs": [],
      "source": [
        "try:\n",
        "  import google.colab\n",
        "  from google.colab import output\n",
        "  output.enable_custom_widget_manager()\n",
        "except:\n",
        "  pass"
      ]
    },
    {
      "cell_type": "markdown",
      "id": "a6b0f9ed-e6f9-4a12-9d93-bf21c8a901eb",
      "metadata": {
        "id": "a6b0f9ed-e6f9-4a12-9d93-bf21c8a901eb"
      },
      "source": [
        "## Configure data mappings\n",
        "Configurable values for the subject and object visualization: `text`, `color`, `size`, `styles`, `property`, `coordinate` and `type`.\n",
        "\n",
        "Configurable values for the predicate visualization: `text`, `color`, `thickness_factor` and `property`.\n",
        "\n",
        "When adding a configuration, you always need to specify the type of predicate of the object, subject or predicate you want to adjust. (Here 'member' or 'writer'), additionally you can define the new values for the above mentioned properties. The values may either be:\n",
        "\n",
        "A lambda the resolves the node or relationship to a specific value.\n",
        "A constant value which is directly used.\n",
        "A property-key that points to the value that should be used for the configuration."
      ]
    },
    {
      "cell_type": "code",
      "execution_count": 9,
      "id": "2407a4f9-c0a0-40e8-8647-b203e7c30fcf",
      "metadata": {
        "colab": {
          "base_uri": "https://localhost:8080/",
          "height": 817,
          "referenced_widgets": [
            "4b935eed302546e49a432dde75f383c8",
            "6a107cb9fd91409c969b5c31750ad480"
          ]
        },
        "id": "2407a4f9-c0a0-40e8-8647-b203e7c30fcf",
        "outputId": "ca0c4783-29f0-447e-a89c-1d41ed3b1d87"
      },
      "outputs": [
        {
          "output_type": "display_data",
          "data": {
            "text/plain": [
              "GraphWidget(layout=Layout(height='800px', width='100%'))"
            ],
            "application/vnd.jupyter.widget-view+json": {
              "version_major": 2,
              "version_minor": 0,
              "model_id": "4b935eed302546e49a432dde75f383c8"
            }
          },
          "metadata": {
            "application/vnd.jupyter.widget-view+json": {
              "colab": {
                "custom_widget_manager": {
                  "url": "https://ssl.gstatic.com/colaboratory-static/widgets/colab-cdn-widget-manager/2b70e893a8ba7c0f/manager.min.js"
                }
              }
            }
          }
        }
      ],
      "source": [
        "\n",
        "wrapper = SPARQLWrapper(\"https://dbpedia.org/sparql\")\n",
        "wrapper.setReturnFormat(JSON)\n",
        "sgw = SparqlGraphWidget(wrapper=wrapper)\n",
        "query = \"\"\"\n",
        "SELECT ?subject ?predicate ?object\n",
        "WHERE {\n",
        "  ?subject a dbo:MusicalArtist .\n",
        "  ?subject dbo:genre ?object .\n",
        "  BIND(dbo:genre AS ?predicate)\n",
        "}\n",
        "\"\"\"\n",
        "sgw.add_object_configuration('genre', color='purple') #genres\n",
        "sgw.add_subject_configuration('genre', color='blue') # musicians\n",
        "sgw.add_predicate_configuration('genre', color='orange') #all edges\n",
        "sgw.show_query(query)"
      ]
    },
    {
      "cell_type": "code",
      "execution_count": 10,
      "id": "e671499c-4749-47f4-94ed-a721814c5465",
      "metadata": {
        "scrolled": true,
        "colab": {
          "base_uri": "https://localhost:8080/",
          "height": 817,
          "referenced_widgets": [
            "d73e932bb6be42908bad141c5d1d196b",
            "6fbe525c6eea48a9b830006b6e8d743f"
          ]
        },
        "id": "e671499c-4749-47f4-94ed-a721814c5465",
        "outputId": "6d7e3058-51ac-4761-e92c-1227b49845b6"
      },
      "outputs": [
        {
          "output_type": "display_data",
          "data": {
            "text/plain": [
              "GraphWidget(layout=Layout(height='800px', width='100%'))"
            ],
            "application/vnd.jupyter.widget-view+json": {
              "version_major": 2,
              "version_minor": 0,
              "model_id": "d73e932bb6be42908bad141c5d1d196b"
            }
          },
          "metadata": {
            "application/vnd.jupyter.widget-view+json": {
              "colab": {
                "custom_widget_manager": {
                  "url": "https://ssl.gstatic.com/colaboratory-static/widgets/colab-cdn-widget-manager/2b70e893a8ba7c0f/manager.min.js"
                }
              }
            }
          }
        }
      ],
      "source": [
        "sgw.add_parent_configuration('genre', True)\n",
        "sgw.show_query(query, layout='orthogonal')"
      ]
    },
    {
      "cell_type": "markdown",
      "id": "b7e98877-c779-41ef-a029-6d346b68a97f",
      "metadata": {
        "id": "b7e98877-c779-41ef-a029-6d346b68a97f"
      },
      "source": [
        "### Delete a configuration\n",
        "\n",
        "Configurations are stored within the class instance and must be explicitly removed to no longer be applied."
      ]
    },
    {
      "cell_type": "code",
      "execution_count": 11,
      "id": "628a685c-3697-4a3c-a197-0f7ecfe03e23",
      "metadata": {
        "colab": {
          "base_uri": "https://localhost:8080/",
          "height": 817,
          "referenced_widgets": [
            "2c37395f7ef74eaca514bc6cc014d9dd",
            "ea81e428d2604df4a2f0c2dd05c0dd2c"
          ]
        },
        "id": "628a685c-3697-4a3c-a197-0f7ecfe03e23",
        "outputId": "b3f015b8-8e5c-4b71-9133-2fd50692fca4"
      },
      "outputs": [
        {
          "output_type": "display_data",
          "data": {
            "text/plain": [
              "GraphWidget(layout=Layout(height='800px', width='100%'))"
            ],
            "application/vnd.jupyter.widget-view+json": {
              "version_major": 2,
              "version_minor": 0,
              "model_id": "2c37395f7ef74eaca514bc6cc014d9dd"
            }
          },
          "metadata": {
            "application/vnd.jupyter.widget-view+json": {
              "colab": {
                "custom_widget_manager": {
                  "url": "https://ssl.gstatic.com/colaboratory-static/widgets/colab-cdn-widget-manager/2b70e893a8ba7c0f/manager.min.js"
                }
              }
            }
          }
        }
      ],
      "source": [
        "sgw.del_object_configuration('genre')\n",
        "sgw.show_query(query)"
      ]
    },
    {
      "cell_type": "markdown",
      "id": "1ae2c80d-ef45-4a50-8ac3-479c846c0ce8",
      "metadata": {
        "id": "1ae2c80d-ef45-4a50-8ac3-479c846c0ce8"
      },
      "source": [
        "### Styling Alternative"
      ]
    },
    {
      "cell_type": "code",
      "execution_count": 12,
      "id": "79830e56-e2c8-4c20-8a21-680c999a9841",
      "metadata": {
        "colab": {
          "base_uri": "https://localhost:8080/",
          "height": 817,
          "referenced_widgets": [
            "1a8ac601235d480e87be210862778334",
            "a3d542ab6c88455ca3730d28ebfeb0ce"
          ]
        },
        "id": "79830e56-e2c8-4c20-8a21-680c999a9841",
        "outputId": "8390e216-762b-482c-ebb3-794da17c42ac"
      },
      "outputs": [
        {
          "output_type": "display_data",
          "data": {
            "text/plain": [
              "GraphWidget(layout=Layout(height='800px', width='100%'))"
            ],
            "application/vnd.jupyter.widget-view+json": {
              "version_major": 2,
              "version_minor": 0,
              "model_id": "1a8ac601235d480e87be210862778334"
            }
          },
          "metadata": {
            "application/vnd.jupyter.widget-view+json": {
              "colab": {
                "custom_widget_manager": {
                  "url": "https://ssl.gstatic.com/colaboratory-static/widgets/colab-cdn-widget-manager/2b70e893a8ba7c0f/manager.min.js"
                }
              }
            }
          }
        }
      ],
      "source": [
        "sgw.set_node_styles_mapping(lambda node: {'color': 'green'} if '_' in node['properties']['label'] else {'color': 'orange'})\n",
        "sgw.show_query(query)"
      ]
    }
  ],
  "metadata": {
    "kernelspec": {
      "display_name": "Python 3 (ipykernel)",
      "language": "python",
      "name": "python3"
    },
    "language_info": {
      "codemirror_mode": {
        "name": "ipython",
        "version": 3
      },
      "file_extension": ".py",
      "mimetype": "text/x-python",
      "name": "python",
      "nbconvert_exporter": "python",
      "pygments_lexer": "ipython3",
      "version": "3.11.11"
    },
    "colab": {
      "provenance": []
    },
    "widgets": {
      "application/vnd.jupyter.widget-state+json": {
        "4b935eed302546e49a432dde75f383c8": {
          "model_module": "yfiles-jupyter-graphs",
          "model_name": "GraphModel",
          "model_module_version": "^1.10.1",
          "state": {
            "_context_pane_mapping": [
              {
                "id": "Neighborhood",
                "title": "Neighborhood"
              },
              {
                "id": "Data",
                "title": "Data"
              },
              {
                "id": "Search",
                "title": "Search"
              },
              {
                "id": "About",
                "title": "About"
              }
            ],
            "_data_importer": "unknown",
            "_directed": true,
            "_dom_classes": [],
            "_edges": [
              {
                "id": "genre",
                "start": "http://dbpedia.org/resource/Cab_Calloway",
                "end": "http://dbpedia.org/resource/Blues",
                "properties": {
                  "label": "genre",
                  "full_label": "http://dbpedia.org/ontology/genre"
                },
                "color": "orange",
                "thickness_factor": 1,
                "directed": true,
                "styles": {},
                "label": "genre"
              },
              {
                "id": "genre",
                "start": "http://dbpedia.org/resource/Cab_Calloway",
                "end": "http://dbpedia.org/resource/Swing_music",
                "properties": {
                  "label": "genre",
                  "full_label": "http://dbpedia.org/ontology/genre"
                },
                "color": "orange",
                "thickness_factor": 1,
                "directed": true,
                "styles": {},
                "label": "genre"
              },
              {
                "id": "genre",
                "start": "http://dbpedia.org/resource/Cab_Calloway",
                "end": "http://dbpedia.org/resource/Jazz",
                "properties": {
                  "label": "genre",
                  "full_label": "http://dbpedia.org/ontology/genre"
                },
                "color": "orange",
                "thickness_factor": 1,
                "directed": true,
                "styles": {},
                "label": "genre"
              },
              {
                "id": "genre",
                "start": "http://dbpedia.org/resource/Cab_Kaye",
                "end": "http://dbpedia.org/resource/Blues",
                "properties": {
                  "label": "genre",
                  "full_label": "http://dbpedia.org/ontology/genre"
                },
                "color": "orange",
                "thickness_factor": 1,
                "directed": true,
                "styles": {},
                "label": "genre"
              },
              {
                "id": "genre",
                "start": "http://dbpedia.org/resource/Cab_Kaye",
                "end": "http://dbpedia.org/resource/Jazz",
                "properties": {
                  "label": "genre",
                  "full_label": "http://dbpedia.org/ontology/genre"
                },
                "color": "orange",
                "thickness_factor": 1,
                "directed": true,
                "styles": {},
                "label": "genre"
              },
              {
                "id": "genre",
                "start": "http://dbpedia.org/resource/Cabum",
                "end": "http://dbpedia.org/resource/Hip_hop_music",
                "properties": {
                  "label": "genre",
                  "full_label": "http://dbpedia.org/ontology/genre"
                },
                "color": "orange",
                "thickness_factor": 1,
                "directed": true,
                "styles": {},
                "label": "genre"
              },
              {
                "id": "genre",
                "start": "http://dbpedia.org/resource/Cabum",
                "end": "http://dbpedia.org/resource/Rap",
                "properties": {
                  "label": "genre",
                  "full_label": "http://dbpedia.org/ontology/genre"
                },
                "color": "orange",
                "thickness_factor": 1,
                "directed": true,
                "styles": {},
                "label": "genre"
              },
              {
                "id": "genre",
                "start": "http://dbpedia.org/resource/Cachao",
                "end": "http://dbpedia.org/resource/Descarga",
                "properties": {
                  "label": "genre",
                  "full_label": "http://dbpedia.org/ontology/genre"
                },
                "color": "orange",
                "thickness_factor": 1,
                "directed": true,
                "styles": {},
                "label": "genre"
              },
              {
                "id": "genre",
                "start": "http://dbpedia.org/resource/Cachao",
                "end": "http://dbpedia.org/resource/Danzón",
                "properties": {
                  "label": "genre",
                  "full_label": "http://dbpedia.org/ontology/genre"
                },
                "color": "orange",
                "thickness_factor": 1,
                "directed": true,
                "styles": {},
                "label": "genre"
              },
              {
                "id": "genre",
                "start": "http://dbpedia.org/resource/Cachao",
                "end": "http://dbpedia.org/resource/Mambo_(music)",
                "properties": {
                  "label": "genre",
                  "full_label": "http://dbpedia.org/ontology/genre"
                },
                "color": "orange",
                "thickness_factor": 1,
                "directed": true,
                "styles": {},
                "label": "genre"
              },
              {
                "id": "genre",
                "start": "http://dbpedia.org/resource/Cachorro_López",
                "end": "http://dbpedia.org/resource/Latin_music_(genre)",
                "properties": {
                  "label": "genre",
                  "full_label": "http://dbpedia.org/ontology/genre"
                },
                "color": "orange",
                "thickness_factor": 1,
                "directed": true,
                "styles": {},
                "label": "genre"
              },
              {
                "id": "genre",
                "start": "http://dbpedia.org/resource/Cachorro_López",
                "end": "http://dbpedia.org/resource/Rock_en_Español",
                "properties": {
                  "label": "genre",
                  "full_label": "http://dbpedia.org/ontology/genre"
                },
                "color": "orange",
                "thickness_factor": 1,
                "directed": true,
                "styles": {},
                "label": "genre"
              },
              {
                "id": "genre",
                "start": "http://dbpedia.org/resource/Cactus_(Indian_band)",
                "end": "http://dbpedia.org/resource/Rock_music_of_West_Bengal",
                "properties": {
                  "label": "genre",
                  "full_label": "http://dbpedia.org/ontology/genre"
                },
                "color": "orange",
                "thickness_factor": 1,
                "directed": true,
                "styles": {},
                "label": "genre"
              },
              {
                "id": "genre",
                "start": "http://dbpedia.org/resource/Cadalack_Ron",
                "end": "http://dbpedia.org/resource/Hip_hop_music",
                "properties": {
                  "label": "genre",
                  "full_label": "http://dbpedia.org/ontology/genre"
                },
                "color": "orange",
                "thickness_factor": 1,
                "directed": true,
                "styles": {},
                "label": "genre"
              },
              {
                "id": "genre",
                "start": "http://dbpedia.org/resource/Cadaveria",
                "end": "http://dbpedia.org/resource/Doom_metal",
                "properties": {
                  "label": "genre",
                  "full_label": "http://dbpedia.org/ontology/genre"
                },
                "color": "orange",
                "thickness_factor": 1,
                "directed": true,
                "styles": {},
                "label": "genre"
              },
              {
                "id": "genre",
                "start": "http://dbpedia.org/resource/Cadaveria",
                "end": "http://dbpedia.org/resource/Gothic_metal",
                "properties": {
                  "label": "genre",
                  "full_label": "http://dbpedia.org/ontology/genre"
                },
                "color": "orange",
                "thickness_factor": 1,
                "directed": true,
                "styles": {},
                "label": "genre"
              },
              {
                "id": "genre",
                "start": "http://dbpedia.org/resource/Cadaveria",
                "end": "http://dbpedia.org/resource/Industrial_metal",
                "properties": {
                  "label": "genre",
                  "full_label": "http://dbpedia.org/ontology/genre"
                },
                "color": "orange",
                "thickness_factor": 1,
                "directed": true,
                "styles": {},
                "label": "genre"
              },
              {
                "id": "genre",
                "start": "http://dbpedia.org/resource/Cadaveria",
                "end": "http://dbpedia.org/resource/Symphonic_black_metal",
                "properties": {
                  "label": "genre",
                  "full_label": "http://dbpedia.org/ontology/genre"
                },
                "color": "orange",
                "thickness_factor": 1,
                "directed": true,
                "styles": {},
                "label": "genre"
              },
              {
                "id": "genre",
                "start": "http://dbpedia.org/resource/Cade_(musician)",
                "end": "http://dbpedia.org/resource/Electronic_music",
                "properties": {
                  "label": "genre",
                  "full_label": "http://dbpedia.org/ontology/genre"
                },
                "color": "orange",
                "thickness_factor": 1,
                "directed": true,
                "styles": {},
                "label": "genre"
              },
              {
                "id": "genre",
                "start": "http://dbpedia.org/resource/Cade_(musician)",
                "end": "http://dbpedia.org/resource/R&B",
                "properties": {
                  "label": "genre",
                  "full_label": "http://dbpedia.org/ontology/genre"
                },
                "color": "orange",
                "thickness_factor": 1,
                "directed": true,
                "styles": {},
                "label": "genre"
              },
              {
                "id": "genre",
                "start": "http://dbpedia.org/resource/Cadence_Weapon",
                "end": "http://dbpedia.org/resource/Alternative_hip_hop",
                "properties": {
                  "label": "genre",
                  "full_label": "http://dbpedia.org/ontology/genre"
                },
                "color": "orange",
                "thickness_factor": 1,
                "directed": true,
                "styles": {},
                "label": "genre"
              },
              {
                "id": "genre",
                "start": "http://dbpedia.org/resource/Cadence_Weapon",
                "end": "http://dbpedia.org/resource/Canadian_hip_hop",
                "properties": {
                  "label": "genre",
                  "full_label": "http://dbpedia.org/ontology/genre"
                },
                "color": "orange",
                "thickness_factor": 1,
                "directed": true,
                "styles": {},
                "label": "genre"
              },
              {
                "id": "genre",
                "start": "http://dbpedia.org/resource/Cadet_(rapper)",
                "end": "http://dbpedia.org/resource/Grime_(music_genre)",
                "properties": {
                  "label": "genre",
                  "full_label": "http://dbpedia.org/ontology/genre"
                },
                "color": "orange",
                "thickness_factor": 1,
                "directed": true,
                "styles": {},
                "label": "genre"
              },
              {
                "id": "genre",
                "start": "http://dbpedia.org/resource/Cadet_(rapper)",
                "end": "http://dbpedia.org/resource/Hip_hop_music",
                "properties": {
                  "label": "genre",
                  "full_label": "http://dbpedia.org/ontology/genre"
                },
                "color": "orange",
                "thickness_factor": 1,
                "directed": true,
                "styles": {},
                "label": "genre"
              },
              {
                "id": "genre",
                "start": "http://dbpedia.org/resource/Cadillac_Muzik",
                "end": "http://dbpedia.org/resource/Psychedelic_Rock",
                "properties": {
                  "label": "genre",
                  "full_label": "http://dbpedia.org/ontology/genre"
                },
                "color": "orange",
                "thickness_factor": 1,
                "directed": true,
                "styles": {},
                "label": "genre"
              },
              {
                "id": "genre",
                "start": "http://dbpedia.org/resource/Cadillac_Muzik",
                "end": "http://dbpedia.org/resource/Alternative_Hip_Hop",
                "properties": {
                  "label": "genre",
                  "full_label": "http://dbpedia.org/ontology/genre"
                },
                "color": "orange",
                "thickness_factor": 1,
                "directed": true,
                "styles": {},
                "label": "genre"
              },
              {
                "id": "genre",
                "start": "http://dbpedia.org/resource/Cadillac_Muzik",
                "end": "http://dbpedia.org/resource/Funk",
                "properties": {
                  "label": "genre",
                  "full_label": "http://dbpedia.org/ontology/genre"
                },
                "color": "orange",
                "thickness_factor": 1,
                "directed": true,
                "styles": {},
                "label": "genre"
              },
              {
                "id": "genre",
                "start": "http://dbpedia.org/resource/Cadillac_Muzik",
                "end": "http://dbpedia.org/resource/Psychedelic_Soul",
                "properties": {
                  "label": "genre",
                  "full_label": "http://dbpedia.org/ontology/genre"
                },
                "color": "orange",
                "thickness_factor": 1,
                "directed": true,
                "styles": {},
                "label": "genre"
              },
              {
                "id": "genre",
                "start": "http://dbpedia.org/resource/Cadillac_Muzik",
                "end": "http://dbpedia.org/resource/R&B",
                "properties": {
                  "label": "genre",
                  "full_label": "http://dbpedia.org/ontology/genre"
                },
                "color": "orange",
                "thickness_factor": 1,
                "directed": true,
                "styles": {},
                "label": "genre"
              },
              {
                "id": "genre",
                "start": "http://dbpedia.org/resource/Cadillac_Muzik",
                "end": "http://dbpedia.org/resource/Southern_Hip_Hop",
                "properties": {
                  "label": "genre",
                  "full_label": "http://dbpedia.org/ontology/genre"
                },
                "color": "orange",
                "thickness_factor": 1,
                "directed": true,
                "styles": {},
                "label": "genre"
              },
              {
                "id": "genre",
                "start": "http://dbpedia.org/resource/Cady_Groves",
                "end": "http://dbpedia.org/resource/Pop_rock",
                "properties": {
                  "label": "genre",
                  "full_label": "http://dbpedia.org/ontology/genre"
                },
                "color": "orange",
                "thickness_factor": 1,
                "directed": true,
                "styles": {},
                "label": "genre"
              },
              {
                "id": "genre",
                "start": "http://dbpedia.org/resource/Cady_Groves",
                "end": "http://dbpedia.org/resource/Country_music",
                "properties": {
                  "label": "genre",
                  "full_label": "http://dbpedia.org/ontology/genre"
                },
                "color": "orange",
                "thickness_factor": 1,
                "directed": true,
                "styles": {},
                "label": "genre"
              },
              {
                "id": "genre",
                "start": "http://dbpedia.org/resource/Cady_Groves",
                "end": "http://dbpedia.org/resource/Pop_music",
                "properties": {
                  "label": "genre",
                  "full_label": "http://dbpedia.org/ontology/genre"
                },
                "color": "orange",
                "thickness_factor": 1,
                "directed": true,
                "styles": {},
                "label": "genre"
              },
              {
                "id": "genre",
                "start": "http://dbpedia.org/resource/Cadão_Volpato",
                "end": "http://dbpedia.org/resource/Alternative_rock",
                "properties": {
                  "label": "genre",
                  "full_label": "http://dbpedia.org/ontology/genre"
                },
                "color": "orange",
                "thickness_factor": 1,
                "directed": true,
                "styles": {},
                "label": "genre"
              },
              {
                "id": "genre",
                "start": "http://dbpedia.org/resource/Cadão_Volpato",
                "end": "http://dbpedia.org/resource/Experimental_rock",
                "properties": {
                  "label": "genre",
                  "full_label": "http://dbpedia.org/ontology/genre"
                },
                "color": "orange",
                "thickness_factor": 1,
                "directed": true,
                "styles": {},
                "label": "genre"
              },
              {
                "id": "genre",
                "start": "http://dbpedia.org/resource/Cadão_Volpato",
                "end": "http://dbpedia.org/resource/Art_rock",
                "properties": {
                  "label": "genre",
                  "full_label": "http://dbpedia.org/ontology/genre"
                },
                "color": "orange",
                "thickness_factor": 1,
                "directed": true,
                "styles": {},
                "label": "genre"
              },
              {
                "id": "genre",
                "start": "http://dbpedia.org/resource/Cadão_Volpato",
                "end": "http://dbpedia.org/resource/Post-punk",
                "properties": {
                  "label": "genre",
                  "full_label": "http://dbpedia.org/ontology/genre"
                },
                "color": "orange",
                "thickness_factor": 1,
                "directed": true,
                "styles": {},
                "label": "genre"
              },
              {
                "id": "genre",
                "start": "http://dbpedia.org/resource/Café_(musician)",
                "end": "http://dbpedia.org/resource/Afrobeat",
                "properties": {
                  "label": "genre",
                  "full_label": "http://dbpedia.org/ontology/genre"
                },
                "color": "orange",
                "thickness_factor": 1,
                "directed": true,
                "styles": {},
                "label": "genre"
              },
              {
                "id": "genre",
                "start": "http://dbpedia.org/resource/Café_(musician)",
                "end": "http://dbpedia.org/resource/Jazz",
                "properties": {
                  "label": "genre",
                  "full_label": "http://dbpedia.org/ontology/genre"
                },
                "color": "orange",
                "thickness_factor": 1,
                "directed": true,
                "styles": {},
                "label": "genre"
              },
              {
                "id": "genre",
                "start": "http://dbpedia.org/resource/Café_(musician)",
                "end": "http://dbpedia.org/resource/Brazilian_music",
                "properties": {
                  "label": "genre",
                  "full_label": "http://dbpedia.org/ontology/genre"
                },
                "color": "orange",
                "thickness_factor": 1,
                "directed": true,
                "styles": {},
                "label": "genre"
              },
              {
                "id": "genre",
                "start": "http://dbpedia.org/resource/Café_Tacuba",
                "end": "http://dbpedia.org/resource/Latin_rock",
                "properties": {
                  "label": "genre",
                  "full_label": "http://dbpedia.org/ontology/genre"
                },
                "color": "orange",
                "thickness_factor": 1,
                "directed": true,
                "styles": {},
                "label": "genre"
              },
              {
                "id": "genre",
                "start": "http://dbpedia.org/resource/Café_Tacuba",
                "end": "http://dbpedia.org/resource/Alternative_rock",
                "properties": {
                  "label": "genre",
                  "full_label": "http://dbpedia.org/ontology/genre"
                },
                "color": "orange",
                "thickness_factor": 1,
                "directed": true,
                "styles": {},
                "label": "genre"
              },
              {
                "id": "genre",
                "start": "http://dbpedia.org/resource/Café_Tacuba",
                "end": "http://dbpedia.org/resource/Latin_Alternative",
                "properties": {
                  "label": "genre",
                  "full_label": "http://dbpedia.org/ontology/genre"
                },
                "color": "orange",
                "thickness_factor": 1,
                "directed": true,
                "styles": {},
                "label": "genre"
              },
              {
                "id": "genre",
                "start": "http://dbpedia.org/resource/Café_Tacuba",
                "end": "http://dbpedia.org/resource/Latin_hip-hop",
                "properties": {
                  "label": "genre",
                  "full_label": "http://dbpedia.org/ontology/genre"
                },
                "color": "orange",
                "thickness_factor": 1,
                "directed": true,
                "styles": {},
                "label": "genre"
              },
              {
                "id": "genre",
                "start": "http://dbpedia.org/resource/Cag_Cagnolatti",
                "end": "http://dbpedia.org/resource/Jazz",
                "properties": {
                  "label": "genre",
                  "full_label": "http://dbpedia.org/ontology/genre"
                },
                "color": "orange",
                "thickness_factor": 1,
                "directed": true,
                "styles": {},
                "label": "genre"
              },
              {
                "id": "genre",
                "start": "http://dbpedia.org/resource/Cage_(rapper)",
                "end": "http://dbpedia.org/resource/Progressive_rap",
                "properties": {
                  "label": "genre",
                  "full_label": "http://dbpedia.org/ontology/genre"
                },
                "color": "orange",
                "thickness_factor": 1,
                "directed": true,
                "styles": {},
                "label": "genre"
              },
              {
                "id": "genre",
                "start": "http://dbpedia.org/resource/Cage_(rapper)",
                "end": "http://dbpedia.org/resource/Horrorcore",
                "properties": {
                  "label": "genre",
                  "full_label": "http://dbpedia.org/ontology/genre"
                },
                "color": "orange",
                "thickness_factor": 1,
                "directed": true,
                "styles": {},
                "label": "genre"
              },
              {
                "id": "genre",
                "start": "http://dbpedia.org/resource/Cage_(rapper)",
                "end": "http://dbpedia.org/resource/Rap_rock",
                "properties": {
                  "label": "genre",
                  "full_label": "http://dbpedia.org/ontology/genre"
                },
                "color": "orange",
                "thickness_factor": 1,
                "directed": true,
                "styles": {},
                "label": "genre"
              },
              {
                "id": "genre",
                "start": "http://dbpedia.org/resource/Cainon_Lamb",
                "end": "http://dbpedia.org/resource/Urban_contemporary",
                "properties": {
                  "label": "genre",
                  "full_label": "http://dbpedia.org/ontology/genre"
                },
                "color": "orange",
                "thickness_factor": 1,
                "directed": true,
                "styles": {},
                "label": "genre"
              },
              {
                "id": "genre",
                "start": "http://dbpedia.org/resource/Cainon_Lamb",
                "end": "http://dbpedia.org/resource/Contemporary_R&B",
                "properties": {
                  "label": "genre",
                  "full_label": "http://dbpedia.org/ontology/genre"
                },
                "color": "orange",
                "thickness_factor": 1,
                "directed": true,
                "styles": {},
                "label": "genre"
              }
            ],
            "_graph_layout": {
              "algorithm": "organic",
              "options": {}
            },
            "_highlight": [],
            "_license": {},
            "_model_module": "yfiles-jupyter-graphs",
            "_model_module_version": "^1.10.1",
            "_model_name": "GraphModel",
            "_neighborhood": {},
            "_nodes": [
              {
                "id": "http://dbpedia.org/resource/Cab_Calloway",
                "properties": {
                  "label": "Cab_Calloway",
                  "full_label": "http://dbpedia.org/resource/Cab_Calloway"
                },
                "color": "blue",
                "styles": {},
                "label": "Cab_Calloway",
                "scale_factor": 1,
                "type": "blue",
                "size": [
                  55,
                  55
                ],
                "position": [
                  0,
                  0
                ]
              },
              {
                "id": "http://dbpedia.org/resource/Blues",
                "properties": {
                  "label": "Blues",
                  "full_label": "http://dbpedia.org/resource/Blues"
                },
                "color": "purple",
                "styles": {},
                "label": "Blues",
                "scale_factor": 1,
                "type": "purple",
                "size": [
                  55,
                  55
                ],
                "position": [
                  0,
                  0
                ]
              },
              {
                "id": "http://dbpedia.org/resource/Swing_music",
                "properties": {
                  "label": "Swing_music",
                  "full_label": "http://dbpedia.org/resource/Swing_music"
                },
                "color": "purple",
                "styles": {},
                "label": "Swing_music",
                "scale_factor": 1,
                "type": "purple",
                "size": [
                  55,
                  55
                ],
                "position": [
                  0,
                  0
                ]
              },
              {
                "id": "http://dbpedia.org/resource/Jazz",
                "properties": {
                  "label": "Jazz",
                  "full_label": "http://dbpedia.org/resource/Jazz"
                },
                "color": "purple",
                "styles": {},
                "label": "Jazz",
                "scale_factor": 1,
                "type": "purple",
                "size": [
                  55,
                  55
                ],
                "position": [
                  0,
                  0
                ]
              },
              {
                "id": "http://dbpedia.org/resource/Cab_Kaye",
                "properties": {
                  "label": "Cab_Kaye",
                  "full_label": "http://dbpedia.org/resource/Cab_Kaye"
                },
                "color": "blue",
                "styles": {},
                "label": "Cab_Kaye",
                "scale_factor": 1,
                "type": "blue",
                "size": [
                  55,
                  55
                ],
                "position": [
                  0,
                  0
                ]
              },
              {
                "id": "http://dbpedia.org/resource/Cabum",
                "properties": {
                  "label": "Cabum",
                  "full_label": "http://dbpedia.org/resource/Cabum"
                },
                "color": "blue",
                "styles": {},
                "label": "Cabum",
                "scale_factor": 1,
                "type": "blue",
                "size": [
                  55,
                  55
                ],
                "position": [
                  0,
                  0
                ]
              },
              {
                "id": "http://dbpedia.org/resource/Hip_hop_music",
                "properties": {
                  "label": "Hip_hop_music",
                  "full_label": "http://dbpedia.org/resource/Hip_hop_music"
                },
                "color": "purple",
                "styles": {},
                "label": "Hip_hop_music",
                "scale_factor": 1,
                "type": "purple",
                "size": [
                  55,
                  55
                ],
                "position": [
                  0,
                  0
                ]
              },
              {
                "id": "http://dbpedia.org/resource/Rap",
                "properties": {
                  "label": "Rap",
                  "full_label": "http://dbpedia.org/resource/Rap"
                },
                "color": "purple",
                "styles": {},
                "label": "Rap",
                "scale_factor": 1,
                "type": "purple",
                "size": [
                  55,
                  55
                ],
                "position": [
                  0,
                  0
                ]
              },
              {
                "id": "http://dbpedia.org/resource/Cachao",
                "properties": {
                  "label": "Cachao",
                  "full_label": "http://dbpedia.org/resource/Cachao"
                },
                "color": "blue",
                "styles": {},
                "label": "Cachao",
                "scale_factor": 1,
                "type": "blue",
                "size": [
                  55,
                  55
                ],
                "position": [
                  0,
                  0
                ]
              },
              {
                "id": "http://dbpedia.org/resource/Descarga",
                "properties": {
                  "label": "Descarga",
                  "full_label": "http://dbpedia.org/resource/Descarga"
                },
                "color": "purple",
                "styles": {},
                "label": "Descarga",
                "scale_factor": 1,
                "type": "purple",
                "size": [
                  55,
                  55
                ],
                "position": [
                  0,
                  0
                ]
              },
              {
                "id": "http://dbpedia.org/resource/Danzón",
                "properties": {
                  "label": "Danzón",
                  "full_label": "http://dbpedia.org/resource/Danzón"
                },
                "color": "purple",
                "styles": {},
                "label": "Danzón",
                "scale_factor": 1,
                "type": "purple",
                "size": [
                  55,
                  55
                ],
                "position": [
                  0,
                  0
                ]
              },
              {
                "id": "http://dbpedia.org/resource/Mambo_(music)",
                "properties": {
                  "label": "Mambo_(music)",
                  "full_label": "http://dbpedia.org/resource/Mambo_(music)"
                },
                "color": "purple",
                "styles": {},
                "label": "Mambo_(music)",
                "scale_factor": 1,
                "type": "purple",
                "size": [
                  55,
                  55
                ],
                "position": [
                  0,
                  0
                ]
              },
              {
                "id": "http://dbpedia.org/resource/Cachorro_López",
                "properties": {
                  "label": "Cachorro_López",
                  "full_label": "http://dbpedia.org/resource/Cachorro_López"
                },
                "color": "blue",
                "styles": {},
                "label": "Cachorro_López",
                "scale_factor": 1,
                "type": "blue",
                "size": [
                  55,
                  55
                ],
                "position": [
                  0,
                  0
                ]
              },
              {
                "id": "http://dbpedia.org/resource/Latin_music_(genre)",
                "properties": {
                  "label": "Latin_music_(genre)",
                  "full_label": "http://dbpedia.org/resource/Latin_music_(genre)"
                },
                "color": "purple",
                "styles": {},
                "label": "Latin_music_(genre)",
                "scale_factor": 1,
                "type": "purple",
                "size": [
                  55,
                  55
                ],
                "position": [
                  0,
                  0
                ]
              },
              {
                "id": "http://dbpedia.org/resource/Rock_en_Español",
                "properties": {
                  "label": "Rock_en_Español",
                  "full_label": "http://dbpedia.org/resource/Rock_en_Español"
                },
                "color": "purple",
                "styles": {},
                "label": "Rock_en_Español",
                "scale_factor": 1,
                "type": "purple",
                "size": [
                  55,
                  55
                ],
                "position": [
                  0,
                  0
                ]
              },
              {
                "id": "http://dbpedia.org/resource/Cactus_(Indian_band)",
                "properties": {
                  "label": "Cactus_(Indian_band)",
                  "full_label": "http://dbpedia.org/resource/Cactus_(Indian_band)"
                },
                "color": "blue",
                "styles": {},
                "label": "Cactus_(Indian_band)",
                "scale_factor": 1,
                "type": "blue",
                "size": [
                  55,
                  55
                ],
                "position": [
                  0,
                  0
                ]
              },
              {
                "id": "http://dbpedia.org/resource/Rock_music_of_West_Bengal",
                "properties": {
                  "label": "Rock_music_of_West_Bengal",
                  "full_label": "http://dbpedia.org/resource/Rock_music_of_West_Bengal"
                },
                "color": "purple",
                "styles": {},
                "label": "Rock_music_of_West_Bengal",
                "scale_factor": 1,
                "type": "purple",
                "size": [
                  55,
                  55
                ],
                "position": [
                  0,
                  0
                ]
              },
              {
                "id": "http://dbpedia.org/resource/Cadalack_Ron",
                "properties": {
                  "label": "Cadalack_Ron",
                  "full_label": "http://dbpedia.org/resource/Cadalack_Ron"
                },
                "color": "blue",
                "styles": {},
                "label": "Cadalack_Ron",
                "scale_factor": 1,
                "type": "blue",
                "size": [
                  55,
                  55
                ],
                "position": [
                  0,
                  0
                ]
              },
              {
                "id": "http://dbpedia.org/resource/Cadaveria",
                "properties": {
                  "label": "Cadaveria",
                  "full_label": "http://dbpedia.org/resource/Cadaveria"
                },
                "color": "blue",
                "styles": {},
                "label": "Cadaveria",
                "scale_factor": 1,
                "type": "blue",
                "size": [
                  55,
                  55
                ],
                "position": [
                  0,
                  0
                ]
              },
              {
                "id": "http://dbpedia.org/resource/Doom_metal",
                "properties": {
                  "label": "Doom_metal",
                  "full_label": "http://dbpedia.org/resource/Doom_metal"
                },
                "color": "purple",
                "styles": {},
                "label": "Doom_metal",
                "scale_factor": 1,
                "type": "purple",
                "size": [
                  55,
                  55
                ],
                "position": [
                  0,
                  0
                ]
              },
              {
                "id": "http://dbpedia.org/resource/Gothic_metal",
                "properties": {
                  "label": "Gothic_metal",
                  "full_label": "http://dbpedia.org/resource/Gothic_metal"
                },
                "color": "purple",
                "styles": {},
                "label": "Gothic_metal",
                "scale_factor": 1,
                "type": "purple",
                "size": [
                  55,
                  55
                ],
                "position": [
                  0,
                  0
                ]
              },
              {
                "id": "http://dbpedia.org/resource/Industrial_metal",
                "properties": {
                  "label": "Industrial_metal",
                  "full_label": "http://dbpedia.org/resource/Industrial_metal"
                },
                "color": "purple",
                "styles": {},
                "label": "Industrial_metal",
                "scale_factor": 1,
                "type": "purple",
                "size": [
                  55,
                  55
                ],
                "position": [
                  0,
                  0
                ]
              },
              {
                "id": "http://dbpedia.org/resource/Symphonic_black_metal",
                "properties": {
                  "label": "Symphonic_black_metal",
                  "full_label": "http://dbpedia.org/resource/Symphonic_black_metal"
                },
                "color": "purple",
                "styles": {},
                "label": "Symphonic_black_metal",
                "scale_factor": 1,
                "type": "purple",
                "size": [
                  55,
                  55
                ],
                "position": [
                  0,
                  0
                ]
              },
              {
                "id": "http://dbpedia.org/resource/Cade_(musician)",
                "properties": {
                  "label": "Cade_(musician)",
                  "full_label": "http://dbpedia.org/resource/Cade_(musician)"
                },
                "color": "blue",
                "styles": {},
                "label": "Cade_(musician)",
                "scale_factor": 1,
                "type": "blue",
                "size": [
                  55,
                  55
                ],
                "position": [
                  0,
                  0
                ]
              },
              {
                "id": "http://dbpedia.org/resource/Electronic_music",
                "properties": {
                  "label": "Electronic_music",
                  "full_label": "http://dbpedia.org/resource/Electronic_music"
                },
                "color": "purple",
                "styles": {},
                "label": "Electronic_music",
                "scale_factor": 1,
                "type": "purple",
                "size": [
                  55,
                  55
                ],
                "position": [
                  0,
                  0
                ]
              },
              {
                "id": "http://dbpedia.org/resource/R&B",
                "properties": {
                  "label": "R&B",
                  "full_label": "http://dbpedia.org/resource/R&B"
                },
                "color": "purple",
                "styles": {},
                "label": "R&B",
                "scale_factor": 1,
                "type": "purple",
                "size": [
                  55,
                  55
                ],
                "position": [
                  0,
                  0
                ]
              },
              {
                "id": "http://dbpedia.org/resource/Cadence_Weapon",
                "properties": {
                  "label": "Cadence_Weapon",
                  "full_label": "http://dbpedia.org/resource/Cadence_Weapon"
                },
                "color": "blue",
                "styles": {},
                "label": "Cadence_Weapon",
                "scale_factor": 1,
                "type": "blue",
                "size": [
                  55,
                  55
                ],
                "position": [
                  0,
                  0
                ]
              },
              {
                "id": "http://dbpedia.org/resource/Alternative_hip_hop",
                "properties": {
                  "label": "Alternative_hip_hop",
                  "full_label": "http://dbpedia.org/resource/Alternative_hip_hop"
                },
                "color": "purple",
                "styles": {},
                "label": "Alternative_hip_hop",
                "scale_factor": 1,
                "type": "purple",
                "size": [
                  55,
                  55
                ],
                "position": [
                  0,
                  0
                ]
              },
              {
                "id": "http://dbpedia.org/resource/Canadian_hip_hop",
                "properties": {
                  "label": "Canadian_hip_hop",
                  "full_label": "http://dbpedia.org/resource/Canadian_hip_hop"
                },
                "color": "purple",
                "styles": {},
                "label": "Canadian_hip_hop",
                "scale_factor": 1,
                "type": "purple",
                "size": [
                  55,
                  55
                ],
                "position": [
                  0,
                  0
                ]
              },
              {
                "id": "http://dbpedia.org/resource/Cadet_(rapper)",
                "properties": {
                  "label": "Cadet_(rapper)",
                  "full_label": "http://dbpedia.org/resource/Cadet_(rapper)"
                },
                "color": "blue",
                "styles": {},
                "label": "Cadet_(rapper)",
                "scale_factor": 1,
                "type": "blue",
                "size": [
                  55,
                  55
                ],
                "position": [
                  0,
                  0
                ]
              },
              {
                "id": "http://dbpedia.org/resource/Grime_(music_genre)",
                "properties": {
                  "label": "Grime_(music_genre)",
                  "full_label": "http://dbpedia.org/resource/Grime_(music_genre)"
                },
                "color": "purple",
                "styles": {},
                "label": "Grime_(music_genre)",
                "scale_factor": 1,
                "type": "purple",
                "size": [
                  55,
                  55
                ],
                "position": [
                  0,
                  0
                ]
              },
              {
                "id": "http://dbpedia.org/resource/Cadillac_Muzik",
                "properties": {
                  "label": "Cadillac_Muzik",
                  "full_label": "http://dbpedia.org/resource/Cadillac_Muzik"
                },
                "color": "blue",
                "styles": {},
                "label": "Cadillac_Muzik",
                "scale_factor": 1,
                "type": "blue",
                "size": [
                  55,
                  55
                ],
                "position": [
                  0,
                  0
                ]
              },
              {
                "id": "http://dbpedia.org/resource/Psychedelic_Rock",
                "properties": {
                  "label": "Psychedelic_Rock",
                  "full_label": "http://dbpedia.org/resource/Psychedelic_Rock"
                },
                "color": "purple",
                "styles": {},
                "label": "Psychedelic_Rock",
                "scale_factor": 1,
                "type": "purple",
                "size": [
                  55,
                  55
                ],
                "position": [
                  0,
                  0
                ]
              },
              {
                "id": "http://dbpedia.org/resource/Alternative_Hip_Hop",
                "properties": {
                  "label": "Alternative_Hip_Hop",
                  "full_label": "http://dbpedia.org/resource/Alternative_Hip_Hop"
                },
                "color": "purple",
                "styles": {},
                "label": "Alternative_Hip_Hop",
                "scale_factor": 1,
                "type": "purple",
                "size": [
                  55,
                  55
                ],
                "position": [
                  0,
                  0
                ]
              },
              {
                "id": "http://dbpedia.org/resource/Funk",
                "properties": {
                  "label": "Funk",
                  "full_label": "http://dbpedia.org/resource/Funk"
                },
                "color": "purple",
                "styles": {},
                "label": "Funk",
                "scale_factor": 1,
                "type": "purple",
                "size": [
                  55,
                  55
                ],
                "position": [
                  0,
                  0
                ]
              },
              {
                "id": "http://dbpedia.org/resource/Psychedelic_Soul",
                "properties": {
                  "label": "Psychedelic_Soul",
                  "full_label": "http://dbpedia.org/resource/Psychedelic_Soul"
                },
                "color": "purple",
                "styles": {},
                "label": "Psychedelic_Soul",
                "scale_factor": 1,
                "type": "purple",
                "size": [
                  55,
                  55
                ],
                "position": [
                  0,
                  0
                ]
              },
              {
                "id": "http://dbpedia.org/resource/Southern_Hip_Hop",
                "properties": {
                  "label": "Southern_Hip_Hop",
                  "full_label": "http://dbpedia.org/resource/Southern_Hip_Hop"
                },
                "color": "purple",
                "styles": {},
                "label": "Southern_Hip_Hop",
                "scale_factor": 1,
                "type": "purple",
                "size": [
                  55,
                  55
                ],
                "position": [
                  0,
                  0
                ]
              },
              {
                "id": "http://dbpedia.org/resource/Cady_Groves",
                "properties": {
                  "label": "Cady_Groves",
                  "full_label": "http://dbpedia.org/resource/Cady_Groves"
                },
                "color": "blue",
                "styles": {},
                "label": "Cady_Groves",
                "scale_factor": 1,
                "type": "blue",
                "size": [
                  55,
                  55
                ],
                "position": [
                  0,
                  0
                ]
              },
              {
                "id": "http://dbpedia.org/resource/Pop_rock",
                "properties": {
                  "label": "Pop_rock",
                  "full_label": "http://dbpedia.org/resource/Pop_rock"
                },
                "color": "purple",
                "styles": {},
                "label": "Pop_rock",
                "scale_factor": 1,
                "type": "purple",
                "size": [
                  55,
                  55
                ],
                "position": [
                  0,
                  0
                ]
              },
              {
                "id": "http://dbpedia.org/resource/Country_music",
                "properties": {
                  "label": "Country_music",
                  "full_label": "http://dbpedia.org/resource/Country_music"
                },
                "color": "purple",
                "styles": {},
                "label": "Country_music",
                "scale_factor": 1,
                "type": "purple",
                "size": [
                  55,
                  55
                ],
                "position": [
                  0,
                  0
                ]
              },
              {
                "id": "http://dbpedia.org/resource/Pop_music",
                "properties": {
                  "label": "Pop_music",
                  "full_label": "http://dbpedia.org/resource/Pop_music"
                },
                "color": "purple",
                "styles": {},
                "label": "Pop_music",
                "scale_factor": 1,
                "type": "purple",
                "size": [
                  55,
                  55
                ],
                "position": [
                  0,
                  0
                ]
              },
              {
                "id": "http://dbpedia.org/resource/Cadão_Volpato",
                "properties": {
                  "label": "Cadão_Volpato",
                  "full_label": "http://dbpedia.org/resource/Cadão_Volpato"
                },
                "color": "blue",
                "styles": {},
                "label": "Cadão_Volpato",
                "scale_factor": 1,
                "type": "blue",
                "size": [
                  55,
                  55
                ],
                "position": [
                  0,
                  0
                ]
              },
              {
                "id": "http://dbpedia.org/resource/Alternative_rock",
                "properties": {
                  "label": "Alternative_rock",
                  "full_label": "http://dbpedia.org/resource/Alternative_rock"
                },
                "color": "purple",
                "styles": {},
                "label": "Alternative_rock",
                "scale_factor": 1,
                "type": "purple",
                "size": [
                  55,
                  55
                ],
                "position": [
                  0,
                  0
                ]
              },
              {
                "id": "http://dbpedia.org/resource/Experimental_rock",
                "properties": {
                  "label": "Experimental_rock",
                  "full_label": "http://dbpedia.org/resource/Experimental_rock"
                },
                "color": "purple",
                "styles": {},
                "label": "Experimental_rock",
                "scale_factor": 1,
                "type": "purple",
                "size": [
                  55,
                  55
                ],
                "position": [
                  0,
                  0
                ]
              },
              {
                "id": "http://dbpedia.org/resource/Art_rock",
                "properties": {
                  "label": "Art_rock",
                  "full_label": "http://dbpedia.org/resource/Art_rock"
                },
                "color": "purple",
                "styles": {},
                "label": "Art_rock",
                "scale_factor": 1,
                "type": "purple",
                "size": [
                  55,
                  55
                ],
                "position": [
                  0,
                  0
                ]
              },
              {
                "id": "http://dbpedia.org/resource/Post-punk",
                "properties": {
                  "label": "Post-punk",
                  "full_label": "http://dbpedia.org/resource/Post-punk"
                },
                "color": "purple",
                "styles": {},
                "label": "Post-punk",
                "scale_factor": 1,
                "type": "purple",
                "size": [
                  55,
                  55
                ],
                "position": [
                  0,
                  0
                ]
              },
              {
                "id": "http://dbpedia.org/resource/Café_(musician)",
                "properties": {
                  "label": "Café_(musician)",
                  "full_label": "http://dbpedia.org/resource/Café_(musician)"
                },
                "color": "blue",
                "styles": {},
                "label": "Café_(musician)",
                "scale_factor": 1,
                "type": "blue",
                "size": [
                  55,
                  55
                ],
                "position": [
                  0,
                  0
                ]
              },
              {
                "id": "http://dbpedia.org/resource/Afrobeat",
                "properties": {
                  "label": "Afrobeat",
                  "full_label": "http://dbpedia.org/resource/Afrobeat"
                },
                "color": "purple",
                "styles": {},
                "label": "Afrobeat",
                "scale_factor": 1,
                "type": "purple",
                "size": [
                  55,
                  55
                ],
                "position": [
                  0,
                  0
                ]
              },
              {
                "id": "http://dbpedia.org/resource/Brazilian_music",
                "properties": {
                  "label": "Brazilian_music",
                  "full_label": "http://dbpedia.org/resource/Brazilian_music"
                },
                "color": "purple",
                "styles": {},
                "label": "Brazilian_music",
                "scale_factor": 1,
                "type": "purple",
                "size": [
                  55,
                  55
                ],
                "position": [
                  0,
                  0
                ]
              },
              {
                "id": "http://dbpedia.org/resource/Café_Tacuba",
                "properties": {
                  "label": "Café_Tacuba",
                  "full_label": "http://dbpedia.org/resource/Café_Tacuba"
                },
                "color": "blue",
                "styles": {},
                "label": "Café_Tacuba",
                "scale_factor": 1,
                "type": "blue",
                "size": [
                  55,
                  55
                ],
                "position": [
                  0,
                  0
                ]
              },
              {
                "id": "http://dbpedia.org/resource/Latin_rock",
                "properties": {
                  "label": "Latin_rock",
                  "full_label": "http://dbpedia.org/resource/Latin_rock"
                },
                "color": "purple",
                "styles": {},
                "label": "Latin_rock",
                "scale_factor": 1,
                "type": "purple",
                "size": [
                  55,
                  55
                ],
                "position": [
                  0,
                  0
                ]
              },
              {
                "id": "http://dbpedia.org/resource/Latin_Alternative",
                "properties": {
                  "label": "Latin_Alternative",
                  "full_label": "http://dbpedia.org/resource/Latin_Alternative"
                },
                "color": "purple",
                "styles": {},
                "label": "Latin_Alternative",
                "scale_factor": 1,
                "type": "purple",
                "size": [
                  55,
                  55
                ],
                "position": [
                  0,
                  0
                ]
              },
              {
                "id": "http://dbpedia.org/resource/Latin_hip-hop",
                "properties": {
                  "label": "Latin_hip-hop",
                  "full_label": "http://dbpedia.org/resource/Latin_hip-hop"
                },
                "color": "purple",
                "styles": {},
                "label": "Latin_hip-hop",
                "scale_factor": 1,
                "type": "purple",
                "size": [
                  55,
                  55
                ],
                "position": [
                  0,
                  0
                ]
              },
              {
                "id": "http://dbpedia.org/resource/Cag_Cagnolatti",
                "properties": {
                  "label": "Cag_Cagnolatti",
                  "full_label": "http://dbpedia.org/resource/Cag_Cagnolatti"
                },
                "color": "blue",
                "styles": {},
                "label": "Cag_Cagnolatti",
                "scale_factor": 1,
                "type": "blue",
                "size": [
                  55,
                  55
                ],
                "position": [
                  0,
                  0
                ]
              },
              {
                "id": "http://dbpedia.org/resource/Cage_(rapper)",
                "properties": {
                  "label": "Cage_(rapper)",
                  "full_label": "http://dbpedia.org/resource/Cage_(rapper)"
                },
                "color": "blue",
                "styles": {},
                "label": "Cage_(rapper)",
                "scale_factor": 1,
                "type": "blue",
                "size": [
                  55,
                  55
                ],
                "position": [
                  0,
                  0
                ]
              },
              {
                "id": "http://dbpedia.org/resource/Progressive_rap",
                "properties": {
                  "label": "Progressive_rap",
                  "full_label": "http://dbpedia.org/resource/Progressive_rap"
                },
                "color": "purple",
                "styles": {},
                "label": "Progressive_rap",
                "scale_factor": 1,
                "type": "purple",
                "size": [
                  55,
                  55
                ],
                "position": [
                  0,
                  0
                ]
              },
              {
                "id": "http://dbpedia.org/resource/Horrorcore",
                "properties": {
                  "label": "Horrorcore",
                  "full_label": "http://dbpedia.org/resource/Horrorcore"
                },
                "color": "purple",
                "styles": {},
                "label": "Horrorcore",
                "scale_factor": 1,
                "type": "purple",
                "size": [
                  55,
                  55
                ],
                "position": [
                  0,
                  0
                ]
              },
              {
                "id": "http://dbpedia.org/resource/Rap_rock",
                "properties": {
                  "label": "Rap_rock",
                  "full_label": "http://dbpedia.org/resource/Rap_rock"
                },
                "color": "purple",
                "styles": {},
                "label": "Rap_rock",
                "scale_factor": 1,
                "type": "purple",
                "size": [
                  55,
                  55
                ],
                "position": [
                  0,
                  0
                ]
              },
              {
                "id": "http://dbpedia.org/resource/Cainon_Lamb",
                "properties": {
                  "label": "Cainon_Lamb",
                  "full_label": "http://dbpedia.org/resource/Cainon_Lamb"
                },
                "color": "blue",
                "styles": {},
                "label": "Cainon_Lamb",
                "scale_factor": 1,
                "type": "blue",
                "size": [
                  55,
                  55
                ],
                "position": [
                  0,
                  0
                ]
              },
              {
                "id": "http://dbpedia.org/resource/Urban_contemporary",
                "properties": {
                  "label": "Urban_contemporary",
                  "full_label": "http://dbpedia.org/resource/Urban_contemporary"
                },
                "color": "purple",
                "styles": {},
                "label": "Urban_contemporary",
                "scale_factor": 1,
                "type": "purple",
                "size": [
                  55,
                  55
                ],
                "position": [
                  0,
                  0
                ]
              },
              {
                "id": "http://dbpedia.org/resource/Contemporary_R&B",
                "properties": {
                  "label": "Contemporary_R&B",
                  "full_label": "http://dbpedia.org/resource/Contemporary_R&B"
                },
                "color": "purple",
                "styles": {},
                "label": "Contemporary_R&B",
                "scale_factor": 1,
                "type": "purple",
                "size": [
                  55,
                  55
                ],
                "position": [
                  0,
                  0
                ]
              }
            ],
            "_overview": {
              "enabled": null,
              "overview_set": false
            },
            "_selected_graph": [
              [],
              []
            ],
            "_sidebar": {
              "enabled": false,
              "start_with": null
            },
            "_view_count": null,
            "_view_module": "yfiles-jupyter-graphs",
            "_view_module_version": "^1.10.1",
            "_view_name": "GraphView",
            "layout": "IPY_MODEL_6a107cb9fd91409c969b5c31750ad480",
            "tabbable": null,
            "tooltip": null
          }
        },
        "6a107cb9fd91409c969b5c31750ad480": {
          "model_module": "@jupyter-widgets/base",
          "model_name": "LayoutModel",
          "model_module_version": "2.0.0",
          "state": {
            "_model_module": "@jupyter-widgets/base",
            "_model_module_version": "2.0.0",
            "_model_name": "LayoutModel",
            "_view_count": null,
            "_view_module": "@jupyter-widgets/base",
            "_view_module_version": "2.0.0",
            "_view_name": "LayoutView",
            "align_content": null,
            "align_items": null,
            "align_self": null,
            "border_bottom": null,
            "border_left": null,
            "border_right": null,
            "border_top": null,
            "bottom": null,
            "display": null,
            "flex": null,
            "flex_flow": null,
            "grid_area": null,
            "grid_auto_columns": null,
            "grid_auto_flow": null,
            "grid_auto_rows": null,
            "grid_column": null,
            "grid_gap": null,
            "grid_row": null,
            "grid_template_areas": null,
            "grid_template_columns": null,
            "grid_template_rows": null,
            "height": "800px",
            "justify_content": null,
            "justify_items": null,
            "left": null,
            "margin": null,
            "max_height": null,
            "max_width": null,
            "min_height": null,
            "min_width": null,
            "object_fit": null,
            "object_position": null,
            "order": null,
            "overflow": null,
            "padding": null,
            "right": null,
            "top": null,
            "visibility": null,
            "width": "100%"
          }
        },
        "d73e932bb6be42908bad141c5d1d196b": {
          "model_module": "yfiles-jupyter-graphs",
          "model_name": "GraphModel",
          "model_module_version": "^1.10.1",
          "state": {
            "_context_pane_mapping": [
              {
                "id": "Neighborhood",
                "title": "Neighborhood"
              },
              {
                "id": "Data",
                "title": "Data"
              },
              {
                "id": "Search",
                "title": "Search"
              },
              {
                "id": "About",
                "title": "About"
              }
            ],
            "_data_importer": "unknown",
            "_directed": true,
            "_dom_classes": [],
            "_edges": [],
            "_graph_layout": {
              "algorithm": "orthogonal",
              "options": {}
            },
            "_highlight": [],
            "_license": {},
            "_model_module": "yfiles-jupyter-graphs",
            "_model_module_version": "^1.10.1",
            "_model_name": "GraphModel",
            "_neighborhood": {},
            "_nodes": [
              {
                "id": "http://dbpedia.org/resource/Cab_Calloway",
                "properties": {
                  "label": "Cab_Calloway",
                  "full_label": "http://dbpedia.org/resource/Cab_Calloway"
                },
                "color": "blue",
                "styles": {},
                "label": "Cab_Calloway",
                "scale_factor": 1,
                "type": "blue",
                "size": [
                  55,
                  55
                ],
                "position": [
                  0,
                  0
                ]
              },
              {
                "id": "http://dbpedia.org/resource/Blues",
                "properties": {
                  "label": "Blues",
                  "full_label": "http://dbpedia.org/resource/Blues"
                },
                "color": "purple",
                "styles": {},
                "label": "Blues",
                "scale_factor": 1,
                "type": "purple",
                "size": [
                  55,
                  55
                ],
                "position": [
                  0,
                  0
                ],
                "parentId": "http://dbpedia.org/resource/Cab_Kaye"
              },
              {
                "id": "http://dbpedia.org/resource/Swing_music",
                "properties": {
                  "label": "Swing_music",
                  "full_label": "http://dbpedia.org/resource/Swing_music"
                },
                "color": "purple",
                "styles": {},
                "label": "Swing_music",
                "scale_factor": 1,
                "type": "purple",
                "size": [
                  55,
                  55
                ],
                "position": [
                  0,
                  0
                ],
                "parentId": "http://dbpedia.org/resource/Cab_Calloway"
              },
              {
                "id": "http://dbpedia.org/resource/Jazz",
                "properties": {
                  "label": "Jazz",
                  "full_label": "http://dbpedia.org/resource/Jazz"
                },
                "color": "purple",
                "styles": {},
                "label": "Jazz",
                "scale_factor": 1,
                "type": "purple",
                "size": [
                  55,
                  55
                ],
                "position": [
                  0,
                  0
                ],
                "parentId": "http://dbpedia.org/resource/Cag_Cagnolatti"
              },
              {
                "id": "http://dbpedia.org/resource/Cab_Kaye",
                "properties": {
                  "label": "Cab_Kaye",
                  "full_label": "http://dbpedia.org/resource/Cab_Kaye"
                },
                "color": "blue",
                "styles": {},
                "label": "Cab_Kaye",
                "scale_factor": 1,
                "type": "blue",
                "size": [
                  55,
                  55
                ],
                "position": [
                  0,
                  0
                ]
              },
              {
                "id": "http://dbpedia.org/resource/Cabum",
                "properties": {
                  "label": "Cabum",
                  "full_label": "http://dbpedia.org/resource/Cabum"
                },
                "color": "blue",
                "styles": {},
                "label": "Cabum",
                "scale_factor": 1,
                "type": "blue",
                "size": [
                  55,
                  55
                ],
                "position": [
                  0,
                  0
                ]
              },
              {
                "id": "http://dbpedia.org/resource/Hip_hop_music",
                "properties": {
                  "label": "Hip_hop_music",
                  "full_label": "http://dbpedia.org/resource/Hip_hop_music"
                },
                "color": "purple",
                "styles": {},
                "label": "Hip_hop_music",
                "scale_factor": 1,
                "type": "purple",
                "size": [
                  55,
                  55
                ],
                "position": [
                  0,
                  0
                ],
                "parentId": "http://dbpedia.org/resource/Cadet_(rapper)"
              },
              {
                "id": "http://dbpedia.org/resource/Rap",
                "properties": {
                  "label": "Rap",
                  "full_label": "http://dbpedia.org/resource/Rap"
                },
                "color": "purple",
                "styles": {},
                "label": "Rap",
                "scale_factor": 1,
                "type": "purple",
                "size": [
                  55,
                  55
                ],
                "position": [
                  0,
                  0
                ],
                "parentId": "http://dbpedia.org/resource/Cabum"
              },
              {
                "id": "http://dbpedia.org/resource/Cachao",
                "properties": {
                  "label": "Cachao",
                  "full_label": "http://dbpedia.org/resource/Cachao"
                },
                "color": "blue",
                "styles": {},
                "label": "Cachao",
                "scale_factor": 1,
                "type": "blue",
                "size": [
                  55,
                  55
                ],
                "position": [
                  0,
                  0
                ]
              },
              {
                "id": "http://dbpedia.org/resource/Descarga",
                "properties": {
                  "label": "Descarga",
                  "full_label": "http://dbpedia.org/resource/Descarga"
                },
                "color": "purple",
                "styles": {},
                "label": "Descarga",
                "scale_factor": 1,
                "type": "purple",
                "size": [
                  55,
                  55
                ],
                "position": [
                  0,
                  0
                ],
                "parentId": "http://dbpedia.org/resource/Cachao"
              },
              {
                "id": "http://dbpedia.org/resource/Danzón",
                "properties": {
                  "label": "Danzón",
                  "full_label": "http://dbpedia.org/resource/Danzón"
                },
                "color": "purple",
                "styles": {},
                "label": "Danzón",
                "scale_factor": 1,
                "type": "purple",
                "size": [
                  55,
                  55
                ],
                "position": [
                  0,
                  0
                ],
                "parentId": "http://dbpedia.org/resource/Cachao"
              },
              {
                "id": "http://dbpedia.org/resource/Mambo_(music)",
                "properties": {
                  "label": "Mambo_(music)",
                  "full_label": "http://dbpedia.org/resource/Mambo_(music)"
                },
                "color": "purple",
                "styles": {},
                "label": "Mambo_(music)",
                "scale_factor": 1,
                "type": "purple",
                "size": [
                  55,
                  55
                ],
                "position": [
                  0,
                  0
                ],
                "parentId": "http://dbpedia.org/resource/Cachao"
              },
              {
                "id": "http://dbpedia.org/resource/Cachorro_López",
                "properties": {
                  "label": "Cachorro_López",
                  "full_label": "http://dbpedia.org/resource/Cachorro_López"
                },
                "color": "blue",
                "styles": {},
                "label": "Cachorro_López",
                "scale_factor": 1,
                "type": "blue",
                "size": [
                  55,
                  55
                ],
                "position": [
                  0,
                  0
                ]
              },
              {
                "id": "http://dbpedia.org/resource/Latin_music_(genre)",
                "properties": {
                  "label": "Latin_music_(genre)",
                  "full_label": "http://dbpedia.org/resource/Latin_music_(genre)"
                },
                "color": "purple",
                "styles": {},
                "label": "Latin_music_(genre)",
                "scale_factor": 1,
                "type": "purple",
                "size": [
                  55,
                  55
                ],
                "position": [
                  0,
                  0
                ],
                "parentId": "http://dbpedia.org/resource/Cachorro_López"
              },
              {
                "id": "http://dbpedia.org/resource/Rock_en_Español",
                "properties": {
                  "label": "Rock_en_Español",
                  "full_label": "http://dbpedia.org/resource/Rock_en_Español"
                },
                "color": "purple",
                "styles": {},
                "label": "Rock_en_Español",
                "scale_factor": 1,
                "type": "purple",
                "size": [
                  55,
                  55
                ],
                "position": [
                  0,
                  0
                ],
                "parentId": "http://dbpedia.org/resource/Cachorro_López"
              },
              {
                "id": "http://dbpedia.org/resource/Cactus_(Indian_band)",
                "properties": {
                  "label": "Cactus_(Indian_band)",
                  "full_label": "http://dbpedia.org/resource/Cactus_(Indian_band)"
                },
                "color": "blue",
                "styles": {},
                "label": "Cactus_(Indian_band)",
                "scale_factor": 1,
                "type": "blue",
                "size": [
                  55,
                  55
                ],
                "position": [
                  0,
                  0
                ]
              },
              {
                "id": "http://dbpedia.org/resource/Rock_music_of_West_Bengal",
                "properties": {
                  "label": "Rock_music_of_West_Bengal",
                  "full_label": "http://dbpedia.org/resource/Rock_music_of_West_Bengal"
                },
                "color": "purple",
                "styles": {},
                "label": "Rock_music_of_West_Bengal",
                "scale_factor": 1,
                "type": "purple",
                "size": [
                  55,
                  55
                ],
                "position": [
                  0,
                  0
                ],
                "parentId": "http://dbpedia.org/resource/Cactus_(Indian_band)"
              },
              {
                "id": "http://dbpedia.org/resource/Cadalack_Ron",
                "properties": {
                  "label": "Cadalack_Ron",
                  "full_label": "http://dbpedia.org/resource/Cadalack_Ron"
                },
                "color": "blue",
                "styles": {},
                "label": "Cadalack_Ron",
                "scale_factor": 1,
                "type": "blue",
                "size": [
                  55,
                  55
                ],
                "position": [
                  0,
                  0
                ]
              },
              {
                "id": "http://dbpedia.org/resource/Cadaveria",
                "properties": {
                  "label": "Cadaveria",
                  "full_label": "http://dbpedia.org/resource/Cadaveria"
                },
                "color": "blue",
                "styles": {},
                "label": "Cadaveria",
                "scale_factor": 1,
                "type": "blue",
                "size": [
                  55,
                  55
                ],
                "position": [
                  0,
                  0
                ]
              },
              {
                "id": "http://dbpedia.org/resource/Doom_metal",
                "properties": {
                  "label": "Doom_metal",
                  "full_label": "http://dbpedia.org/resource/Doom_metal"
                },
                "color": "purple",
                "styles": {},
                "label": "Doom_metal",
                "scale_factor": 1,
                "type": "purple",
                "size": [
                  55,
                  55
                ],
                "position": [
                  0,
                  0
                ],
                "parentId": "http://dbpedia.org/resource/Cadaveria"
              },
              {
                "id": "http://dbpedia.org/resource/Gothic_metal",
                "properties": {
                  "label": "Gothic_metal",
                  "full_label": "http://dbpedia.org/resource/Gothic_metal"
                },
                "color": "purple",
                "styles": {},
                "label": "Gothic_metal",
                "scale_factor": 1,
                "type": "purple",
                "size": [
                  55,
                  55
                ],
                "position": [
                  0,
                  0
                ],
                "parentId": "http://dbpedia.org/resource/Cadaveria"
              },
              {
                "id": "http://dbpedia.org/resource/Industrial_metal",
                "properties": {
                  "label": "Industrial_metal",
                  "full_label": "http://dbpedia.org/resource/Industrial_metal"
                },
                "color": "purple",
                "styles": {},
                "label": "Industrial_metal",
                "scale_factor": 1,
                "type": "purple",
                "size": [
                  55,
                  55
                ],
                "position": [
                  0,
                  0
                ],
                "parentId": "http://dbpedia.org/resource/Cadaveria"
              },
              {
                "id": "http://dbpedia.org/resource/Symphonic_black_metal",
                "properties": {
                  "label": "Symphonic_black_metal",
                  "full_label": "http://dbpedia.org/resource/Symphonic_black_metal"
                },
                "color": "purple",
                "styles": {},
                "label": "Symphonic_black_metal",
                "scale_factor": 1,
                "type": "purple",
                "size": [
                  55,
                  55
                ],
                "position": [
                  0,
                  0
                ],
                "parentId": "http://dbpedia.org/resource/Cadaveria"
              },
              {
                "id": "http://dbpedia.org/resource/Cade_(musician)",
                "properties": {
                  "label": "Cade_(musician)",
                  "full_label": "http://dbpedia.org/resource/Cade_(musician)"
                },
                "color": "blue",
                "styles": {},
                "label": "Cade_(musician)",
                "scale_factor": 1,
                "type": "blue",
                "size": [
                  55,
                  55
                ],
                "position": [
                  0,
                  0
                ]
              },
              {
                "id": "http://dbpedia.org/resource/Electronic_music",
                "properties": {
                  "label": "Electronic_music",
                  "full_label": "http://dbpedia.org/resource/Electronic_music"
                },
                "color": "purple",
                "styles": {},
                "label": "Electronic_music",
                "scale_factor": 1,
                "type": "purple",
                "size": [
                  55,
                  55
                ],
                "position": [
                  0,
                  0
                ],
                "parentId": "http://dbpedia.org/resource/Cade_(musician)"
              },
              {
                "id": "http://dbpedia.org/resource/R&B",
                "properties": {
                  "label": "R&B",
                  "full_label": "http://dbpedia.org/resource/R&B"
                },
                "color": "purple",
                "styles": {},
                "label": "R&B",
                "scale_factor": 1,
                "type": "purple",
                "size": [
                  55,
                  55
                ],
                "position": [
                  0,
                  0
                ],
                "parentId": "http://dbpedia.org/resource/Cadillac_Muzik"
              },
              {
                "id": "http://dbpedia.org/resource/Cadence_Weapon",
                "properties": {
                  "label": "Cadence_Weapon",
                  "full_label": "http://dbpedia.org/resource/Cadence_Weapon"
                },
                "color": "blue",
                "styles": {},
                "label": "Cadence_Weapon",
                "scale_factor": 1,
                "type": "blue",
                "size": [
                  55,
                  55
                ],
                "position": [
                  0,
                  0
                ]
              },
              {
                "id": "http://dbpedia.org/resource/Alternative_hip_hop",
                "properties": {
                  "label": "Alternative_hip_hop",
                  "full_label": "http://dbpedia.org/resource/Alternative_hip_hop"
                },
                "color": "purple",
                "styles": {},
                "label": "Alternative_hip_hop",
                "scale_factor": 1,
                "type": "purple",
                "size": [
                  55,
                  55
                ],
                "position": [
                  0,
                  0
                ],
                "parentId": "http://dbpedia.org/resource/Cadence_Weapon"
              },
              {
                "id": "http://dbpedia.org/resource/Canadian_hip_hop",
                "properties": {
                  "label": "Canadian_hip_hop",
                  "full_label": "http://dbpedia.org/resource/Canadian_hip_hop"
                },
                "color": "purple",
                "styles": {},
                "label": "Canadian_hip_hop",
                "scale_factor": 1,
                "type": "purple",
                "size": [
                  55,
                  55
                ],
                "position": [
                  0,
                  0
                ],
                "parentId": "http://dbpedia.org/resource/Cadence_Weapon"
              },
              {
                "id": "http://dbpedia.org/resource/Cadet_(rapper)",
                "properties": {
                  "label": "Cadet_(rapper)",
                  "full_label": "http://dbpedia.org/resource/Cadet_(rapper)"
                },
                "color": "blue",
                "styles": {},
                "label": "Cadet_(rapper)",
                "scale_factor": 1,
                "type": "blue",
                "size": [
                  55,
                  55
                ],
                "position": [
                  0,
                  0
                ]
              },
              {
                "id": "http://dbpedia.org/resource/Grime_(music_genre)",
                "properties": {
                  "label": "Grime_(music_genre)",
                  "full_label": "http://dbpedia.org/resource/Grime_(music_genre)"
                },
                "color": "purple",
                "styles": {},
                "label": "Grime_(music_genre)",
                "scale_factor": 1,
                "type": "purple",
                "size": [
                  55,
                  55
                ],
                "position": [
                  0,
                  0
                ],
                "parentId": "http://dbpedia.org/resource/Cadet_(rapper)"
              },
              {
                "id": "http://dbpedia.org/resource/Cadillac_Muzik",
                "properties": {
                  "label": "Cadillac_Muzik",
                  "full_label": "http://dbpedia.org/resource/Cadillac_Muzik"
                },
                "color": "blue",
                "styles": {},
                "label": "Cadillac_Muzik",
                "scale_factor": 1,
                "type": "blue",
                "size": [
                  55,
                  55
                ],
                "position": [
                  0,
                  0
                ]
              },
              {
                "id": "http://dbpedia.org/resource/Psychedelic_Rock",
                "properties": {
                  "label": "Psychedelic_Rock",
                  "full_label": "http://dbpedia.org/resource/Psychedelic_Rock"
                },
                "color": "purple",
                "styles": {},
                "label": "Psychedelic_Rock",
                "scale_factor": 1,
                "type": "purple",
                "size": [
                  55,
                  55
                ],
                "position": [
                  0,
                  0
                ],
                "parentId": "http://dbpedia.org/resource/Cadillac_Muzik"
              },
              {
                "id": "http://dbpedia.org/resource/Alternative_Hip_Hop",
                "properties": {
                  "label": "Alternative_Hip_Hop",
                  "full_label": "http://dbpedia.org/resource/Alternative_Hip_Hop"
                },
                "color": "purple",
                "styles": {},
                "label": "Alternative_Hip_Hop",
                "scale_factor": 1,
                "type": "purple",
                "size": [
                  55,
                  55
                ],
                "position": [
                  0,
                  0
                ],
                "parentId": "http://dbpedia.org/resource/Cadillac_Muzik"
              },
              {
                "id": "http://dbpedia.org/resource/Funk",
                "properties": {
                  "label": "Funk",
                  "full_label": "http://dbpedia.org/resource/Funk"
                },
                "color": "purple",
                "styles": {},
                "label": "Funk",
                "scale_factor": 1,
                "type": "purple",
                "size": [
                  55,
                  55
                ],
                "position": [
                  0,
                  0
                ],
                "parentId": "http://dbpedia.org/resource/Cadillac_Muzik"
              },
              {
                "id": "http://dbpedia.org/resource/Psychedelic_Soul",
                "properties": {
                  "label": "Psychedelic_Soul",
                  "full_label": "http://dbpedia.org/resource/Psychedelic_Soul"
                },
                "color": "purple",
                "styles": {},
                "label": "Psychedelic_Soul",
                "scale_factor": 1,
                "type": "purple",
                "size": [
                  55,
                  55
                ],
                "position": [
                  0,
                  0
                ],
                "parentId": "http://dbpedia.org/resource/Cadillac_Muzik"
              },
              {
                "id": "http://dbpedia.org/resource/Southern_Hip_Hop",
                "properties": {
                  "label": "Southern_Hip_Hop",
                  "full_label": "http://dbpedia.org/resource/Southern_Hip_Hop"
                },
                "color": "purple",
                "styles": {},
                "label": "Southern_Hip_Hop",
                "scale_factor": 1,
                "type": "purple",
                "size": [
                  55,
                  55
                ],
                "position": [
                  0,
                  0
                ],
                "parentId": "http://dbpedia.org/resource/Cadillac_Muzik"
              },
              {
                "id": "http://dbpedia.org/resource/Cady_Groves",
                "properties": {
                  "label": "Cady_Groves",
                  "full_label": "http://dbpedia.org/resource/Cady_Groves"
                },
                "color": "blue",
                "styles": {},
                "label": "Cady_Groves",
                "scale_factor": 1,
                "type": "blue",
                "size": [
                  55,
                  55
                ],
                "position": [
                  0,
                  0
                ]
              },
              {
                "id": "http://dbpedia.org/resource/Pop_rock",
                "properties": {
                  "label": "Pop_rock",
                  "full_label": "http://dbpedia.org/resource/Pop_rock"
                },
                "color": "purple",
                "styles": {},
                "label": "Pop_rock",
                "scale_factor": 1,
                "type": "purple",
                "size": [
                  55,
                  55
                ],
                "position": [
                  0,
                  0
                ],
                "parentId": "http://dbpedia.org/resource/Cady_Groves"
              },
              {
                "id": "http://dbpedia.org/resource/Country_music",
                "properties": {
                  "label": "Country_music",
                  "full_label": "http://dbpedia.org/resource/Country_music"
                },
                "color": "purple",
                "styles": {},
                "label": "Country_music",
                "scale_factor": 1,
                "type": "purple",
                "size": [
                  55,
                  55
                ],
                "position": [
                  0,
                  0
                ],
                "parentId": "http://dbpedia.org/resource/Cady_Groves"
              },
              {
                "id": "http://dbpedia.org/resource/Pop_music",
                "properties": {
                  "label": "Pop_music",
                  "full_label": "http://dbpedia.org/resource/Pop_music"
                },
                "color": "purple",
                "styles": {},
                "label": "Pop_music",
                "scale_factor": 1,
                "type": "purple",
                "size": [
                  55,
                  55
                ],
                "position": [
                  0,
                  0
                ],
                "parentId": "http://dbpedia.org/resource/Cady_Groves"
              },
              {
                "id": "http://dbpedia.org/resource/Cadão_Volpato",
                "properties": {
                  "label": "Cadão_Volpato",
                  "full_label": "http://dbpedia.org/resource/Cadão_Volpato"
                },
                "color": "blue",
                "styles": {},
                "label": "Cadão_Volpato",
                "scale_factor": 1,
                "type": "blue",
                "size": [
                  55,
                  55
                ],
                "position": [
                  0,
                  0
                ]
              },
              {
                "id": "http://dbpedia.org/resource/Alternative_rock",
                "properties": {
                  "label": "Alternative_rock",
                  "full_label": "http://dbpedia.org/resource/Alternative_rock"
                },
                "color": "purple",
                "styles": {},
                "label": "Alternative_rock",
                "scale_factor": 1,
                "type": "purple",
                "size": [
                  55,
                  55
                ],
                "position": [
                  0,
                  0
                ],
                "parentId": "http://dbpedia.org/resource/Café_Tacuba"
              },
              {
                "id": "http://dbpedia.org/resource/Experimental_rock",
                "properties": {
                  "label": "Experimental_rock",
                  "full_label": "http://dbpedia.org/resource/Experimental_rock"
                },
                "color": "purple",
                "styles": {},
                "label": "Experimental_rock",
                "scale_factor": 1,
                "type": "purple",
                "size": [
                  55,
                  55
                ],
                "position": [
                  0,
                  0
                ],
                "parentId": "http://dbpedia.org/resource/Cadão_Volpato"
              },
              {
                "id": "http://dbpedia.org/resource/Art_rock",
                "properties": {
                  "label": "Art_rock",
                  "full_label": "http://dbpedia.org/resource/Art_rock"
                },
                "color": "purple",
                "styles": {},
                "label": "Art_rock",
                "scale_factor": 1,
                "type": "purple",
                "size": [
                  55,
                  55
                ],
                "position": [
                  0,
                  0
                ],
                "parentId": "http://dbpedia.org/resource/Cadão_Volpato"
              },
              {
                "id": "http://dbpedia.org/resource/Post-punk",
                "properties": {
                  "label": "Post-punk",
                  "full_label": "http://dbpedia.org/resource/Post-punk"
                },
                "color": "purple",
                "styles": {},
                "label": "Post-punk",
                "scale_factor": 1,
                "type": "purple",
                "size": [
                  55,
                  55
                ],
                "position": [
                  0,
                  0
                ],
                "parentId": "http://dbpedia.org/resource/Cadão_Volpato"
              },
              {
                "id": "http://dbpedia.org/resource/Café_(musician)",
                "properties": {
                  "label": "Café_(musician)",
                  "full_label": "http://dbpedia.org/resource/Café_(musician)"
                },
                "color": "blue",
                "styles": {},
                "label": "Café_(musician)",
                "scale_factor": 1,
                "type": "blue",
                "size": [
                  55,
                  55
                ],
                "position": [
                  0,
                  0
                ]
              },
              {
                "id": "http://dbpedia.org/resource/Afrobeat",
                "properties": {
                  "label": "Afrobeat",
                  "full_label": "http://dbpedia.org/resource/Afrobeat"
                },
                "color": "purple",
                "styles": {},
                "label": "Afrobeat",
                "scale_factor": 1,
                "type": "purple",
                "size": [
                  55,
                  55
                ],
                "position": [
                  0,
                  0
                ],
                "parentId": "http://dbpedia.org/resource/Café_(musician)"
              },
              {
                "id": "http://dbpedia.org/resource/Brazilian_music",
                "properties": {
                  "label": "Brazilian_music",
                  "full_label": "http://dbpedia.org/resource/Brazilian_music"
                },
                "color": "purple",
                "styles": {},
                "label": "Brazilian_music",
                "scale_factor": 1,
                "type": "purple",
                "size": [
                  55,
                  55
                ],
                "position": [
                  0,
                  0
                ],
                "parentId": "http://dbpedia.org/resource/Café_(musician)"
              },
              {
                "id": "http://dbpedia.org/resource/Café_Tacuba",
                "properties": {
                  "label": "Café_Tacuba",
                  "full_label": "http://dbpedia.org/resource/Café_Tacuba"
                },
                "color": "blue",
                "styles": {},
                "label": "Café_Tacuba",
                "scale_factor": 1,
                "type": "blue",
                "size": [
                  55,
                  55
                ],
                "position": [
                  0,
                  0
                ]
              },
              {
                "id": "http://dbpedia.org/resource/Latin_rock",
                "properties": {
                  "label": "Latin_rock",
                  "full_label": "http://dbpedia.org/resource/Latin_rock"
                },
                "color": "purple",
                "styles": {},
                "label": "Latin_rock",
                "scale_factor": 1,
                "type": "purple",
                "size": [
                  55,
                  55
                ],
                "position": [
                  0,
                  0
                ],
                "parentId": "http://dbpedia.org/resource/Café_Tacuba"
              },
              {
                "id": "http://dbpedia.org/resource/Latin_Alternative",
                "properties": {
                  "label": "Latin_Alternative",
                  "full_label": "http://dbpedia.org/resource/Latin_Alternative"
                },
                "color": "purple",
                "styles": {},
                "label": "Latin_Alternative",
                "scale_factor": 1,
                "type": "purple",
                "size": [
                  55,
                  55
                ],
                "position": [
                  0,
                  0
                ],
                "parentId": "http://dbpedia.org/resource/Café_Tacuba"
              },
              {
                "id": "http://dbpedia.org/resource/Latin_hip-hop",
                "properties": {
                  "label": "Latin_hip-hop",
                  "full_label": "http://dbpedia.org/resource/Latin_hip-hop"
                },
                "color": "purple",
                "styles": {},
                "label": "Latin_hip-hop",
                "scale_factor": 1,
                "type": "purple",
                "size": [
                  55,
                  55
                ],
                "position": [
                  0,
                  0
                ],
                "parentId": "http://dbpedia.org/resource/Café_Tacuba"
              },
              {
                "id": "http://dbpedia.org/resource/Cag_Cagnolatti",
                "properties": {
                  "label": "Cag_Cagnolatti",
                  "full_label": "http://dbpedia.org/resource/Cag_Cagnolatti"
                },
                "color": "blue",
                "styles": {},
                "label": "Cag_Cagnolatti",
                "scale_factor": 1,
                "type": "blue",
                "size": [
                  55,
                  55
                ],
                "position": [
                  0,
                  0
                ]
              },
              {
                "id": "http://dbpedia.org/resource/Cage_(rapper)",
                "properties": {
                  "label": "Cage_(rapper)",
                  "full_label": "http://dbpedia.org/resource/Cage_(rapper)"
                },
                "color": "blue",
                "styles": {},
                "label": "Cage_(rapper)",
                "scale_factor": 1,
                "type": "blue",
                "size": [
                  55,
                  55
                ],
                "position": [
                  0,
                  0
                ]
              },
              {
                "id": "http://dbpedia.org/resource/Progressive_rap",
                "properties": {
                  "label": "Progressive_rap",
                  "full_label": "http://dbpedia.org/resource/Progressive_rap"
                },
                "color": "purple",
                "styles": {},
                "label": "Progressive_rap",
                "scale_factor": 1,
                "type": "purple",
                "size": [
                  55,
                  55
                ],
                "position": [
                  0,
                  0
                ],
                "parentId": "http://dbpedia.org/resource/Cage_(rapper)"
              },
              {
                "id": "http://dbpedia.org/resource/Horrorcore",
                "properties": {
                  "label": "Horrorcore",
                  "full_label": "http://dbpedia.org/resource/Horrorcore"
                },
                "color": "purple",
                "styles": {},
                "label": "Horrorcore",
                "scale_factor": 1,
                "type": "purple",
                "size": [
                  55,
                  55
                ],
                "position": [
                  0,
                  0
                ],
                "parentId": "http://dbpedia.org/resource/Cage_(rapper)"
              },
              {
                "id": "http://dbpedia.org/resource/Rap_rock",
                "properties": {
                  "label": "Rap_rock",
                  "full_label": "http://dbpedia.org/resource/Rap_rock"
                },
                "color": "purple",
                "styles": {},
                "label": "Rap_rock",
                "scale_factor": 1,
                "type": "purple",
                "size": [
                  55,
                  55
                ],
                "position": [
                  0,
                  0
                ],
                "parentId": "http://dbpedia.org/resource/Cage_(rapper)"
              },
              {
                "id": "http://dbpedia.org/resource/Cainon_Lamb",
                "properties": {
                  "label": "Cainon_Lamb",
                  "full_label": "http://dbpedia.org/resource/Cainon_Lamb"
                },
                "color": "blue",
                "styles": {},
                "label": "Cainon_Lamb",
                "scale_factor": 1,
                "type": "blue",
                "size": [
                  55,
                  55
                ],
                "position": [
                  0,
                  0
                ]
              },
              {
                "id": "http://dbpedia.org/resource/Urban_contemporary",
                "properties": {
                  "label": "Urban_contemporary",
                  "full_label": "http://dbpedia.org/resource/Urban_contemporary"
                },
                "color": "purple",
                "styles": {},
                "label": "Urban_contemporary",
                "scale_factor": 1,
                "type": "purple",
                "size": [
                  55,
                  55
                ],
                "position": [
                  0,
                  0
                ],
                "parentId": "http://dbpedia.org/resource/Cainon_Lamb"
              },
              {
                "id": "http://dbpedia.org/resource/Contemporary_R&B",
                "properties": {
                  "label": "Contemporary_R&B",
                  "full_label": "http://dbpedia.org/resource/Contemporary_R&B"
                },
                "color": "purple",
                "styles": {},
                "label": "Contemporary_R&B",
                "scale_factor": 1,
                "type": "purple",
                "size": [
                  55,
                  55
                ],
                "position": [
                  0,
                  0
                ],
                "parentId": "http://dbpedia.org/resource/Cainon_Lamb"
              }
            ],
            "_overview": {
              "enabled": null,
              "overview_set": false
            },
            "_selected_graph": [
              [],
              []
            ],
            "_sidebar": {
              "enabled": false,
              "start_with": null
            },
            "_view_count": null,
            "_view_module": "yfiles-jupyter-graphs",
            "_view_module_version": "^1.10.1",
            "_view_name": "GraphView",
            "layout": "IPY_MODEL_6fbe525c6eea48a9b830006b6e8d743f",
            "tabbable": null,
            "tooltip": null
          }
        },
        "6fbe525c6eea48a9b830006b6e8d743f": {
          "model_module": "@jupyter-widgets/base",
          "model_name": "LayoutModel",
          "model_module_version": "2.0.0",
          "state": {
            "_model_module": "@jupyter-widgets/base",
            "_model_module_version": "2.0.0",
            "_model_name": "LayoutModel",
            "_view_count": null,
            "_view_module": "@jupyter-widgets/base",
            "_view_module_version": "2.0.0",
            "_view_name": "LayoutView",
            "align_content": null,
            "align_items": null,
            "align_self": null,
            "border_bottom": null,
            "border_left": null,
            "border_right": null,
            "border_top": null,
            "bottom": null,
            "display": null,
            "flex": null,
            "flex_flow": null,
            "grid_area": null,
            "grid_auto_columns": null,
            "grid_auto_flow": null,
            "grid_auto_rows": null,
            "grid_column": null,
            "grid_gap": null,
            "grid_row": null,
            "grid_template_areas": null,
            "grid_template_columns": null,
            "grid_template_rows": null,
            "height": "800px",
            "justify_content": null,
            "justify_items": null,
            "left": null,
            "margin": null,
            "max_height": null,
            "max_width": null,
            "min_height": null,
            "min_width": null,
            "object_fit": null,
            "object_position": null,
            "order": null,
            "overflow": null,
            "padding": null,
            "right": null,
            "top": null,
            "visibility": null,
            "width": "100%"
          }
        },
        "2c37395f7ef74eaca514bc6cc014d9dd": {
          "model_module": "yfiles-jupyter-graphs",
          "model_name": "GraphModel",
          "model_module_version": "^1.10.1",
          "state": {
            "_context_pane_mapping": [
              {
                "id": "Neighborhood",
                "title": "Neighborhood"
              },
              {
                "id": "Data",
                "title": "Data"
              },
              {
                "id": "Search",
                "title": "Search"
              },
              {
                "id": "About",
                "title": "About"
              }
            ],
            "_data_importer": "unknown",
            "_directed": true,
            "_dom_classes": [],
            "_edges": [],
            "_graph_layout": {
              "algorithm": "organic",
              "options": {}
            },
            "_highlight": [],
            "_license": {},
            "_model_module": "yfiles-jupyter-graphs",
            "_model_module_version": "^1.10.1",
            "_model_name": "GraphModel",
            "_neighborhood": {},
            "_nodes": [
              {
                "id": "http://dbpedia.org/resource/Cab_Calloway",
                "properties": {
                  "label": "Cab_Calloway",
                  "full_label": "http://dbpedia.org/resource/Cab_Calloway"
                },
                "color": "blue",
                "styles": {},
                "label": "Cab_Calloway",
                "scale_factor": 1,
                "type": "blue",
                "size": [
                  55,
                  55
                ],
                "position": [
                  0,
                  0
                ]
              },
              {
                "id": "http://dbpedia.org/resource/Blues",
                "properties": {
                  "label": "Blues",
                  "full_label": "http://dbpedia.org/resource/Blues"
                },
                "color": "#15AFAC",
                "styles": {},
                "label": "Blues",
                "scale_factor": 1,
                "type": "#15AFAC",
                "size": [
                  55,
                  55
                ],
                "position": [
                  0,
                  0
                ],
                "parentId": "http://dbpedia.org/resource/Cab_Kaye"
              },
              {
                "id": "http://dbpedia.org/resource/Swing_music",
                "properties": {
                  "label": "Swing_music",
                  "full_label": "http://dbpedia.org/resource/Swing_music"
                },
                "color": "#15AFAC",
                "styles": {},
                "label": "Swing_music",
                "scale_factor": 1,
                "type": "#15AFAC",
                "size": [
                  55,
                  55
                ],
                "position": [
                  0,
                  0
                ],
                "parentId": "http://dbpedia.org/resource/Cab_Calloway"
              },
              {
                "id": "http://dbpedia.org/resource/Jazz",
                "properties": {
                  "label": "Jazz",
                  "full_label": "http://dbpedia.org/resource/Jazz"
                },
                "color": "#15AFAC",
                "styles": {},
                "label": "Jazz",
                "scale_factor": 1,
                "type": "#15AFAC",
                "size": [
                  55,
                  55
                ],
                "position": [
                  0,
                  0
                ],
                "parentId": "http://dbpedia.org/resource/Cag_Cagnolatti"
              },
              {
                "id": "http://dbpedia.org/resource/Cab_Kaye",
                "properties": {
                  "label": "Cab_Kaye",
                  "full_label": "http://dbpedia.org/resource/Cab_Kaye"
                },
                "color": "blue",
                "styles": {},
                "label": "Cab_Kaye",
                "scale_factor": 1,
                "type": "blue",
                "size": [
                  55,
                  55
                ],
                "position": [
                  0,
                  0
                ]
              },
              {
                "id": "http://dbpedia.org/resource/Cabum",
                "properties": {
                  "label": "Cabum",
                  "full_label": "http://dbpedia.org/resource/Cabum"
                },
                "color": "blue",
                "styles": {},
                "label": "Cabum",
                "scale_factor": 1,
                "type": "blue",
                "size": [
                  55,
                  55
                ],
                "position": [
                  0,
                  0
                ]
              },
              {
                "id": "http://dbpedia.org/resource/Hip_hop_music",
                "properties": {
                  "label": "Hip_hop_music",
                  "full_label": "http://dbpedia.org/resource/Hip_hop_music"
                },
                "color": "#15AFAC",
                "styles": {},
                "label": "Hip_hop_music",
                "scale_factor": 1,
                "type": "#15AFAC",
                "size": [
                  55,
                  55
                ],
                "position": [
                  0,
                  0
                ],
                "parentId": "http://dbpedia.org/resource/Cadet_(rapper)"
              },
              {
                "id": "http://dbpedia.org/resource/Rap",
                "properties": {
                  "label": "Rap",
                  "full_label": "http://dbpedia.org/resource/Rap"
                },
                "color": "#15AFAC",
                "styles": {},
                "label": "Rap",
                "scale_factor": 1,
                "type": "#15AFAC",
                "size": [
                  55,
                  55
                ],
                "position": [
                  0,
                  0
                ],
                "parentId": "http://dbpedia.org/resource/Cabum"
              },
              {
                "id": "http://dbpedia.org/resource/Cachao",
                "properties": {
                  "label": "Cachao",
                  "full_label": "http://dbpedia.org/resource/Cachao"
                },
                "color": "blue",
                "styles": {},
                "label": "Cachao",
                "scale_factor": 1,
                "type": "blue",
                "size": [
                  55,
                  55
                ],
                "position": [
                  0,
                  0
                ]
              },
              {
                "id": "http://dbpedia.org/resource/Descarga",
                "properties": {
                  "label": "Descarga",
                  "full_label": "http://dbpedia.org/resource/Descarga"
                },
                "color": "#15AFAC",
                "styles": {},
                "label": "Descarga",
                "scale_factor": 1,
                "type": "#15AFAC",
                "size": [
                  55,
                  55
                ],
                "position": [
                  0,
                  0
                ],
                "parentId": "http://dbpedia.org/resource/Cachao"
              },
              {
                "id": "http://dbpedia.org/resource/Danzón",
                "properties": {
                  "label": "Danzón",
                  "full_label": "http://dbpedia.org/resource/Danzón"
                },
                "color": "#15AFAC",
                "styles": {},
                "label": "Danzón",
                "scale_factor": 1,
                "type": "#15AFAC",
                "size": [
                  55,
                  55
                ],
                "position": [
                  0,
                  0
                ],
                "parentId": "http://dbpedia.org/resource/Cachao"
              },
              {
                "id": "http://dbpedia.org/resource/Mambo_(music)",
                "properties": {
                  "label": "Mambo_(music)",
                  "full_label": "http://dbpedia.org/resource/Mambo_(music)"
                },
                "color": "#15AFAC",
                "styles": {},
                "label": "Mambo_(music)",
                "scale_factor": 1,
                "type": "#15AFAC",
                "size": [
                  55,
                  55
                ],
                "position": [
                  0,
                  0
                ],
                "parentId": "http://dbpedia.org/resource/Cachao"
              },
              {
                "id": "http://dbpedia.org/resource/Cachorro_López",
                "properties": {
                  "label": "Cachorro_López",
                  "full_label": "http://dbpedia.org/resource/Cachorro_López"
                },
                "color": "blue",
                "styles": {},
                "label": "Cachorro_López",
                "scale_factor": 1,
                "type": "blue",
                "size": [
                  55,
                  55
                ],
                "position": [
                  0,
                  0
                ]
              },
              {
                "id": "http://dbpedia.org/resource/Latin_music_(genre)",
                "properties": {
                  "label": "Latin_music_(genre)",
                  "full_label": "http://dbpedia.org/resource/Latin_music_(genre)"
                },
                "color": "#15AFAC",
                "styles": {},
                "label": "Latin_music_(genre)",
                "scale_factor": 1,
                "type": "#15AFAC",
                "size": [
                  55,
                  55
                ],
                "position": [
                  0,
                  0
                ],
                "parentId": "http://dbpedia.org/resource/Cachorro_López"
              },
              {
                "id": "http://dbpedia.org/resource/Rock_en_Español",
                "properties": {
                  "label": "Rock_en_Español",
                  "full_label": "http://dbpedia.org/resource/Rock_en_Español"
                },
                "color": "#15AFAC",
                "styles": {},
                "label": "Rock_en_Español",
                "scale_factor": 1,
                "type": "#15AFAC",
                "size": [
                  55,
                  55
                ],
                "position": [
                  0,
                  0
                ],
                "parentId": "http://dbpedia.org/resource/Cachorro_López"
              },
              {
                "id": "http://dbpedia.org/resource/Cactus_(Indian_band)",
                "properties": {
                  "label": "Cactus_(Indian_band)",
                  "full_label": "http://dbpedia.org/resource/Cactus_(Indian_band)"
                },
                "color": "blue",
                "styles": {},
                "label": "Cactus_(Indian_band)",
                "scale_factor": 1,
                "type": "blue",
                "size": [
                  55,
                  55
                ],
                "position": [
                  0,
                  0
                ]
              },
              {
                "id": "http://dbpedia.org/resource/Rock_music_of_West_Bengal",
                "properties": {
                  "label": "Rock_music_of_West_Bengal",
                  "full_label": "http://dbpedia.org/resource/Rock_music_of_West_Bengal"
                },
                "color": "#15AFAC",
                "styles": {},
                "label": "Rock_music_of_West_Bengal",
                "scale_factor": 1,
                "type": "#15AFAC",
                "size": [
                  55,
                  55
                ],
                "position": [
                  0,
                  0
                ],
                "parentId": "http://dbpedia.org/resource/Cactus_(Indian_band)"
              },
              {
                "id": "http://dbpedia.org/resource/Cadalack_Ron",
                "properties": {
                  "label": "Cadalack_Ron",
                  "full_label": "http://dbpedia.org/resource/Cadalack_Ron"
                },
                "color": "blue",
                "styles": {},
                "label": "Cadalack_Ron",
                "scale_factor": 1,
                "type": "blue",
                "size": [
                  55,
                  55
                ],
                "position": [
                  0,
                  0
                ]
              },
              {
                "id": "http://dbpedia.org/resource/Cadaveria",
                "properties": {
                  "label": "Cadaveria",
                  "full_label": "http://dbpedia.org/resource/Cadaveria"
                },
                "color": "blue",
                "styles": {},
                "label": "Cadaveria",
                "scale_factor": 1,
                "type": "blue",
                "size": [
                  55,
                  55
                ],
                "position": [
                  0,
                  0
                ]
              },
              {
                "id": "http://dbpedia.org/resource/Doom_metal",
                "properties": {
                  "label": "Doom_metal",
                  "full_label": "http://dbpedia.org/resource/Doom_metal"
                },
                "color": "#15AFAC",
                "styles": {},
                "label": "Doom_metal",
                "scale_factor": 1,
                "type": "#15AFAC",
                "size": [
                  55,
                  55
                ],
                "position": [
                  0,
                  0
                ],
                "parentId": "http://dbpedia.org/resource/Cadaveria"
              },
              {
                "id": "http://dbpedia.org/resource/Gothic_metal",
                "properties": {
                  "label": "Gothic_metal",
                  "full_label": "http://dbpedia.org/resource/Gothic_metal"
                },
                "color": "#15AFAC",
                "styles": {},
                "label": "Gothic_metal",
                "scale_factor": 1,
                "type": "#15AFAC",
                "size": [
                  55,
                  55
                ],
                "position": [
                  0,
                  0
                ],
                "parentId": "http://dbpedia.org/resource/Cadaveria"
              },
              {
                "id": "http://dbpedia.org/resource/Industrial_metal",
                "properties": {
                  "label": "Industrial_metal",
                  "full_label": "http://dbpedia.org/resource/Industrial_metal"
                },
                "color": "#15AFAC",
                "styles": {},
                "label": "Industrial_metal",
                "scale_factor": 1,
                "type": "#15AFAC",
                "size": [
                  55,
                  55
                ],
                "position": [
                  0,
                  0
                ],
                "parentId": "http://dbpedia.org/resource/Cadaveria"
              },
              {
                "id": "http://dbpedia.org/resource/Symphonic_black_metal",
                "properties": {
                  "label": "Symphonic_black_metal",
                  "full_label": "http://dbpedia.org/resource/Symphonic_black_metal"
                },
                "color": "#15AFAC",
                "styles": {},
                "label": "Symphonic_black_metal",
                "scale_factor": 1,
                "type": "#15AFAC",
                "size": [
                  55,
                  55
                ],
                "position": [
                  0,
                  0
                ],
                "parentId": "http://dbpedia.org/resource/Cadaveria"
              },
              {
                "id": "http://dbpedia.org/resource/Cade_(musician)",
                "properties": {
                  "label": "Cade_(musician)",
                  "full_label": "http://dbpedia.org/resource/Cade_(musician)"
                },
                "color": "blue",
                "styles": {},
                "label": "Cade_(musician)",
                "scale_factor": 1,
                "type": "blue",
                "size": [
                  55,
                  55
                ],
                "position": [
                  0,
                  0
                ]
              },
              {
                "id": "http://dbpedia.org/resource/Electronic_music",
                "properties": {
                  "label": "Electronic_music",
                  "full_label": "http://dbpedia.org/resource/Electronic_music"
                },
                "color": "#15AFAC",
                "styles": {},
                "label": "Electronic_music",
                "scale_factor": 1,
                "type": "#15AFAC",
                "size": [
                  55,
                  55
                ],
                "position": [
                  0,
                  0
                ],
                "parentId": "http://dbpedia.org/resource/Cade_(musician)"
              },
              {
                "id": "http://dbpedia.org/resource/R&B",
                "properties": {
                  "label": "R&B",
                  "full_label": "http://dbpedia.org/resource/R&B"
                },
                "color": "#15AFAC",
                "styles": {},
                "label": "R&B",
                "scale_factor": 1,
                "type": "#15AFAC",
                "size": [
                  55,
                  55
                ],
                "position": [
                  0,
                  0
                ],
                "parentId": "http://dbpedia.org/resource/Cadillac_Muzik"
              },
              {
                "id": "http://dbpedia.org/resource/Cadence_Weapon",
                "properties": {
                  "label": "Cadence_Weapon",
                  "full_label": "http://dbpedia.org/resource/Cadence_Weapon"
                },
                "color": "blue",
                "styles": {},
                "label": "Cadence_Weapon",
                "scale_factor": 1,
                "type": "blue",
                "size": [
                  55,
                  55
                ],
                "position": [
                  0,
                  0
                ]
              },
              {
                "id": "http://dbpedia.org/resource/Alternative_hip_hop",
                "properties": {
                  "label": "Alternative_hip_hop",
                  "full_label": "http://dbpedia.org/resource/Alternative_hip_hop"
                },
                "color": "#15AFAC",
                "styles": {},
                "label": "Alternative_hip_hop",
                "scale_factor": 1,
                "type": "#15AFAC",
                "size": [
                  55,
                  55
                ],
                "position": [
                  0,
                  0
                ],
                "parentId": "http://dbpedia.org/resource/Cadence_Weapon"
              },
              {
                "id": "http://dbpedia.org/resource/Canadian_hip_hop",
                "properties": {
                  "label": "Canadian_hip_hop",
                  "full_label": "http://dbpedia.org/resource/Canadian_hip_hop"
                },
                "color": "#15AFAC",
                "styles": {},
                "label": "Canadian_hip_hop",
                "scale_factor": 1,
                "type": "#15AFAC",
                "size": [
                  55,
                  55
                ],
                "position": [
                  0,
                  0
                ],
                "parentId": "http://dbpedia.org/resource/Cadence_Weapon"
              },
              {
                "id": "http://dbpedia.org/resource/Cadet_(rapper)",
                "properties": {
                  "label": "Cadet_(rapper)",
                  "full_label": "http://dbpedia.org/resource/Cadet_(rapper)"
                },
                "color": "blue",
                "styles": {},
                "label": "Cadet_(rapper)",
                "scale_factor": 1,
                "type": "blue",
                "size": [
                  55,
                  55
                ],
                "position": [
                  0,
                  0
                ]
              },
              {
                "id": "http://dbpedia.org/resource/Grime_(music_genre)",
                "properties": {
                  "label": "Grime_(music_genre)",
                  "full_label": "http://dbpedia.org/resource/Grime_(music_genre)"
                },
                "color": "#15AFAC",
                "styles": {},
                "label": "Grime_(music_genre)",
                "scale_factor": 1,
                "type": "#15AFAC",
                "size": [
                  55,
                  55
                ],
                "position": [
                  0,
                  0
                ],
                "parentId": "http://dbpedia.org/resource/Cadet_(rapper)"
              },
              {
                "id": "http://dbpedia.org/resource/Cadillac_Muzik",
                "properties": {
                  "label": "Cadillac_Muzik",
                  "full_label": "http://dbpedia.org/resource/Cadillac_Muzik"
                },
                "color": "blue",
                "styles": {},
                "label": "Cadillac_Muzik",
                "scale_factor": 1,
                "type": "blue",
                "size": [
                  55,
                  55
                ],
                "position": [
                  0,
                  0
                ]
              },
              {
                "id": "http://dbpedia.org/resource/Psychedelic_Rock",
                "properties": {
                  "label": "Psychedelic_Rock",
                  "full_label": "http://dbpedia.org/resource/Psychedelic_Rock"
                },
                "color": "#15AFAC",
                "styles": {},
                "label": "Psychedelic_Rock",
                "scale_factor": 1,
                "type": "#15AFAC",
                "size": [
                  55,
                  55
                ],
                "position": [
                  0,
                  0
                ],
                "parentId": "http://dbpedia.org/resource/Cadillac_Muzik"
              },
              {
                "id": "http://dbpedia.org/resource/Alternative_Hip_Hop",
                "properties": {
                  "label": "Alternative_Hip_Hop",
                  "full_label": "http://dbpedia.org/resource/Alternative_Hip_Hop"
                },
                "color": "#15AFAC",
                "styles": {},
                "label": "Alternative_Hip_Hop",
                "scale_factor": 1,
                "type": "#15AFAC",
                "size": [
                  55,
                  55
                ],
                "position": [
                  0,
                  0
                ],
                "parentId": "http://dbpedia.org/resource/Cadillac_Muzik"
              },
              {
                "id": "http://dbpedia.org/resource/Funk",
                "properties": {
                  "label": "Funk",
                  "full_label": "http://dbpedia.org/resource/Funk"
                },
                "color": "#15AFAC",
                "styles": {},
                "label": "Funk",
                "scale_factor": 1,
                "type": "#15AFAC",
                "size": [
                  55,
                  55
                ],
                "position": [
                  0,
                  0
                ],
                "parentId": "http://dbpedia.org/resource/Cadillac_Muzik"
              },
              {
                "id": "http://dbpedia.org/resource/Psychedelic_Soul",
                "properties": {
                  "label": "Psychedelic_Soul",
                  "full_label": "http://dbpedia.org/resource/Psychedelic_Soul"
                },
                "color": "#15AFAC",
                "styles": {},
                "label": "Psychedelic_Soul",
                "scale_factor": 1,
                "type": "#15AFAC",
                "size": [
                  55,
                  55
                ],
                "position": [
                  0,
                  0
                ],
                "parentId": "http://dbpedia.org/resource/Cadillac_Muzik"
              },
              {
                "id": "http://dbpedia.org/resource/Southern_Hip_Hop",
                "properties": {
                  "label": "Southern_Hip_Hop",
                  "full_label": "http://dbpedia.org/resource/Southern_Hip_Hop"
                },
                "color": "#15AFAC",
                "styles": {},
                "label": "Southern_Hip_Hop",
                "scale_factor": 1,
                "type": "#15AFAC",
                "size": [
                  55,
                  55
                ],
                "position": [
                  0,
                  0
                ],
                "parentId": "http://dbpedia.org/resource/Cadillac_Muzik"
              },
              {
                "id": "http://dbpedia.org/resource/Cady_Groves",
                "properties": {
                  "label": "Cady_Groves",
                  "full_label": "http://dbpedia.org/resource/Cady_Groves"
                },
                "color": "blue",
                "styles": {},
                "label": "Cady_Groves",
                "scale_factor": 1,
                "type": "blue",
                "size": [
                  55,
                  55
                ],
                "position": [
                  0,
                  0
                ]
              },
              {
                "id": "http://dbpedia.org/resource/Pop_rock",
                "properties": {
                  "label": "Pop_rock",
                  "full_label": "http://dbpedia.org/resource/Pop_rock"
                },
                "color": "#15AFAC",
                "styles": {},
                "label": "Pop_rock",
                "scale_factor": 1,
                "type": "#15AFAC",
                "size": [
                  55,
                  55
                ],
                "position": [
                  0,
                  0
                ],
                "parentId": "http://dbpedia.org/resource/Cady_Groves"
              },
              {
                "id": "http://dbpedia.org/resource/Country_music",
                "properties": {
                  "label": "Country_music",
                  "full_label": "http://dbpedia.org/resource/Country_music"
                },
                "color": "#15AFAC",
                "styles": {},
                "label": "Country_music",
                "scale_factor": 1,
                "type": "#15AFAC",
                "size": [
                  55,
                  55
                ],
                "position": [
                  0,
                  0
                ],
                "parentId": "http://dbpedia.org/resource/Cady_Groves"
              },
              {
                "id": "http://dbpedia.org/resource/Pop_music",
                "properties": {
                  "label": "Pop_music",
                  "full_label": "http://dbpedia.org/resource/Pop_music"
                },
                "color": "#15AFAC",
                "styles": {},
                "label": "Pop_music",
                "scale_factor": 1,
                "type": "#15AFAC",
                "size": [
                  55,
                  55
                ],
                "position": [
                  0,
                  0
                ],
                "parentId": "http://dbpedia.org/resource/Cady_Groves"
              },
              {
                "id": "http://dbpedia.org/resource/Cadão_Volpato",
                "properties": {
                  "label": "Cadão_Volpato",
                  "full_label": "http://dbpedia.org/resource/Cadão_Volpato"
                },
                "color": "blue",
                "styles": {},
                "label": "Cadão_Volpato",
                "scale_factor": 1,
                "type": "blue",
                "size": [
                  55,
                  55
                ],
                "position": [
                  0,
                  0
                ]
              },
              {
                "id": "http://dbpedia.org/resource/Alternative_rock",
                "properties": {
                  "label": "Alternative_rock",
                  "full_label": "http://dbpedia.org/resource/Alternative_rock"
                },
                "color": "#15AFAC",
                "styles": {},
                "label": "Alternative_rock",
                "scale_factor": 1,
                "type": "#15AFAC",
                "size": [
                  55,
                  55
                ],
                "position": [
                  0,
                  0
                ],
                "parentId": "http://dbpedia.org/resource/Café_Tacuba"
              },
              {
                "id": "http://dbpedia.org/resource/Experimental_rock",
                "properties": {
                  "label": "Experimental_rock",
                  "full_label": "http://dbpedia.org/resource/Experimental_rock"
                },
                "color": "#15AFAC",
                "styles": {},
                "label": "Experimental_rock",
                "scale_factor": 1,
                "type": "#15AFAC",
                "size": [
                  55,
                  55
                ],
                "position": [
                  0,
                  0
                ],
                "parentId": "http://dbpedia.org/resource/Cadão_Volpato"
              },
              {
                "id": "http://dbpedia.org/resource/Art_rock",
                "properties": {
                  "label": "Art_rock",
                  "full_label": "http://dbpedia.org/resource/Art_rock"
                },
                "color": "#15AFAC",
                "styles": {},
                "label": "Art_rock",
                "scale_factor": 1,
                "type": "#15AFAC",
                "size": [
                  55,
                  55
                ],
                "position": [
                  0,
                  0
                ],
                "parentId": "http://dbpedia.org/resource/Cadão_Volpato"
              },
              {
                "id": "http://dbpedia.org/resource/Post-punk",
                "properties": {
                  "label": "Post-punk",
                  "full_label": "http://dbpedia.org/resource/Post-punk"
                },
                "color": "#15AFAC",
                "styles": {},
                "label": "Post-punk",
                "scale_factor": 1,
                "type": "#15AFAC",
                "size": [
                  55,
                  55
                ],
                "position": [
                  0,
                  0
                ],
                "parentId": "http://dbpedia.org/resource/Cadão_Volpato"
              },
              {
                "id": "http://dbpedia.org/resource/Café_(musician)",
                "properties": {
                  "label": "Café_(musician)",
                  "full_label": "http://dbpedia.org/resource/Café_(musician)"
                },
                "color": "blue",
                "styles": {},
                "label": "Café_(musician)",
                "scale_factor": 1,
                "type": "blue",
                "size": [
                  55,
                  55
                ],
                "position": [
                  0,
                  0
                ]
              },
              {
                "id": "http://dbpedia.org/resource/Afrobeat",
                "properties": {
                  "label": "Afrobeat",
                  "full_label": "http://dbpedia.org/resource/Afrobeat"
                },
                "color": "#15AFAC",
                "styles": {},
                "label": "Afrobeat",
                "scale_factor": 1,
                "type": "#15AFAC",
                "size": [
                  55,
                  55
                ],
                "position": [
                  0,
                  0
                ],
                "parentId": "http://dbpedia.org/resource/Café_(musician)"
              },
              {
                "id": "http://dbpedia.org/resource/Brazilian_music",
                "properties": {
                  "label": "Brazilian_music",
                  "full_label": "http://dbpedia.org/resource/Brazilian_music"
                },
                "color": "#15AFAC",
                "styles": {},
                "label": "Brazilian_music",
                "scale_factor": 1,
                "type": "#15AFAC",
                "size": [
                  55,
                  55
                ],
                "position": [
                  0,
                  0
                ],
                "parentId": "http://dbpedia.org/resource/Café_(musician)"
              },
              {
                "id": "http://dbpedia.org/resource/Café_Tacuba",
                "properties": {
                  "label": "Café_Tacuba",
                  "full_label": "http://dbpedia.org/resource/Café_Tacuba"
                },
                "color": "blue",
                "styles": {},
                "label": "Café_Tacuba",
                "scale_factor": 1,
                "type": "blue",
                "size": [
                  55,
                  55
                ],
                "position": [
                  0,
                  0
                ]
              },
              {
                "id": "http://dbpedia.org/resource/Latin_rock",
                "properties": {
                  "label": "Latin_rock",
                  "full_label": "http://dbpedia.org/resource/Latin_rock"
                },
                "color": "#15AFAC",
                "styles": {},
                "label": "Latin_rock",
                "scale_factor": 1,
                "type": "#15AFAC",
                "size": [
                  55,
                  55
                ],
                "position": [
                  0,
                  0
                ],
                "parentId": "http://dbpedia.org/resource/Café_Tacuba"
              },
              {
                "id": "http://dbpedia.org/resource/Latin_Alternative",
                "properties": {
                  "label": "Latin_Alternative",
                  "full_label": "http://dbpedia.org/resource/Latin_Alternative"
                },
                "color": "#15AFAC",
                "styles": {},
                "label": "Latin_Alternative",
                "scale_factor": 1,
                "type": "#15AFAC",
                "size": [
                  55,
                  55
                ],
                "position": [
                  0,
                  0
                ],
                "parentId": "http://dbpedia.org/resource/Café_Tacuba"
              },
              {
                "id": "http://dbpedia.org/resource/Latin_hip-hop",
                "properties": {
                  "label": "Latin_hip-hop",
                  "full_label": "http://dbpedia.org/resource/Latin_hip-hop"
                },
                "color": "#15AFAC",
                "styles": {},
                "label": "Latin_hip-hop",
                "scale_factor": 1,
                "type": "#15AFAC",
                "size": [
                  55,
                  55
                ],
                "position": [
                  0,
                  0
                ],
                "parentId": "http://dbpedia.org/resource/Café_Tacuba"
              },
              {
                "id": "http://dbpedia.org/resource/Cag_Cagnolatti",
                "properties": {
                  "label": "Cag_Cagnolatti",
                  "full_label": "http://dbpedia.org/resource/Cag_Cagnolatti"
                },
                "color": "blue",
                "styles": {},
                "label": "Cag_Cagnolatti",
                "scale_factor": 1,
                "type": "blue",
                "size": [
                  55,
                  55
                ],
                "position": [
                  0,
                  0
                ]
              },
              {
                "id": "http://dbpedia.org/resource/Cage_(rapper)",
                "properties": {
                  "label": "Cage_(rapper)",
                  "full_label": "http://dbpedia.org/resource/Cage_(rapper)"
                },
                "color": "blue",
                "styles": {},
                "label": "Cage_(rapper)",
                "scale_factor": 1,
                "type": "blue",
                "size": [
                  55,
                  55
                ],
                "position": [
                  0,
                  0
                ]
              },
              {
                "id": "http://dbpedia.org/resource/Progressive_rap",
                "properties": {
                  "label": "Progressive_rap",
                  "full_label": "http://dbpedia.org/resource/Progressive_rap"
                },
                "color": "#15AFAC",
                "styles": {},
                "label": "Progressive_rap",
                "scale_factor": 1,
                "type": "#15AFAC",
                "size": [
                  55,
                  55
                ],
                "position": [
                  0,
                  0
                ],
                "parentId": "http://dbpedia.org/resource/Cage_(rapper)"
              },
              {
                "id": "http://dbpedia.org/resource/Horrorcore",
                "properties": {
                  "label": "Horrorcore",
                  "full_label": "http://dbpedia.org/resource/Horrorcore"
                },
                "color": "#15AFAC",
                "styles": {},
                "label": "Horrorcore",
                "scale_factor": 1,
                "type": "#15AFAC",
                "size": [
                  55,
                  55
                ],
                "position": [
                  0,
                  0
                ],
                "parentId": "http://dbpedia.org/resource/Cage_(rapper)"
              },
              {
                "id": "http://dbpedia.org/resource/Rap_rock",
                "properties": {
                  "label": "Rap_rock",
                  "full_label": "http://dbpedia.org/resource/Rap_rock"
                },
                "color": "#15AFAC",
                "styles": {},
                "label": "Rap_rock",
                "scale_factor": 1,
                "type": "#15AFAC",
                "size": [
                  55,
                  55
                ],
                "position": [
                  0,
                  0
                ],
                "parentId": "http://dbpedia.org/resource/Cage_(rapper)"
              },
              {
                "id": "http://dbpedia.org/resource/Cainon_Lamb",
                "properties": {
                  "label": "Cainon_Lamb",
                  "full_label": "http://dbpedia.org/resource/Cainon_Lamb"
                },
                "color": "blue",
                "styles": {},
                "label": "Cainon_Lamb",
                "scale_factor": 1,
                "type": "blue",
                "size": [
                  55,
                  55
                ],
                "position": [
                  0,
                  0
                ]
              },
              {
                "id": "http://dbpedia.org/resource/Urban_contemporary",
                "properties": {
                  "label": "Urban_contemporary",
                  "full_label": "http://dbpedia.org/resource/Urban_contemporary"
                },
                "color": "#15AFAC",
                "styles": {},
                "label": "Urban_contemporary",
                "scale_factor": 1,
                "type": "#15AFAC",
                "size": [
                  55,
                  55
                ],
                "position": [
                  0,
                  0
                ],
                "parentId": "http://dbpedia.org/resource/Cainon_Lamb"
              },
              {
                "id": "http://dbpedia.org/resource/Contemporary_R&B",
                "properties": {
                  "label": "Contemporary_R&B",
                  "full_label": "http://dbpedia.org/resource/Contemporary_R&B"
                },
                "color": "#15AFAC",
                "styles": {},
                "label": "Contemporary_R&B",
                "scale_factor": 1,
                "type": "#15AFAC",
                "size": [
                  55,
                  55
                ],
                "position": [
                  0,
                  0
                ],
                "parentId": "http://dbpedia.org/resource/Cainon_Lamb"
              }
            ],
            "_overview": {
              "enabled": null,
              "overview_set": false
            },
            "_selected_graph": [
              [],
              []
            ],
            "_sidebar": {
              "enabled": false,
              "start_with": null
            },
            "_view_count": null,
            "_view_module": "yfiles-jupyter-graphs",
            "_view_module_version": "^1.10.1",
            "_view_name": "GraphView",
            "layout": "IPY_MODEL_ea81e428d2604df4a2f0c2dd05c0dd2c",
            "tabbable": null,
            "tooltip": null
          }
        },
        "ea81e428d2604df4a2f0c2dd05c0dd2c": {
          "model_module": "@jupyter-widgets/base",
          "model_name": "LayoutModel",
          "model_module_version": "2.0.0",
          "state": {
            "_model_module": "@jupyter-widgets/base",
            "_model_module_version": "2.0.0",
            "_model_name": "LayoutModel",
            "_view_count": null,
            "_view_module": "@jupyter-widgets/base",
            "_view_module_version": "2.0.0",
            "_view_name": "LayoutView",
            "align_content": null,
            "align_items": null,
            "align_self": null,
            "border_bottom": null,
            "border_left": null,
            "border_right": null,
            "border_top": null,
            "bottom": null,
            "display": null,
            "flex": null,
            "flex_flow": null,
            "grid_area": null,
            "grid_auto_columns": null,
            "grid_auto_flow": null,
            "grid_auto_rows": null,
            "grid_column": null,
            "grid_gap": null,
            "grid_row": null,
            "grid_template_areas": null,
            "grid_template_columns": null,
            "grid_template_rows": null,
            "height": "800px",
            "justify_content": null,
            "justify_items": null,
            "left": null,
            "margin": null,
            "max_height": null,
            "max_width": null,
            "min_height": null,
            "min_width": null,
            "object_fit": null,
            "object_position": null,
            "order": null,
            "overflow": null,
            "padding": null,
            "right": null,
            "top": null,
            "visibility": null,
            "width": "100%"
          }
        },
        "1a8ac601235d480e87be210862778334": {
          "model_module": "yfiles-jupyter-graphs",
          "model_name": "GraphModel",
          "model_module_version": "^1.10.1",
          "state": {
            "_context_pane_mapping": [
              {
                "id": "Neighborhood",
                "title": "Neighborhood"
              },
              {
                "id": "Data",
                "title": "Data"
              },
              {
                "id": "Search",
                "title": "Search"
              },
              {
                "id": "About",
                "title": "About"
              }
            ],
            "_data_importer": "unknown",
            "_directed": true,
            "_dom_classes": [],
            "_edges": [],
            "_graph_layout": {
              "algorithm": "organic",
              "options": {}
            },
            "_highlight": [],
            "_license": {},
            "_model_module": "yfiles-jupyter-graphs",
            "_model_module_version": "^1.10.1",
            "_model_name": "GraphModel",
            "_neighborhood": {},
            "_nodes": [
              {
                "id": "http://dbpedia.org/resource/Cab_Calloway",
                "properties": {
                  "label": "Cab_Calloway",
                  "full_label": "http://dbpedia.org/resource/Cab_Calloway"
                },
                "color": "blue",
                "styles": {
                  "color": "green"
                },
                "label": "Cab_Calloway",
                "scale_factor": 1,
                "type": "blue",
                "size": [
                  55,
                  55
                ],
                "position": [
                  0,
                  0
                ]
              },
              {
                "id": "http://dbpedia.org/resource/Blues",
                "properties": {
                  "label": "Blues",
                  "full_label": "http://dbpedia.org/resource/Blues"
                },
                "color": "#15AFAC",
                "styles": {
                  "color": "orange"
                },
                "label": "Blues",
                "scale_factor": 1,
                "type": "#15AFAC",
                "size": [
                  55,
                  55
                ],
                "position": [
                  0,
                  0
                ],
                "parentId": "http://dbpedia.org/resource/Cab_Kaye"
              },
              {
                "id": "http://dbpedia.org/resource/Swing_music",
                "properties": {
                  "label": "Swing_music",
                  "full_label": "http://dbpedia.org/resource/Swing_music"
                },
                "color": "#15AFAC",
                "styles": {
                  "color": "green"
                },
                "label": "Swing_music",
                "scale_factor": 1,
                "type": "#15AFAC",
                "size": [
                  55,
                  55
                ],
                "position": [
                  0,
                  0
                ],
                "parentId": "http://dbpedia.org/resource/Cab_Calloway"
              },
              {
                "id": "http://dbpedia.org/resource/Jazz",
                "properties": {
                  "label": "Jazz",
                  "full_label": "http://dbpedia.org/resource/Jazz"
                },
                "color": "#15AFAC",
                "styles": {
                  "color": "orange"
                },
                "label": "Jazz",
                "scale_factor": 1,
                "type": "#15AFAC",
                "size": [
                  55,
                  55
                ],
                "position": [
                  0,
                  0
                ],
                "parentId": "http://dbpedia.org/resource/Cag_Cagnolatti"
              },
              {
                "id": "http://dbpedia.org/resource/Cab_Kaye",
                "properties": {
                  "label": "Cab_Kaye",
                  "full_label": "http://dbpedia.org/resource/Cab_Kaye"
                },
                "color": "blue",
                "styles": {
                  "color": "green"
                },
                "label": "Cab_Kaye",
                "scale_factor": 1,
                "type": "blue",
                "size": [
                  55,
                  55
                ],
                "position": [
                  0,
                  0
                ]
              },
              {
                "id": "http://dbpedia.org/resource/Cabum",
                "properties": {
                  "label": "Cabum",
                  "full_label": "http://dbpedia.org/resource/Cabum"
                },
                "color": "blue",
                "styles": {
                  "color": "orange"
                },
                "label": "Cabum",
                "scale_factor": 1,
                "type": "blue",
                "size": [
                  55,
                  55
                ],
                "position": [
                  0,
                  0
                ]
              },
              {
                "id": "http://dbpedia.org/resource/Hip_hop_music",
                "properties": {
                  "label": "Hip_hop_music",
                  "full_label": "http://dbpedia.org/resource/Hip_hop_music"
                },
                "color": "#15AFAC",
                "styles": {
                  "color": "green"
                },
                "label": "Hip_hop_music",
                "scale_factor": 1,
                "type": "#15AFAC",
                "size": [
                  55,
                  55
                ],
                "position": [
                  0,
                  0
                ],
                "parentId": "http://dbpedia.org/resource/Cadet_(rapper)"
              },
              {
                "id": "http://dbpedia.org/resource/Rap",
                "properties": {
                  "label": "Rap",
                  "full_label": "http://dbpedia.org/resource/Rap"
                },
                "color": "#15AFAC",
                "styles": {
                  "color": "orange"
                },
                "label": "Rap",
                "scale_factor": 1,
                "type": "#15AFAC",
                "size": [
                  55,
                  55
                ],
                "position": [
                  0,
                  0
                ],
                "parentId": "http://dbpedia.org/resource/Cabum"
              },
              {
                "id": "http://dbpedia.org/resource/Cachao",
                "properties": {
                  "label": "Cachao",
                  "full_label": "http://dbpedia.org/resource/Cachao"
                },
                "color": "blue",
                "styles": {
                  "color": "orange"
                },
                "label": "Cachao",
                "scale_factor": 1,
                "type": "blue",
                "size": [
                  55,
                  55
                ],
                "position": [
                  0,
                  0
                ]
              },
              {
                "id": "http://dbpedia.org/resource/Descarga",
                "properties": {
                  "label": "Descarga",
                  "full_label": "http://dbpedia.org/resource/Descarga"
                },
                "color": "#15AFAC",
                "styles": {
                  "color": "orange"
                },
                "label": "Descarga",
                "scale_factor": 1,
                "type": "#15AFAC",
                "size": [
                  55,
                  55
                ],
                "position": [
                  0,
                  0
                ],
                "parentId": "http://dbpedia.org/resource/Cachao"
              },
              {
                "id": "http://dbpedia.org/resource/Danzón",
                "properties": {
                  "label": "Danzón",
                  "full_label": "http://dbpedia.org/resource/Danzón"
                },
                "color": "#15AFAC",
                "styles": {
                  "color": "orange"
                },
                "label": "Danzón",
                "scale_factor": 1,
                "type": "#15AFAC",
                "size": [
                  55,
                  55
                ],
                "position": [
                  0,
                  0
                ],
                "parentId": "http://dbpedia.org/resource/Cachao"
              },
              {
                "id": "http://dbpedia.org/resource/Mambo_(music)",
                "properties": {
                  "label": "Mambo_(music)",
                  "full_label": "http://dbpedia.org/resource/Mambo_(music)"
                },
                "color": "#15AFAC",
                "styles": {
                  "color": "green"
                },
                "label": "Mambo_(music)",
                "scale_factor": 1,
                "type": "#15AFAC",
                "size": [
                  55,
                  55
                ],
                "position": [
                  0,
                  0
                ],
                "parentId": "http://dbpedia.org/resource/Cachao"
              },
              {
                "id": "http://dbpedia.org/resource/Cachorro_López",
                "properties": {
                  "label": "Cachorro_López",
                  "full_label": "http://dbpedia.org/resource/Cachorro_López"
                },
                "color": "blue",
                "styles": {
                  "color": "green"
                },
                "label": "Cachorro_López",
                "scale_factor": 1,
                "type": "blue",
                "size": [
                  55,
                  55
                ],
                "position": [
                  0,
                  0
                ]
              },
              {
                "id": "http://dbpedia.org/resource/Latin_music_(genre)",
                "properties": {
                  "label": "Latin_music_(genre)",
                  "full_label": "http://dbpedia.org/resource/Latin_music_(genre)"
                },
                "color": "#15AFAC",
                "styles": {
                  "color": "green"
                },
                "label": "Latin_music_(genre)",
                "scale_factor": 1,
                "type": "#15AFAC",
                "size": [
                  55,
                  55
                ],
                "position": [
                  0,
                  0
                ],
                "parentId": "http://dbpedia.org/resource/Cachorro_López"
              },
              {
                "id": "http://dbpedia.org/resource/Rock_en_Español",
                "properties": {
                  "label": "Rock_en_Español",
                  "full_label": "http://dbpedia.org/resource/Rock_en_Español"
                },
                "color": "#15AFAC",
                "styles": {
                  "color": "green"
                },
                "label": "Rock_en_Español",
                "scale_factor": 1,
                "type": "#15AFAC",
                "size": [
                  55,
                  55
                ],
                "position": [
                  0,
                  0
                ],
                "parentId": "http://dbpedia.org/resource/Cachorro_López"
              },
              {
                "id": "http://dbpedia.org/resource/Cactus_(Indian_band)",
                "properties": {
                  "label": "Cactus_(Indian_band)",
                  "full_label": "http://dbpedia.org/resource/Cactus_(Indian_band)"
                },
                "color": "blue",
                "styles": {
                  "color": "green"
                },
                "label": "Cactus_(Indian_band)",
                "scale_factor": 1,
                "type": "blue",
                "size": [
                  55,
                  55
                ],
                "position": [
                  0,
                  0
                ]
              },
              {
                "id": "http://dbpedia.org/resource/Rock_music_of_West_Bengal",
                "properties": {
                  "label": "Rock_music_of_West_Bengal",
                  "full_label": "http://dbpedia.org/resource/Rock_music_of_West_Bengal"
                },
                "color": "#15AFAC",
                "styles": {
                  "color": "green"
                },
                "label": "Rock_music_of_West_Bengal",
                "scale_factor": 1,
                "type": "#15AFAC",
                "size": [
                  55,
                  55
                ],
                "position": [
                  0,
                  0
                ],
                "parentId": "http://dbpedia.org/resource/Cactus_(Indian_band)"
              },
              {
                "id": "http://dbpedia.org/resource/Cadalack_Ron",
                "properties": {
                  "label": "Cadalack_Ron",
                  "full_label": "http://dbpedia.org/resource/Cadalack_Ron"
                },
                "color": "blue",
                "styles": {
                  "color": "green"
                },
                "label": "Cadalack_Ron",
                "scale_factor": 1,
                "type": "blue",
                "size": [
                  55,
                  55
                ],
                "position": [
                  0,
                  0
                ]
              },
              {
                "id": "http://dbpedia.org/resource/Cadaveria",
                "properties": {
                  "label": "Cadaveria",
                  "full_label": "http://dbpedia.org/resource/Cadaveria"
                },
                "color": "blue",
                "styles": {
                  "color": "orange"
                },
                "label": "Cadaveria",
                "scale_factor": 1,
                "type": "blue",
                "size": [
                  55,
                  55
                ],
                "position": [
                  0,
                  0
                ]
              },
              {
                "id": "http://dbpedia.org/resource/Doom_metal",
                "properties": {
                  "label": "Doom_metal",
                  "full_label": "http://dbpedia.org/resource/Doom_metal"
                },
                "color": "#15AFAC",
                "styles": {
                  "color": "green"
                },
                "label": "Doom_metal",
                "scale_factor": 1,
                "type": "#15AFAC",
                "size": [
                  55,
                  55
                ],
                "position": [
                  0,
                  0
                ],
                "parentId": "http://dbpedia.org/resource/Cadaveria"
              },
              {
                "id": "http://dbpedia.org/resource/Gothic_metal",
                "properties": {
                  "label": "Gothic_metal",
                  "full_label": "http://dbpedia.org/resource/Gothic_metal"
                },
                "color": "#15AFAC",
                "styles": {
                  "color": "green"
                },
                "label": "Gothic_metal",
                "scale_factor": 1,
                "type": "#15AFAC",
                "size": [
                  55,
                  55
                ],
                "position": [
                  0,
                  0
                ],
                "parentId": "http://dbpedia.org/resource/Cadaveria"
              },
              {
                "id": "http://dbpedia.org/resource/Industrial_metal",
                "properties": {
                  "label": "Industrial_metal",
                  "full_label": "http://dbpedia.org/resource/Industrial_metal"
                },
                "color": "#15AFAC",
                "styles": {
                  "color": "green"
                },
                "label": "Industrial_metal",
                "scale_factor": 1,
                "type": "#15AFAC",
                "size": [
                  55,
                  55
                ],
                "position": [
                  0,
                  0
                ],
                "parentId": "http://dbpedia.org/resource/Cadaveria"
              },
              {
                "id": "http://dbpedia.org/resource/Symphonic_black_metal",
                "properties": {
                  "label": "Symphonic_black_metal",
                  "full_label": "http://dbpedia.org/resource/Symphonic_black_metal"
                },
                "color": "#15AFAC",
                "styles": {
                  "color": "green"
                },
                "label": "Symphonic_black_metal",
                "scale_factor": 1,
                "type": "#15AFAC",
                "size": [
                  55,
                  55
                ],
                "position": [
                  0,
                  0
                ],
                "parentId": "http://dbpedia.org/resource/Cadaveria"
              },
              {
                "id": "http://dbpedia.org/resource/Cade_(musician)",
                "properties": {
                  "label": "Cade_(musician)",
                  "full_label": "http://dbpedia.org/resource/Cade_(musician)"
                },
                "color": "blue",
                "styles": {
                  "color": "green"
                },
                "label": "Cade_(musician)",
                "scale_factor": 1,
                "type": "blue",
                "size": [
                  55,
                  55
                ],
                "position": [
                  0,
                  0
                ]
              },
              {
                "id": "http://dbpedia.org/resource/Electronic_music",
                "properties": {
                  "label": "Electronic_music",
                  "full_label": "http://dbpedia.org/resource/Electronic_music"
                },
                "color": "#15AFAC",
                "styles": {
                  "color": "green"
                },
                "label": "Electronic_music",
                "scale_factor": 1,
                "type": "#15AFAC",
                "size": [
                  55,
                  55
                ],
                "position": [
                  0,
                  0
                ],
                "parentId": "http://dbpedia.org/resource/Cade_(musician)"
              },
              {
                "id": "http://dbpedia.org/resource/R&B",
                "properties": {
                  "label": "R&B",
                  "full_label": "http://dbpedia.org/resource/R&B"
                },
                "color": "#15AFAC",
                "styles": {
                  "color": "orange"
                },
                "label": "R&B",
                "scale_factor": 1,
                "type": "#15AFAC",
                "size": [
                  55,
                  55
                ],
                "position": [
                  0,
                  0
                ],
                "parentId": "http://dbpedia.org/resource/Cadillac_Muzik"
              },
              {
                "id": "http://dbpedia.org/resource/Cadence_Weapon",
                "properties": {
                  "label": "Cadence_Weapon",
                  "full_label": "http://dbpedia.org/resource/Cadence_Weapon"
                },
                "color": "blue",
                "styles": {
                  "color": "green"
                },
                "label": "Cadence_Weapon",
                "scale_factor": 1,
                "type": "blue",
                "size": [
                  55,
                  55
                ],
                "position": [
                  0,
                  0
                ]
              },
              {
                "id": "http://dbpedia.org/resource/Alternative_hip_hop",
                "properties": {
                  "label": "Alternative_hip_hop",
                  "full_label": "http://dbpedia.org/resource/Alternative_hip_hop"
                },
                "color": "#15AFAC",
                "styles": {
                  "color": "green"
                },
                "label": "Alternative_hip_hop",
                "scale_factor": 1,
                "type": "#15AFAC",
                "size": [
                  55,
                  55
                ],
                "position": [
                  0,
                  0
                ],
                "parentId": "http://dbpedia.org/resource/Cadence_Weapon"
              },
              {
                "id": "http://dbpedia.org/resource/Canadian_hip_hop",
                "properties": {
                  "label": "Canadian_hip_hop",
                  "full_label": "http://dbpedia.org/resource/Canadian_hip_hop"
                },
                "color": "#15AFAC",
                "styles": {
                  "color": "green"
                },
                "label": "Canadian_hip_hop",
                "scale_factor": 1,
                "type": "#15AFAC",
                "size": [
                  55,
                  55
                ],
                "position": [
                  0,
                  0
                ],
                "parentId": "http://dbpedia.org/resource/Cadence_Weapon"
              },
              {
                "id": "http://dbpedia.org/resource/Cadet_(rapper)",
                "properties": {
                  "label": "Cadet_(rapper)",
                  "full_label": "http://dbpedia.org/resource/Cadet_(rapper)"
                },
                "color": "blue",
                "styles": {
                  "color": "green"
                },
                "label": "Cadet_(rapper)",
                "scale_factor": 1,
                "type": "blue",
                "size": [
                  55,
                  55
                ],
                "position": [
                  0,
                  0
                ]
              },
              {
                "id": "http://dbpedia.org/resource/Grime_(music_genre)",
                "properties": {
                  "label": "Grime_(music_genre)",
                  "full_label": "http://dbpedia.org/resource/Grime_(music_genre)"
                },
                "color": "#15AFAC",
                "styles": {
                  "color": "green"
                },
                "label": "Grime_(music_genre)",
                "scale_factor": 1,
                "type": "#15AFAC",
                "size": [
                  55,
                  55
                ],
                "position": [
                  0,
                  0
                ],
                "parentId": "http://dbpedia.org/resource/Cadet_(rapper)"
              },
              {
                "id": "http://dbpedia.org/resource/Cadillac_Muzik",
                "properties": {
                  "label": "Cadillac_Muzik",
                  "full_label": "http://dbpedia.org/resource/Cadillac_Muzik"
                },
                "color": "blue",
                "styles": {
                  "color": "green"
                },
                "label": "Cadillac_Muzik",
                "scale_factor": 1,
                "type": "blue",
                "size": [
                  55,
                  55
                ],
                "position": [
                  0,
                  0
                ]
              },
              {
                "id": "http://dbpedia.org/resource/Psychedelic_Rock",
                "properties": {
                  "label": "Psychedelic_Rock",
                  "full_label": "http://dbpedia.org/resource/Psychedelic_Rock"
                },
                "color": "#15AFAC",
                "styles": {
                  "color": "green"
                },
                "label": "Psychedelic_Rock",
                "scale_factor": 1,
                "type": "#15AFAC",
                "size": [
                  55,
                  55
                ],
                "position": [
                  0,
                  0
                ],
                "parentId": "http://dbpedia.org/resource/Cadillac_Muzik"
              },
              {
                "id": "http://dbpedia.org/resource/Alternative_Hip_Hop",
                "properties": {
                  "label": "Alternative_Hip_Hop",
                  "full_label": "http://dbpedia.org/resource/Alternative_Hip_Hop"
                },
                "color": "#15AFAC",
                "styles": {
                  "color": "green"
                },
                "label": "Alternative_Hip_Hop",
                "scale_factor": 1,
                "type": "#15AFAC",
                "size": [
                  55,
                  55
                ],
                "position": [
                  0,
                  0
                ],
                "parentId": "http://dbpedia.org/resource/Cadillac_Muzik"
              },
              {
                "id": "http://dbpedia.org/resource/Funk",
                "properties": {
                  "label": "Funk",
                  "full_label": "http://dbpedia.org/resource/Funk"
                },
                "color": "#15AFAC",
                "styles": {
                  "color": "orange"
                },
                "label": "Funk",
                "scale_factor": 1,
                "type": "#15AFAC",
                "size": [
                  55,
                  55
                ],
                "position": [
                  0,
                  0
                ],
                "parentId": "http://dbpedia.org/resource/Cadillac_Muzik"
              },
              {
                "id": "http://dbpedia.org/resource/Psychedelic_Soul",
                "properties": {
                  "label": "Psychedelic_Soul",
                  "full_label": "http://dbpedia.org/resource/Psychedelic_Soul"
                },
                "color": "#15AFAC",
                "styles": {
                  "color": "green"
                },
                "label": "Psychedelic_Soul",
                "scale_factor": 1,
                "type": "#15AFAC",
                "size": [
                  55,
                  55
                ],
                "position": [
                  0,
                  0
                ],
                "parentId": "http://dbpedia.org/resource/Cadillac_Muzik"
              },
              {
                "id": "http://dbpedia.org/resource/Southern_Hip_Hop",
                "properties": {
                  "label": "Southern_Hip_Hop",
                  "full_label": "http://dbpedia.org/resource/Southern_Hip_Hop"
                },
                "color": "#15AFAC",
                "styles": {
                  "color": "green"
                },
                "label": "Southern_Hip_Hop",
                "scale_factor": 1,
                "type": "#15AFAC",
                "size": [
                  55,
                  55
                ],
                "position": [
                  0,
                  0
                ],
                "parentId": "http://dbpedia.org/resource/Cadillac_Muzik"
              },
              {
                "id": "http://dbpedia.org/resource/Cady_Groves",
                "properties": {
                  "label": "Cady_Groves",
                  "full_label": "http://dbpedia.org/resource/Cady_Groves"
                },
                "color": "blue",
                "styles": {
                  "color": "green"
                },
                "label": "Cady_Groves",
                "scale_factor": 1,
                "type": "blue",
                "size": [
                  55,
                  55
                ],
                "position": [
                  0,
                  0
                ]
              },
              {
                "id": "http://dbpedia.org/resource/Pop_rock",
                "properties": {
                  "label": "Pop_rock",
                  "full_label": "http://dbpedia.org/resource/Pop_rock"
                },
                "color": "#15AFAC",
                "styles": {
                  "color": "green"
                },
                "label": "Pop_rock",
                "scale_factor": 1,
                "type": "#15AFAC",
                "size": [
                  55,
                  55
                ],
                "position": [
                  0,
                  0
                ],
                "parentId": "http://dbpedia.org/resource/Cady_Groves"
              },
              {
                "id": "http://dbpedia.org/resource/Country_music",
                "properties": {
                  "label": "Country_music",
                  "full_label": "http://dbpedia.org/resource/Country_music"
                },
                "color": "#15AFAC",
                "styles": {
                  "color": "green"
                },
                "label": "Country_music",
                "scale_factor": 1,
                "type": "#15AFAC",
                "size": [
                  55,
                  55
                ],
                "position": [
                  0,
                  0
                ],
                "parentId": "http://dbpedia.org/resource/Cady_Groves"
              },
              {
                "id": "http://dbpedia.org/resource/Pop_music",
                "properties": {
                  "label": "Pop_music",
                  "full_label": "http://dbpedia.org/resource/Pop_music"
                },
                "color": "#15AFAC",
                "styles": {
                  "color": "green"
                },
                "label": "Pop_music",
                "scale_factor": 1,
                "type": "#15AFAC",
                "size": [
                  55,
                  55
                ],
                "position": [
                  0,
                  0
                ],
                "parentId": "http://dbpedia.org/resource/Cady_Groves"
              },
              {
                "id": "http://dbpedia.org/resource/Cadão_Volpato",
                "properties": {
                  "label": "Cadão_Volpato",
                  "full_label": "http://dbpedia.org/resource/Cadão_Volpato"
                },
                "color": "blue",
                "styles": {
                  "color": "green"
                },
                "label": "Cadão_Volpato",
                "scale_factor": 1,
                "type": "blue",
                "size": [
                  55,
                  55
                ],
                "position": [
                  0,
                  0
                ]
              },
              {
                "id": "http://dbpedia.org/resource/Alternative_rock",
                "properties": {
                  "label": "Alternative_rock",
                  "full_label": "http://dbpedia.org/resource/Alternative_rock"
                },
                "color": "#15AFAC",
                "styles": {
                  "color": "green"
                },
                "label": "Alternative_rock",
                "scale_factor": 1,
                "type": "#15AFAC",
                "size": [
                  55,
                  55
                ],
                "position": [
                  0,
                  0
                ],
                "parentId": "http://dbpedia.org/resource/Café_Tacuba"
              },
              {
                "id": "http://dbpedia.org/resource/Experimental_rock",
                "properties": {
                  "label": "Experimental_rock",
                  "full_label": "http://dbpedia.org/resource/Experimental_rock"
                },
                "color": "#15AFAC",
                "styles": {
                  "color": "green"
                },
                "label": "Experimental_rock",
                "scale_factor": 1,
                "type": "#15AFAC",
                "size": [
                  55,
                  55
                ],
                "position": [
                  0,
                  0
                ],
                "parentId": "http://dbpedia.org/resource/Cadão_Volpato"
              },
              {
                "id": "http://dbpedia.org/resource/Art_rock",
                "properties": {
                  "label": "Art_rock",
                  "full_label": "http://dbpedia.org/resource/Art_rock"
                },
                "color": "#15AFAC",
                "styles": {
                  "color": "green"
                },
                "label": "Art_rock",
                "scale_factor": 1,
                "type": "#15AFAC",
                "size": [
                  55,
                  55
                ],
                "position": [
                  0,
                  0
                ],
                "parentId": "http://dbpedia.org/resource/Cadão_Volpato"
              },
              {
                "id": "http://dbpedia.org/resource/Post-punk",
                "properties": {
                  "label": "Post-punk",
                  "full_label": "http://dbpedia.org/resource/Post-punk"
                },
                "color": "#15AFAC",
                "styles": {
                  "color": "orange"
                },
                "label": "Post-punk",
                "scale_factor": 1,
                "type": "#15AFAC",
                "size": [
                  55,
                  55
                ],
                "position": [
                  0,
                  0
                ],
                "parentId": "http://dbpedia.org/resource/Cadão_Volpato"
              },
              {
                "id": "http://dbpedia.org/resource/Café_(musician)",
                "properties": {
                  "label": "Café_(musician)",
                  "full_label": "http://dbpedia.org/resource/Café_(musician)"
                },
                "color": "blue",
                "styles": {
                  "color": "green"
                },
                "label": "Café_(musician)",
                "scale_factor": 1,
                "type": "blue",
                "size": [
                  55,
                  55
                ],
                "position": [
                  0,
                  0
                ]
              },
              {
                "id": "http://dbpedia.org/resource/Afrobeat",
                "properties": {
                  "label": "Afrobeat",
                  "full_label": "http://dbpedia.org/resource/Afrobeat"
                },
                "color": "#15AFAC",
                "styles": {
                  "color": "orange"
                },
                "label": "Afrobeat",
                "scale_factor": 1,
                "type": "#15AFAC",
                "size": [
                  55,
                  55
                ],
                "position": [
                  0,
                  0
                ],
                "parentId": "http://dbpedia.org/resource/Café_(musician)"
              },
              {
                "id": "http://dbpedia.org/resource/Brazilian_music",
                "properties": {
                  "label": "Brazilian_music",
                  "full_label": "http://dbpedia.org/resource/Brazilian_music"
                },
                "color": "#15AFAC",
                "styles": {
                  "color": "green"
                },
                "label": "Brazilian_music",
                "scale_factor": 1,
                "type": "#15AFAC",
                "size": [
                  55,
                  55
                ],
                "position": [
                  0,
                  0
                ],
                "parentId": "http://dbpedia.org/resource/Café_(musician)"
              },
              {
                "id": "http://dbpedia.org/resource/Café_Tacuba",
                "properties": {
                  "label": "Café_Tacuba",
                  "full_label": "http://dbpedia.org/resource/Café_Tacuba"
                },
                "color": "blue",
                "styles": {
                  "color": "green"
                },
                "label": "Café_Tacuba",
                "scale_factor": 1,
                "type": "blue",
                "size": [
                  55,
                  55
                ],
                "position": [
                  0,
                  0
                ]
              },
              {
                "id": "http://dbpedia.org/resource/Latin_rock",
                "properties": {
                  "label": "Latin_rock",
                  "full_label": "http://dbpedia.org/resource/Latin_rock"
                },
                "color": "#15AFAC",
                "styles": {
                  "color": "green"
                },
                "label": "Latin_rock",
                "scale_factor": 1,
                "type": "#15AFAC",
                "size": [
                  55,
                  55
                ],
                "position": [
                  0,
                  0
                ],
                "parentId": "http://dbpedia.org/resource/Café_Tacuba"
              },
              {
                "id": "http://dbpedia.org/resource/Latin_Alternative",
                "properties": {
                  "label": "Latin_Alternative",
                  "full_label": "http://dbpedia.org/resource/Latin_Alternative"
                },
                "color": "#15AFAC",
                "styles": {
                  "color": "green"
                },
                "label": "Latin_Alternative",
                "scale_factor": 1,
                "type": "#15AFAC",
                "size": [
                  55,
                  55
                ],
                "position": [
                  0,
                  0
                ],
                "parentId": "http://dbpedia.org/resource/Café_Tacuba"
              },
              {
                "id": "http://dbpedia.org/resource/Latin_hip-hop",
                "properties": {
                  "label": "Latin_hip-hop",
                  "full_label": "http://dbpedia.org/resource/Latin_hip-hop"
                },
                "color": "#15AFAC",
                "styles": {
                  "color": "green"
                },
                "label": "Latin_hip-hop",
                "scale_factor": 1,
                "type": "#15AFAC",
                "size": [
                  55,
                  55
                ],
                "position": [
                  0,
                  0
                ],
                "parentId": "http://dbpedia.org/resource/Café_Tacuba"
              },
              {
                "id": "http://dbpedia.org/resource/Cag_Cagnolatti",
                "properties": {
                  "label": "Cag_Cagnolatti",
                  "full_label": "http://dbpedia.org/resource/Cag_Cagnolatti"
                },
                "color": "blue",
                "styles": {
                  "color": "green"
                },
                "label": "Cag_Cagnolatti",
                "scale_factor": 1,
                "type": "blue",
                "size": [
                  55,
                  55
                ],
                "position": [
                  0,
                  0
                ]
              },
              {
                "id": "http://dbpedia.org/resource/Cage_(rapper)",
                "properties": {
                  "label": "Cage_(rapper)",
                  "full_label": "http://dbpedia.org/resource/Cage_(rapper)"
                },
                "color": "blue",
                "styles": {
                  "color": "green"
                },
                "label": "Cage_(rapper)",
                "scale_factor": 1,
                "type": "blue",
                "size": [
                  55,
                  55
                ],
                "position": [
                  0,
                  0
                ]
              },
              {
                "id": "http://dbpedia.org/resource/Progressive_rap",
                "properties": {
                  "label": "Progressive_rap",
                  "full_label": "http://dbpedia.org/resource/Progressive_rap"
                },
                "color": "#15AFAC",
                "styles": {
                  "color": "green"
                },
                "label": "Progressive_rap",
                "scale_factor": 1,
                "type": "#15AFAC",
                "size": [
                  55,
                  55
                ],
                "position": [
                  0,
                  0
                ],
                "parentId": "http://dbpedia.org/resource/Cage_(rapper)"
              },
              {
                "id": "http://dbpedia.org/resource/Horrorcore",
                "properties": {
                  "label": "Horrorcore",
                  "full_label": "http://dbpedia.org/resource/Horrorcore"
                },
                "color": "#15AFAC",
                "styles": {
                  "color": "orange"
                },
                "label": "Horrorcore",
                "scale_factor": 1,
                "type": "#15AFAC",
                "size": [
                  55,
                  55
                ],
                "position": [
                  0,
                  0
                ],
                "parentId": "http://dbpedia.org/resource/Cage_(rapper)"
              },
              {
                "id": "http://dbpedia.org/resource/Rap_rock",
                "properties": {
                  "label": "Rap_rock",
                  "full_label": "http://dbpedia.org/resource/Rap_rock"
                },
                "color": "#15AFAC",
                "styles": {
                  "color": "green"
                },
                "label": "Rap_rock",
                "scale_factor": 1,
                "type": "#15AFAC",
                "size": [
                  55,
                  55
                ],
                "position": [
                  0,
                  0
                ],
                "parentId": "http://dbpedia.org/resource/Cage_(rapper)"
              },
              {
                "id": "http://dbpedia.org/resource/Cainon_Lamb",
                "properties": {
                  "label": "Cainon_Lamb",
                  "full_label": "http://dbpedia.org/resource/Cainon_Lamb"
                },
                "color": "blue",
                "styles": {
                  "color": "green"
                },
                "label": "Cainon_Lamb",
                "scale_factor": 1,
                "type": "blue",
                "size": [
                  55,
                  55
                ],
                "position": [
                  0,
                  0
                ]
              },
              {
                "id": "http://dbpedia.org/resource/Urban_contemporary",
                "properties": {
                  "label": "Urban_contemporary",
                  "full_label": "http://dbpedia.org/resource/Urban_contemporary"
                },
                "color": "#15AFAC",
                "styles": {
                  "color": "green"
                },
                "label": "Urban_contemporary",
                "scale_factor": 1,
                "type": "#15AFAC",
                "size": [
                  55,
                  55
                ],
                "position": [
                  0,
                  0
                ],
                "parentId": "http://dbpedia.org/resource/Cainon_Lamb"
              },
              {
                "id": "http://dbpedia.org/resource/Contemporary_R&B",
                "properties": {
                  "label": "Contemporary_R&B",
                  "full_label": "http://dbpedia.org/resource/Contemporary_R&B"
                },
                "color": "#15AFAC",
                "styles": {
                  "color": "green"
                },
                "label": "Contemporary_R&B",
                "scale_factor": 1,
                "type": "#15AFAC",
                "size": [
                  55,
                  55
                ],
                "position": [
                  0,
                  0
                ],
                "parentId": "http://dbpedia.org/resource/Cainon_Lamb"
              }
            ],
            "_overview": {
              "enabled": null,
              "overview_set": false
            },
            "_selected_graph": [
              [],
              []
            ],
            "_sidebar": {
              "enabled": false,
              "start_with": null
            },
            "_view_count": null,
            "_view_module": "yfiles-jupyter-graphs",
            "_view_module_version": "^1.10.1",
            "_view_name": "GraphView",
            "layout": "IPY_MODEL_a3d542ab6c88455ca3730d28ebfeb0ce",
            "tabbable": null,
            "tooltip": null
          }
        },
        "a3d542ab6c88455ca3730d28ebfeb0ce": {
          "model_module": "@jupyter-widgets/base",
          "model_name": "LayoutModel",
          "model_module_version": "2.0.0",
          "state": {
            "_model_module": "@jupyter-widgets/base",
            "_model_module_version": "2.0.0",
            "_model_name": "LayoutModel",
            "_view_count": null,
            "_view_module": "@jupyter-widgets/base",
            "_view_module_version": "2.0.0",
            "_view_name": "LayoutView",
            "align_content": null,
            "align_items": null,
            "align_self": null,
            "border_bottom": null,
            "border_left": null,
            "border_right": null,
            "border_top": null,
            "bottom": null,
            "display": null,
            "flex": null,
            "flex_flow": null,
            "grid_area": null,
            "grid_auto_columns": null,
            "grid_auto_flow": null,
            "grid_auto_rows": null,
            "grid_column": null,
            "grid_gap": null,
            "grid_row": null,
            "grid_template_areas": null,
            "grid_template_columns": null,
            "grid_template_rows": null,
            "height": "800px",
            "justify_content": null,
            "justify_items": null,
            "left": null,
            "margin": null,
            "max_height": null,
            "max_width": null,
            "min_height": null,
            "min_width": null,
            "object_fit": null,
            "object_position": null,
            "order": null,
            "overflow": null,
            "padding": null,
            "right": null,
            "top": null,
            "visibility": null,
            "width": "100%"
          }
        }
      }
    }
  },
  "nbformat": 4,
  "nbformat_minor": 5
}