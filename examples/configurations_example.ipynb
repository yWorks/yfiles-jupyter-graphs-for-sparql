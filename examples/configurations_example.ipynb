{
 "cells": [
  {
   "cell_type": "markdown",
   "id": "50838b49-fd74-4e52-93eb-5aa1f78b97a6",
   "metadata": {},
   "source": [
    "# Custom Data Configurations <a target=\"_blank\" href=\"https://colab.research.google.com/github/yWorks/yfiles-jupyter-graphs-for-sparql/blob/main/examples/configurations_example.ipynb\"><img src=\"https://colab.research.google.com/assets/colab-badge.svg\" alt=\"Open In Colab\"/></a>"
   ]
  },
  {
   "cell_type": "code",
   "execution_count": null,
   "id": "fd36e4e0-aa58-4694-bcb3-5259d35a31d8",
   "metadata": {},
   "outputs": [],
   "source": [
    "%pip install SPARQLWrapper --quiet\n",
    "%pip install yfiles_jupyter_graphs_for_sparql==0.9.0rc1 --quiet\n",
    "from SPARQLWrapper import SPARQLWrapper, JSON\n",
    "\n",
    "from yfiles_jupyter_graphs_for_sparql import SparqlGraphWidget"
   ]
  },
  {
   "cell_type": "markdown",
   "id": "83114774-832c-4509-8d72-acb4e8ea9c5e",
   "metadata": {},
   "source": [
    "You can also open this notebook in Google Colab when Google Colab's custom widget manager is enabled:"
   ]
  },
  {
   "cell_type": "code",
   "execution_count": null,
   "id": "802fb573-03c5-4410-81fb-f0d181b3263f",
   "metadata": {},
   "outputs": [],
   "source": [
    "try:\n",
    "  import google.colab\n",
    "  from google.colab import output\n",
    "  output.enable_custom_widget_manager()\n",
    "except:\n",
    "  pass"
   ]
  },
  {
   "cell_type": "markdown",
   "id": "a6b0f9ed-e6f9-4a12-9d93-bf21c8a901eb",
   "metadata": {},
   "source": [
    "## Configure data mappings\n",
    "Configurable values for the subject and object visualization: `text`, `color`, `size`, `styles`, `property`, `coordinate` and `type`.\n",
    "\n",
    "Configurable values for the predicate visualization: `text`, `color`, `thickness_factor` and `property`.\n",
    "\n",
    "When adding a configuration, you always need to specify the type of predicate of the object, subject or predicate you want to adjust. (Here 'member' or 'writer'), additionally you can define the new values for the above mentioned properties. The values may either be:\n",
    "\n",
    "A lambda the resolves the node or relationship to a specific value.\n",
    "A constant value which is directly used.\n",
    "A property-key that points to the value that should be used for the configuration."
   ]
  },
  {
   "cell_type": "code",
   "execution_count": null,
   "id": "2407a4f9-c0a0-40e8-8647-b203e7c30fcf",
   "metadata": {},
   "outputs": [],
   "source": [
    "\n",
    "wrapper = SPARQLWrapper(\"http://dbpedia.org/sparql\")\n",
    "wrapper.setReturnFormat(JSON)\n",
    "sgw = SparqlGraphWidget(wrapper=wrapper)\n",
    "query = \"\"\"\n",
    "SELECT ?subject ?predicate ?object\n",
    "WHERE {\n",
    "  ?subject a dbo:MusicalArtist .\n",
    "  ?subject dbo:genre ?object .\n",
    "  BIND(dbo:genre AS ?predicate)\n",
    "}\n",
    "\"\"\"\n",
    "sgw.add_object_configuration('genre', color='purple') #genres\n",
    "sgw.add_subject_configuration('genre', color='blue') # musicians\n",
    "sgw.add_predicate_configuration('genre', color='orange') #all edges\n",
    "sgw.show_query(query)"
   ]
  },
  {
   "cell_type": "code",
   "execution_count": null,
   "id": "e671499c-4749-47f4-94ed-a721814c5465",
   "metadata": {
    "scrolled": true
   },
   "outputs": [],
   "source": [
    "sgw.add_parent_configuration('genre', True)\n",
    "sgw.show_query(query, layout='orthogonal')"
   ]
  },
  {
   "cell_type": "markdown",
   "id": "b7e98877-c779-41ef-a029-6d346b68a97f",
   "metadata": {},
   "source": [
    "### Delete a configuration \n",
    "\n",
    "Configurations are stored within the class instance and must be explicitly removed to no longer be applied."
   ]
  },
  {
   "cell_type": "code",
   "execution_count": null,
   "id": "628a685c-3697-4a3c-a197-0f7ecfe03e23",
   "metadata": {},
   "outputs": [],
   "source": [
    "sgw.del_object_configuration('member')\n",
    "sgw.show_query(query)"
   ]
  },
  {
   "cell_type": "markdown",
   "id": "1ae2c80d-ef45-4a50-8ac3-479c846c0ce8",
   "metadata": {},
   "source": [
    "### Styling Alternative"
   ]
  },
  {
   "cell_type": "code",
   "execution_count": null,
   "id": "79830e56-e2c8-4c20-8a21-680c999a9841",
   "metadata": {},
   "outputs": [],
   "source": [
    "sgw.set_node_styles_mapping(lambda node: {'color': 'green'} if '_' in node['properties']['label'] else {'color': 'orange'})\n",
    "sgw.show_query(query)"
   ]
  }
 ],
 "metadata": {
  "kernelspec": {
   "display_name": "Python 3 (ipykernel)",
   "language": "python",
   "name": "python3"
  },
  "language_info": {
   "codemirror_mode": {
    "name": "ipython",
    "version": 3
   },
   "file_extension": ".py",
   "mimetype": "text/x-python",
   "name": "python",
   "nbconvert_exporter": "python",
   "pygments_lexer": "ipython3",
   "version": "3.11.11"
  }
 },
 "nbformat": 4,
 "nbformat_minor": 5
}
