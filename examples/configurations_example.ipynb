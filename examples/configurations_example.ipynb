{
 "cells": [
  {
   "cell_type": "markdown",
   "id": "50838b49-fd74-4e52-93eb-5aa1f78b97a6",
   "metadata": {
    "id": "50838b49-fd74-4e52-93eb-5aa1f78b97a6"
   },
   "source": [
    "# Custom Data Configurations <a target=\"_blank\" href=\"https://colab.research.google.com/github/yWorks/yfiles-jupyter-graphs-for-sparql/blob/main/examples/configurations_example.ipynb\"><img src=\"https://colab.research.google.com/assets/colab-badge.svg\" alt=\"Open In Colab\"/></a>"
   ]
  },
  {
   "cell_type": "code",
   "execution_count": null,
   "id": "fd36e4e0-aa58-4694-bcb3-5259d35a31d8",
   "metadata": {
    "id": "fd36e4e0-aa58-4694-bcb3-5259d35a31d8"
   },
   "outputs": [],
   "source": [
    "%pip install SPARQLWrapper --quiet\n",
    "%pip install yfiles_jupyter_graphs_for_sparql --quiet\n",
    "from SPARQLWrapper import SPARQLWrapper, JSON\n",
    "\n",
    "from yfiles_jupyter_graphs_for_sparql import SparqlGraphWidget"
   ]
  },
  {
   "cell_type": "markdown",
   "id": "83114774-832c-4509-8d72-acb4e8ea9c5e",
   "metadata": {
    "id": "83114774-832c-4509-8d72-acb4e8ea9c5e"
   },
   "source": [
    "You can also open this notebook in Google Colab when Google Colab's custom widget manager is enabled:"
   ]
  },
  {
   "cell_type": "code",
   "execution_count": null,
   "id": "802fb573-03c5-4410-81fb-f0d181b3263f",
   "metadata": {
    "id": "802fb573-03c5-4410-81fb-f0d181b3263f"
   },
   "outputs": [],
   "source": [
    "try:\n",
    "  import google.colab\n",
    "  from google.colab import output\n",
    "  output.enable_custom_widget_manager()\n",
    "except:\n",
    "  pass"
   ]
  },
  {
   "cell_type": "markdown",
   "id": "a6b0f9ed-e6f9-4a12-9d93-bf21c8a901eb",
   "metadata": {
    "id": "a6b0f9ed-e6f9-4a12-9d93-bf21c8a901eb"
   },
   "source": [
    "## Configure data mappings\n",
    "Configurable values for the subject and object visualization: `text`, `color`, `size`, `styles`, `property`, `coordinate`, `heat` and `type`.\n",
    "\n",
    "Configurable values for the predicate visualization: `text`, `color`, `thickness_factor`, `heat` and `property`.\n",
    "\n",
    "When adding a configuration, you always need to specify the type of predicate of the object, subject or predicate you want to adjust. (Here 'member' or 'writer'), additionally you can define the new values for the above mentioned properties. The values may either be:\n",
    "\n",
    "A lambda the resolves the node or relationship to a specific value.\n",
    "A constant value which is directly used.\n",
    "A property-key that points to the value that should be used for the configuration."
   ]
  },
  {
   "cell_type": "code",
   "execution_count": null,
   "id": "2407a4f9-c0a0-40e8-8647-b203e7c30fcf",
   "metadata": {
    "colab": {
     "base_uri": "https://localhost:8080/",
     "height": 817,
     "referenced_widgets": [
      "4b935eed302546e49a432dde75f383c8",
      "6a107cb9fd91409c969b5c31750ad480"
     ]
    },
    "id": "2407a4f9-c0a0-40e8-8647-b203e7c30fcf",
    "outputId": "ca0c4783-29f0-447e-a89c-1d41ed3b1d87"
   },
   "outputs": [],
   "source": [
    "\n",
    "wrapper = SPARQLWrapper(\"https://dbpedia.org/sparql\")\n",
    "wrapper.setReturnFormat(JSON)\n",
    "sgw = SparqlGraphWidget(wrapper=wrapper)\n",
    "query = \"\"\"SELECT DISTINCT ?sub ?p ?obj\n",
    "WHERE {\n",
    "  VALUES ?film {\n",
    "    <http://dbpedia.org/resource/Pulp_Fiction>\n",
    "    <http://dbpedia.org/resource/The_Avengers_(2012_film)>\n",
    "    <http://dbpedia.org/resource/Django_Unchained>\n",
    "  }\n",
    "  \n",
    "  {\n",
    "    ?film ?p ?obj .\n",
    "    BIND(?film AS ?sub)\n",
    "    FILTER(?p IN (dbo:director, dbo:starring, dbo:producer, dbo:cinematography, dbo:musicComposer))\n",
    "  }\n",
    "}\n",
    "LIMIT 40 \"\"\"\n",
    "\n",
    "import random\n",
    "# random heat in between 0.3 and 0.7\n",
    "def random_heat(item):\n",
    "    return max(0.3,(min(random.random(), 0.7)))\n",
    "    \n",
    "\n",
    "sgw.add_object_configuration('starring', color='purple') #actors\n",
    "sgw.add_subject_configuration('director', color='blue', heat=random_heat) #movies\n",
    "sgw.add_predicate_configuration(['producer', 'director'], color='orange', heat=lambda edge: 0.5 if edge['properties']['label'] == 'director' else 0.2) # producer and director edges\n",
    "sgw.add_predicate_configuration('*', thickness_factor= 2) # all edges, where no specific configuration is given\n",
    "sgw.show_query(query)"
   ]
  },
  {
   "cell_type": "code",
   "execution_count": null,
   "id": "e671499c-4749-47f4-94ed-a721814c5465",
   "metadata": {
    "colab": {
     "base_uri": "https://localhost:8080/",
     "height": 817,
     "referenced_widgets": [
      "d73e932bb6be42908bad141c5d1d196b",
      "6fbe525c6eea48a9b830006b6e8d743f"
     ]
    },
    "id": "e671499c-4749-47f4-94ed-a721814c5465",
    "outputId": "6d7e3058-51ac-4761-e92c-1227b49845b6"
   },
   "outputs": [],
   "source": [
    "sgw.add_parent_configuration('starring', True)\n",
    "sgw.add_parent_configuration('director')\n",
    "sgw.show_query(query, layout='orthogonal')"
   ]
  },
  {
   "cell_type": "markdown",
   "id": "b7e98877-c779-41ef-a029-6d346b68a97f",
   "metadata": {
    "id": "b7e98877-c779-41ef-a029-6d346b68a97f"
   },
   "source": [
    "### Delete a configuration\n",
    "\n",
    "Configurations are stored within the class instance and must be explicitly removed to no longer be applied."
   ]
  },
  {
   "cell_type": "code",
   "execution_count": null,
   "id": "628a685c-3697-4a3c-a197-0f7ecfe03e23",
   "metadata": {
    "colab": {
     "base_uri": "https://localhost:8080/",
     "height": 817,
     "referenced_widgets": [
      "2c37395f7ef74eaca514bc6cc014d9dd",
      "ea81e428d2604df4a2f0c2dd05c0dd2c"
     ]
    },
    "id": "628a685c-3697-4a3c-a197-0f7ecfe03e23",
    "outputId": "b3f015b8-8e5c-4b71-9133-2fd50692fca4"
   },
   "outputs": [],
   "source": [
    "sgw.del_subject_configuration('director')\n",
    "sgw.show_query(query, layout='orthogonal')"
   ]
  }
 ],
 "metadata": {
  "colab": {
   "provenance": []
  },
  "kernelspec": {
   "display_name": "Python 3 (ipykernel)",
   "language": "python",
   "name": "python3"
  },
  "language_info": {
   "codemirror_mode": {
    "name": "ipython",
    "version": 3
   },
   "file_extension": ".py",
   "mimetype": "text/x-python",
   "name": "python",
   "nbconvert_exporter": "python",
   "pygments_lexer": "ipython3",
   "version": "3.11.11"
  },
  "widgets": {
   "application/vnd.jupyter.widget-state+json": {
    "1a8ac601235d480e87be210862778334": {
     "model_module": "yfiles-jupyter-graphs",
     "model_module_version": "^1.10.1",
     "model_name": "GraphModel",
     "state": {
      "_context_pane_mapping": [
       {
        "id": "Neighborhood",
        "title": "Neighborhood"
       },
       {
        "id": "Data",
        "title": "Data"
       },
       {
        "id": "Search",
        "title": "Search"
       },
       {
        "id": "About",
        "title": "About"
       }
      ],
      "_data_importer": "unknown",
      "_directed": true,
      "_dom_classes": [],
      "_edges": [],
      "_graph_layout": {
       "algorithm": "organic",
       "options": {}
      },
      "_highlight": [],
      "_license": {},
      "_model_module": "yfiles-jupyter-graphs",
      "_model_module_version": "^1.10.1",
      "_model_name": "GraphModel",
      "_neighborhood": {},
      "_nodes": [
       {
        "color": "blue",
        "id": "http://dbpedia.org/resource/Cab_Calloway",
        "label": "Cab_Calloway",
        "position": [
         0,
         0
        ],
        "properties": {
         "full_label": "http://dbpedia.org/resource/Cab_Calloway",
         "label": "Cab_Calloway"
        },
        "scale_factor": 1,
        "size": [
         55,
         55
        ],
        "styles": {
         "color": "green"
        },
        "type": "blue"
       },
       {
        "color": "#15AFAC",
        "id": "http://dbpedia.org/resource/Blues",
        "label": "Blues",
        "parentId": "http://dbpedia.org/resource/Cab_Kaye",
        "position": [
         0,
         0
        ],
        "properties": {
         "full_label": "http://dbpedia.org/resource/Blues",
         "label": "Blues"
        },
        "scale_factor": 1,
        "size": [
         55,
         55
        ],
        "styles": {
         "color": "orange"
        },
        "type": "#15AFAC"
       },
       {
        "color": "#15AFAC",
        "id": "http://dbpedia.org/resource/Swing_music",
        "label": "Swing_music",
        "parentId": "http://dbpedia.org/resource/Cab_Calloway",
        "position": [
         0,
         0
        ],
        "properties": {
         "full_label": "http://dbpedia.org/resource/Swing_music",
         "label": "Swing_music"
        },
        "scale_factor": 1,
        "size": [
         55,
         55
        ],
        "styles": {
         "color": "green"
        },
        "type": "#15AFAC"
       },
       {
        "color": "#15AFAC",
        "id": "http://dbpedia.org/resource/Jazz",
        "label": "Jazz",
        "parentId": "http://dbpedia.org/resource/Cag_Cagnolatti",
        "position": [
         0,
         0
        ],
        "properties": {
         "full_label": "http://dbpedia.org/resource/Jazz",
         "label": "Jazz"
        },
        "scale_factor": 1,
        "size": [
         55,
         55
        ],
        "styles": {
         "color": "orange"
        },
        "type": "#15AFAC"
       },
       {
        "color": "blue",
        "id": "http://dbpedia.org/resource/Cab_Kaye",
        "label": "Cab_Kaye",
        "position": [
         0,
         0
        ],
        "properties": {
         "full_label": "http://dbpedia.org/resource/Cab_Kaye",
         "label": "Cab_Kaye"
        },
        "scale_factor": 1,
        "size": [
         55,
         55
        ],
        "styles": {
         "color": "green"
        },
        "type": "blue"
       },
       {
        "color": "blue",
        "id": "http://dbpedia.org/resource/Cabum",
        "label": "Cabum",
        "position": [
         0,
         0
        ],
        "properties": {
         "full_label": "http://dbpedia.org/resource/Cabum",
         "label": "Cabum"
        },
        "scale_factor": 1,
        "size": [
         55,
         55
        ],
        "styles": {
         "color": "orange"
        },
        "type": "blue"
       },
       {
        "color": "#15AFAC",
        "id": "http://dbpedia.org/resource/Hip_hop_music",
        "label": "Hip_hop_music",
        "parentId": "http://dbpedia.org/resource/Cadet_(rapper)",
        "position": [
         0,
         0
        ],
        "properties": {
         "full_label": "http://dbpedia.org/resource/Hip_hop_music",
         "label": "Hip_hop_music"
        },
        "scale_factor": 1,
        "size": [
         55,
         55
        ],
        "styles": {
         "color": "green"
        },
        "type": "#15AFAC"
       },
       {
        "color": "#15AFAC",
        "id": "http://dbpedia.org/resource/Rap",
        "label": "Rap",
        "parentId": "http://dbpedia.org/resource/Cabum",
        "position": [
         0,
         0
        ],
        "properties": {
         "full_label": "http://dbpedia.org/resource/Rap",
         "label": "Rap"
        },
        "scale_factor": 1,
        "size": [
         55,
         55
        ],
        "styles": {
         "color": "orange"
        },
        "type": "#15AFAC"
       },
       {
        "color": "blue",
        "id": "http://dbpedia.org/resource/Cachao",
        "label": "Cachao",
        "position": [
         0,
         0
        ],
        "properties": {
         "full_label": "http://dbpedia.org/resource/Cachao",
         "label": "Cachao"
        },
        "scale_factor": 1,
        "size": [
         55,
         55
        ],
        "styles": {
         "color": "orange"
        },
        "type": "blue"
       },
       {
        "color": "#15AFAC",
        "id": "http://dbpedia.org/resource/Descarga",
        "label": "Descarga",
        "parentId": "http://dbpedia.org/resource/Cachao",
        "position": [
         0,
         0
        ],
        "properties": {
         "full_label": "http://dbpedia.org/resource/Descarga",
         "label": "Descarga"
        },
        "scale_factor": 1,
        "size": [
         55,
         55
        ],
        "styles": {
         "color": "orange"
        },
        "type": "#15AFAC"
       },
       {
        "color": "#15AFAC",
        "id": "http://dbpedia.org/resource/Danzón",
        "label": "Danzón",
        "parentId": "http://dbpedia.org/resource/Cachao",
        "position": [
         0,
         0
        ],
        "properties": {
         "full_label": "http://dbpedia.org/resource/Danzón",
         "label": "Danzón"
        },
        "scale_factor": 1,
        "size": [
         55,
         55
        ],
        "styles": {
         "color": "orange"
        },
        "type": "#15AFAC"
       },
       {
        "color": "#15AFAC",
        "id": "http://dbpedia.org/resource/Mambo_(music)",
        "label": "Mambo_(music)",
        "parentId": "http://dbpedia.org/resource/Cachao",
        "position": [
         0,
         0
        ],
        "properties": {
         "full_label": "http://dbpedia.org/resource/Mambo_(music)",
         "label": "Mambo_(music)"
        },
        "scale_factor": 1,
        "size": [
         55,
         55
        ],
        "styles": {
         "color": "green"
        },
        "type": "#15AFAC"
       },
       {
        "color": "blue",
        "id": "http://dbpedia.org/resource/Cachorro_López",
        "label": "Cachorro_López",
        "position": [
         0,
         0
        ],
        "properties": {
         "full_label": "http://dbpedia.org/resource/Cachorro_López",
         "label": "Cachorro_López"
        },
        "scale_factor": 1,
        "size": [
         55,
         55
        ],
        "styles": {
         "color": "green"
        },
        "type": "blue"
       },
       {
        "color": "#15AFAC",
        "id": "http://dbpedia.org/resource/Latin_music_(genre)",
        "label": "Latin_music_(genre)",
        "parentId": "http://dbpedia.org/resource/Cachorro_López",
        "position": [
         0,
         0
        ],
        "properties": {
         "full_label": "http://dbpedia.org/resource/Latin_music_(genre)",
         "label": "Latin_music_(genre)"
        },
        "scale_factor": 1,
        "size": [
         55,
         55
        ],
        "styles": {
         "color": "green"
        },
        "type": "#15AFAC"
       },
       {
        "color": "#15AFAC",
        "id": "http://dbpedia.org/resource/Rock_en_Español",
        "label": "Rock_en_Español",
        "parentId": "http://dbpedia.org/resource/Cachorro_López",
        "position": [
         0,
         0
        ],
        "properties": {
         "full_label": "http://dbpedia.org/resource/Rock_en_Español",
         "label": "Rock_en_Español"
        },
        "scale_factor": 1,
        "size": [
         55,
         55
        ],
        "styles": {
         "color": "green"
        },
        "type": "#15AFAC"
       },
       {
        "color": "blue",
        "id": "http://dbpedia.org/resource/Cactus_(Indian_band)",
        "label": "Cactus_(Indian_band)",
        "position": [
         0,
         0
        ],
        "properties": {
         "full_label": "http://dbpedia.org/resource/Cactus_(Indian_band)",
         "label": "Cactus_(Indian_band)"
        },
        "scale_factor": 1,
        "size": [
         55,
         55
        ],
        "styles": {
         "color": "green"
        },
        "type": "blue"
       },
       {
        "color": "#15AFAC",
        "id": "http://dbpedia.org/resource/Rock_music_of_West_Bengal",
        "label": "Rock_music_of_West_Bengal",
        "parentId": "http://dbpedia.org/resource/Cactus_(Indian_band)",
        "position": [
         0,
         0
        ],
        "properties": {
         "full_label": "http://dbpedia.org/resource/Rock_music_of_West_Bengal",
         "label": "Rock_music_of_West_Bengal"
        },
        "scale_factor": 1,
        "size": [
         55,
         55
        ],
        "styles": {
         "color": "green"
        },
        "type": "#15AFAC"
       },
       {
        "color": "blue",
        "id": "http://dbpedia.org/resource/Cadalack_Ron",
        "label": "Cadalack_Ron",
        "position": [
         0,
         0
        ],
        "properties": {
         "full_label": "http://dbpedia.org/resource/Cadalack_Ron",
         "label": "Cadalack_Ron"
        },
        "scale_factor": 1,
        "size": [
         55,
         55
        ],
        "styles": {
         "color": "green"
        },
        "type": "blue"
       },
       {
        "color": "blue",
        "id": "http://dbpedia.org/resource/Cadaveria",
        "label": "Cadaveria",
        "position": [
         0,
         0
        ],
        "properties": {
         "full_label": "http://dbpedia.org/resource/Cadaveria",
         "label": "Cadaveria"
        },
        "scale_factor": 1,
        "size": [
         55,
         55
        ],
        "styles": {
         "color": "orange"
        },
        "type": "blue"
       },
       {
        "color": "#15AFAC",
        "id": "http://dbpedia.org/resource/Doom_metal",
        "label": "Doom_metal",
        "parentId": "http://dbpedia.org/resource/Cadaveria",
        "position": [
         0,
         0
        ],
        "properties": {
         "full_label": "http://dbpedia.org/resource/Doom_metal",
         "label": "Doom_metal"
        },
        "scale_factor": 1,
        "size": [
         55,
         55
        ],
        "styles": {
         "color": "green"
        },
        "type": "#15AFAC"
       },
       {
        "color": "#15AFAC",
        "id": "http://dbpedia.org/resource/Gothic_metal",
        "label": "Gothic_metal",
        "parentId": "http://dbpedia.org/resource/Cadaveria",
        "position": [
         0,
         0
        ],
        "properties": {
         "full_label": "http://dbpedia.org/resource/Gothic_metal",
         "label": "Gothic_metal"
        },
        "scale_factor": 1,
        "size": [
         55,
         55
        ],
        "styles": {
         "color": "green"
        },
        "type": "#15AFAC"
       },
       {
        "color": "#15AFAC",
        "id": "http://dbpedia.org/resource/Industrial_metal",
        "label": "Industrial_metal",
        "parentId": "http://dbpedia.org/resource/Cadaveria",
        "position": [
         0,
         0
        ],
        "properties": {
         "full_label": "http://dbpedia.org/resource/Industrial_metal",
         "label": "Industrial_metal"
        },
        "scale_factor": 1,
        "size": [
         55,
         55
        ],
        "styles": {
         "color": "green"
        },
        "type": "#15AFAC"
       },
       {
        "color": "#15AFAC",
        "id": "http://dbpedia.org/resource/Symphonic_black_metal",
        "label": "Symphonic_black_metal",
        "parentId": "http://dbpedia.org/resource/Cadaveria",
        "position": [
         0,
         0
        ],
        "properties": {
         "full_label": "http://dbpedia.org/resource/Symphonic_black_metal",
         "label": "Symphonic_black_metal"
        },
        "scale_factor": 1,
        "size": [
         55,
         55
        ],
        "styles": {
         "color": "green"
        },
        "type": "#15AFAC"
       },
       {
        "color": "blue",
        "id": "http://dbpedia.org/resource/Cade_(musician)",
        "label": "Cade_(musician)",
        "position": [
         0,
         0
        ],
        "properties": {
         "full_label": "http://dbpedia.org/resource/Cade_(musician)",
         "label": "Cade_(musician)"
        },
        "scale_factor": 1,
        "size": [
         55,
         55
        ],
        "styles": {
         "color": "green"
        },
        "type": "blue"
       },
       {
        "color": "#15AFAC",
        "id": "http://dbpedia.org/resource/Electronic_music",
        "label": "Electronic_music",
        "parentId": "http://dbpedia.org/resource/Cade_(musician)",
        "position": [
         0,
         0
        ],
        "properties": {
         "full_label": "http://dbpedia.org/resource/Electronic_music",
         "label": "Electronic_music"
        },
        "scale_factor": 1,
        "size": [
         55,
         55
        ],
        "styles": {
         "color": "green"
        },
        "type": "#15AFAC"
       },
       {
        "color": "#15AFAC",
        "id": "http://dbpedia.org/resource/R&B",
        "label": "R&B",
        "parentId": "http://dbpedia.org/resource/Cadillac_Muzik",
        "position": [
         0,
         0
        ],
        "properties": {
         "full_label": "http://dbpedia.org/resource/R&B",
         "label": "R&B"
        },
        "scale_factor": 1,
        "size": [
         55,
         55
        ],
        "styles": {
         "color": "orange"
        },
        "type": "#15AFAC"
       },
       {
        "color": "blue",
        "id": "http://dbpedia.org/resource/Cadence_Weapon",
        "label": "Cadence_Weapon",
        "position": [
         0,
         0
        ],
        "properties": {
         "full_label": "http://dbpedia.org/resource/Cadence_Weapon",
         "label": "Cadence_Weapon"
        },
        "scale_factor": 1,
        "size": [
         55,
         55
        ],
        "styles": {
         "color": "green"
        },
        "type": "blue"
       },
       {
        "color": "#15AFAC",
        "id": "http://dbpedia.org/resource/Alternative_hip_hop",
        "label": "Alternative_hip_hop",
        "parentId": "http://dbpedia.org/resource/Cadence_Weapon",
        "position": [
         0,
         0
        ],
        "properties": {
         "full_label": "http://dbpedia.org/resource/Alternative_hip_hop",
         "label": "Alternative_hip_hop"
        },
        "scale_factor": 1,
        "size": [
         55,
         55
        ],
        "styles": {
         "color": "green"
        },
        "type": "#15AFAC"
       },
       {
        "color": "#15AFAC",
        "id": "http://dbpedia.org/resource/Canadian_hip_hop",
        "label": "Canadian_hip_hop",
        "parentId": "http://dbpedia.org/resource/Cadence_Weapon",
        "position": [
         0,
         0
        ],
        "properties": {
         "full_label": "http://dbpedia.org/resource/Canadian_hip_hop",
         "label": "Canadian_hip_hop"
        },
        "scale_factor": 1,
        "size": [
         55,
         55
        ],
        "styles": {
         "color": "green"
        },
        "type": "#15AFAC"
       },
       {
        "color": "blue",
        "id": "http://dbpedia.org/resource/Cadet_(rapper)",
        "label": "Cadet_(rapper)",
        "position": [
         0,
         0
        ],
        "properties": {
         "full_label": "http://dbpedia.org/resource/Cadet_(rapper)",
         "label": "Cadet_(rapper)"
        },
        "scale_factor": 1,
        "size": [
         55,
         55
        ],
        "styles": {
         "color": "green"
        },
        "type": "blue"
       },
       {
        "color": "#15AFAC",
        "id": "http://dbpedia.org/resource/Grime_(music_genre)",
        "label": "Grime_(music_genre)",
        "parentId": "http://dbpedia.org/resource/Cadet_(rapper)",
        "position": [
         0,
         0
        ],
        "properties": {
         "full_label": "http://dbpedia.org/resource/Grime_(music_genre)",
         "label": "Grime_(music_genre)"
        },
        "scale_factor": 1,
        "size": [
         55,
         55
        ],
        "styles": {
         "color": "green"
        },
        "type": "#15AFAC"
       },
       {
        "color": "blue",
        "id": "http://dbpedia.org/resource/Cadillac_Muzik",
        "label": "Cadillac_Muzik",
        "position": [
         0,
         0
        ],
        "properties": {
         "full_label": "http://dbpedia.org/resource/Cadillac_Muzik",
         "label": "Cadillac_Muzik"
        },
        "scale_factor": 1,
        "size": [
         55,
         55
        ],
        "styles": {
         "color": "green"
        },
        "type": "blue"
       },
       {
        "color": "#15AFAC",
        "id": "http://dbpedia.org/resource/Psychedelic_Rock",
        "label": "Psychedelic_Rock",
        "parentId": "http://dbpedia.org/resource/Cadillac_Muzik",
        "position": [
         0,
         0
        ],
        "properties": {
         "full_label": "http://dbpedia.org/resource/Psychedelic_Rock",
         "label": "Psychedelic_Rock"
        },
        "scale_factor": 1,
        "size": [
         55,
         55
        ],
        "styles": {
         "color": "green"
        },
        "type": "#15AFAC"
       },
       {
        "color": "#15AFAC",
        "id": "http://dbpedia.org/resource/Alternative_Hip_Hop",
        "label": "Alternative_Hip_Hop",
        "parentId": "http://dbpedia.org/resource/Cadillac_Muzik",
        "position": [
         0,
         0
        ],
        "properties": {
         "full_label": "http://dbpedia.org/resource/Alternative_Hip_Hop",
         "label": "Alternative_Hip_Hop"
        },
        "scale_factor": 1,
        "size": [
         55,
         55
        ],
        "styles": {
         "color": "green"
        },
        "type": "#15AFAC"
       },
       {
        "color": "#15AFAC",
        "id": "http://dbpedia.org/resource/Funk",
        "label": "Funk",
        "parentId": "http://dbpedia.org/resource/Cadillac_Muzik",
        "position": [
         0,
         0
        ],
        "properties": {
         "full_label": "http://dbpedia.org/resource/Funk",
         "label": "Funk"
        },
        "scale_factor": 1,
        "size": [
         55,
         55
        ],
        "styles": {
         "color": "orange"
        },
        "type": "#15AFAC"
       },
       {
        "color": "#15AFAC",
        "id": "http://dbpedia.org/resource/Psychedelic_Soul",
        "label": "Psychedelic_Soul",
        "parentId": "http://dbpedia.org/resource/Cadillac_Muzik",
        "position": [
         0,
         0
        ],
        "properties": {
         "full_label": "http://dbpedia.org/resource/Psychedelic_Soul",
         "label": "Psychedelic_Soul"
        },
        "scale_factor": 1,
        "size": [
         55,
         55
        ],
        "styles": {
         "color": "green"
        },
        "type": "#15AFAC"
       },
       {
        "color": "#15AFAC",
        "id": "http://dbpedia.org/resource/Southern_Hip_Hop",
        "label": "Southern_Hip_Hop",
        "parentId": "http://dbpedia.org/resource/Cadillac_Muzik",
        "position": [
         0,
         0
        ],
        "properties": {
         "full_label": "http://dbpedia.org/resource/Southern_Hip_Hop",
         "label": "Southern_Hip_Hop"
        },
        "scale_factor": 1,
        "size": [
         55,
         55
        ],
        "styles": {
         "color": "green"
        },
        "type": "#15AFAC"
       },
       {
        "color": "blue",
        "id": "http://dbpedia.org/resource/Cady_Groves",
        "label": "Cady_Groves",
        "position": [
         0,
         0
        ],
        "properties": {
         "full_label": "http://dbpedia.org/resource/Cady_Groves",
         "label": "Cady_Groves"
        },
        "scale_factor": 1,
        "size": [
         55,
         55
        ],
        "styles": {
         "color": "green"
        },
        "type": "blue"
       },
       {
        "color": "#15AFAC",
        "id": "http://dbpedia.org/resource/Pop_rock",
        "label": "Pop_rock",
        "parentId": "http://dbpedia.org/resource/Cady_Groves",
        "position": [
         0,
         0
        ],
        "properties": {
         "full_label": "http://dbpedia.org/resource/Pop_rock",
         "label": "Pop_rock"
        },
        "scale_factor": 1,
        "size": [
         55,
         55
        ],
        "styles": {
         "color": "green"
        },
        "type": "#15AFAC"
       },
       {
        "color": "#15AFAC",
        "id": "http://dbpedia.org/resource/Country_music",
        "label": "Country_music",
        "parentId": "http://dbpedia.org/resource/Cady_Groves",
        "position": [
         0,
         0
        ],
        "properties": {
         "full_label": "http://dbpedia.org/resource/Country_music",
         "label": "Country_music"
        },
        "scale_factor": 1,
        "size": [
         55,
         55
        ],
        "styles": {
         "color": "green"
        },
        "type": "#15AFAC"
       },
       {
        "color": "#15AFAC",
        "id": "http://dbpedia.org/resource/Pop_music",
        "label": "Pop_music",
        "parentId": "http://dbpedia.org/resource/Cady_Groves",
        "position": [
         0,
         0
        ],
        "properties": {
         "full_label": "http://dbpedia.org/resource/Pop_music",
         "label": "Pop_music"
        },
        "scale_factor": 1,
        "size": [
         55,
         55
        ],
        "styles": {
         "color": "green"
        },
        "type": "#15AFAC"
       },
       {
        "color": "blue",
        "id": "http://dbpedia.org/resource/Cadão_Volpato",
        "label": "Cadão_Volpato",
        "position": [
         0,
         0
        ],
        "properties": {
         "full_label": "http://dbpedia.org/resource/Cadão_Volpato",
         "label": "Cadão_Volpato"
        },
        "scale_factor": 1,
        "size": [
         55,
         55
        ],
        "styles": {
         "color": "green"
        },
        "type": "blue"
       },
       {
        "color": "#15AFAC",
        "id": "http://dbpedia.org/resource/Alternative_rock",
        "label": "Alternative_rock",
        "parentId": "http://dbpedia.org/resource/Café_Tacuba",
        "position": [
         0,
         0
        ],
        "properties": {
         "full_label": "http://dbpedia.org/resource/Alternative_rock",
         "label": "Alternative_rock"
        },
        "scale_factor": 1,
        "size": [
         55,
         55
        ],
        "styles": {
         "color": "green"
        },
        "type": "#15AFAC"
       },
       {
        "color": "#15AFAC",
        "id": "http://dbpedia.org/resource/Experimental_rock",
        "label": "Experimental_rock",
        "parentId": "http://dbpedia.org/resource/Cadão_Volpato",
        "position": [
         0,
         0
        ],
        "properties": {
         "full_label": "http://dbpedia.org/resource/Experimental_rock",
         "label": "Experimental_rock"
        },
        "scale_factor": 1,
        "size": [
         55,
         55
        ],
        "styles": {
         "color": "green"
        },
        "type": "#15AFAC"
       },
       {
        "color": "#15AFAC",
        "id": "http://dbpedia.org/resource/Art_rock",
        "label": "Art_rock",
        "parentId": "http://dbpedia.org/resource/Cadão_Volpato",
        "position": [
         0,
         0
        ],
        "properties": {
         "full_label": "http://dbpedia.org/resource/Art_rock",
         "label": "Art_rock"
        },
        "scale_factor": 1,
        "size": [
         55,
         55
        ],
        "styles": {
         "color": "green"
        },
        "type": "#15AFAC"
       },
       {
        "color": "#15AFAC",
        "id": "http://dbpedia.org/resource/Post-punk",
        "label": "Post-punk",
        "parentId": "http://dbpedia.org/resource/Cadão_Volpato",
        "position": [
         0,
         0
        ],
        "properties": {
         "full_label": "http://dbpedia.org/resource/Post-punk",
         "label": "Post-punk"
        },
        "scale_factor": 1,
        "size": [
         55,
         55
        ],
        "styles": {
         "color": "orange"
        },
        "type": "#15AFAC"
       },
       {
        "color": "blue",
        "id": "http://dbpedia.org/resource/Café_(musician)",
        "label": "Café_(musician)",
        "position": [
         0,
         0
        ],
        "properties": {
         "full_label": "http://dbpedia.org/resource/Café_(musician)",
         "label": "Café_(musician)"
        },
        "scale_factor": 1,
        "size": [
         55,
         55
        ],
        "styles": {
         "color": "green"
        },
        "type": "blue"
       },
       {
        "color": "#15AFAC",
        "id": "http://dbpedia.org/resource/Afrobeat",
        "label": "Afrobeat",
        "parentId": "http://dbpedia.org/resource/Café_(musician)",
        "position": [
         0,
         0
        ],
        "properties": {
         "full_label": "http://dbpedia.org/resource/Afrobeat",
         "label": "Afrobeat"
        },
        "scale_factor": 1,
        "size": [
         55,
         55
        ],
        "styles": {
         "color": "orange"
        },
        "type": "#15AFAC"
       },
       {
        "color": "#15AFAC",
        "id": "http://dbpedia.org/resource/Brazilian_music",
        "label": "Brazilian_music",
        "parentId": "http://dbpedia.org/resource/Café_(musician)",
        "position": [
         0,
         0
        ],
        "properties": {
         "full_label": "http://dbpedia.org/resource/Brazilian_music",
         "label": "Brazilian_music"
        },
        "scale_factor": 1,
        "size": [
         55,
         55
        ],
        "styles": {
         "color": "green"
        },
        "type": "#15AFAC"
       },
       {
        "color": "blue",
        "id": "http://dbpedia.org/resource/Café_Tacuba",
        "label": "Café_Tacuba",
        "position": [
         0,
         0
        ],
        "properties": {
         "full_label": "http://dbpedia.org/resource/Café_Tacuba",
         "label": "Café_Tacuba"
        },
        "scale_factor": 1,
        "size": [
         55,
         55
        ],
        "styles": {
         "color": "green"
        },
        "type": "blue"
       },
       {
        "color": "#15AFAC",
        "id": "http://dbpedia.org/resource/Latin_rock",
        "label": "Latin_rock",
        "parentId": "http://dbpedia.org/resource/Café_Tacuba",
        "position": [
         0,
         0
        ],
        "properties": {
         "full_label": "http://dbpedia.org/resource/Latin_rock",
         "label": "Latin_rock"
        },
        "scale_factor": 1,
        "size": [
         55,
         55
        ],
        "styles": {
         "color": "green"
        },
        "type": "#15AFAC"
       },
       {
        "color": "#15AFAC",
        "id": "http://dbpedia.org/resource/Latin_Alternative",
        "label": "Latin_Alternative",
        "parentId": "http://dbpedia.org/resource/Café_Tacuba",
        "position": [
         0,
         0
        ],
        "properties": {
         "full_label": "http://dbpedia.org/resource/Latin_Alternative",
         "label": "Latin_Alternative"
        },
        "scale_factor": 1,
        "size": [
         55,
         55
        ],
        "styles": {
         "color": "green"
        },
        "type": "#15AFAC"
       },
       {
        "color": "#15AFAC",
        "id": "http://dbpedia.org/resource/Latin_hip-hop",
        "label": "Latin_hip-hop",
        "parentId": "http://dbpedia.org/resource/Café_Tacuba",
        "position": [
         0,
         0
        ],
        "properties": {
         "full_label": "http://dbpedia.org/resource/Latin_hip-hop",
         "label": "Latin_hip-hop"
        },
        "scale_factor": 1,
        "size": [
         55,
         55
        ],
        "styles": {
         "color": "green"
        },
        "type": "#15AFAC"
       },
       {
        "color": "blue",
        "id": "http://dbpedia.org/resource/Cag_Cagnolatti",
        "label": "Cag_Cagnolatti",
        "position": [
         0,
         0
        ],
        "properties": {
         "full_label": "http://dbpedia.org/resource/Cag_Cagnolatti",
         "label": "Cag_Cagnolatti"
        },
        "scale_factor": 1,
        "size": [
         55,
         55
        ],
        "styles": {
         "color": "green"
        },
        "type": "blue"
       },
       {
        "color": "blue",
        "id": "http://dbpedia.org/resource/Cage_(rapper)",
        "label": "Cage_(rapper)",
        "position": [
         0,
         0
        ],
        "properties": {
         "full_label": "http://dbpedia.org/resource/Cage_(rapper)",
         "label": "Cage_(rapper)"
        },
        "scale_factor": 1,
        "size": [
         55,
         55
        ],
        "styles": {
         "color": "green"
        },
        "type": "blue"
       },
       {
        "color": "#15AFAC",
        "id": "http://dbpedia.org/resource/Progressive_rap",
        "label": "Progressive_rap",
        "parentId": "http://dbpedia.org/resource/Cage_(rapper)",
        "position": [
         0,
         0
        ],
        "properties": {
         "full_label": "http://dbpedia.org/resource/Progressive_rap",
         "label": "Progressive_rap"
        },
        "scale_factor": 1,
        "size": [
         55,
         55
        ],
        "styles": {
         "color": "green"
        },
        "type": "#15AFAC"
       },
       {
        "color": "#15AFAC",
        "id": "http://dbpedia.org/resource/Horrorcore",
        "label": "Horrorcore",
        "parentId": "http://dbpedia.org/resource/Cage_(rapper)",
        "position": [
         0,
         0
        ],
        "properties": {
         "full_label": "http://dbpedia.org/resource/Horrorcore",
         "label": "Horrorcore"
        },
        "scale_factor": 1,
        "size": [
         55,
         55
        ],
        "styles": {
         "color": "orange"
        },
        "type": "#15AFAC"
       },
       {
        "color": "#15AFAC",
        "id": "http://dbpedia.org/resource/Rap_rock",
        "label": "Rap_rock",
        "parentId": "http://dbpedia.org/resource/Cage_(rapper)",
        "position": [
         0,
         0
        ],
        "properties": {
         "full_label": "http://dbpedia.org/resource/Rap_rock",
         "label": "Rap_rock"
        },
        "scale_factor": 1,
        "size": [
         55,
         55
        ],
        "styles": {
         "color": "green"
        },
        "type": "#15AFAC"
       },
       {
        "color": "blue",
        "id": "http://dbpedia.org/resource/Cainon_Lamb",
        "label": "Cainon_Lamb",
        "position": [
         0,
         0
        ],
        "properties": {
         "full_label": "http://dbpedia.org/resource/Cainon_Lamb",
         "label": "Cainon_Lamb"
        },
        "scale_factor": 1,
        "size": [
         55,
         55
        ],
        "styles": {
         "color": "green"
        },
        "type": "blue"
       },
       {
        "color": "#15AFAC",
        "id": "http://dbpedia.org/resource/Urban_contemporary",
        "label": "Urban_contemporary",
        "parentId": "http://dbpedia.org/resource/Cainon_Lamb",
        "position": [
         0,
         0
        ],
        "properties": {
         "full_label": "http://dbpedia.org/resource/Urban_contemporary",
         "label": "Urban_contemporary"
        },
        "scale_factor": 1,
        "size": [
         55,
         55
        ],
        "styles": {
         "color": "green"
        },
        "type": "#15AFAC"
       },
       {
        "color": "#15AFAC",
        "id": "http://dbpedia.org/resource/Contemporary_R&B",
        "label": "Contemporary_R&B",
        "parentId": "http://dbpedia.org/resource/Cainon_Lamb",
        "position": [
         0,
         0
        ],
        "properties": {
         "full_label": "http://dbpedia.org/resource/Contemporary_R&B",
         "label": "Contemporary_R&B"
        },
        "scale_factor": 1,
        "size": [
         55,
         55
        ],
        "styles": {
         "color": "green"
        },
        "type": "#15AFAC"
       }
      ],
      "_overview": {
       "enabled": null,
       "overview_set": false
      },
      "_selected_graph": [
       [],
       []
      ],
      "_sidebar": {
       "enabled": false,
       "start_with": null
      },
      "_view_count": null,
      "_view_module": "yfiles-jupyter-graphs",
      "_view_module_version": "^1.10.1",
      "_view_name": "GraphView",
      "layout": "IPY_MODEL_a3d542ab6c88455ca3730d28ebfeb0ce",
      "tabbable": null,
      "tooltip": null
     }
    },
    "2c37395f7ef74eaca514bc6cc014d9dd": {
     "model_module": "yfiles-jupyter-graphs",
     "model_module_version": "^1.10.1",
     "model_name": "GraphModel",
     "state": {
      "_context_pane_mapping": [
       {
        "id": "Neighborhood",
        "title": "Neighborhood"
       },
       {
        "id": "Data",
        "title": "Data"
       },
       {
        "id": "Search",
        "title": "Search"
       },
       {
        "id": "About",
        "title": "About"
       }
      ],
      "_data_importer": "unknown",
      "_directed": true,
      "_dom_classes": [],
      "_edges": [],
      "_graph_layout": {
       "algorithm": "organic",
       "options": {}
      },
      "_highlight": [],
      "_license": {},
      "_model_module": "yfiles-jupyter-graphs",
      "_model_module_version": "^1.10.1",
      "_model_name": "GraphModel",
      "_neighborhood": {},
      "_nodes": [
       {
        "color": "blue",
        "id": "http://dbpedia.org/resource/Cab_Calloway",
        "label": "Cab_Calloway",
        "position": [
         0,
         0
        ],
        "properties": {
         "full_label": "http://dbpedia.org/resource/Cab_Calloway",
         "label": "Cab_Calloway"
        },
        "scale_factor": 1,
        "size": [
         55,
         55
        ],
        "styles": {},
        "type": "blue"
       },
       {
        "color": "#15AFAC",
        "id": "http://dbpedia.org/resource/Blues",
        "label": "Blues",
        "parentId": "http://dbpedia.org/resource/Cab_Kaye",
        "position": [
         0,
         0
        ],
        "properties": {
         "full_label": "http://dbpedia.org/resource/Blues",
         "label": "Blues"
        },
        "scale_factor": 1,
        "size": [
         55,
         55
        ],
        "styles": {},
        "type": "#15AFAC"
       },
       {
        "color": "#15AFAC",
        "id": "http://dbpedia.org/resource/Swing_music",
        "label": "Swing_music",
        "parentId": "http://dbpedia.org/resource/Cab_Calloway",
        "position": [
         0,
         0
        ],
        "properties": {
         "full_label": "http://dbpedia.org/resource/Swing_music",
         "label": "Swing_music"
        },
        "scale_factor": 1,
        "size": [
         55,
         55
        ],
        "styles": {},
        "type": "#15AFAC"
       },
       {
        "color": "#15AFAC",
        "id": "http://dbpedia.org/resource/Jazz",
        "label": "Jazz",
        "parentId": "http://dbpedia.org/resource/Cag_Cagnolatti",
        "position": [
         0,
         0
        ],
        "properties": {
         "full_label": "http://dbpedia.org/resource/Jazz",
         "label": "Jazz"
        },
        "scale_factor": 1,
        "size": [
         55,
         55
        ],
        "styles": {},
        "type": "#15AFAC"
       },
       {
        "color": "blue",
        "id": "http://dbpedia.org/resource/Cab_Kaye",
        "label": "Cab_Kaye",
        "position": [
         0,
         0
        ],
        "properties": {
         "full_label": "http://dbpedia.org/resource/Cab_Kaye",
         "label": "Cab_Kaye"
        },
        "scale_factor": 1,
        "size": [
         55,
         55
        ],
        "styles": {},
        "type": "blue"
       },
       {
        "color": "blue",
        "id": "http://dbpedia.org/resource/Cabum",
        "label": "Cabum",
        "position": [
         0,
         0
        ],
        "properties": {
         "full_label": "http://dbpedia.org/resource/Cabum",
         "label": "Cabum"
        },
        "scale_factor": 1,
        "size": [
         55,
         55
        ],
        "styles": {},
        "type": "blue"
       },
       {
        "color": "#15AFAC",
        "id": "http://dbpedia.org/resource/Hip_hop_music",
        "label": "Hip_hop_music",
        "parentId": "http://dbpedia.org/resource/Cadet_(rapper)",
        "position": [
         0,
         0
        ],
        "properties": {
         "full_label": "http://dbpedia.org/resource/Hip_hop_music",
         "label": "Hip_hop_music"
        },
        "scale_factor": 1,
        "size": [
         55,
         55
        ],
        "styles": {},
        "type": "#15AFAC"
       },
       {
        "color": "#15AFAC",
        "id": "http://dbpedia.org/resource/Rap",
        "label": "Rap",
        "parentId": "http://dbpedia.org/resource/Cabum",
        "position": [
         0,
         0
        ],
        "properties": {
         "full_label": "http://dbpedia.org/resource/Rap",
         "label": "Rap"
        },
        "scale_factor": 1,
        "size": [
         55,
         55
        ],
        "styles": {},
        "type": "#15AFAC"
       },
       {
        "color": "blue",
        "id": "http://dbpedia.org/resource/Cachao",
        "label": "Cachao",
        "position": [
         0,
         0
        ],
        "properties": {
         "full_label": "http://dbpedia.org/resource/Cachao",
         "label": "Cachao"
        },
        "scale_factor": 1,
        "size": [
         55,
         55
        ],
        "styles": {},
        "type": "blue"
       },
       {
        "color": "#15AFAC",
        "id": "http://dbpedia.org/resource/Descarga",
        "label": "Descarga",
        "parentId": "http://dbpedia.org/resource/Cachao",
        "position": [
         0,
         0
        ],
        "properties": {
         "full_label": "http://dbpedia.org/resource/Descarga",
         "label": "Descarga"
        },
        "scale_factor": 1,
        "size": [
         55,
         55
        ],
        "styles": {},
        "type": "#15AFAC"
       },
       {
        "color": "#15AFAC",
        "id": "http://dbpedia.org/resource/Danzón",
        "label": "Danzón",
        "parentId": "http://dbpedia.org/resource/Cachao",
        "position": [
         0,
         0
        ],
        "properties": {
         "full_label": "http://dbpedia.org/resource/Danzón",
         "label": "Danzón"
        },
        "scale_factor": 1,
        "size": [
         55,
         55
        ],
        "styles": {},
        "type": "#15AFAC"
       },
       {
        "color": "#15AFAC",
        "id": "http://dbpedia.org/resource/Mambo_(music)",
        "label": "Mambo_(music)",
        "parentId": "http://dbpedia.org/resource/Cachao",
        "position": [
         0,
         0
        ],
        "properties": {
         "full_label": "http://dbpedia.org/resource/Mambo_(music)",
         "label": "Mambo_(music)"
        },
        "scale_factor": 1,
        "size": [
         55,
         55
        ],
        "styles": {},
        "type": "#15AFAC"
       },
       {
        "color": "blue",
        "id": "http://dbpedia.org/resource/Cachorro_López",
        "label": "Cachorro_López",
        "position": [
         0,
         0
        ],
        "properties": {
         "full_label": "http://dbpedia.org/resource/Cachorro_López",
         "label": "Cachorro_López"
        },
        "scale_factor": 1,
        "size": [
         55,
         55
        ],
        "styles": {},
        "type": "blue"
       },
       {
        "color": "#15AFAC",
        "id": "http://dbpedia.org/resource/Latin_music_(genre)",
        "label": "Latin_music_(genre)",
        "parentId": "http://dbpedia.org/resource/Cachorro_López",
        "position": [
         0,
         0
        ],
        "properties": {
         "full_label": "http://dbpedia.org/resource/Latin_music_(genre)",
         "label": "Latin_music_(genre)"
        },
        "scale_factor": 1,
        "size": [
         55,
         55
        ],
        "styles": {},
        "type": "#15AFAC"
       },
       {
        "color": "#15AFAC",
        "id": "http://dbpedia.org/resource/Rock_en_Español",
        "label": "Rock_en_Español",
        "parentId": "http://dbpedia.org/resource/Cachorro_López",
        "position": [
         0,
         0
        ],
        "properties": {
         "full_label": "http://dbpedia.org/resource/Rock_en_Español",
         "label": "Rock_en_Español"
        },
        "scale_factor": 1,
        "size": [
         55,
         55
        ],
        "styles": {},
        "type": "#15AFAC"
       },
       {
        "color": "blue",
        "id": "http://dbpedia.org/resource/Cactus_(Indian_band)",
        "label": "Cactus_(Indian_band)",
        "position": [
         0,
         0
        ],
        "properties": {
         "full_label": "http://dbpedia.org/resource/Cactus_(Indian_band)",
         "label": "Cactus_(Indian_band)"
        },
        "scale_factor": 1,
        "size": [
         55,
         55
        ],
        "styles": {},
        "type": "blue"
       },
       {
        "color": "#15AFAC",
        "id": "http://dbpedia.org/resource/Rock_music_of_West_Bengal",
        "label": "Rock_music_of_West_Bengal",
        "parentId": "http://dbpedia.org/resource/Cactus_(Indian_band)",
        "position": [
         0,
         0
        ],
        "properties": {
         "full_label": "http://dbpedia.org/resource/Rock_music_of_West_Bengal",
         "label": "Rock_music_of_West_Bengal"
        },
        "scale_factor": 1,
        "size": [
         55,
         55
        ],
        "styles": {},
        "type": "#15AFAC"
       },
       {
        "color": "blue",
        "id": "http://dbpedia.org/resource/Cadalack_Ron",
        "label": "Cadalack_Ron",
        "position": [
         0,
         0
        ],
        "properties": {
         "full_label": "http://dbpedia.org/resource/Cadalack_Ron",
         "label": "Cadalack_Ron"
        },
        "scale_factor": 1,
        "size": [
         55,
         55
        ],
        "styles": {},
        "type": "blue"
       },
       {
        "color": "blue",
        "id": "http://dbpedia.org/resource/Cadaveria",
        "label": "Cadaveria",
        "position": [
         0,
         0
        ],
        "properties": {
         "full_label": "http://dbpedia.org/resource/Cadaveria",
         "label": "Cadaveria"
        },
        "scale_factor": 1,
        "size": [
         55,
         55
        ],
        "styles": {},
        "type": "blue"
       },
       {
        "color": "#15AFAC",
        "id": "http://dbpedia.org/resource/Doom_metal",
        "label": "Doom_metal",
        "parentId": "http://dbpedia.org/resource/Cadaveria",
        "position": [
         0,
         0
        ],
        "properties": {
         "full_label": "http://dbpedia.org/resource/Doom_metal",
         "label": "Doom_metal"
        },
        "scale_factor": 1,
        "size": [
         55,
         55
        ],
        "styles": {},
        "type": "#15AFAC"
       },
       {
        "color": "#15AFAC",
        "id": "http://dbpedia.org/resource/Gothic_metal",
        "label": "Gothic_metal",
        "parentId": "http://dbpedia.org/resource/Cadaveria",
        "position": [
         0,
         0
        ],
        "properties": {
         "full_label": "http://dbpedia.org/resource/Gothic_metal",
         "label": "Gothic_metal"
        },
        "scale_factor": 1,
        "size": [
         55,
         55
        ],
        "styles": {},
        "type": "#15AFAC"
       },
       {
        "color": "#15AFAC",
        "id": "http://dbpedia.org/resource/Industrial_metal",
        "label": "Industrial_metal",
        "parentId": "http://dbpedia.org/resource/Cadaveria",
        "position": [
         0,
         0
        ],
        "properties": {
         "full_label": "http://dbpedia.org/resource/Industrial_metal",
         "label": "Industrial_metal"
        },
        "scale_factor": 1,
        "size": [
         55,
         55
        ],
        "styles": {},
        "type": "#15AFAC"
       },
       {
        "color": "#15AFAC",
        "id": "http://dbpedia.org/resource/Symphonic_black_metal",
        "label": "Symphonic_black_metal",
        "parentId": "http://dbpedia.org/resource/Cadaveria",
        "position": [
         0,
         0
        ],
        "properties": {
         "full_label": "http://dbpedia.org/resource/Symphonic_black_metal",
         "label": "Symphonic_black_metal"
        },
        "scale_factor": 1,
        "size": [
         55,
         55
        ],
        "styles": {},
        "type": "#15AFAC"
       },
       {
        "color": "blue",
        "id": "http://dbpedia.org/resource/Cade_(musician)",
        "label": "Cade_(musician)",
        "position": [
         0,
         0
        ],
        "properties": {
         "full_label": "http://dbpedia.org/resource/Cade_(musician)",
         "label": "Cade_(musician)"
        },
        "scale_factor": 1,
        "size": [
         55,
         55
        ],
        "styles": {},
        "type": "blue"
       },
       {
        "color": "#15AFAC",
        "id": "http://dbpedia.org/resource/Electronic_music",
        "label": "Electronic_music",
        "parentId": "http://dbpedia.org/resource/Cade_(musician)",
        "position": [
         0,
         0
        ],
        "properties": {
         "full_label": "http://dbpedia.org/resource/Electronic_music",
         "label": "Electronic_music"
        },
        "scale_factor": 1,
        "size": [
         55,
         55
        ],
        "styles": {},
        "type": "#15AFAC"
       },
       {
        "color": "#15AFAC",
        "id": "http://dbpedia.org/resource/R&B",
        "label": "R&B",
        "parentId": "http://dbpedia.org/resource/Cadillac_Muzik",
        "position": [
         0,
         0
        ],
        "properties": {
         "full_label": "http://dbpedia.org/resource/R&B",
         "label": "R&B"
        },
        "scale_factor": 1,
        "size": [
         55,
         55
        ],
        "styles": {},
        "type": "#15AFAC"
       },
       {
        "color": "blue",
        "id": "http://dbpedia.org/resource/Cadence_Weapon",
        "label": "Cadence_Weapon",
        "position": [
         0,
         0
        ],
        "properties": {
         "full_label": "http://dbpedia.org/resource/Cadence_Weapon",
         "label": "Cadence_Weapon"
        },
        "scale_factor": 1,
        "size": [
         55,
         55
        ],
        "styles": {},
        "type": "blue"
       },
       {
        "color": "#15AFAC",
        "id": "http://dbpedia.org/resource/Alternative_hip_hop",
        "label": "Alternative_hip_hop",
        "parentId": "http://dbpedia.org/resource/Cadence_Weapon",
        "position": [
         0,
         0
        ],
        "properties": {
         "full_label": "http://dbpedia.org/resource/Alternative_hip_hop",
         "label": "Alternative_hip_hop"
        },
        "scale_factor": 1,
        "size": [
         55,
         55
        ],
        "styles": {},
        "type": "#15AFAC"
       },
       {
        "color": "#15AFAC",
        "id": "http://dbpedia.org/resource/Canadian_hip_hop",
        "label": "Canadian_hip_hop",
        "parentId": "http://dbpedia.org/resource/Cadence_Weapon",
        "position": [
         0,
         0
        ],
        "properties": {
         "full_label": "http://dbpedia.org/resource/Canadian_hip_hop",
         "label": "Canadian_hip_hop"
        },
        "scale_factor": 1,
        "size": [
         55,
         55
        ],
        "styles": {},
        "type": "#15AFAC"
       },
       {
        "color": "blue",
        "id": "http://dbpedia.org/resource/Cadet_(rapper)",
        "label": "Cadet_(rapper)",
        "position": [
         0,
         0
        ],
        "properties": {
         "full_label": "http://dbpedia.org/resource/Cadet_(rapper)",
         "label": "Cadet_(rapper)"
        },
        "scale_factor": 1,
        "size": [
         55,
         55
        ],
        "styles": {},
        "type": "blue"
       },
       {
        "color": "#15AFAC",
        "id": "http://dbpedia.org/resource/Grime_(music_genre)",
        "label": "Grime_(music_genre)",
        "parentId": "http://dbpedia.org/resource/Cadet_(rapper)",
        "position": [
         0,
         0
        ],
        "properties": {
         "full_label": "http://dbpedia.org/resource/Grime_(music_genre)",
         "label": "Grime_(music_genre)"
        },
        "scale_factor": 1,
        "size": [
         55,
         55
        ],
        "styles": {},
        "type": "#15AFAC"
       },
       {
        "color": "blue",
        "id": "http://dbpedia.org/resource/Cadillac_Muzik",
        "label": "Cadillac_Muzik",
        "position": [
         0,
         0
        ],
        "properties": {
         "full_label": "http://dbpedia.org/resource/Cadillac_Muzik",
         "label": "Cadillac_Muzik"
        },
        "scale_factor": 1,
        "size": [
         55,
         55
        ],
        "styles": {},
        "type": "blue"
       },
       {
        "color": "#15AFAC",
        "id": "http://dbpedia.org/resource/Psychedelic_Rock",
        "label": "Psychedelic_Rock",
        "parentId": "http://dbpedia.org/resource/Cadillac_Muzik",
        "position": [
         0,
         0
        ],
        "properties": {
         "full_label": "http://dbpedia.org/resource/Psychedelic_Rock",
         "label": "Psychedelic_Rock"
        },
        "scale_factor": 1,
        "size": [
         55,
         55
        ],
        "styles": {},
        "type": "#15AFAC"
       },
       {
        "color": "#15AFAC",
        "id": "http://dbpedia.org/resource/Alternative_Hip_Hop",
        "label": "Alternative_Hip_Hop",
        "parentId": "http://dbpedia.org/resource/Cadillac_Muzik",
        "position": [
         0,
         0
        ],
        "properties": {
         "full_label": "http://dbpedia.org/resource/Alternative_Hip_Hop",
         "label": "Alternative_Hip_Hop"
        },
        "scale_factor": 1,
        "size": [
         55,
         55
        ],
        "styles": {},
        "type": "#15AFAC"
       },
       {
        "color": "#15AFAC",
        "id": "http://dbpedia.org/resource/Funk",
        "label": "Funk",
        "parentId": "http://dbpedia.org/resource/Cadillac_Muzik",
        "position": [
         0,
         0
        ],
        "properties": {
         "full_label": "http://dbpedia.org/resource/Funk",
         "label": "Funk"
        },
        "scale_factor": 1,
        "size": [
         55,
         55
        ],
        "styles": {},
        "type": "#15AFAC"
       },
       {
        "color": "#15AFAC",
        "id": "http://dbpedia.org/resource/Psychedelic_Soul",
        "label": "Psychedelic_Soul",
        "parentId": "http://dbpedia.org/resource/Cadillac_Muzik",
        "position": [
         0,
         0
        ],
        "properties": {
         "full_label": "http://dbpedia.org/resource/Psychedelic_Soul",
         "label": "Psychedelic_Soul"
        },
        "scale_factor": 1,
        "size": [
         55,
         55
        ],
        "styles": {},
        "type": "#15AFAC"
       },
       {
        "color": "#15AFAC",
        "id": "http://dbpedia.org/resource/Southern_Hip_Hop",
        "label": "Southern_Hip_Hop",
        "parentId": "http://dbpedia.org/resource/Cadillac_Muzik",
        "position": [
         0,
         0
        ],
        "properties": {
         "full_label": "http://dbpedia.org/resource/Southern_Hip_Hop",
         "label": "Southern_Hip_Hop"
        },
        "scale_factor": 1,
        "size": [
         55,
         55
        ],
        "styles": {},
        "type": "#15AFAC"
       },
       {
        "color": "blue",
        "id": "http://dbpedia.org/resource/Cady_Groves",
        "label": "Cady_Groves",
        "position": [
         0,
         0
        ],
        "properties": {
         "full_label": "http://dbpedia.org/resource/Cady_Groves",
         "label": "Cady_Groves"
        },
        "scale_factor": 1,
        "size": [
         55,
         55
        ],
        "styles": {},
        "type": "blue"
       },
       {
        "color": "#15AFAC",
        "id": "http://dbpedia.org/resource/Pop_rock",
        "label": "Pop_rock",
        "parentId": "http://dbpedia.org/resource/Cady_Groves",
        "position": [
         0,
         0
        ],
        "properties": {
         "full_label": "http://dbpedia.org/resource/Pop_rock",
         "label": "Pop_rock"
        },
        "scale_factor": 1,
        "size": [
         55,
         55
        ],
        "styles": {},
        "type": "#15AFAC"
       },
       {
        "color": "#15AFAC",
        "id": "http://dbpedia.org/resource/Country_music",
        "label": "Country_music",
        "parentId": "http://dbpedia.org/resource/Cady_Groves",
        "position": [
         0,
         0
        ],
        "properties": {
         "full_label": "http://dbpedia.org/resource/Country_music",
         "label": "Country_music"
        },
        "scale_factor": 1,
        "size": [
         55,
         55
        ],
        "styles": {},
        "type": "#15AFAC"
       },
       {
        "color": "#15AFAC",
        "id": "http://dbpedia.org/resource/Pop_music",
        "label": "Pop_music",
        "parentId": "http://dbpedia.org/resource/Cady_Groves",
        "position": [
         0,
         0
        ],
        "properties": {
         "full_label": "http://dbpedia.org/resource/Pop_music",
         "label": "Pop_music"
        },
        "scale_factor": 1,
        "size": [
         55,
         55
        ],
        "styles": {},
        "type": "#15AFAC"
       },
       {
        "color": "blue",
        "id": "http://dbpedia.org/resource/Cadão_Volpato",
        "label": "Cadão_Volpato",
        "position": [
         0,
         0
        ],
        "properties": {
         "full_label": "http://dbpedia.org/resource/Cadão_Volpato",
         "label": "Cadão_Volpato"
        },
        "scale_factor": 1,
        "size": [
         55,
         55
        ],
        "styles": {},
        "type": "blue"
       },
       {
        "color": "#15AFAC",
        "id": "http://dbpedia.org/resource/Alternative_rock",
        "label": "Alternative_rock",
        "parentId": "http://dbpedia.org/resource/Café_Tacuba",
        "position": [
         0,
         0
        ],
        "properties": {
         "full_label": "http://dbpedia.org/resource/Alternative_rock",
         "label": "Alternative_rock"
        },
        "scale_factor": 1,
        "size": [
         55,
         55
        ],
        "styles": {},
        "type": "#15AFAC"
       },
       {
        "color": "#15AFAC",
        "id": "http://dbpedia.org/resource/Experimental_rock",
        "label": "Experimental_rock",
        "parentId": "http://dbpedia.org/resource/Cadão_Volpato",
        "position": [
         0,
         0
        ],
        "properties": {
         "full_label": "http://dbpedia.org/resource/Experimental_rock",
         "label": "Experimental_rock"
        },
        "scale_factor": 1,
        "size": [
         55,
         55
        ],
        "styles": {},
        "type": "#15AFAC"
       },
       {
        "color": "#15AFAC",
        "id": "http://dbpedia.org/resource/Art_rock",
        "label": "Art_rock",
        "parentId": "http://dbpedia.org/resource/Cadão_Volpato",
        "position": [
         0,
         0
        ],
        "properties": {
         "full_label": "http://dbpedia.org/resource/Art_rock",
         "label": "Art_rock"
        },
        "scale_factor": 1,
        "size": [
         55,
         55
        ],
        "styles": {},
        "type": "#15AFAC"
       },
       {
        "color": "#15AFAC",
        "id": "http://dbpedia.org/resource/Post-punk",
        "label": "Post-punk",
        "parentId": "http://dbpedia.org/resource/Cadão_Volpato",
        "position": [
         0,
         0
        ],
        "properties": {
         "full_label": "http://dbpedia.org/resource/Post-punk",
         "label": "Post-punk"
        },
        "scale_factor": 1,
        "size": [
         55,
         55
        ],
        "styles": {},
        "type": "#15AFAC"
       },
       {
        "color": "blue",
        "id": "http://dbpedia.org/resource/Café_(musician)",
        "label": "Café_(musician)",
        "position": [
         0,
         0
        ],
        "properties": {
         "full_label": "http://dbpedia.org/resource/Café_(musician)",
         "label": "Café_(musician)"
        },
        "scale_factor": 1,
        "size": [
         55,
         55
        ],
        "styles": {},
        "type": "blue"
       },
       {
        "color": "#15AFAC",
        "id": "http://dbpedia.org/resource/Afrobeat",
        "label": "Afrobeat",
        "parentId": "http://dbpedia.org/resource/Café_(musician)",
        "position": [
         0,
         0
        ],
        "properties": {
         "full_label": "http://dbpedia.org/resource/Afrobeat",
         "label": "Afrobeat"
        },
        "scale_factor": 1,
        "size": [
         55,
         55
        ],
        "styles": {},
        "type": "#15AFAC"
       },
       {
        "color": "#15AFAC",
        "id": "http://dbpedia.org/resource/Brazilian_music",
        "label": "Brazilian_music",
        "parentId": "http://dbpedia.org/resource/Café_(musician)",
        "position": [
         0,
         0
        ],
        "properties": {
         "full_label": "http://dbpedia.org/resource/Brazilian_music",
         "label": "Brazilian_music"
        },
        "scale_factor": 1,
        "size": [
         55,
         55
        ],
        "styles": {},
        "type": "#15AFAC"
       },
       {
        "color": "blue",
        "id": "http://dbpedia.org/resource/Café_Tacuba",
        "label": "Café_Tacuba",
        "position": [
         0,
         0
        ],
        "properties": {
         "full_label": "http://dbpedia.org/resource/Café_Tacuba",
         "label": "Café_Tacuba"
        },
        "scale_factor": 1,
        "size": [
         55,
         55
        ],
        "styles": {},
        "type": "blue"
       },
       {
        "color": "#15AFAC",
        "id": "http://dbpedia.org/resource/Latin_rock",
        "label": "Latin_rock",
        "parentId": "http://dbpedia.org/resource/Café_Tacuba",
        "position": [
         0,
         0
        ],
        "properties": {
         "full_label": "http://dbpedia.org/resource/Latin_rock",
         "label": "Latin_rock"
        },
        "scale_factor": 1,
        "size": [
         55,
         55
        ],
        "styles": {},
        "type": "#15AFAC"
       },
       {
        "color": "#15AFAC",
        "id": "http://dbpedia.org/resource/Latin_Alternative",
        "label": "Latin_Alternative",
        "parentId": "http://dbpedia.org/resource/Café_Tacuba",
        "position": [
         0,
         0
        ],
        "properties": {
         "full_label": "http://dbpedia.org/resource/Latin_Alternative",
         "label": "Latin_Alternative"
        },
        "scale_factor": 1,
        "size": [
         55,
         55
        ],
        "styles": {},
        "type": "#15AFAC"
       },
       {
        "color": "#15AFAC",
        "id": "http://dbpedia.org/resource/Latin_hip-hop",
        "label": "Latin_hip-hop",
        "parentId": "http://dbpedia.org/resource/Café_Tacuba",
        "position": [
         0,
         0
        ],
        "properties": {
         "full_label": "http://dbpedia.org/resource/Latin_hip-hop",
         "label": "Latin_hip-hop"
        },
        "scale_factor": 1,
        "size": [
         55,
         55
        ],
        "styles": {},
        "type": "#15AFAC"
       },
       {
        "color": "blue",
        "id": "http://dbpedia.org/resource/Cag_Cagnolatti",
        "label": "Cag_Cagnolatti",
        "position": [
         0,
         0
        ],
        "properties": {
         "full_label": "http://dbpedia.org/resource/Cag_Cagnolatti",
         "label": "Cag_Cagnolatti"
        },
        "scale_factor": 1,
        "size": [
         55,
         55
        ],
        "styles": {},
        "type": "blue"
       },
       {
        "color": "blue",
        "id": "http://dbpedia.org/resource/Cage_(rapper)",
        "label": "Cage_(rapper)",
        "position": [
         0,
         0
        ],
        "properties": {
         "full_label": "http://dbpedia.org/resource/Cage_(rapper)",
         "label": "Cage_(rapper)"
        },
        "scale_factor": 1,
        "size": [
         55,
         55
        ],
        "styles": {},
        "type": "blue"
       },
       {
        "color": "#15AFAC",
        "id": "http://dbpedia.org/resource/Progressive_rap",
        "label": "Progressive_rap",
        "parentId": "http://dbpedia.org/resource/Cage_(rapper)",
        "position": [
         0,
         0
        ],
        "properties": {
         "full_label": "http://dbpedia.org/resource/Progressive_rap",
         "label": "Progressive_rap"
        },
        "scale_factor": 1,
        "size": [
         55,
         55
        ],
        "styles": {},
        "type": "#15AFAC"
       },
       {
        "color": "#15AFAC",
        "id": "http://dbpedia.org/resource/Horrorcore",
        "label": "Horrorcore",
        "parentId": "http://dbpedia.org/resource/Cage_(rapper)",
        "position": [
         0,
         0
        ],
        "properties": {
         "full_label": "http://dbpedia.org/resource/Horrorcore",
         "label": "Horrorcore"
        },
        "scale_factor": 1,
        "size": [
         55,
         55
        ],
        "styles": {},
        "type": "#15AFAC"
       },
       {
        "color": "#15AFAC",
        "id": "http://dbpedia.org/resource/Rap_rock",
        "label": "Rap_rock",
        "parentId": "http://dbpedia.org/resource/Cage_(rapper)",
        "position": [
         0,
         0
        ],
        "properties": {
         "full_label": "http://dbpedia.org/resource/Rap_rock",
         "label": "Rap_rock"
        },
        "scale_factor": 1,
        "size": [
         55,
         55
        ],
        "styles": {},
        "type": "#15AFAC"
       },
       {
        "color": "blue",
        "id": "http://dbpedia.org/resource/Cainon_Lamb",
        "label": "Cainon_Lamb",
        "position": [
         0,
         0
        ],
        "properties": {
         "full_label": "http://dbpedia.org/resource/Cainon_Lamb",
         "label": "Cainon_Lamb"
        },
        "scale_factor": 1,
        "size": [
         55,
         55
        ],
        "styles": {},
        "type": "blue"
       },
       {
        "color": "#15AFAC",
        "id": "http://dbpedia.org/resource/Urban_contemporary",
        "label": "Urban_contemporary",
        "parentId": "http://dbpedia.org/resource/Cainon_Lamb",
        "position": [
         0,
         0
        ],
        "properties": {
         "full_label": "http://dbpedia.org/resource/Urban_contemporary",
         "label": "Urban_contemporary"
        },
        "scale_factor": 1,
        "size": [
         55,
         55
        ],
        "styles": {},
        "type": "#15AFAC"
       },
       {
        "color": "#15AFAC",
        "id": "http://dbpedia.org/resource/Contemporary_R&B",
        "label": "Contemporary_R&B",
        "parentId": "http://dbpedia.org/resource/Cainon_Lamb",
        "position": [
         0,
         0
        ],
        "properties": {
         "full_label": "http://dbpedia.org/resource/Contemporary_R&B",
         "label": "Contemporary_R&B"
        },
        "scale_factor": 1,
        "size": [
         55,
         55
        ],
        "styles": {},
        "type": "#15AFAC"
       }
      ],
      "_overview": {
       "enabled": null,
       "overview_set": false
      },
      "_selected_graph": [
       [],
       []
      ],
      "_sidebar": {
       "enabled": false,
       "start_with": null
      },
      "_view_count": null,
      "_view_module": "yfiles-jupyter-graphs",
      "_view_module_version": "^1.10.1",
      "_view_name": "GraphView",
      "layout": "IPY_MODEL_ea81e428d2604df4a2f0c2dd05c0dd2c",
      "tabbable": null,
      "tooltip": null
     }
    },
    "4b935eed302546e49a432dde75f383c8": {
     "model_module": "yfiles-jupyter-graphs",
     "model_module_version": "^1.10.1",
     "model_name": "GraphModel",
     "state": {
      "_context_pane_mapping": [
       {
        "id": "Neighborhood",
        "title": "Neighborhood"
       },
       {
        "id": "Data",
        "title": "Data"
       },
       {
        "id": "Search",
        "title": "Search"
       },
       {
        "id": "About",
        "title": "About"
       }
      ],
      "_data_importer": "unknown",
      "_directed": true,
      "_dom_classes": [],
      "_edges": [
       {
        "color": "orange",
        "directed": true,
        "end": "http://dbpedia.org/resource/Blues",
        "id": "genre",
        "label": "genre",
        "properties": {
         "full_label": "http://dbpedia.org/ontology/genre",
         "label": "genre"
        },
        "start": "http://dbpedia.org/resource/Cab_Calloway",
        "styles": {},
        "thickness_factor": 1
       },
       {
        "color": "orange",
        "directed": true,
        "end": "http://dbpedia.org/resource/Swing_music",
        "id": "genre",
        "label": "genre",
        "properties": {
         "full_label": "http://dbpedia.org/ontology/genre",
         "label": "genre"
        },
        "start": "http://dbpedia.org/resource/Cab_Calloway",
        "styles": {},
        "thickness_factor": 1
       },
       {
        "color": "orange",
        "directed": true,
        "end": "http://dbpedia.org/resource/Jazz",
        "id": "genre",
        "label": "genre",
        "properties": {
         "full_label": "http://dbpedia.org/ontology/genre",
         "label": "genre"
        },
        "start": "http://dbpedia.org/resource/Cab_Calloway",
        "styles": {},
        "thickness_factor": 1
       },
       {
        "color": "orange",
        "directed": true,
        "end": "http://dbpedia.org/resource/Blues",
        "id": "genre",
        "label": "genre",
        "properties": {
         "full_label": "http://dbpedia.org/ontology/genre",
         "label": "genre"
        },
        "start": "http://dbpedia.org/resource/Cab_Kaye",
        "styles": {},
        "thickness_factor": 1
       },
       {
        "color": "orange",
        "directed": true,
        "end": "http://dbpedia.org/resource/Jazz",
        "id": "genre",
        "label": "genre",
        "properties": {
         "full_label": "http://dbpedia.org/ontology/genre",
         "label": "genre"
        },
        "start": "http://dbpedia.org/resource/Cab_Kaye",
        "styles": {},
        "thickness_factor": 1
       },
       {
        "color": "orange",
        "directed": true,
        "end": "http://dbpedia.org/resource/Hip_hop_music",
        "id": "genre",
        "label": "genre",
        "properties": {
         "full_label": "http://dbpedia.org/ontology/genre",
         "label": "genre"
        },
        "start": "http://dbpedia.org/resource/Cabum",
        "styles": {},
        "thickness_factor": 1
       },
       {
        "color": "orange",
        "directed": true,
        "end": "http://dbpedia.org/resource/Rap",
        "id": "genre",
        "label": "genre",
        "properties": {
         "full_label": "http://dbpedia.org/ontology/genre",
         "label": "genre"
        },
        "start": "http://dbpedia.org/resource/Cabum",
        "styles": {},
        "thickness_factor": 1
       },
       {
        "color": "orange",
        "directed": true,
        "end": "http://dbpedia.org/resource/Descarga",
        "id": "genre",
        "label": "genre",
        "properties": {
         "full_label": "http://dbpedia.org/ontology/genre",
         "label": "genre"
        },
        "start": "http://dbpedia.org/resource/Cachao",
        "styles": {},
        "thickness_factor": 1
       },
       {
        "color": "orange",
        "directed": true,
        "end": "http://dbpedia.org/resource/Danzón",
        "id": "genre",
        "label": "genre",
        "properties": {
         "full_label": "http://dbpedia.org/ontology/genre",
         "label": "genre"
        },
        "start": "http://dbpedia.org/resource/Cachao",
        "styles": {},
        "thickness_factor": 1
       },
       {
        "color": "orange",
        "directed": true,
        "end": "http://dbpedia.org/resource/Mambo_(music)",
        "id": "genre",
        "label": "genre",
        "properties": {
         "full_label": "http://dbpedia.org/ontology/genre",
         "label": "genre"
        },
        "start": "http://dbpedia.org/resource/Cachao",
        "styles": {},
        "thickness_factor": 1
       },
       {
        "color": "orange",
        "directed": true,
        "end": "http://dbpedia.org/resource/Latin_music_(genre)",
        "id": "genre",
        "label": "genre",
        "properties": {
         "full_label": "http://dbpedia.org/ontology/genre",
         "label": "genre"
        },
        "start": "http://dbpedia.org/resource/Cachorro_López",
        "styles": {},
        "thickness_factor": 1
       },
       {
        "color": "orange",
        "directed": true,
        "end": "http://dbpedia.org/resource/Rock_en_Español",
        "id": "genre",
        "label": "genre",
        "properties": {
         "full_label": "http://dbpedia.org/ontology/genre",
         "label": "genre"
        },
        "start": "http://dbpedia.org/resource/Cachorro_López",
        "styles": {},
        "thickness_factor": 1
       },
       {
        "color": "orange",
        "directed": true,
        "end": "http://dbpedia.org/resource/Rock_music_of_West_Bengal",
        "id": "genre",
        "label": "genre",
        "properties": {
         "full_label": "http://dbpedia.org/ontology/genre",
         "label": "genre"
        },
        "start": "http://dbpedia.org/resource/Cactus_(Indian_band)",
        "styles": {},
        "thickness_factor": 1
       },
       {
        "color": "orange",
        "directed": true,
        "end": "http://dbpedia.org/resource/Hip_hop_music",
        "id": "genre",
        "label": "genre",
        "properties": {
         "full_label": "http://dbpedia.org/ontology/genre",
         "label": "genre"
        },
        "start": "http://dbpedia.org/resource/Cadalack_Ron",
        "styles": {},
        "thickness_factor": 1
       },
       {
        "color": "orange",
        "directed": true,
        "end": "http://dbpedia.org/resource/Doom_metal",
        "id": "genre",
        "label": "genre",
        "properties": {
         "full_label": "http://dbpedia.org/ontology/genre",
         "label": "genre"
        },
        "start": "http://dbpedia.org/resource/Cadaveria",
        "styles": {},
        "thickness_factor": 1
       },
       {
        "color": "orange",
        "directed": true,
        "end": "http://dbpedia.org/resource/Gothic_metal",
        "id": "genre",
        "label": "genre",
        "properties": {
         "full_label": "http://dbpedia.org/ontology/genre",
         "label": "genre"
        },
        "start": "http://dbpedia.org/resource/Cadaveria",
        "styles": {},
        "thickness_factor": 1
       },
       {
        "color": "orange",
        "directed": true,
        "end": "http://dbpedia.org/resource/Industrial_metal",
        "id": "genre",
        "label": "genre",
        "properties": {
         "full_label": "http://dbpedia.org/ontology/genre",
         "label": "genre"
        },
        "start": "http://dbpedia.org/resource/Cadaveria",
        "styles": {},
        "thickness_factor": 1
       },
       {
        "color": "orange",
        "directed": true,
        "end": "http://dbpedia.org/resource/Symphonic_black_metal",
        "id": "genre",
        "label": "genre",
        "properties": {
         "full_label": "http://dbpedia.org/ontology/genre",
         "label": "genre"
        },
        "start": "http://dbpedia.org/resource/Cadaveria",
        "styles": {},
        "thickness_factor": 1
       },
       {
        "color": "orange",
        "directed": true,
        "end": "http://dbpedia.org/resource/Electronic_music",
        "id": "genre",
        "label": "genre",
        "properties": {
         "full_label": "http://dbpedia.org/ontology/genre",
         "label": "genre"
        },
        "start": "http://dbpedia.org/resource/Cade_(musician)",
        "styles": {},
        "thickness_factor": 1
       },
       {
        "color": "orange",
        "directed": true,
        "end": "http://dbpedia.org/resource/R&B",
        "id": "genre",
        "label": "genre",
        "properties": {
         "full_label": "http://dbpedia.org/ontology/genre",
         "label": "genre"
        },
        "start": "http://dbpedia.org/resource/Cade_(musician)",
        "styles": {},
        "thickness_factor": 1
       },
       {
        "color": "orange",
        "directed": true,
        "end": "http://dbpedia.org/resource/Alternative_hip_hop",
        "id": "genre",
        "label": "genre",
        "properties": {
         "full_label": "http://dbpedia.org/ontology/genre",
         "label": "genre"
        },
        "start": "http://dbpedia.org/resource/Cadence_Weapon",
        "styles": {},
        "thickness_factor": 1
       },
       {
        "color": "orange",
        "directed": true,
        "end": "http://dbpedia.org/resource/Canadian_hip_hop",
        "id": "genre",
        "label": "genre",
        "properties": {
         "full_label": "http://dbpedia.org/ontology/genre",
         "label": "genre"
        },
        "start": "http://dbpedia.org/resource/Cadence_Weapon",
        "styles": {},
        "thickness_factor": 1
       },
       {
        "color": "orange",
        "directed": true,
        "end": "http://dbpedia.org/resource/Grime_(music_genre)",
        "id": "genre",
        "label": "genre",
        "properties": {
         "full_label": "http://dbpedia.org/ontology/genre",
         "label": "genre"
        },
        "start": "http://dbpedia.org/resource/Cadet_(rapper)",
        "styles": {},
        "thickness_factor": 1
       },
       {
        "color": "orange",
        "directed": true,
        "end": "http://dbpedia.org/resource/Hip_hop_music",
        "id": "genre",
        "label": "genre",
        "properties": {
         "full_label": "http://dbpedia.org/ontology/genre",
         "label": "genre"
        },
        "start": "http://dbpedia.org/resource/Cadet_(rapper)",
        "styles": {},
        "thickness_factor": 1
       },
       {
        "color": "orange",
        "directed": true,
        "end": "http://dbpedia.org/resource/Psychedelic_Rock",
        "id": "genre",
        "label": "genre",
        "properties": {
         "full_label": "http://dbpedia.org/ontology/genre",
         "label": "genre"
        },
        "start": "http://dbpedia.org/resource/Cadillac_Muzik",
        "styles": {},
        "thickness_factor": 1
       },
       {
        "color": "orange",
        "directed": true,
        "end": "http://dbpedia.org/resource/Alternative_Hip_Hop",
        "id": "genre",
        "label": "genre",
        "properties": {
         "full_label": "http://dbpedia.org/ontology/genre",
         "label": "genre"
        },
        "start": "http://dbpedia.org/resource/Cadillac_Muzik",
        "styles": {},
        "thickness_factor": 1
       },
       {
        "color": "orange",
        "directed": true,
        "end": "http://dbpedia.org/resource/Funk",
        "id": "genre",
        "label": "genre",
        "properties": {
         "full_label": "http://dbpedia.org/ontology/genre",
         "label": "genre"
        },
        "start": "http://dbpedia.org/resource/Cadillac_Muzik",
        "styles": {},
        "thickness_factor": 1
       },
       {
        "color": "orange",
        "directed": true,
        "end": "http://dbpedia.org/resource/Psychedelic_Soul",
        "id": "genre",
        "label": "genre",
        "properties": {
         "full_label": "http://dbpedia.org/ontology/genre",
         "label": "genre"
        },
        "start": "http://dbpedia.org/resource/Cadillac_Muzik",
        "styles": {},
        "thickness_factor": 1
       },
       {
        "color": "orange",
        "directed": true,
        "end": "http://dbpedia.org/resource/R&B",
        "id": "genre",
        "label": "genre",
        "properties": {
         "full_label": "http://dbpedia.org/ontology/genre",
         "label": "genre"
        },
        "start": "http://dbpedia.org/resource/Cadillac_Muzik",
        "styles": {},
        "thickness_factor": 1
       },
       {
        "color": "orange",
        "directed": true,
        "end": "http://dbpedia.org/resource/Southern_Hip_Hop",
        "id": "genre",
        "label": "genre",
        "properties": {
         "full_label": "http://dbpedia.org/ontology/genre",
         "label": "genre"
        },
        "start": "http://dbpedia.org/resource/Cadillac_Muzik",
        "styles": {},
        "thickness_factor": 1
       },
       {
        "color": "orange",
        "directed": true,
        "end": "http://dbpedia.org/resource/Pop_rock",
        "id": "genre",
        "label": "genre",
        "properties": {
         "full_label": "http://dbpedia.org/ontology/genre",
         "label": "genre"
        },
        "start": "http://dbpedia.org/resource/Cady_Groves",
        "styles": {},
        "thickness_factor": 1
       },
       {
        "color": "orange",
        "directed": true,
        "end": "http://dbpedia.org/resource/Country_music",
        "id": "genre",
        "label": "genre",
        "properties": {
         "full_label": "http://dbpedia.org/ontology/genre",
         "label": "genre"
        },
        "start": "http://dbpedia.org/resource/Cady_Groves",
        "styles": {},
        "thickness_factor": 1
       },
       {
        "color": "orange",
        "directed": true,
        "end": "http://dbpedia.org/resource/Pop_music",
        "id": "genre",
        "label": "genre",
        "properties": {
         "full_label": "http://dbpedia.org/ontology/genre",
         "label": "genre"
        },
        "start": "http://dbpedia.org/resource/Cady_Groves",
        "styles": {},
        "thickness_factor": 1
       },
       {
        "color": "orange",
        "directed": true,
        "end": "http://dbpedia.org/resource/Alternative_rock",
        "id": "genre",
        "label": "genre",
        "properties": {
         "full_label": "http://dbpedia.org/ontology/genre",
         "label": "genre"
        },
        "start": "http://dbpedia.org/resource/Cadão_Volpato",
        "styles": {},
        "thickness_factor": 1
       },
       {
        "color": "orange",
        "directed": true,
        "end": "http://dbpedia.org/resource/Experimental_rock",
        "id": "genre",
        "label": "genre",
        "properties": {
         "full_label": "http://dbpedia.org/ontology/genre",
         "label": "genre"
        },
        "start": "http://dbpedia.org/resource/Cadão_Volpato",
        "styles": {},
        "thickness_factor": 1
       },
       {
        "color": "orange",
        "directed": true,
        "end": "http://dbpedia.org/resource/Art_rock",
        "id": "genre",
        "label": "genre",
        "properties": {
         "full_label": "http://dbpedia.org/ontology/genre",
         "label": "genre"
        },
        "start": "http://dbpedia.org/resource/Cadão_Volpato",
        "styles": {},
        "thickness_factor": 1
       },
       {
        "color": "orange",
        "directed": true,
        "end": "http://dbpedia.org/resource/Post-punk",
        "id": "genre",
        "label": "genre",
        "properties": {
         "full_label": "http://dbpedia.org/ontology/genre",
         "label": "genre"
        },
        "start": "http://dbpedia.org/resource/Cadão_Volpato",
        "styles": {},
        "thickness_factor": 1
       },
       {
        "color": "orange",
        "directed": true,
        "end": "http://dbpedia.org/resource/Afrobeat",
        "id": "genre",
        "label": "genre",
        "properties": {
         "full_label": "http://dbpedia.org/ontology/genre",
         "label": "genre"
        },
        "start": "http://dbpedia.org/resource/Café_(musician)",
        "styles": {},
        "thickness_factor": 1
       },
       {
        "color": "orange",
        "directed": true,
        "end": "http://dbpedia.org/resource/Jazz",
        "id": "genre",
        "label": "genre",
        "properties": {
         "full_label": "http://dbpedia.org/ontology/genre",
         "label": "genre"
        },
        "start": "http://dbpedia.org/resource/Café_(musician)",
        "styles": {},
        "thickness_factor": 1
       },
       {
        "color": "orange",
        "directed": true,
        "end": "http://dbpedia.org/resource/Brazilian_music",
        "id": "genre",
        "label": "genre",
        "properties": {
         "full_label": "http://dbpedia.org/ontology/genre",
         "label": "genre"
        },
        "start": "http://dbpedia.org/resource/Café_(musician)",
        "styles": {},
        "thickness_factor": 1
       },
       {
        "color": "orange",
        "directed": true,
        "end": "http://dbpedia.org/resource/Latin_rock",
        "id": "genre",
        "label": "genre",
        "properties": {
         "full_label": "http://dbpedia.org/ontology/genre",
         "label": "genre"
        },
        "start": "http://dbpedia.org/resource/Café_Tacuba",
        "styles": {},
        "thickness_factor": 1
       },
       {
        "color": "orange",
        "directed": true,
        "end": "http://dbpedia.org/resource/Alternative_rock",
        "id": "genre",
        "label": "genre",
        "properties": {
         "full_label": "http://dbpedia.org/ontology/genre",
         "label": "genre"
        },
        "start": "http://dbpedia.org/resource/Café_Tacuba",
        "styles": {},
        "thickness_factor": 1
       },
       {
        "color": "orange",
        "directed": true,
        "end": "http://dbpedia.org/resource/Latin_Alternative",
        "id": "genre",
        "label": "genre",
        "properties": {
         "full_label": "http://dbpedia.org/ontology/genre",
         "label": "genre"
        },
        "start": "http://dbpedia.org/resource/Café_Tacuba",
        "styles": {},
        "thickness_factor": 1
       },
       {
        "color": "orange",
        "directed": true,
        "end": "http://dbpedia.org/resource/Latin_hip-hop",
        "id": "genre",
        "label": "genre",
        "properties": {
         "full_label": "http://dbpedia.org/ontology/genre",
         "label": "genre"
        },
        "start": "http://dbpedia.org/resource/Café_Tacuba",
        "styles": {},
        "thickness_factor": 1
       },
       {
        "color": "orange",
        "directed": true,
        "end": "http://dbpedia.org/resource/Jazz",
        "id": "genre",
        "label": "genre",
        "properties": {
         "full_label": "http://dbpedia.org/ontology/genre",
         "label": "genre"
        },
        "start": "http://dbpedia.org/resource/Cag_Cagnolatti",
        "styles": {},
        "thickness_factor": 1
       },
       {
        "color": "orange",
        "directed": true,
        "end": "http://dbpedia.org/resource/Progressive_rap",
        "id": "genre",
        "label": "genre",
        "properties": {
         "full_label": "http://dbpedia.org/ontology/genre",
         "label": "genre"
        },
        "start": "http://dbpedia.org/resource/Cage_(rapper)",
        "styles": {},
        "thickness_factor": 1
       },
       {
        "color": "orange",
        "directed": true,
        "end": "http://dbpedia.org/resource/Horrorcore",
        "id": "genre",
        "label": "genre",
        "properties": {
         "full_label": "http://dbpedia.org/ontology/genre",
         "label": "genre"
        },
        "start": "http://dbpedia.org/resource/Cage_(rapper)",
        "styles": {},
        "thickness_factor": 1
       },
       {
        "color": "orange",
        "directed": true,
        "end": "http://dbpedia.org/resource/Rap_rock",
        "id": "genre",
        "label": "genre",
        "properties": {
         "full_label": "http://dbpedia.org/ontology/genre",
         "label": "genre"
        },
        "start": "http://dbpedia.org/resource/Cage_(rapper)",
        "styles": {},
        "thickness_factor": 1
       },
       {
        "color": "orange",
        "directed": true,
        "end": "http://dbpedia.org/resource/Urban_contemporary",
        "id": "genre",
        "label": "genre",
        "properties": {
         "full_label": "http://dbpedia.org/ontology/genre",
         "label": "genre"
        },
        "start": "http://dbpedia.org/resource/Cainon_Lamb",
        "styles": {},
        "thickness_factor": 1
       },
       {
        "color": "orange",
        "directed": true,
        "end": "http://dbpedia.org/resource/Contemporary_R&B",
        "id": "genre",
        "label": "genre",
        "properties": {
         "full_label": "http://dbpedia.org/ontology/genre",
         "label": "genre"
        },
        "start": "http://dbpedia.org/resource/Cainon_Lamb",
        "styles": {},
        "thickness_factor": 1
       }
      ],
      "_graph_layout": {
       "algorithm": "organic",
       "options": {}
      },
      "_highlight": [],
      "_license": {},
      "_model_module": "yfiles-jupyter-graphs",
      "_model_module_version": "^1.10.1",
      "_model_name": "GraphModel",
      "_neighborhood": {},
      "_nodes": [
       {
        "color": "blue",
        "id": "http://dbpedia.org/resource/Cab_Calloway",
        "label": "Cab_Calloway",
        "position": [
         0,
         0
        ],
        "properties": {
         "full_label": "http://dbpedia.org/resource/Cab_Calloway",
         "label": "Cab_Calloway"
        },
        "scale_factor": 1,
        "size": [
         55,
         55
        ],
        "styles": {},
        "type": "blue"
       },
       {
        "color": "purple",
        "id": "http://dbpedia.org/resource/Blues",
        "label": "Blues",
        "position": [
         0,
         0
        ],
        "properties": {
         "full_label": "http://dbpedia.org/resource/Blues",
         "label": "Blues"
        },
        "scale_factor": 1,
        "size": [
         55,
         55
        ],
        "styles": {},
        "type": "purple"
       },
       {
        "color": "purple",
        "id": "http://dbpedia.org/resource/Swing_music",
        "label": "Swing_music",
        "position": [
         0,
         0
        ],
        "properties": {
         "full_label": "http://dbpedia.org/resource/Swing_music",
         "label": "Swing_music"
        },
        "scale_factor": 1,
        "size": [
         55,
         55
        ],
        "styles": {},
        "type": "purple"
       },
       {
        "color": "purple",
        "id": "http://dbpedia.org/resource/Jazz",
        "label": "Jazz",
        "position": [
         0,
         0
        ],
        "properties": {
         "full_label": "http://dbpedia.org/resource/Jazz",
         "label": "Jazz"
        },
        "scale_factor": 1,
        "size": [
         55,
         55
        ],
        "styles": {},
        "type": "purple"
       },
       {
        "color": "blue",
        "id": "http://dbpedia.org/resource/Cab_Kaye",
        "label": "Cab_Kaye",
        "position": [
         0,
         0
        ],
        "properties": {
         "full_label": "http://dbpedia.org/resource/Cab_Kaye",
         "label": "Cab_Kaye"
        },
        "scale_factor": 1,
        "size": [
         55,
         55
        ],
        "styles": {},
        "type": "blue"
       },
       {
        "color": "blue",
        "id": "http://dbpedia.org/resource/Cabum",
        "label": "Cabum",
        "position": [
         0,
         0
        ],
        "properties": {
         "full_label": "http://dbpedia.org/resource/Cabum",
         "label": "Cabum"
        },
        "scale_factor": 1,
        "size": [
         55,
         55
        ],
        "styles": {},
        "type": "blue"
       },
       {
        "color": "purple",
        "id": "http://dbpedia.org/resource/Hip_hop_music",
        "label": "Hip_hop_music",
        "position": [
         0,
         0
        ],
        "properties": {
         "full_label": "http://dbpedia.org/resource/Hip_hop_music",
         "label": "Hip_hop_music"
        },
        "scale_factor": 1,
        "size": [
         55,
         55
        ],
        "styles": {},
        "type": "purple"
       },
       {
        "color": "purple",
        "id": "http://dbpedia.org/resource/Rap",
        "label": "Rap",
        "position": [
         0,
         0
        ],
        "properties": {
         "full_label": "http://dbpedia.org/resource/Rap",
         "label": "Rap"
        },
        "scale_factor": 1,
        "size": [
         55,
         55
        ],
        "styles": {},
        "type": "purple"
       },
       {
        "color": "blue",
        "id": "http://dbpedia.org/resource/Cachao",
        "label": "Cachao",
        "position": [
         0,
         0
        ],
        "properties": {
         "full_label": "http://dbpedia.org/resource/Cachao",
         "label": "Cachao"
        },
        "scale_factor": 1,
        "size": [
         55,
         55
        ],
        "styles": {},
        "type": "blue"
       },
       {
        "color": "purple",
        "id": "http://dbpedia.org/resource/Descarga",
        "label": "Descarga",
        "position": [
         0,
         0
        ],
        "properties": {
         "full_label": "http://dbpedia.org/resource/Descarga",
         "label": "Descarga"
        },
        "scale_factor": 1,
        "size": [
         55,
         55
        ],
        "styles": {},
        "type": "purple"
       },
       {
        "color": "purple",
        "id": "http://dbpedia.org/resource/Danzón",
        "label": "Danzón",
        "position": [
         0,
         0
        ],
        "properties": {
         "full_label": "http://dbpedia.org/resource/Danzón",
         "label": "Danzón"
        },
        "scale_factor": 1,
        "size": [
         55,
         55
        ],
        "styles": {},
        "type": "purple"
       },
       {
        "color": "purple",
        "id": "http://dbpedia.org/resource/Mambo_(music)",
        "label": "Mambo_(music)",
        "position": [
         0,
         0
        ],
        "properties": {
         "full_label": "http://dbpedia.org/resource/Mambo_(music)",
         "label": "Mambo_(music)"
        },
        "scale_factor": 1,
        "size": [
         55,
         55
        ],
        "styles": {},
        "type": "purple"
       },
       {
        "color": "blue",
        "id": "http://dbpedia.org/resource/Cachorro_López",
        "label": "Cachorro_López",
        "position": [
         0,
         0
        ],
        "properties": {
         "full_label": "http://dbpedia.org/resource/Cachorro_López",
         "label": "Cachorro_López"
        },
        "scale_factor": 1,
        "size": [
         55,
         55
        ],
        "styles": {},
        "type": "blue"
       },
       {
        "color": "purple",
        "id": "http://dbpedia.org/resource/Latin_music_(genre)",
        "label": "Latin_music_(genre)",
        "position": [
         0,
         0
        ],
        "properties": {
         "full_label": "http://dbpedia.org/resource/Latin_music_(genre)",
         "label": "Latin_music_(genre)"
        },
        "scale_factor": 1,
        "size": [
         55,
         55
        ],
        "styles": {},
        "type": "purple"
       },
       {
        "color": "purple",
        "id": "http://dbpedia.org/resource/Rock_en_Español",
        "label": "Rock_en_Español",
        "position": [
         0,
         0
        ],
        "properties": {
         "full_label": "http://dbpedia.org/resource/Rock_en_Español",
         "label": "Rock_en_Español"
        },
        "scale_factor": 1,
        "size": [
         55,
         55
        ],
        "styles": {},
        "type": "purple"
       },
       {
        "color": "blue",
        "id": "http://dbpedia.org/resource/Cactus_(Indian_band)",
        "label": "Cactus_(Indian_band)",
        "position": [
         0,
         0
        ],
        "properties": {
         "full_label": "http://dbpedia.org/resource/Cactus_(Indian_band)",
         "label": "Cactus_(Indian_band)"
        },
        "scale_factor": 1,
        "size": [
         55,
         55
        ],
        "styles": {},
        "type": "blue"
       },
       {
        "color": "purple",
        "id": "http://dbpedia.org/resource/Rock_music_of_West_Bengal",
        "label": "Rock_music_of_West_Bengal",
        "position": [
         0,
         0
        ],
        "properties": {
         "full_label": "http://dbpedia.org/resource/Rock_music_of_West_Bengal",
         "label": "Rock_music_of_West_Bengal"
        },
        "scale_factor": 1,
        "size": [
         55,
         55
        ],
        "styles": {},
        "type": "purple"
       },
       {
        "color": "blue",
        "id": "http://dbpedia.org/resource/Cadalack_Ron",
        "label": "Cadalack_Ron",
        "position": [
         0,
         0
        ],
        "properties": {
         "full_label": "http://dbpedia.org/resource/Cadalack_Ron",
         "label": "Cadalack_Ron"
        },
        "scale_factor": 1,
        "size": [
         55,
         55
        ],
        "styles": {},
        "type": "blue"
       },
       {
        "color": "blue",
        "id": "http://dbpedia.org/resource/Cadaveria",
        "label": "Cadaveria",
        "position": [
         0,
         0
        ],
        "properties": {
         "full_label": "http://dbpedia.org/resource/Cadaveria",
         "label": "Cadaveria"
        },
        "scale_factor": 1,
        "size": [
         55,
         55
        ],
        "styles": {},
        "type": "blue"
       },
       {
        "color": "purple",
        "id": "http://dbpedia.org/resource/Doom_metal",
        "label": "Doom_metal",
        "position": [
         0,
         0
        ],
        "properties": {
         "full_label": "http://dbpedia.org/resource/Doom_metal",
         "label": "Doom_metal"
        },
        "scale_factor": 1,
        "size": [
         55,
         55
        ],
        "styles": {},
        "type": "purple"
       },
       {
        "color": "purple",
        "id": "http://dbpedia.org/resource/Gothic_metal",
        "label": "Gothic_metal",
        "position": [
         0,
         0
        ],
        "properties": {
         "full_label": "http://dbpedia.org/resource/Gothic_metal",
         "label": "Gothic_metal"
        },
        "scale_factor": 1,
        "size": [
         55,
         55
        ],
        "styles": {},
        "type": "purple"
       },
       {
        "color": "purple",
        "id": "http://dbpedia.org/resource/Industrial_metal",
        "label": "Industrial_metal",
        "position": [
         0,
         0
        ],
        "properties": {
         "full_label": "http://dbpedia.org/resource/Industrial_metal",
         "label": "Industrial_metal"
        },
        "scale_factor": 1,
        "size": [
         55,
         55
        ],
        "styles": {},
        "type": "purple"
       },
       {
        "color": "purple",
        "id": "http://dbpedia.org/resource/Symphonic_black_metal",
        "label": "Symphonic_black_metal",
        "position": [
         0,
         0
        ],
        "properties": {
         "full_label": "http://dbpedia.org/resource/Symphonic_black_metal",
         "label": "Symphonic_black_metal"
        },
        "scale_factor": 1,
        "size": [
         55,
         55
        ],
        "styles": {},
        "type": "purple"
       },
       {
        "color": "blue",
        "id": "http://dbpedia.org/resource/Cade_(musician)",
        "label": "Cade_(musician)",
        "position": [
         0,
         0
        ],
        "properties": {
         "full_label": "http://dbpedia.org/resource/Cade_(musician)",
         "label": "Cade_(musician)"
        },
        "scale_factor": 1,
        "size": [
         55,
         55
        ],
        "styles": {},
        "type": "blue"
       },
       {
        "color": "purple",
        "id": "http://dbpedia.org/resource/Electronic_music",
        "label": "Electronic_music",
        "position": [
         0,
         0
        ],
        "properties": {
         "full_label": "http://dbpedia.org/resource/Electronic_music",
         "label": "Electronic_music"
        },
        "scale_factor": 1,
        "size": [
         55,
         55
        ],
        "styles": {},
        "type": "purple"
       },
       {
        "color": "purple",
        "id": "http://dbpedia.org/resource/R&B",
        "label": "R&B",
        "position": [
         0,
         0
        ],
        "properties": {
         "full_label": "http://dbpedia.org/resource/R&B",
         "label": "R&B"
        },
        "scale_factor": 1,
        "size": [
         55,
         55
        ],
        "styles": {},
        "type": "purple"
       },
       {
        "color": "blue",
        "id": "http://dbpedia.org/resource/Cadence_Weapon",
        "label": "Cadence_Weapon",
        "position": [
         0,
         0
        ],
        "properties": {
         "full_label": "http://dbpedia.org/resource/Cadence_Weapon",
         "label": "Cadence_Weapon"
        },
        "scale_factor": 1,
        "size": [
         55,
         55
        ],
        "styles": {},
        "type": "blue"
       },
       {
        "color": "purple",
        "id": "http://dbpedia.org/resource/Alternative_hip_hop",
        "label": "Alternative_hip_hop",
        "position": [
         0,
         0
        ],
        "properties": {
         "full_label": "http://dbpedia.org/resource/Alternative_hip_hop",
         "label": "Alternative_hip_hop"
        },
        "scale_factor": 1,
        "size": [
         55,
         55
        ],
        "styles": {},
        "type": "purple"
       },
       {
        "color": "purple",
        "id": "http://dbpedia.org/resource/Canadian_hip_hop",
        "label": "Canadian_hip_hop",
        "position": [
         0,
         0
        ],
        "properties": {
         "full_label": "http://dbpedia.org/resource/Canadian_hip_hop",
         "label": "Canadian_hip_hop"
        },
        "scale_factor": 1,
        "size": [
         55,
         55
        ],
        "styles": {},
        "type": "purple"
       },
       {
        "color": "blue",
        "id": "http://dbpedia.org/resource/Cadet_(rapper)",
        "label": "Cadet_(rapper)",
        "position": [
         0,
         0
        ],
        "properties": {
         "full_label": "http://dbpedia.org/resource/Cadet_(rapper)",
         "label": "Cadet_(rapper)"
        },
        "scale_factor": 1,
        "size": [
         55,
         55
        ],
        "styles": {},
        "type": "blue"
       },
       {
        "color": "purple",
        "id": "http://dbpedia.org/resource/Grime_(music_genre)",
        "label": "Grime_(music_genre)",
        "position": [
         0,
         0
        ],
        "properties": {
         "full_label": "http://dbpedia.org/resource/Grime_(music_genre)",
         "label": "Grime_(music_genre)"
        },
        "scale_factor": 1,
        "size": [
         55,
         55
        ],
        "styles": {},
        "type": "purple"
       },
       {
        "color": "blue",
        "id": "http://dbpedia.org/resource/Cadillac_Muzik",
        "label": "Cadillac_Muzik",
        "position": [
         0,
         0
        ],
        "properties": {
         "full_label": "http://dbpedia.org/resource/Cadillac_Muzik",
         "label": "Cadillac_Muzik"
        },
        "scale_factor": 1,
        "size": [
         55,
         55
        ],
        "styles": {},
        "type": "blue"
       },
       {
        "color": "purple",
        "id": "http://dbpedia.org/resource/Psychedelic_Rock",
        "label": "Psychedelic_Rock",
        "position": [
         0,
         0
        ],
        "properties": {
         "full_label": "http://dbpedia.org/resource/Psychedelic_Rock",
         "label": "Psychedelic_Rock"
        },
        "scale_factor": 1,
        "size": [
         55,
         55
        ],
        "styles": {},
        "type": "purple"
       },
       {
        "color": "purple",
        "id": "http://dbpedia.org/resource/Alternative_Hip_Hop",
        "label": "Alternative_Hip_Hop",
        "position": [
         0,
         0
        ],
        "properties": {
         "full_label": "http://dbpedia.org/resource/Alternative_Hip_Hop",
         "label": "Alternative_Hip_Hop"
        },
        "scale_factor": 1,
        "size": [
         55,
         55
        ],
        "styles": {},
        "type": "purple"
       },
       {
        "color": "purple",
        "id": "http://dbpedia.org/resource/Funk",
        "label": "Funk",
        "position": [
         0,
         0
        ],
        "properties": {
         "full_label": "http://dbpedia.org/resource/Funk",
         "label": "Funk"
        },
        "scale_factor": 1,
        "size": [
         55,
         55
        ],
        "styles": {},
        "type": "purple"
       },
       {
        "color": "purple",
        "id": "http://dbpedia.org/resource/Psychedelic_Soul",
        "label": "Psychedelic_Soul",
        "position": [
         0,
         0
        ],
        "properties": {
         "full_label": "http://dbpedia.org/resource/Psychedelic_Soul",
         "label": "Psychedelic_Soul"
        },
        "scale_factor": 1,
        "size": [
         55,
         55
        ],
        "styles": {},
        "type": "purple"
       },
       {
        "color": "purple",
        "id": "http://dbpedia.org/resource/Southern_Hip_Hop",
        "label": "Southern_Hip_Hop",
        "position": [
         0,
         0
        ],
        "properties": {
         "full_label": "http://dbpedia.org/resource/Southern_Hip_Hop",
         "label": "Southern_Hip_Hop"
        },
        "scale_factor": 1,
        "size": [
         55,
         55
        ],
        "styles": {},
        "type": "purple"
       },
       {
        "color": "blue",
        "id": "http://dbpedia.org/resource/Cady_Groves",
        "label": "Cady_Groves",
        "position": [
         0,
         0
        ],
        "properties": {
         "full_label": "http://dbpedia.org/resource/Cady_Groves",
         "label": "Cady_Groves"
        },
        "scale_factor": 1,
        "size": [
         55,
         55
        ],
        "styles": {},
        "type": "blue"
       },
       {
        "color": "purple",
        "id": "http://dbpedia.org/resource/Pop_rock",
        "label": "Pop_rock",
        "position": [
         0,
         0
        ],
        "properties": {
         "full_label": "http://dbpedia.org/resource/Pop_rock",
         "label": "Pop_rock"
        },
        "scale_factor": 1,
        "size": [
         55,
         55
        ],
        "styles": {},
        "type": "purple"
       },
       {
        "color": "purple",
        "id": "http://dbpedia.org/resource/Country_music",
        "label": "Country_music",
        "position": [
         0,
         0
        ],
        "properties": {
         "full_label": "http://dbpedia.org/resource/Country_music",
         "label": "Country_music"
        },
        "scale_factor": 1,
        "size": [
         55,
         55
        ],
        "styles": {},
        "type": "purple"
       },
       {
        "color": "purple",
        "id": "http://dbpedia.org/resource/Pop_music",
        "label": "Pop_music",
        "position": [
         0,
         0
        ],
        "properties": {
         "full_label": "http://dbpedia.org/resource/Pop_music",
         "label": "Pop_music"
        },
        "scale_factor": 1,
        "size": [
         55,
         55
        ],
        "styles": {},
        "type": "purple"
       },
       {
        "color": "blue",
        "id": "http://dbpedia.org/resource/Cadão_Volpato",
        "label": "Cadão_Volpato",
        "position": [
         0,
         0
        ],
        "properties": {
         "full_label": "http://dbpedia.org/resource/Cadão_Volpato",
         "label": "Cadão_Volpato"
        },
        "scale_factor": 1,
        "size": [
         55,
         55
        ],
        "styles": {},
        "type": "blue"
       },
       {
        "color": "purple",
        "id": "http://dbpedia.org/resource/Alternative_rock",
        "label": "Alternative_rock",
        "position": [
         0,
         0
        ],
        "properties": {
         "full_label": "http://dbpedia.org/resource/Alternative_rock",
         "label": "Alternative_rock"
        },
        "scale_factor": 1,
        "size": [
         55,
         55
        ],
        "styles": {},
        "type": "purple"
       },
       {
        "color": "purple",
        "id": "http://dbpedia.org/resource/Experimental_rock",
        "label": "Experimental_rock",
        "position": [
         0,
         0
        ],
        "properties": {
         "full_label": "http://dbpedia.org/resource/Experimental_rock",
         "label": "Experimental_rock"
        },
        "scale_factor": 1,
        "size": [
         55,
         55
        ],
        "styles": {},
        "type": "purple"
       },
       {
        "color": "purple",
        "id": "http://dbpedia.org/resource/Art_rock",
        "label": "Art_rock",
        "position": [
         0,
         0
        ],
        "properties": {
         "full_label": "http://dbpedia.org/resource/Art_rock",
         "label": "Art_rock"
        },
        "scale_factor": 1,
        "size": [
         55,
         55
        ],
        "styles": {},
        "type": "purple"
       },
       {
        "color": "purple",
        "id": "http://dbpedia.org/resource/Post-punk",
        "label": "Post-punk",
        "position": [
         0,
         0
        ],
        "properties": {
         "full_label": "http://dbpedia.org/resource/Post-punk",
         "label": "Post-punk"
        },
        "scale_factor": 1,
        "size": [
         55,
         55
        ],
        "styles": {},
        "type": "purple"
       },
       {
        "color": "blue",
        "id": "http://dbpedia.org/resource/Café_(musician)",
        "label": "Café_(musician)",
        "position": [
         0,
         0
        ],
        "properties": {
         "full_label": "http://dbpedia.org/resource/Café_(musician)",
         "label": "Café_(musician)"
        },
        "scale_factor": 1,
        "size": [
         55,
         55
        ],
        "styles": {},
        "type": "blue"
       },
       {
        "color": "purple",
        "id": "http://dbpedia.org/resource/Afrobeat",
        "label": "Afrobeat",
        "position": [
         0,
         0
        ],
        "properties": {
         "full_label": "http://dbpedia.org/resource/Afrobeat",
         "label": "Afrobeat"
        },
        "scale_factor": 1,
        "size": [
         55,
         55
        ],
        "styles": {},
        "type": "purple"
       },
       {
        "color": "purple",
        "id": "http://dbpedia.org/resource/Brazilian_music",
        "label": "Brazilian_music",
        "position": [
         0,
         0
        ],
        "properties": {
         "full_label": "http://dbpedia.org/resource/Brazilian_music",
         "label": "Brazilian_music"
        },
        "scale_factor": 1,
        "size": [
         55,
         55
        ],
        "styles": {},
        "type": "purple"
       },
       {
        "color": "blue",
        "id": "http://dbpedia.org/resource/Café_Tacuba",
        "label": "Café_Tacuba",
        "position": [
         0,
         0
        ],
        "properties": {
         "full_label": "http://dbpedia.org/resource/Café_Tacuba",
         "label": "Café_Tacuba"
        },
        "scale_factor": 1,
        "size": [
         55,
         55
        ],
        "styles": {},
        "type": "blue"
       },
       {
        "color": "purple",
        "id": "http://dbpedia.org/resource/Latin_rock",
        "label": "Latin_rock",
        "position": [
         0,
         0
        ],
        "properties": {
         "full_label": "http://dbpedia.org/resource/Latin_rock",
         "label": "Latin_rock"
        },
        "scale_factor": 1,
        "size": [
         55,
         55
        ],
        "styles": {},
        "type": "purple"
       },
       {
        "color": "purple",
        "id": "http://dbpedia.org/resource/Latin_Alternative",
        "label": "Latin_Alternative",
        "position": [
         0,
         0
        ],
        "properties": {
         "full_label": "http://dbpedia.org/resource/Latin_Alternative",
         "label": "Latin_Alternative"
        },
        "scale_factor": 1,
        "size": [
         55,
         55
        ],
        "styles": {},
        "type": "purple"
       },
       {
        "color": "purple",
        "id": "http://dbpedia.org/resource/Latin_hip-hop",
        "label": "Latin_hip-hop",
        "position": [
         0,
         0
        ],
        "properties": {
         "full_label": "http://dbpedia.org/resource/Latin_hip-hop",
         "label": "Latin_hip-hop"
        },
        "scale_factor": 1,
        "size": [
         55,
         55
        ],
        "styles": {},
        "type": "purple"
       },
       {
        "color": "blue",
        "id": "http://dbpedia.org/resource/Cag_Cagnolatti",
        "label": "Cag_Cagnolatti",
        "position": [
         0,
         0
        ],
        "properties": {
         "full_label": "http://dbpedia.org/resource/Cag_Cagnolatti",
         "label": "Cag_Cagnolatti"
        },
        "scale_factor": 1,
        "size": [
         55,
         55
        ],
        "styles": {},
        "type": "blue"
       },
       {
        "color": "blue",
        "id": "http://dbpedia.org/resource/Cage_(rapper)",
        "label": "Cage_(rapper)",
        "position": [
         0,
         0
        ],
        "properties": {
         "full_label": "http://dbpedia.org/resource/Cage_(rapper)",
         "label": "Cage_(rapper)"
        },
        "scale_factor": 1,
        "size": [
         55,
         55
        ],
        "styles": {},
        "type": "blue"
       },
       {
        "color": "purple",
        "id": "http://dbpedia.org/resource/Progressive_rap",
        "label": "Progressive_rap",
        "position": [
         0,
         0
        ],
        "properties": {
         "full_label": "http://dbpedia.org/resource/Progressive_rap",
         "label": "Progressive_rap"
        },
        "scale_factor": 1,
        "size": [
         55,
         55
        ],
        "styles": {},
        "type": "purple"
       },
       {
        "color": "purple",
        "id": "http://dbpedia.org/resource/Horrorcore",
        "label": "Horrorcore",
        "position": [
         0,
         0
        ],
        "properties": {
         "full_label": "http://dbpedia.org/resource/Horrorcore",
         "label": "Horrorcore"
        },
        "scale_factor": 1,
        "size": [
         55,
         55
        ],
        "styles": {},
        "type": "purple"
       },
       {
        "color": "purple",
        "id": "http://dbpedia.org/resource/Rap_rock",
        "label": "Rap_rock",
        "position": [
         0,
         0
        ],
        "properties": {
         "full_label": "http://dbpedia.org/resource/Rap_rock",
         "label": "Rap_rock"
        },
        "scale_factor": 1,
        "size": [
         55,
         55
        ],
        "styles": {},
        "type": "purple"
       },
       {
        "color": "blue",
        "id": "http://dbpedia.org/resource/Cainon_Lamb",
        "label": "Cainon_Lamb",
        "position": [
         0,
         0
        ],
        "properties": {
         "full_label": "http://dbpedia.org/resource/Cainon_Lamb",
         "label": "Cainon_Lamb"
        },
        "scale_factor": 1,
        "size": [
         55,
         55
        ],
        "styles": {},
        "type": "blue"
       },
       {
        "color": "purple",
        "id": "http://dbpedia.org/resource/Urban_contemporary",
        "label": "Urban_contemporary",
        "position": [
         0,
         0
        ],
        "properties": {
         "full_label": "http://dbpedia.org/resource/Urban_contemporary",
         "label": "Urban_contemporary"
        },
        "scale_factor": 1,
        "size": [
         55,
         55
        ],
        "styles": {},
        "type": "purple"
       },
       {
        "color": "purple",
        "id": "http://dbpedia.org/resource/Contemporary_R&B",
        "label": "Contemporary_R&B",
        "position": [
         0,
         0
        ],
        "properties": {
         "full_label": "http://dbpedia.org/resource/Contemporary_R&B",
         "label": "Contemporary_R&B"
        },
        "scale_factor": 1,
        "size": [
         55,
         55
        ],
        "styles": {},
        "type": "purple"
       }
      ],
      "_overview": {
       "enabled": null,
       "overview_set": false
      },
      "_selected_graph": [
       [],
       []
      ],
      "_sidebar": {
       "enabled": false,
       "start_with": null
      },
      "_view_count": null,
      "_view_module": "yfiles-jupyter-graphs",
      "_view_module_version": "^1.10.1",
      "_view_name": "GraphView",
      "layout": "IPY_MODEL_6a107cb9fd91409c969b5c31750ad480",
      "tabbable": null,
      "tooltip": null
     }
    },
    "6a107cb9fd91409c969b5c31750ad480": {
     "model_module": "@jupyter-widgets/base",
     "model_module_version": "2.0.0",
     "model_name": "LayoutModel",
     "state": {
      "_model_module": "@jupyter-widgets/base",
      "_model_module_version": "2.0.0",
      "_model_name": "LayoutModel",
      "_view_count": null,
      "_view_module": "@jupyter-widgets/base",
      "_view_module_version": "2.0.0",
      "_view_name": "LayoutView",
      "align_content": null,
      "align_items": null,
      "align_self": null,
      "border_bottom": null,
      "border_left": null,
      "border_right": null,
      "border_top": null,
      "bottom": null,
      "display": null,
      "flex": null,
      "flex_flow": null,
      "grid_area": null,
      "grid_auto_columns": null,
      "grid_auto_flow": null,
      "grid_auto_rows": null,
      "grid_column": null,
      "grid_gap": null,
      "grid_row": null,
      "grid_template_areas": null,
      "grid_template_columns": null,
      "grid_template_rows": null,
      "height": "800px",
      "justify_content": null,
      "justify_items": null,
      "left": null,
      "margin": null,
      "max_height": null,
      "max_width": null,
      "min_height": null,
      "min_width": null,
      "object_fit": null,
      "object_position": null,
      "order": null,
      "overflow": null,
      "padding": null,
      "right": null,
      "top": null,
      "visibility": null,
      "width": "100%"
     }
    },
    "6fbe525c6eea48a9b830006b6e8d743f": {
     "model_module": "@jupyter-widgets/base",
     "model_module_version": "2.0.0",
     "model_name": "LayoutModel",
     "state": {
      "_model_module": "@jupyter-widgets/base",
      "_model_module_version": "2.0.0",
      "_model_name": "LayoutModel",
      "_view_count": null,
      "_view_module": "@jupyter-widgets/base",
      "_view_module_version": "2.0.0",
      "_view_name": "LayoutView",
      "align_content": null,
      "align_items": null,
      "align_self": null,
      "border_bottom": null,
      "border_left": null,
      "border_right": null,
      "border_top": null,
      "bottom": null,
      "display": null,
      "flex": null,
      "flex_flow": null,
      "grid_area": null,
      "grid_auto_columns": null,
      "grid_auto_flow": null,
      "grid_auto_rows": null,
      "grid_column": null,
      "grid_gap": null,
      "grid_row": null,
      "grid_template_areas": null,
      "grid_template_columns": null,
      "grid_template_rows": null,
      "height": "800px",
      "justify_content": null,
      "justify_items": null,
      "left": null,
      "margin": null,
      "max_height": null,
      "max_width": null,
      "min_height": null,
      "min_width": null,
      "object_fit": null,
      "object_position": null,
      "order": null,
      "overflow": null,
      "padding": null,
      "right": null,
      "top": null,
      "visibility": null,
      "width": "100%"
     }
    },
    "a3d542ab6c88455ca3730d28ebfeb0ce": {
     "model_module": "@jupyter-widgets/base",
     "model_module_version": "2.0.0",
     "model_name": "LayoutModel",
     "state": {
      "_model_module": "@jupyter-widgets/base",
      "_model_module_version": "2.0.0",
      "_model_name": "LayoutModel",
      "_view_count": null,
      "_view_module": "@jupyter-widgets/base",
      "_view_module_version": "2.0.0",
      "_view_name": "LayoutView",
      "align_content": null,
      "align_items": null,
      "align_self": null,
      "border_bottom": null,
      "border_left": null,
      "border_right": null,
      "border_top": null,
      "bottom": null,
      "display": null,
      "flex": null,
      "flex_flow": null,
      "grid_area": null,
      "grid_auto_columns": null,
      "grid_auto_flow": null,
      "grid_auto_rows": null,
      "grid_column": null,
      "grid_gap": null,
      "grid_row": null,
      "grid_template_areas": null,
      "grid_template_columns": null,
      "grid_template_rows": null,
      "height": "800px",
      "justify_content": null,
      "justify_items": null,
      "left": null,
      "margin": null,
      "max_height": null,
      "max_width": null,
      "min_height": null,
      "min_width": null,
      "object_fit": null,
      "object_position": null,
      "order": null,
      "overflow": null,
      "padding": null,
      "right": null,
      "top": null,
      "visibility": null,
      "width": "100%"
     }
    },
    "d73e932bb6be42908bad141c5d1d196b": {
     "model_module": "yfiles-jupyter-graphs",
     "model_module_version": "^1.10.1",
     "model_name": "GraphModel",
     "state": {
      "_context_pane_mapping": [
       {
        "id": "Neighborhood",
        "title": "Neighborhood"
       },
       {
        "id": "Data",
        "title": "Data"
       },
       {
        "id": "Search",
        "title": "Search"
       },
       {
        "id": "About",
        "title": "About"
       }
      ],
      "_data_importer": "unknown",
      "_directed": true,
      "_dom_classes": [],
      "_edges": [],
      "_graph_layout": {
       "algorithm": "orthogonal",
       "options": {}
      },
      "_highlight": [],
      "_license": {},
      "_model_module": "yfiles-jupyter-graphs",
      "_model_module_version": "^1.10.1",
      "_model_name": "GraphModel",
      "_neighborhood": {},
      "_nodes": [
       {
        "color": "blue",
        "id": "http://dbpedia.org/resource/Cab_Calloway",
        "label": "Cab_Calloway",
        "position": [
         0,
         0
        ],
        "properties": {
         "full_label": "http://dbpedia.org/resource/Cab_Calloway",
         "label": "Cab_Calloway"
        },
        "scale_factor": 1,
        "size": [
         55,
         55
        ],
        "styles": {},
        "type": "blue"
       },
       {
        "color": "purple",
        "id": "http://dbpedia.org/resource/Blues",
        "label": "Blues",
        "parentId": "http://dbpedia.org/resource/Cab_Kaye",
        "position": [
         0,
         0
        ],
        "properties": {
         "full_label": "http://dbpedia.org/resource/Blues",
         "label": "Blues"
        },
        "scale_factor": 1,
        "size": [
         55,
         55
        ],
        "styles": {},
        "type": "purple"
       },
       {
        "color": "purple",
        "id": "http://dbpedia.org/resource/Swing_music",
        "label": "Swing_music",
        "parentId": "http://dbpedia.org/resource/Cab_Calloway",
        "position": [
         0,
         0
        ],
        "properties": {
         "full_label": "http://dbpedia.org/resource/Swing_music",
         "label": "Swing_music"
        },
        "scale_factor": 1,
        "size": [
         55,
         55
        ],
        "styles": {},
        "type": "purple"
       },
       {
        "color": "purple",
        "id": "http://dbpedia.org/resource/Jazz",
        "label": "Jazz",
        "parentId": "http://dbpedia.org/resource/Cag_Cagnolatti",
        "position": [
         0,
         0
        ],
        "properties": {
         "full_label": "http://dbpedia.org/resource/Jazz",
         "label": "Jazz"
        },
        "scale_factor": 1,
        "size": [
         55,
         55
        ],
        "styles": {},
        "type": "purple"
       },
       {
        "color": "blue",
        "id": "http://dbpedia.org/resource/Cab_Kaye",
        "label": "Cab_Kaye",
        "position": [
         0,
         0
        ],
        "properties": {
         "full_label": "http://dbpedia.org/resource/Cab_Kaye",
         "label": "Cab_Kaye"
        },
        "scale_factor": 1,
        "size": [
         55,
         55
        ],
        "styles": {},
        "type": "blue"
       },
       {
        "color": "blue",
        "id": "http://dbpedia.org/resource/Cabum",
        "label": "Cabum",
        "position": [
         0,
         0
        ],
        "properties": {
         "full_label": "http://dbpedia.org/resource/Cabum",
         "label": "Cabum"
        },
        "scale_factor": 1,
        "size": [
         55,
         55
        ],
        "styles": {},
        "type": "blue"
       },
       {
        "color": "purple",
        "id": "http://dbpedia.org/resource/Hip_hop_music",
        "label": "Hip_hop_music",
        "parentId": "http://dbpedia.org/resource/Cadet_(rapper)",
        "position": [
         0,
         0
        ],
        "properties": {
         "full_label": "http://dbpedia.org/resource/Hip_hop_music",
         "label": "Hip_hop_music"
        },
        "scale_factor": 1,
        "size": [
         55,
         55
        ],
        "styles": {},
        "type": "purple"
       },
       {
        "color": "purple",
        "id": "http://dbpedia.org/resource/Rap",
        "label": "Rap",
        "parentId": "http://dbpedia.org/resource/Cabum",
        "position": [
         0,
         0
        ],
        "properties": {
         "full_label": "http://dbpedia.org/resource/Rap",
         "label": "Rap"
        },
        "scale_factor": 1,
        "size": [
         55,
         55
        ],
        "styles": {},
        "type": "purple"
       },
       {
        "color": "blue",
        "id": "http://dbpedia.org/resource/Cachao",
        "label": "Cachao",
        "position": [
         0,
         0
        ],
        "properties": {
         "full_label": "http://dbpedia.org/resource/Cachao",
         "label": "Cachao"
        },
        "scale_factor": 1,
        "size": [
         55,
         55
        ],
        "styles": {},
        "type": "blue"
       },
       {
        "color": "purple",
        "id": "http://dbpedia.org/resource/Descarga",
        "label": "Descarga",
        "parentId": "http://dbpedia.org/resource/Cachao",
        "position": [
         0,
         0
        ],
        "properties": {
         "full_label": "http://dbpedia.org/resource/Descarga",
         "label": "Descarga"
        },
        "scale_factor": 1,
        "size": [
         55,
         55
        ],
        "styles": {},
        "type": "purple"
       },
       {
        "color": "purple",
        "id": "http://dbpedia.org/resource/Danzón",
        "label": "Danzón",
        "parentId": "http://dbpedia.org/resource/Cachao",
        "position": [
         0,
         0
        ],
        "properties": {
         "full_label": "http://dbpedia.org/resource/Danzón",
         "label": "Danzón"
        },
        "scale_factor": 1,
        "size": [
         55,
         55
        ],
        "styles": {},
        "type": "purple"
       },
       {
        "color": "purple",
        "id": "http://dbpedia.org/resource/Mambo_(music)",
        "label": "Mambo_(music)",
        "parentId": "http://dbpedia.org/resource/Cachao",
        "position": [
         0,
         0
        ],
        "properties": {
         "full_label": "http://dbpedia.org/resource/Mambo_(music)",
         "label": "Mambo_(music)"
        },
        "scale_factor": 1,
        "size": [
         55,
         55
        ],
        "styles": {},
        "type": "purple"
       },
       {
        "color": "blue",
        "id": "http://dbpedia.org/resource/Cachorro_López",
        "label": "Cachorro_López",
        "position": [
         0,
         0
        ],
        "properties": {
         "full_label": "http://dbpedia.org/resource/Cachorro_López",
         "label": "Cachorro_López"
        },
        "scale_factor": 1,
        "size": [
         55,
         55
        ],
        "styles": {},
        "type": "blue"
       },
       {
        "color": "purple",
        "id": "http://dbpedia.org/resource/Latin_music_(genre)",
        "label": "Latin_music_(genre)",
        "parentId": "http://dbpedia.org/resource/Cachorro_López",
        "position": [
         0,
         0
        ],
        "properties": {
         "full_label": "http://dbpedia.org/resource/Latin_music_(genre)",
         "label": "Latin_music_(genre)"
        },
        "scale_factor": 1,
        "size": [
         55,
         55
        ],
        "styles": {},
        "type": "purple"
       },
       {
        "color": "purple",
        "id": "http://dbpedia.org/resource/Rock_en_Español",
        "label": "Rock_en_Español",
        "parentId": "http://dbpedia.org/resource/Cachorro_López",
        "position": [
         0,
         0
        ],
        "properties": {
         "full_label": "http://dbpedia.org/resource/Rock_en_Español",
         "label": "Rock_en_Español"
        },
        "scale_factor": 1,
        "size": [
         55,
         55
        ],
        "styles": {},
        "type": "purple"
       },
       {
        "color": "blue",
        "id": "http://dbpedia.org/resource/Cactus_(Indian_band)",
        "label": "Cactus_(Indian_band)",
        "position": [
         0,
         0
        ],
        "properties": {
         "full_label": "http://dbpedia.org/resource/Cactus_(Indian_band)",
         "label": "Cactus_(Indian_band)"
        },
        "scale_factor": 1,
        "size": [
         55,
         55
        ],
        "styles": {},
        "type": "blue"
       },
       {
        "color": "purple",
        "id": "http://dbpedia.org/resource/Rock_music_of_West_Bengal",
        "label": "Rock_music_of_West_Bengal",
        "parentId": "http://dbpedia.org/resource/Cactus_(Indian_band)",
        "position": [
         0,
         0
        ],
        "properties": {
         "full_label": "http://dbpedia.org/resource/Rock_music_of_West_Bengal",
         "label": "Rock_music_of_West_Bengal"
        },
        "scale_factor": 1,
        "size": [
         55,
         55
        ],
        "styles": {},
        "type": "purple"
       },
       {
        "color": "blue",
        "id": "http://dbpedia.org/resource/Cadalack_Ron",
        "label": "Cadalack_Ron",
        "position": [
         0,
         0
        ],
        "properties": {
         "full_label": "http://dbpedia.org/resource/Cadalack_Ron",
         "label": "Cadalack_Ron"
        },
        "scale_factor": 1,
        "size": [
         55,
         55
        ],
        "styles": {},
        "type": "blue"
       },
       {
        "color": "blue",
        "id": "http://dbpedia.org/resource/Cadaveria",
        "label": "Cadaveria",
        "position": [
         0,
         0
        ],
        "properties": {
         "full_label": "http://dbpedia.org/resource/Cadaveria",
         "label": "Cadaveria"
        },
        "scale_factor": 1,
        "size": [
         55,
         55
        ],
        "styles": {},
        "type": "blue"
       },
       {
        "color": "purple",
        "id": "http://dbpedia.org/resource/Doom_metal",
        "label": "Doom_metal",
        "parentId": "http://dbpedia.org/resource/Cadaveria",
        "position": [
         0,
         0
        ],
        "properties": {
         "full_label": "http://dbpedia.org/resource/Doom_metal",
         "label": "Doom_metal"
        },
        "scale_factor": 1,
        "size": [
         55,
         55
        ],
        "styles": {},
        "type": "purple"
       },
       {
        "color": "purple",
        "id": "http://dbpedia.org/resource/Gothic_metal",
        "label": "Gothic_metal",
        "parentId": "http://dbpedia.org/resource/Cadaveria",
        "position": [
         0,
         0
        ],
        "properties": {
         "full_label": "http://dbpedia.org/resource/Gothic_metal",
         "label": "Gothic_metal"
        },
        "scale_factor": 1,
        "size": [
         55,
         55
        ],
        "styles": {},
        "type": "purple"
       },
       {
        "color": "purple",
        "id": "http://dbpedia.org/resource/Industrial_metal",
        "label": "Industrial_metal",
        "parentId": "http://dbpedia.org/resource/Cadaveria",
        "position": [
         0,
         0
        ],
        "properties": {
         "full_label": "http://dbpedia.org/resource/Industrial_metal",
         "label": "Industrial_metal"
        },
        "scale_factor": 1,
        "size": [
         55,
         55
        ],
        "styles": {},
        "type": "purple"
       },
       {
        "color": "purple",
        "id": "http://dbpedia.org/resource/Symphonic_black_metal",
        "label": "Symphonic_black_metal",
        "parentId": "http://dbpedia.org/resource/Cadaveria",
        "position": [
         0,
         0
        ],
        "properties": {
         "full_label": "http://dbpedia.org/resource/Symphonic_black_metal",
         "label": "Symphonic_black_metal"
        },
        "scale_factor": 1,
        "size": [
         55,
         55
        ],
        "styles": {},
        "type": "purple"
       },
       {
        "color": "blue",
        "id": "http://dbpedia.org/resource/Cade_(musician)",
        "label": "Cade_(musician)",
        "position": [
         0,
         0
        ],
        "properties": {
         "full_label": "http://dbpedia.org/resource/Cade_(musician)",
         "label": "Cade_(musician)"
        },
        "scale_factor": 1,
        "size": [
         55,
         55
        ],
        "styles": {},
        "type": "blue"
       },
       {
        "color": "purple",
        "id": "http://dbpedia.org/resource/Electronic_music",
        "label": "Electronic_music",
        "parentId": "http://dbpedia.org/resource/Cade_(musician)",
        "position": [
         0,
         0
        ],
        "properties": {
         "full_label": "http://dbpedia.org/resource/Electronic_music",
         "label": "Electronic_music"
        },
        "scale_factor": 1,
        "size": [
         55,
         55
        ],
        "styles": {},
        "type": "purple"
       },
       {
        "color": "purple",
        "id": "http://dbpedia.org/resource/R&B",
        "label": "R&B",
        "parentId": "http://dbpedia.org/resource/Cadillac_Muzik",
        "position": [
         0,
         0
        ],
        "properties": {
         "full_label": "http://dbpedia.org/resource/R&B",
         "label": "R&B"
        },
        "scale_factor": 1,
        "size": [
         55,
         55
        ],
        "styles": {},
        "type": "purple"
       },
       {
        "color": "blue",
        "id": "http://dbpedia.org/resource/Cadence_Weapon",
        "label": "Cadence_Weapon",
        "position": [
         0,
         0
        ],
        "properties": {
         "full_label": "http://dbpedia.org/resource/Cadence_Weapon",
         "label": "Cadence_Weapon"
        },
        "scale_factor": 1,
        "size": [
         55,
         55
        ],
        "styles": {},
        "type": "blue"
       },
       {
        "color": "purple",
        "id": "http://dbpedia.org/resource/Alternative_hip_hop",
        "label": "Alternative_hip_hop",
        "parentId": "http://dbpedia.org/resource/Cadence_Weapon",
        "position": [
         0,
         0
        ],
        "properties": {
         "full_label": "http://dbpedia.org/resource/Alternative_hip_hop",
         "label": "Alternative_hip_hop"
        },
        "scale_factor": 1,
        "size": [
         55,
         55
        ],
        "styles": {},
        "type": "purple"
       },
       {
        "color": "purple",
        "id": "http://dbpedia.org/resource/Canadian_hip_hop",
        "label": "Canadian_hip_hop",
        "parentId": "http://dbpedia.org/resource/Cadence_Weapon",
        "position": [
         0,
         0
        ],
        "properties": {
         "full_label": "http://dbpedia.org/resource/Canadian_hip_hop",
         "label": "Canadian_hip_hop"
        },
        "scale_factor": 1,
        "size": [
         55,
         55
        ],
        "styles": {},
        "type": "purple"
       },
       {
        "color": "blue",
        "id": "http://dbpedia.org/resource/Cadet_(rapper)",
        "label": "Cadet_(rapper)",
        "position": [
         0,
         0
        ],
        "properties": {
         "full_label": "http://dbpedia.org/resource/Cadet_(rapper)",
         "label": "Cadet_(rapper)"
        },
        "scale_factor": 1,
        "size": [
         55,
         55
        ],
        "styles": {},
        "type": "blue"
       },
       {
        "color": "purple",
        "id": "http://dbpedia.org/resource/Grime_(music_genre)",
        "label": "Grime_(music_genre)",
        "parentId": "http://dbpedia.org/resource/Cadet_(rapper)",
        "position": [
         0,
         0
        ],
        "properties": {
         "full_label": "http://dbpedia.org/resource/Grime_(music_genre)",
         "label": "Grime_(music_genre)"
        },
        "scale_factor": 1,
        "size": [
         55,
         55
        ],
        "styles": {},
        "type": "purple"
       },
       {
        "color": "blue",
        "id": "http://dbpedia.org/resource/Cadillac_Muzik",
        "label": "Cadillac_Muzik",
        "position": [
         0,
         0
        ],
        "properties": {
         "full_label": "http://dbpedia.org/resource/Cadillac_Muzik",
         "label": "Cadillac_Muzik"
        },
        "scale_factor": 1,
        "size": [
         55,
         55
        ],
        "styles": {},
        "type": "blue"
       },
       {
        "color": "purple",
        "id": "http://dbpedia.org/resource/Psychedelic_Rock",
        "label": "Psychedelic_Rock",
        "parentId": "http://dbpedia.org/resource/Cadillac_Muzik",
        "position": [
         0,
         0
        ],
        "properties": {
         "full_label": "http://dbpedia.org/resource/Psychedelic_Rock",
         "label": "Psychedelic_Rock"
        },
        "scale_factor": 1,
        "size": [
         55,
         55
        ],
        "styles": {},
        "type": "purple"
       },
       {
        "color": "purple",
        "id": "http://dbpedia.org/resource/Alternative_Hip_Hop",
        "label": "Alternative_Hip_Hop",
        "parentId": "http://dbpedia.org/resource/Cadillac_Muzik",
        "position": [
         0,
         0
        ],
        "properties": {
         "full_label": "http://dbpedia.org/resource/Alternative_Hip_Hop",
         "label": "Alternative_Hip_Hop"
        },
        "scale_factor": 1,
        "size": [
         55,
         55
        ],
        "styles": {},
        "type": "purple"
       },
       {
        "color": "purple",
        "id": "http://dbpedia.org/resource/Funk",
        "label": "Funk",
        "parentId": "http://dbpedia.org/resource/Cadillac_Muzik",
        "position": [
         0,
         0
        ],
        "properties": {
         "full_label": "http://dbpedia.org/resource/Funk",
         "label": "Funk"
        },
        "scale_factor": 1,
        "size": [
         55,
         55
        ],
        "styles": {},
        "type": "purple"
       },
       {
        "color": "purple",
        "id": "http://dbpedia.org/resource/Psychedelic_Soul",
        "label": "Psychedelic_Soul",
        "parentId": "http://dbpedia.org/resource/Cadillac_Muzik",
        "position": [
         0,
         0
        ],
        "properties": {
         "full_label": "http://dbpedia.org/resource/Psychedelic_Soul",
         "label": "Psychedelic_Soul"
        },
        "scale_factor": 1,
        "size": [
         55,
         55
        ],
        "styles": {},
        "type": "purple"
       },
       {
        "color": "purple",
        "id": "http://dbpedia.org/resource/Southern_Hip_Hop",
        "label": "Southern_Hip_Hop",
        "parentId": "http://dbpedia.org/resource/Cadillac_Muzik",
        "position": [
         0,
         0
        ],
        "properties": {
         "full_label": "http://dbpedia.org/resource/Southern_Hip_Hop",
         "label": "Southern_Hip_Hop"
        },
        "scale_factor": 1,
        "size": [
         55,
         55
        ],
        "styles": {},
        "type": "purple"
       },
       {
        "color": "blue",
        "id": "http://dbpedia.org/resource/Cady_Groves",
        "label": "Cady_Groves",
        "position": [
         0,
         0
        ],
        "properties": {
         "full_label": "http://dbpedia.org/resource/Cady_Groves",
         "label": "Cady_Groves"
        },
        "scale_factor": 1,
        "size": [
         55,
         55
        ],
        "styles": {},
        "type": "blue"
       },
       {
        "color": "purple",
        "id": "http://dbpedia.org/resource/Pop_rock",
        "label": "Pop_rock",
        "parentId": "http://dbpedia.org/resource/Cady_Groves",
        "position": [
         0,
         0
        ],
        "properties": {
         "full_label": "http://dbpedia.org/resource/Pop_rock",
         "label": "Pop_rock"
        },
        "scale_factor": 1,
        "size": [
         55,
         55
        ],
        "styles": {},
        "type": "purple"
       },
       {
        "color": "purple",
        "id": "http://dbpedia.org/resource/Country_music",
        "label": "Country_music",
        "parentId": "http://dbpedia.org/resource/Cady_Groves",
        "position": [
         0,
         0
        ],
        "properties": {
         "full_label": "http://dbpedia.org/resource/Country_music",
         "label": "Country_music"
        },
        "scale_factor": 1,
        "size": [
         55,
         55
        ],
        "styles": {},
        "type": "purple"
       },
       {
        "color": "purple",
        "id": "http://dbpedia.org/resource/Pop_music",
        "label": "Pop_music",
        "parentId": "http://dbpedia.org/resource/Cady_Groves",
        "position": [
         0,
         0
        ],
        "properties": {
         "full_label": "http://dbpedia.org/resource/Pop_music",
         "label": "Pop_music"
        },
        "scale_factor": 1,
        "size": [
         55,
         55
        ],
        "styles": {},
        "type": "purple"
       },
       {
        "color": "blue",
        "id": "http://dbpedia.org/resource/Cadão_Volpato",
        "label": "Cadão_Volpato",
        "position": [
         0,
         0
        ],
        "properties": {
         "full_label": "http://dbpedia.org/resource/Cadão_Volpato",
         "label": "Cadão_Volpato"
        },
        "scale_factor": 1,
        "size": [
         55,
         55
        ],
        "styles": {},
        "type": "blue"
       },
       {
        "color": "purple",
        "id": "http://dbpedia.org/resource/Alternative_rock",
        "label": "Alternative_rock",
        "parentId": "http://dbpedia.org/resource/Café_Tacuba",
        "position": [
         0,
         0
        ],
        "properties": {
         "full_label": "http://dbpedia.org/resource/Alternative_rock",
         "label": "Alternative_rock"
        },
        "scale_factor": 1,
        "size": [
         55,
         55
        ],
        "styles": {},
        "type": "purple"
       },
       {
        "color": "purple",
        "id": "http://dbpedia.org/resource/Experimental_rock",
        "label": "Experimental_rock",
        "parentId": "http://dbpedia.org/resource/Cadão_Volpato",
        "position": [
         0,
         0
        ],
        "properties": {
         "full_label": "http://dbpedia.org/resource/Experimental_rock",
         "label": "Experimental_rock"
        },
        "scale_factor": 1,
        "size": [
         55,
         55
        ],
        "styles": {},
        "type": "purple"
       },
       {
        "color": "purple",
        "id": "http://dbpedia.org/resource/Art_rock",
        "label": "Art_rock",
        "parentId": "http://dbpedia.org/resource/Cadão_Volpato",
        "position": [
         0,
         0
        ],
        "properties": {
         "full_label": "http://dbpedia.org/resource/Art_rock",
         "label": "Art_rock"
        },
        "scale_factor": 1,
        "size": [
         55,
         55
        ],
        "styles": {},
        "type": "purple"
       },
       {
        "color": "purple",
        "id": "http://dbpedia.org/resource/Post-punk",
        "label": "Post-punk",
        "parentId": "http://dbpedia.org/resource/Cadão_Volpato",
        "position": [
         0,
         0
        ],
        "properties": {
         "full_label": "http://dbpedia.org/resource/Post-punk",
         "label": "Post-punk"
        },
        "scale_factor": 1,
        "size": [
         55,
         55
        ],
        "styles": {},
        "type": "purple"
       },
       {
        "color": "blue",
        "id": "http://dbpedia.org/resource/Café_(musician)",
        "label": "Café_(musician)",
        "position": [
         0,
         0
        ],
        "properties": {
         "full_label": "http://dbpedia.org/resource/Café_(musician)",
         "label": "Café_(musician)"
        },
        "scale_factor": 1,
        "size": [
         55,
         55
        ],
        "styles": {},
        "type": "blue"
       },
       {
        "color": "purple",
        "id": "http://dbpedia.org/resource/Afrobeat",
        "label": "Afrobeat",
        "parentId": "http://dbpedia.org/resource/Café_(musician)",
        "position": [
         0,
         0
        ],
        "properties": {
         "full_label": "http://dbpedia.org/resource/Afrobeat",
         "label": "Afrobeat"
        },
        "scale_factor": 1,
        "size": [
         55,
         55
        ],
        "styles": {},
        "type": "purple"
       },
       {
        "color": "purple",
        "id": "http://dbpedia.org/resource/Brazilian_music",
        "label": "Brazilian_music",
        "parentId": "http://dbpedia.org/resource/Café_(musician)",
        "position": [
         0,
         0
        ],
        "properties": {
         "full_label": "http://dbpedia.org/resource/Brazilian_music",
         "label": "Brazilian_music"
        },
        "scale_factor": 1,
        "size": [
         55,
         55
        ],
        "styles": {},
        "type": "purple"
       },
       {
        "color": "blue",
        "id": "http://dbpedia.org/resource/Café_Tacuba",
        "label": "Café_Tacuba",
        "position": [
         0,
         0
        ],
        "properties": {
         "full_label": "http://dbpedia.org/resource/Café_Tacuba",
         "label": "Café_Tacuba"
        },
        "scale_factor": 1,
        "size": [
         55,
         55
        ],
        "styles": {},
        "type": "blue"
       },
       {
        "color": "purple",
        "id": "http://dbpedia.org/resource/Latin_rock",
        "label": "Latin_rock",
        "parentId": "http://dbpedia.org/resource/Café_Tacuba",
        "position": [
         0,
         0
        ],
        "properties": {
         "full_label": "http://dbpedia.org/resource/Latin_rock",
         "label": "Latin_rock"
        },
        "scale_factor": 1,
        "size": [
         55,
         55
        ],
        "styles": {},
        "type": "purple"
       },
       {
        "color": "purple",
        "id": "http://dbpedia.org/resource/Latin_Alternative",
        "label": "Latin_Alternative",
        "parentId": "http://dbpedia.org/resource/Café_Tacuba",
        "position": [
         0,
         0
        ],
        "properties": {
         "full_label": "http://dbpedia.org/resource/Latin_Alternative",
         "label": "Latin_Alternative"
        },
        "scale_factor": 1,
        "size": [
         55,
         55
        ],
        "styles": {},
        "type": "purple"
       },
       {
        "color": "purple",
        "id": "http://dbpedia.org/resource/Latin_hip-hop",
        "label": "Latin_hip-hop",
        "parentId": "http://dbpedia.org/resource/Café_Tacuba",
        "position": [
         0,
         0
        ],
        "properties": {
         "full_label": "http://dbpedia.org/resource/Latin_hip-hop",
         "label": "Latin_hip-hop"
        },
        "scale_factor": 1,
        "size": [
         55,
         55
        ],
        "styles": {},
        "type": "purple"
       },
       {
        "color": "blue",
        "id": "http://dbpedia.org/resource/Cag_Cagnolatti",
        "label": "Cag_Cagnolatti",
        "position": [
         0,
         0
        ],
        "properties": {
         "full_label": "http://dbpedia.org/resource/Cag_Cagnolatti",
         "label": "Cag_Cagnolatti"
        },
        "scale_factor": 1,
        "size": [
         55,
         55
        ],
        "styles": {},
        "type": "blue"
       },
       {
        "color": "blue",
        "id": "http://dbpedia.org/resource/Cage_(rapper)",
        "label": "Cage_(rapper)",
        "position": [
         0,
         0
        ],
        "properties": {
         "full_label": "http://dbpedia.org/resource/Cage_(rapper)",
         "label": "Cage_(rapper)"
        },
        "scale_factor": 1,
        "size": [
         55,
         55
        ],
        "styles": {},
        "type": "blue"
       },
       {
        "color": "purple",
        "id": "http://dbpedia.org/resource/Progressive_rap",
        "label": "Progressive_rap",
        "parentId": "http://dbpedia.org/resource/Cage_(rapper)",
        "position": [
         0,
         0
        ],
        "properties": {
         "full_label": "http://dbpedia.org/resource/Progressive_rap",
         "label": "Progressive_rap"
        },
        "scale_factor": 1,
        "size": [
         55,
         55
        ],
        "styles": {},
        "type": "purple"
       },
       {
        "color": "purple",
        "id": "http://dbpedia.org/resource/Horrorcore",
        "label": "Horrorcore",
        "parentId": "http://dbpedia.org/resource/Cage_(rapper)",
        "position": [
         0,
         0
        ],
        "properties": {
         "full_label": "http://dbpedia.org/resource/Horrorcore",
         "label": "Horrorcore"
        },
        "scale_factor": 1,
        "size": [
         55,
         55
        ],
        "styles": {},
        "type": "purple"
       },
       {
        "color": "purple",
        "id": "http://dbpedia.org/resource/Rap_rock",
        "label": "Rap_rock",
        "parentId": "http://dbpedia.org/resource/Cage_(rapper)",
        "position": [
         0,
         0
        ],
        "properties": {
         "full_label": "http://dbpedia.org/resource/Rap_rock",
         "label": "Rap_rock"
        },
        "scale_factor": 1,
        "size": [
         55,
         55
        ],
        "styles": {},
        "type": "purple"
       },
       {
        "color": "blue",
        "id": "http://dbpedia.org/resource/Cainon_Lamb",
        "label": "Cainon_Lamb",
        "position": [
         0,
         0
        ],
        "properties": {
         "full_label": "http://dbpedia.org/resource/Cainon_Lamb",
         "label": "Cainon_Lamb"
        },
        "scale_factor": 1,
        "size": [
         55,
         55
        ],
        "styles": {},
        "type": "blue"
       },
       {
        "color": "purple",
        "id": "http://dbpedia.org/resource/Urban_contemporary",
        "label": "Urban_contemporary",
        "parentId": "http://dbpedia.org/resource/Cainon_Lamb",
        "position": [
         0,
         0
        ],
        "properties": {
         "full_label": "http://dbpedia.org/resource/Urban_contemporary",
         "label": "Urban_contemporary"
        },
        "scale_factor": 1,
        "size": [
         55,
         55
        ],
        "styles": {},
        "type": "purple"
       },
       {
        "color": "purple",
        "id": "http://dbpedia.org/resource/Contemporary_R&B",
        "label": "Contemporary_R&B",
        "parentId": "http://dbpedia.org/resource/Cainon_Lamb",
        "position": [
         0,
         0
        ],
        "properties": {
         "full_label": "http://dbpedia.org/resource/Contemporary_R&B",
         "label": "Contemporary_R&B"
        },
        "scale_factor": 1,
        "size": [
         55,
         55
        ],
        "styles": {},
        "type": "purple"
       }
      ],
      "_overview": {
       "enabled": null,
       "overview_set": false
      },
      "_selected_graph": [
       [],
       []
      ],
      "_sidebar": {
       "enabled": false,
       "start_with": null
      },
      "_view_count": null,
      "_view_module": "yfiles-jupyter-graphs",
      "_view_module_version": "^1.10.1",
      "_view_name": "GraphView",
      "layout": "IPY_MODEL_6fbe525c6eea48a9b830006b6e8d743f",
      "tabbable": null,
      "tooltip": null
     }
    },
    "ea81e428d2604df4a2f0c2dd05c0dd2c": {
     "model_module": "@jupyter-widgets/base",
     "model_module_version": "2.0.0",
     "model_name": "LayoutModel",
     "state": {
      "_model_module": "@jupyter-widgets/base",
      "_model_module_version": "2.0.0",
      "_model_name": "LayoutModel",
      "_view_count": null,
      "_view_module": "@jupyter-widgets/base",
      "_view_module_version": "2.0.0",
      "_view_name": "LayoutView",
      "align_content": null,
      "align_items": null,
      "align_self": null,
      "border_bottom": null,
      "border_left": null,
      "border_right": null,
      "border_top": null,
      "bottom": null,
      "display": null,
      "flex": null,
      "flex_flow": null,
      "grid_area": null,
      "grid_auto_columns": null,
      "grid_auto_flow": null,
      "grid_auto_rows": null,
      "grid_column": null,
      "grid_gap": null,
      "grid_row": null,
      "grid_template_areas": null,
      "grid_template_columns": null,
      "grid_template_rows": null,
      "height": "800px",
      "justify_content": null,
      "justify_items": null,
      "left": null,
      "margin": null,
      "max_height": null,
      "max_width": null,
      "min_height": null,
      "min_width": null,
      "object_fit": null,
      "object_position": null,
      "order": null,
      "overflow": null,
      "padding": null,
      "right": null,
      "top": null,
      "visibility": null,
      "width": "100%"
     }
    }
   }
  }
 },
 "nbformat": 4,
 "nbformat_minor": 5
}
