{
 "cells": [
  {
   "cell_type": "markdown",
   "id": "50838b49-fd74-4e52-93eb-5aa1f78b97a6",
   "metadata": {},
   "source": [
    "# Custom Data Configurations"
   ]
  },
  {
   "cell_type": "code",
   "execution_count": null,
   "id": "fd36e4e0-aa58-4694-bcb3-5259d35a31d8",
   "metadata": {},
   "outputs": [],
   "source": [
    "%pip install rdflib --quiet\n",
    "import yfiles_jupyter_graphs_for_sparql \n",
    "from yfiles_jupyter_graphs_for_sparql import SparqlGraphWidget"
   ]
  },
  {
   "cell_type": "markdown",
   "id": "83114774-832c-4509-8d72-acb4e8ea9c5e",
   "metadata": {},
   "source": [
    "You can also open this notebook in Google Colab when Google Colab's custom widget manager is enabled:"
   ]
  },
  {
   "cell_type": "code",
   "execution_count": null,
   "id": "802fb573-03c5-4410-81fb-f0d181b3263f",
   "metadata": {},
   "outputs": [],
   "source": [
    "try:\n",
    "  import google.colab\n",
    "  from google.colab import output\n",
    "  output.enable_custom_widget_manager()\n",
    "except:\n",
    "  pass"
   ]
  },
  {
   "cell_type": "code",
   "execution_count": null,
   "id": "7ec589a1-b526-4e2b-bd02-76645843684b",
   "metadata": {},
   "outputs": [],
   "source": [
    "sgw = SparqlGraphWidget(data=\"https://ld.cultural.jp/sparql\")"
   ]
  },
  {
   "cell_type": "markdown",
   "id": "a6b0f9ed-e6f9-4a12-9d93-bf21c8a901eb",
   "metadata": {},
   "source": [
    "## Configure data mappings\n",
    "Configurable values for the object visualization: text, color, size, styles, property, coordinate and type.\n",
    "\n",
    "Configurable values for the subject visualization: text, color, size, styles, property, coordinate and type.\n",
    "\n",
    "Configurable values for the predicate visualization: text, color, thickness_factor and property.\n",
    "\n",
    "When adding a configuration, you always need to specify the type of predicate of the object, subject or predicate you want to adjust. (Here 'member' or 'writer'), additionally you can define the new values for the above mentioned properties. The values may either be:\n",
    "\n",
    "A lambda the resolves the node or relationship to a specific value.\n",
    "A constant value which is directly used.\n",
    "A property-key that points to the value that should be used for the configuration."
   ]
  },
  {
   "cell_type": "code",
   "execution_count": null,
   "id": "2407a4f9-c0a0-40e8-8647-b203e7c30fcf",
   "metadata": {},
   "outputs": [],
   "source": [
    "sgw = SparqlGraphWidget(data='beatles.ttl', limit=20)\n",
    "query = \"\"\"\n",
    "SELECT ?sub ?p ?ob\n",
    "WHERE {\n",
    "    ?sub ?p ?ob .\n",
    "}\n",
    "\"\"\"\n",
    "sgw.add_object_configuration('member', color='purple')\n",
    "sgw.add_subject_configuration('member', color='blue')\n",
    "sgw.add_predicate_configuration('writer', color='green')\n",
    "sgw.show_query(query)"
   ]
  },
  {
   "cell_type": "markdown",
   "id": "b7e98877-c779-41ef-a029-6d346b68a97f",
   "metadata": {},
   "source": [
    "### Delete a configuration \n",
    "\n",
    "Configurations are stored within the class instance and must be explicitly removed to no longer be applied."
   ]
  },
  {
   "cell_type": "code",
   "execution_count": null,
   "id": "87ce0102-4d31-4791-82db-3d29ebf45dfd",
   "metadata": {},
   "outputs": [],
   "source": [
    "sgw.del_predicate_configuration('writer')\n",
    "sgw.show_query(query)"
   ]
  },
  {
   "cell_type": "code",
   "execution_count": null,
   "id": "e671499c-4749-47f4-94ed-a721814c5465",
   "metadata": {
    "scrolled": true
   },
   "outputs": [],
   "source": [
    "sgw.add_parent_configuration('member', True)\n",
    "sgw.add_subject_configuration('track', parent_configuration='type')\n",
    "sgw.show_query(\"\"\"\n",
    "SELECT ?sub ?p ?ob\n",
    "WHERE {\n",
    "    ?sub ?p ?ob .\n",
    "}\n",
    "\"\"\")"
   ]
  },
  {
   "cell_type": "code",
   "execution_count": null,
   "id": "90bca231-b7fc-4d8d-b1ae-3ed2a0e5656b",
   "metadata": {},
   "outputs": [],
   "source": [
    "sgw._object_configurations"
   ]
  },
  {
   "cell_type": "code",
   "execution_count": null,
   "id": "04650537-a48c-4eec-80dd-df5ad706c03d",
   "metadata": {},
   "outputs": [],
   "source": [
    "sgw._subject_configurations"
   ]
  },
  {
   "cell_type": "code",
   "execution_count": null,
   "id": "d9d7764e-c18f-40a3-97bf-dcfede8af49f",
   "metadata": {},
   "outputs": [],
   "source": [
    "sgw._parent_configurations"
   ]
  }
 ],
 "metadata": {
  "kernelspec": {
   "display_name": "Python 3 (ipykernel)",
   "language": "python",
   "name": "python3"
  },
  "language_info": {
   "codemirror_mode": {
    "name": "ipython",
    "version": 3
   },
   "file_extension": ".py",
   "mimetype": "text/x-python",
   "name": "python",
   "nbconvert_exporter": "python",
   "pygments_lexer": "ipython3",
   "version": "3.13.1"
  }
 },
 "nbformat": 4,
 "nbformat_minor": 5
}
